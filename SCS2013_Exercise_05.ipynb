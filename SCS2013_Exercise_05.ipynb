{
  "nbformat": 4,
  "nbformat_minor": 0,
  "metadata": {
    "colab": {
      "provenance": [],
      "collapsed_sections": [],
      "toc_visible": true
    },
    "kernelspec": {
      "name": "python3",
      "display_name": "Python 3"
    },
    "language_info": {
      "name": "python"
    }
  },
  "cells": [
    {
      "cell_type": "markdown",
      "metadata": {
        "id": "EzZiRhCEg1JC"
      },
      "source": [
        "# SCS2013 Exercise 05 (2022 Fall)\n",
        "\n",
        "**This exercise notebook will go through the \"Conditional\" and \"Loop\" statements in Python**\n",
        "\n",
        "* \"if\" statement \n",
        "* \"if-elif-else\"\n",
        "* \"For\" loop\n",
        "* \"While\" loop\n"
      ]
    },
    {
      "cell_type": "markdown",
      "metadata": {
        "id": "SILcODfCinqu"
      },
      "source": [
        "## If Statement: Conditional statements (조건문)\n",
        "\n",
        "With conditional statements, we can control the flow of execution by using certain statements. **\"if\" statements** are very useful whenever we need a conditional execution.\n",
        "\n",
        "**Syntax**\n",
        "```\n",
        "if <condition>:\n",
        "  <statement>\n",
        "```\n",
        "- starts with **\"if\"**, followed by a ``<condition>``, and ends with colon **colon :**\n",
        "- the ``<condition>`` is evaluated as a *Boolean*: either True or False\n",
        "- the ``<statement>`` is a code block to be executed\n",
        "- each line of ``<statement>`` must **indented**: 4 spaces or a tab (indentation 들여쓰기)\n",
        "\n",
        "\n"
      ]
    },
    {
      "cell_type": "code",
      "metadata": {
        "id": "R_QuUH15WxLg",
        "colab": {
          "base_uri": "https://localhost:8080/"
        },
        "outputId": "f005db81-e911-4246-8196-cc732c79657a"
      },
      "source": [
        "# if\n",
        "x = 3\n",
        "if x < 10:\n",
        "  print('x is less than 10')\n",
        "\n",
        "if x > 10:\n",
        "  print('x is greater than 10')\n",
        "\n",
        "if x > 2 and x < 5:\n",
        "  print('x is in range (2,5)')"
      ],
      "execution_count": null,
      "outputs": [
        {
          "output_type": "stream",
          "name": "stdout",
          "text": [
            "x is less than 10\n",
            "x is in range (2,5)\n"
          ]
        }
      ]
    },
    {
      "cell_type": "code",
      "source": [
        "# indentation                                                                                                                                                                                    # indentation\n",
        "x = 1\n",
        "y = 8\n",
        "\n",
        "if x > y:\n",
        "  print('x is %d and y is %d' %(x,y))  \n",
        "print('x is greater than y')"
      ],
      "metadata": {
        "id": "JBVGMSDXM4zC",
        "colab": {
          "base_uri": "https://localhost:8080/"
        },
        "outputId": "a7735e23-22e1-4297-c9e0-4b0ddb328b2b"
      },
      "execution_count": null,
      "outputs": [
        {
          "output_type": "stream",
          "name": "stdout",
          "text": [
            "x is greater than y\n"
          ]
        }
      ]
    },
    {
      "cell_type": "markdown",
      "metadata": {
        "id": "b3D3P6VgX3jH"
      },
      "source": [
        "### If-Elif-Else Statement\n",
        "\n",
        "* **if-else**: Make more detailed conditional statements if we use **\"else\"** statement. \n",
        "\n",
        "```\n",
        "if <condition>:\n",
        "  <statement 1>\n",
        "else:\n",
        "  <statement 2>\n",
        "```\n",
        "\n",
        "- if ``<condition>`` is True, the program quits after executing ``<statement 1>``.\n",
        "- if ``<condition>`` is False, the program quits after executing ``<statement 2>``.\n"
      ]
    },
    {
      "cell_type": "code",
      "metadata": {
        "id": "RVJ-Oai3rdxX",
        "colab": {
          "base_uri": "https://localhost:8080/"
        },
        "outputId": "c5283ec4-6ed5-44fc-dc5b-e27274421734"
      },
      "source": [
        "# if-else\n",
        "\n",
        "#x = 1\n",
        "x = 2\n",
        "if x == 1:\n",
        "  print('If statement')\n",
        "  print(\"SCS2013 If statement!\")\n",
        "else:\n",
        "  print('Else statement')\n",
        "  print(\"SCS2013 Else statement!\")"
      ],
      "execution_count": null,
      "outputs": [
        {
          "output_type": "stream",
          "name": "stdout",
          "text": [
            "Else statement\n",
            "SCS2013 Else statement!\n"
          ]
        }
      ]
    },
    {
      "cell_type": "code",
      "source": [
        "# if-else\n",
        "\n",
        "isStudent = True\n",
        "year = 2019\n",
        "\n",
        "if isStudent and year == 2022: \n",
        "  print('I am a freshman in university')\n",
        "else:\n",
        "  print('I am a student but not a freshman')"
      ],
      "metadata": {
        "id": "clQLzdEMNhAY",
        "colab": {
          "base_uri": "https://localhost:8080/"
        },
        "outputId": "7cec9eb4-a03d-4745-d1c6-3bd204b02111"
      },
      "execution_count": null,
      "outputs": [
        {
          "output_type": "stream",
          "name": "stdout",
          "text": [
            "I am a student but not a freshman\n"
          ]
        }
      ]
    },
    {
      "cell_type": "markdown",
      "metadata": {
        "id": "sYN8z_cS_nd2"
      },
      "source": [
        "* **if-elif-else**: Can use an **\"elif\"** between \"if\" and \"else\" as an additional conditional statement. We can evaluate several conditional cases by using \"elif\". \n",
        "\n",
        "```\n",
        "if <condition A>:\n",
        "  <statement 1>\n",
        "elif <condition B>:\n",
        "  <statement 2>\n",
        "elif <condition C>:\n",
        "  <statement 3>\n",
        "else:\n",
        "  <statement 4>\n",
        "```\n",
        "\n",
        "- if ``<condition A>`` is True, the program quits after executing ``<statement 1>``.\n",
        "- if ``<condition A>`` is False and ``<condition B>`` is True, the program quits after executing ``<statement 2>``.\n",
        "- if ``<condition A>, <condition B>`` are False and ``<condition C>`` is True, the program quits after executing ``<statement 3>``.\n",
        "- otherwise (= all ``<condition A>, <condition B>, <condition C>`` are False), the program quits after executing  ``<statement 4>``. \n",
        "\n"
      ]
    },
    {
      "cell_type": "code",
      "metadata": {
        "id": "akXXVZ29Bei6",
        "colab": {
          "base_uri": "https://localhost:8080/"
        },
        "outputId": "99feea6f-e39a-4d9b-eb68-cfdc9c7859bd"
      },
      "source": [
        "# if-elif-else\n",
        "\n",
        "x = 3\n",
        "if x < 2:\n",
        "  print('If: x is less than 2')\n",
        "elif x < 10: # x  >= 2가 이미 포함\n",
        "  print('Elif: x is greater than or equal to 2')\n",
        "  print('And x is less than 10')\n",
        "elif x < 20:\n",
        "  print('Elif: x is greater than or equal to 2, and x is greater than or equal to 10')\n",
        "  print('And x is less than 20')\n",
        "else:\n",
        "  print('Else: x is greater than or equal to 20')"
      ],
      "execution_count": null,
      "outputs": [
        {
          "output_type": "stream",
          "name": "stdout",
          "text": [
            "Elif: x is greater than or equal to 2\n",
            "And x is less than 10\n"
          ]
        }
      ]
    },
    {
      "cell_type": "code",
      "source": [
        "# if-elif-else\n",
        "\n",
        "score = 90\n",
        "if 80 < score <= 100:\n",
        "  print('A-level')\n",
        "elif 60 < score <= 80:\n",
        "  print('B-level')\n",
        "elif 40 < score <= 60:\n",
        "  print('C-level')\n",
        "elif 20 < score <= 40:\n",
        "  print('D-level')\n",
        "else:\n",
        "  print('E-level')"
      ],
      "metadata": {
        "id": "q0bcqR0xeUzu",
        "colab": {
          "base_uri": "https://localhost:8080/"
        },
        "outputId": "15fc8d62-2b07-4f39-c4f8-a8801867b3ff"
      },
      "execution_count": null,
      "outputs": [
        {
          "output_type": "stream",
          "name": "stdout",
          "text": [
            "A-level\n"
          ]
        }
      ]
    },
    {
      "cell_type": "markdown",
      "metadata": {
        "id": "3mGn73hbCF7q"
      },
      "source": [
        "**Nested If Statements**: Nested if can be useful when we need to expand several conditional statements. \n",
        "\n"
      ]
    },
    {
      "cell_type": "code",
      "metadata": {
        "id": "_rrjJPgoCFjr",
        "colab": {
          "base_uri": "https://localhost:8080/"
        },
        "outputId": "530462ec-fde3-414d-f40b-4424f34dcb24"
      },
      "source": [
        "# nested if\n",
        "\n",
        "# x = 3\n",
        "# y = \"Hello\"\n",
        "\n",
        "# x = 3\n",
        "# y = 'Wow'\n",
        "\n",
        "x = 7\n",
        "#y = 'Hello'\n",
        "y = 'Wow'\n",
        "\n",
        "x = 3\n",
        "y = \"Hello\"\n",
        "\n",
        "if x < 5:\n",
        "  if y == \"Hello\":\n",
        "    x = 0\n",
        "  else:\n",
        "    y = \"Hi\"\n",
        "else:\n",
        "  x = 10\n",
        "\n",
        "print(f'x is {x} and y is {y}')"
      ],
      "execution_count": null,
      "outputs": [
        {
          "output_type": "stream",
          "name": "stdout",
          "text": [
            "x is 0 and y is Hello\n"
          ]
        }
      ]
    },
    {
      "cell_type": "markdown",
      "source": [
        "### Pass statement and Conditional expressions\n",
        "\n",
        "A pass statement is a **null** statement - when it is executed, nothing happens. When a statement is syntatically required but you have nothing specific to do - then we need to use a 'pass' statement.\n",
        "\n",
        "\n",
        "\n",
        "A conditional expression is a concise version of `if-else` statement: write if in one line\n"
      ],
      "metadata": {
        "id": "8bEORL73O0et"
      }
    },
    {
      "cell_type": "code",
      "source": [
        "i = 1\n",
        "\n",
        "if i > 7:\n",
        "  pass\n",
        "else:\n",
        "  print(i)\n",
        "  print('i is less than 7 - you are in \"else\" statement')"
      ],
      "metadata": {
        "id": "KZOsWTGQOTGH",
        "colab": {
          "base_uri": "https://localhost:8080/"
        },
        "outputId": "fca05a02-429a-4275-81c3-031e67c96ed6"
      },
      "execution_count": null,
      "outputs": [
        {
          "output_type": "stream",
          "name": "stdout",
          "text": [
            "1\n",
            "i is less than 7 - you are in \"else\" statement\n"
          ]
        }
      ]
    },
    {
      "cell_type": "code",
      "source": [
        "# if-else statement \n",
        "a = 1\n",
        "if a % 2 == 0:\n",
        "  result = 'even'\n",
        "else:\n",
        "  result = 'odd'\n",
        "\n",
        "print(result)"
      ],
      "metadata": {
        "id": "ds5zWMGmdfE4",
        "colab": {
          "base_uri": "https://localhost:8080/"
        },
        "outputId": "774e9c70-d574-4c74-91c1-22b241127686"
      },
      "execution_count": null,
      "outputs": [
        {
          "output_type": "stream",
          "name": "stdout",
          "text": [
            "odd\n"
          ]
        }
      ]
    },
    {
      "cell_type": "code",
      "source": [
        "# conditional expression\n",
        "a = 1\n",
        "result = 'even' if a % 2 == 0 else 'odd'\n",
        "print(result)"
      ],
      "metadata": {
        "id": "Xansw7y4dn8d",
        "colab": {
          "base_uri": "https://localhost:8080/"
        },
        "outputId": "f182d0b8-9fd2-4724-a341-3a06984f6949"
      },
      "execution_count": null,
      "outputs": [
        {
          "output_type": "stream",
          "name": "stdout",
          "text": [
            "odd\n"
          ]
        }
      ]
    },
    {
      "cell_type": "markdown",
      "source": [
        "### User input and Random number\n",
        "\n",
        "- User input: `input()`\n",
        "  - we can ask the user for input\n",
        "  - use the `input()` method\n",
        "  - entered input value is always a string - we need to convert it if we want to use it as numerical value\n",
        "\n",
        "\n",
        "- Random number generator: `random.randint(start, end)`\n",
        "  - need to `import random` first!\n",
        "  - return a random number between `start` and `end` (both included) \n"
      ],
      "metadata": {
        "id": "sgxg8wqiqjLY"
      }
    },
    {
      "cell_type": "code",
      "source": [
        "# user input\n",
        "num1 = input('Num1: ')\n",
        "print(f'Input num1 is {num1}, type: {type(num1)}')\n",
        "\n",
        "num2 = int(input('Num2: '))\n",
        "print(f'Input num2 is {num2}, type: {type(num2)}')"
      ],
      "metadata": {
        "id": "I4VCrkl9Ro2B",
        "colab": {
          "base_uri": "https://localhost:8080/"
        },
        "outputId": "11f3ef67-b06a-4eda-b56a-ca69ebaef050"
      },
      "execution_count": null,
      "outputs": [
        {
          "output_type": "stream",
          "name": "stdout",
          "text": [
            "Num1: 24\n",
            "Input num1 is 24, type: <class 'str'>\n",
            "Num2: 24\n",
            "Input num2 is 24, type: <class 'int'>\n"
          ]
        }
      ]
    },
    {
      "cell_type": "code",
      "source": [
        "# user input\n",
        "name = input('What is your name: ')\n",
        "age = int(input('What is your age: '))\n",
        "\n",
        "print(f'My name is {name}! I\\'m {age} years old')"
      ],
      "metadata": {
        "id": "fMyXA9IjreMW",
        "colab": {
          "base_uri": "https://localhost:8080/"
        },
        "outputId": "2c5b9053-abf3-4fd5-e0d6-784e88c2aea4"
      },
      "execution_count": null,
      "outputs": [
        {
          "output_type": "stream",
          "name": "stdout",
          "text": [
            "What is your name: james\n",
            "What is your age: 25\n",
            "My name is james! I'm 25 years old\n"
          ]
        }
      ]
    },
    {
      "cell_type": "code",
      "source": [
        "# random integer\n",
        "import random \n",
        "\n",
        "num = random.randint(1,10)\n",
        "print(num)\n",
        "\n",
        "num = random.randint(1,10)\n",
        "print(num)"
      ],
      "metadata": {
        "id": "_cf8fXVyUvNN",
        "colab": {
          "base_uri": "https://localhost:8080/"
        },
        "outputId": "5af74831-3a39-4cee-8206-d20c09443735"
      },
      "execution_count": null,
      "outputs": [
        {
          "output_type": "stream",
          "name": "stdout",
          "text": [
            "5\n",
            "4\n"
          ]
        }
      ]
    },
    {
      "cell_type": "markdown",
      "metadata": {
        "id": "sn3HP0NeUz1N"
      },
      "source": [
        "## Loop statements (반복문)\n",
        "\n",
        "**Loop** is a very powerful concept to execute a task in iterations:\n",
        "\n"
      ]
    },
    {
      "cell_type": "markdown",
      "source": [
        "### For Loop\n",
        "**For loop** is used for repeating a task for a desired number of times.\n",
        "\n",
        "```\n",
        "for iterator in iterable:\n",
        "  <statement>\n",
        "```\n",
        "- iterator: a variable that is used to iterate through the collection \n",
        "- iterable: a sequence or collection through which iteation happens in for loops \n",
        "  - list ``['a','b','c']``, range ``range(3)``, tuple ``(1,2,3)``, ... \n",
        "- statement: code block to be executed during each iteration in the loop - must **indented**\n"
      ],
      "metadata": {
        "id": "bB95hSVbahcy"
      }
    },
    {
      "cell_type": "code",
      "metadata": {
        "id": "fsAv7VNw_fbI",
        "colab": {
          "base_uri": "https://localhost:8080/"
        },
        "outputId": "8738472f-9eb6-4a22-f12b-2fea3eb189be"
      },
      "source": [
        "# list \n",
        "a = ['a','b','c']\n",
        "print(a)\n",
        "\n",
        "a = [0,1,2]\n",
        "print(a)"
      ],
      "execution_count": null,
      "outputs": [
        {
          "output_type": "stream",
          "name": "stdout",
          "text": [
            "['a', 'b', 'c']\n",
            "[0, 1, 2]\n"
          ]
        }
      ]
    },
    {
      "cell_type": "code",
      "metadata": {
        "id": "VA7IvvDX_q1A",
        "colab": {
          "base_uri": "https://localhost:8080/"
        },
        "outputId": "99f2895d-4523-4b72-dd59-c0fe953cb3a4"
      },
      "source": [
        "# range()\n",
        "b = range(3)\n",
        "print(b)\n",
        "print(tuple(b))\n",
        "\n",
        "print(b[0])\n",
        "print(b[1])\n",
        "print(b[2])\n",
        "\n",
        "c = range(1,11)\n",
        "print(c)\n",
        "print(list(c))\n",
        "\n",
        "print(c[0])\n",
        "print(c[3])\n",
        "\n",
        "d = range(1, 11, 2)\n",
        "print(d)\n",
        "print(list(d))"
      ],
      "execution_count": null,
      "outputs": [
        {
          "output_type": "stream",
          "name": "stdout",
          "text": [
            "range(0, 3)\n",
            "(0, 1, 2)\n",
            "0\n",
            "1\n",
            "2\n",
            "range(1, 11)\n",
            "[1, 2, 3, 4, 5, 6, 7, 8, 9, 10]\n",
            "1\n",
            "4\n",
            "range(1, 11, 2)\n",
            "[1, 3, 5, 7, 9]\n"
          ]
        }
      ]
    },
    {
      "cell_type": "code",
      "metadata": {
        "id": "n3SBKQncZ-nP",
        "colab": {
          "base_uri": "https://localhost:8080/"
        },
        "outputId": "73854294-acb5-43b1-b19c-097d3cf93f04"
      },
      "source": [
        "# 1: without for loop, print each element of ['a','b','c']\n",
        "\n",
        "lst = ['a','b','c']\n",
        "\n",
        "val = lst[0]\n",
        "print(val)\n",
        "\n",
        "val = lst[1]\n",
        "print(val)\n",
        "\n",
        "val = lst[2]\n",
        "print(val)\n",
        "\n",
        "# 1: with for loop, print each element of ['a','b','c']\n",
        "\n",
        "lst = ['a','b','c']\n",
        "for val in lst:\n",
        "  print(val)"
      ],
      "execution_count": null,
      "outputs": [
        {
          "output_type": "stream",
          "name": "stdout",
          "text": [
            "a\n",
            "b\n",
            "c\n",
            "a\n",
            "b\n",
            "c\n"
          ]
        }
      ]
    },
    {
      "cell_type": "code",
      "source": [
        "for val in range(2, 20, 3):\n",
        "  print(val)\n",
        "\n",
        "# 구구단 문제도 많이 사용\n",
        "\n",
        "for i in range(1, 10):\n",
        "    print(3 * i)"
      ],
      "metadata": {
        "id": "qLZHK-PEFMLP",
        "colab": {
          "base_uri": "https://localhost:8080/"
        },
        "outputId": "b288a673-085c-40d7-d1c1-6f0f5693370b"
      },
      "execution_count": null,
      "outputs": [
        {
          "output_type": "stream",
          "name": "stdout",
          "text": [
            "2\n",
            "5\n",
            "8\n",
            "11\n",
            "14\n",
            "17\n",
            "3\n",
            "6\n",
            "9\n",
            "12\n",
            "15\n",
            "18\n",
            "21\n",
            "24\n",
            "27\n"
          ]
        }
      ]
    },
    {
      "cell_type": "code",
      "source": [
        "# 2\n",
        "\n",
        "for iter in ['a','b','c']:\n",
        "  print(f'Hi! {iter}')\n",
        "\n",
        "print('=====')\n",
        "for iter in range(5):\n",
        "  i_str = 'Hi'*iter\n",
        "  print(i_str)"
      ],
      "metadata": {
        "id": "8f5V4oRQgfVG",
        "colab": {
          "base_uri": "https://localhost:8080/"
        },
        "outputId": "aae05d34-2ed9-4638-b7ea-ccabf061d789"
      },
      "execution_count": null,
      "outputs": [
        {
          "output_type": "stream",
          "name": "stdout",
          "text": [
            "Hi! a\n",
            "Hi! b\n",
            "Hi! c\n",
            "=====\n",
            "\n",
            "Hi\n",
            "HiHi\n",
            "HiHiHi\n",
            "HiHiHiHi\n"
          ]
        }
      ]
    },
    {
      "cell_type": "code",
      "metadata": {
        "id": "IFsRdK_DaEJh",
        "colab": {
          "base_uri": "https://localhost:8080/"
        },
        "outputId": "cb379a2d-56a8-4592-f35b-6cf9407c860e"
      },
      "source": [
        "# 3: compute a sum and product of all numbers from 1 to 4\n",
        "\n",
        "sum = 0 \n",
        "for i in range(1,5):\n",
        "  sum = sum+i\n",
        "  print(sum)\n",
        "\n",
        "print('=====')\n",
        "\n",
        "product = 1\n",
        "for i in range(1,5):\n",
        "  product *= i\n",
        "  print(product)"
      ],
      "execution_count": null,
      "outputs": [
        {
          "output_type": "stream",
          "name": "stdout",
          "text": [
            "1\n",
            "3\n",
            "6\n",
            "10\n",
            "=====\n",
            "1\n",
            "2\n",
            "6\n",
            "24\n"
          ]
        }
      ]
    },
    {
      "cell_type": "code",
      "metadata": {
        "id": "hXPHRQ1bWSNY",
        "colab": {
          "base_uri": "https://localhost:8080/"
        },
        "outputId": "47169077-eb60-4e2e-f98e-6fdc19b68797"
      },
      "source": [
        "# 4: a loop that prints all odd numbers in [1,10]\n",
        "\n",
        "for i in range(1,11):\n",
        "  if i % 2 == 1:\n",
        "    print(f'{i} is an odd number')"
      ],
      "execution_count": null,
      "outputs": [
        {
          "output_type": "stream",
          "name": "stdout",
          "text": [
            "1 is an odd number\n",
            "3 is an odd number\n",
            "5 is an odd number\n",
            "7 is an odd number\n",
            "9 is an odd number\n"
          ]
        }
      ]
    },
    {
      "cell_type": "code",
      "metadata": {
        "id": "q2pnZ6VsCkqa",
        "colab": {
          "base_uri": "https://localhost:8080/"
        },
        "outputId": "00fe018e-2924-426e-c3e1-a2769c727f89"
      },
      "source": [
        "# 5: given a sentence, print each word\n",
        "\n",
        "my_str = 'One year has 12 months, 52 weeks and 365 days'\n",
        "my_lst = my_str.split()\n",
        "\n",
        "print(my_lst)\n",
        "\n",
        "for i in my_lst:\n",
        "  print(i)"
      ],
      "execution_count": null,
      "outputs": [
        {
          "output_type": "stream",
          "name": "stdout",
          "text": [
            "['One', 'year', 'has', '12', 'months,', '52', 'weeks', 'and', '365', 'days']\n",
            "One\n",
            "year\n",
            "has\n",
            "12\n",
            "months,\n",
            "52\n",
            "weeks\n",
            "and\n",
            "365\n",
            "days\n"
          ]
        }
      ]
    },
    {
      "cell_type": "code",
      "source": [
        "# 6: given a dictionary, print each key and value \n",
        "\n",
        "my_dict = {'name': 'Peter', 'birth': ['April', 9], 'age': 27, 'year': 1995, 'Course': 'SCS2013'}\n",
        "\n",
        "for key in my_dict.keys():\n",
        "  print(f'Key: {key} and Value: {my_dict[key]}')\n",
        "\n",
        "print('=====')\n",
        "\n",
        "for (key, value) in my_dict.items():\n",
        "  print(f'Key: {key} and Value: {value}')"
      ],
      "metadata": {
        "id": "Q0xFOp6OHikw",
        "colab": {
          "base_uri": "https://localhost:8080/"
        },
        "outputId": "04c19c45-fdf1-4857-bf19-2eff00eebe6f"
      },
      "execution_count": null,
      "outputs": [
        {
          "output_type": "stream",
          "name": "stdout",
          "text": [
            "Key: name and Value: Peter\n",
            "Key: birth and Value: ['April', 9]\n",
            "Key: age and Value: 27\n",
            "Key: year and Value: 1995\n",
            "Key: Course and Value: SCS2013\n",
            "=====\n",
            "Key: name and Value: Peter\n",
            "Key: birth and Value: ['April', 9]\n",
            "Key: age and Value: 27\n",
            "Key: year and Value: 1995\n",
            "Key: Course and Value: SCS2013\n"
          ]
        }
      ]
    },
    {
      "cell_type": "code",
      "metadata": {
        "id": "Xc3YKShuDOlb",
        "colab": {
          "base_uri": "https://localhost:8080/"
        },
        "outputId": "35fb47ff-2c01-40f6-84e1-c2fcf6a892fb"
      },
      "source": [
        "# Nested for loop\n",
        "\n",
        "num = 5\n",
        "for i in range(1,num+1):\n",
        "  print(f'Line {i}:', end=' ')\n",
        "  for j in range(1,i+1):\n",
        "    print(j, end=' ')\n",
        "\n",
        "  print('')"
      ],
      "execution_count": null,
      "outputs": [
        {
          "output_type": "stream",
          "name": "stdout",
          "text": [
            "Line 1: 1 \n",
            "Line 2: 1 2 \n",
            "Line 3: 1 2 3 \n",
            "Line 4: 1 2 3 4 \n",
            "Line 5: 1 2 3 4 5 \n"
          ]
        }
      ]
    },
    {
      "cell_type": "markdown",
      "metadata": {
        "id": "XFAbMQtXVfBf"
      },
      "source": [
        "### While Loop\n",
        "\n",
        "**While Loop** is another powerful repetition structure in Python. \n",
        "\n",
        "```\n",
        "while <condition>:\n",
        "  <statement>\n",
        "```\n",
        "\n",
        "It executes the ``<statement>`` as long as the ``<condition>`` is satisfied."
      ]
    },
    {
      "cell_type": "code",
      "metadata": {
        "id": "fdsrTMcMaeV8",
        "colab": {
          "base_uri": "https://localhost:8080/"
        },
        "outputId": "1167ada5-9b68-419b-a779-caa61ea61c9f"
      },
      "source": [
        "# 1 \n",
        "i = 0\n",
        "while i < 3:\n",
        "  print('Hello World!')\n",
        "  i = i + 1"
      ],
      "execution_count": null,
      "outputs": [
        {
          "output_type": "stream",
          "name": "stdout",
          "text": [
            "Hello World!\n",
            "Hello World!\n",
            "Hello World!\n"
          ]
        }
      ]
    },
    {
      "cell_type": "code",
      "metadata": {
        "id": "pAOglKW_Uzaz",
        "colab": {
          "base_uri": "https://localhost:8080/"
        },
        "outputId": "d63149ca-4ade-4642-d87b-ac2d64abf391"
      },
      "source": [
        "# 2\n",
        "num_boxes = 3\n",
        "while num_boxes > 0:\n",
        "  print(f'There are {num_boxes} boxes. Remove one.')\n",
        "  num_boxes -= 1\n",
        "  print(f'There are {num_boxes} boxes left.')\n",
        "\n",
        "  if num_boxes == 0:\n",
        "    print('There is no box!')\n",
        "    "
      ],
      "execution_count": null,
      "outputs": [
        {
          "output_type": "stream",
          "name": "stdout",
          "text": [
            "There are 3 boxes. Remove one.\n",
            "There are 2 boxes left.\n",
            "There are 2 boxes. Remove one.\n",
            "There are 1 boxes left.\n",
            "There are 1 boxes. Remove one.\n",
            "There are 0 boxes left.\n",
            "There is no box!\n"
          ]
        }
      ]
    },
    {
      "cell_type": "code",
      "source": [
        "i = 10\n",
        "\n",
        "while True:\n",
        "    print(i)\n",
        "    i -= 1\n",
        "    if i == 0:\n",
        "        break"
      ],
      "metadata": {
        "colab": {
          "base_uri": "https://localhost:8080/"
        },
        "id": "rlg81cg-tAkI",
        "outputId": "b48879a4-118d-4a9e-df9b-9662a43f954f"
      },
      "execution_count": null,
      "outputs": [
        {
          "output_type": "stream",
          "name": "stdout",
          "text": [
            "10\n",
            "9\n",
            "8\n",
            "7\n",
            "6\n",
            "5\n",
            "4\n",
            "3\n",
            "2\n",
            "1\n"
          ]
        }
      ]
    },
    {
      "cell_type": "markdown",
      "source": [
        "### Break, Continue Statements\n",
        "\n",
        "* A **break** statement terminates the loop\n",
        "* A **continue** statement skips a code block in the loop for the current iteration."
      ],
      "metadata": {
        "id": "ee9qMCnMSH5A"
      }
    },
    {
      "cell_type": "code",
      "source": [
        "i = 10\n",
        "\n",
        "while i > 0:\n",
        "  i = i-1\n",
        "  if i > 7:\n",
        "    continue\n",
        "  elif i < 3:\n",
        "    break\n",
        "  else:\n",
        "    print(i)"
      ],
      "metadata": {
        "id": "9K-rfHfuSF-0",
        "colab": {
          "base_uri": "https://localhost:8080/"
        },
        "outputId": "77618fc7-6fc5-45eb-b5d9-5b1bb7c10ae6"
      },
      "execution_count": null,
      "outputs": [
        {
          "output_type": "stream",
          "name": "stdout",
          "text": [
            "7\n",
            "6\n",
            "5\n",
            "4\n",
            "3\n"
          ]
        }
      ]
    },
    {
      "cell_type": "code",
      "source": [
        "for i in range(10):\n",
        "  if i % 3 == 0:\n",
        "    continue\n",
        "  if i == 8:\n",
        "    break\n",
        "\n",
        "  print(i)"
      ],
      "metadata": {
        "id": "9_TEhlYsSX2V",
        "colab": {
          "base_uri": "https://localhost:8080/"
        },
        "outputId": "b6481fa0-edf3-42b4-de27-c16cbcc34d60"
      },
      "execution_count": null,
      "outputs": [
        {
          "output_type": "stream",
          "name": "stdout",
          "text": [
            "1\n",
            "2\n",
            "4\n",
            "5\n",
            "7\n"
          ]
        }
      ]
    },
    {
      "cell_type": "code",
      "source": [
        "count_even = 0\n",
        "count_odd = 0\n",
        "\n",
        "while True:\n",
        "  val = int(input('Enter an integer: '))\n",
        "  if val == 10:\n",
        "    break\n",
        "  elif val % 2 == 0: \n",
        "    count_even += 1\n",
        "  else: \n",
        "    count_odd += 1\n",
        "\n",
        "print(f'Finish the loop: number of evens {count_even} and number of odds {count_odd}')"
      ],
      "metadata": {
        "id": "HvJs4LnDvLTd",
        "colab": {
          "base_uri": "https://localhost:8080/"
        },
        "outputId": "22b3c32d-b4a2-4303-e8f8-12afd263a561"
      },
      "execution_count": null,
      "outputs": [
        {
          "output_type": "stream",
          "name": "stdout",
          "text": [
            "Enter an integer: 5\n",
            "Enter an integer: 4\n",
            "Enter an integer: 3\n",
            "Enter an integer: 10\n",
            "Finish the loop: number of evens 1 and number of odds 2\n"
          ]
        }
      ]
    },
    {
      "cell_type": "markdown",
      "source": [
        "## input() and random.randint()\n",
        "\n",
        "Python allows for user input: we are able to ask the user for input.\n",
        "\n",
        "Syntax of `input()`\n",
        "\n",
        "```\n",
        "input([prompt])\n",
        "```\n",
        "- If you enter an integer or float number, it will convert it into a **string**. If you want input in other data types, need to perform **type conversion** on the input value.\n"
      ],
      "metadata": {
        "id": "2IlUjKNrvZEZ"
      }
    },
    {
      "cell_type": "code",
      "source": [
        "# take name and age values from user\n",
        "name = input('Enter Name: ')\n",
        "age = input('Enter Age: ')\n",
        "\n",
        "print('\\n')\n",
        "print(f'Name: {name}, Age: {age}')\n",
        "print('Print type of each input value')\n",
        "print(f'Type of name {type(name)}, Type of age {type(age)}')"
      ],
      "metadata": {
        "id": "C0vpiCaKvYf_",
        "colab": {
          "base_uri": "https://localhost:8080/"
        },
        "outputId": "395d304e-79d0-4774-91e4-d35bf8f58b8d"
      },
      "execution_count": null,
      "outputs": [
        {
          "output_type": "stream",
          "name": "stdout",
          "text": [
            "Enter Name: geuntae\n",
            "Enter Age: 25\n",
            "\n",
            "\n",
            "Name: geuntae, Age: 25\n",
            "Print type of each input value\n",
            "Type of name <class 'str'>, Type of age <class 'str'>\n"
          ]
        }
      ]
    },
    {
      "cell_type": "code",
      "source": [
        "first_num = input('Enter first number (integer): ')\n",
        "second_num = input('Enter second number (float): ')\n",
        "\n",
        "print('\\n')\n",
        "print(f'First number {first_num} and Second number {second_num}')\n",
        "print(f'First num + Second num = {first_num + second_num}')\n",
        "\n",
        "print('\\nType conversion')\n",
        "first_num = int(first_num)\n",
        "second_num = float(second_num)\n",
        "print(f'First number {first_num} and Second number {second_num}')\n",
        "print(f'First num + Second num = {first_num + second_num}')"
      ],
      "metadata": {
        "id": "PFa0JQvdwPRB",
        "colab": {
          "base_uri": "https://localhost:8080/"
        },
        "outputId": "2906dbb5-c54b-454e-a2e0-b25611850a7a"
      },
      "execution_count": null,
      "outputs": [
        {
          "output_type": "stream",
          "name": "stdout",
          "text": [
            "Enter first number (integer): 5\n",
            "Enter second number (float): 4.1\n",
            "\n",
            "\n",
            "First number 5 and Second number 4.1\n",
            "First num + Second num = 54.1\n",
            "\n",
            "Type conversion\n",
            "First number 5 and Second number 4.1\n",
            "First num + Second num = 9.1\n"
          ]
        }
      ]
    },
    {
      "cell_type": "markdown",
      "source": [
        "By doing `import random`, we can handle 'random' numbers: \n",
        "\n",
        "Syntax of `random.randint()`\n",
        "```\n",
        "import random\n",
        "random.randint(start, end, step)\n",
        "```\n",
        "- If generates a random number (integer) between 'start' and 'end' (both included).\n"
      ],
      "metadata": {
        "id": "tO6PyjI7we-Z"
      }
    },
    {
      "cell_type": "code",
      "source": [
        "import random\n",
        "\n",
        "num = random.randint(1,10)\n",
        "print(num)\n",
        "\n",
        "num = random.randint(1,10)\n",
        "print(num)\n",
        "\n",
        "num = random.randint(1,10)\n",
        "print(num)"
      ],
      "metadata": {
        "id": "u7MdYM2rxALb",
        "colab": {
          "base_uri": "https://localhost:8080/"
        },
        "outputId": "b4ea4ce5-69a3-4ba9-864e-60d45d11ce4f"
      },
      "execution_count": null,
      "outputs": [
        {
          "output_type": "stream",
          "name": "stdout",
          "text": [
            "5\n",
            "1\n",
            "1\n"
          ]
        }
      ]
    },
    {
      "cell_type": "markdown",
      "metadata": {
        "id": "3WOxwY9GPjUi"
      },
      "source": [
        "## Exercise\n",
        "\n",
        "Let's try some exercises that will help understand conditional statements and loop statements."
      ]
    },
    {
      "cell_type": "markdown",
      "metadata": {
        "id": "Ab7tG0qulXqq"
      },
      "source": [
        "### E-1\n",
        "\n",
        "Write a program that finds the decimal part (소수점 이하) of `num` and print \"The decimal part of `num` is `decimal part`\". \n",
        "\n",
        "If decimal part is zero, print \"`num` is an integer\".\n",
        "\n",
        "*hint*: you can use `int()` function or use `%` operator to find the decimal part. \n",
        "\n",
        "*expected result*: when `num = 11.11`\n",
        "```\n",
        "The decimal part of 11.11 is 0.110\n",
        "```\n",
        "when `num = 11`\n",
        "```\n",
        "11 is an integer\n",
        "```"
      ]
    },
    {
      "cell_type": "code",
      "metadata": {
        "id": "BIotVScmlp7F",
        "colab": {
          "base_uri": "https://localhost:8080/"
        },
        "outputId": "a129a17f-f388-4a82-e200-4901f7b27e27"
      },
      "source": [
        "num = 11.11\n",
        "# num = 11\n",
        "\n",
        "# your code here\n",
        "if num % 1 == 0:\n",
        "    print(num, 'is an integer')\n",
        "\n",
        "else:\n",
        "    print(f'The decimal part of {num} is {num % 1:.2f}')"
      ],
      "execution_count": null,
      "outputs": [
        {
          "output_type": "stream",
          "name": "stdout",
          "text": [
            "11 is an integer\n"
          ]
        }
      ]
    },
    {
      "cell_type": "markdown",
      "metadata": {
        "id": "tpmz2ps0oStD"
      },
      "source": [
        "### E-2\n",
        "\n",
        "Write a program that counts the number of words that start with a letter `C` or `c` in a string `my_str`. \n",
        "\n",
        "```\n",
        "my_str = \"Never again will you be capable of ordinary human feeling. Everything will be dead inside you. Never again will you be capable of love, or friendship, or joy of living, or laughter, or curiosity, or courage, or integrity. You will be hollow. We shall squeeze you empty, and then we shall fill you with ourselves.\"\n",
        "```"
      ]
    },
    {
      "cell_type": "code",
      "metadata": {
        "id": "KszXFfXi7QO8",
        "colab": {
          "base_uri": "https://localhost:8080/"
        },
        "outputId": "51dc2717-090c-41cf-972e-c009879b658e"
      },
      "source": [
        "my_str = '''Never again will you be capable of ordinary human feeling. Everything will be dead inside you. Never again will you be capable of love, or friendship, or joy of living, or laughter, or curiosity, or courage, or integrity. You will be hollow. We shall squeeze you empty, and then we shall fill you with ourselves.'''\n",
        "\n",
        "result = 0\n",
        "str = my_str.split()\n",
        "type(str[0])\n",
        "# your code here: use for, if, and pass\n",
        "a = 0\n",
        "\n",
        "for i in range(len(str)):\n",
        "    if str[i].count('c') != 0:\n",
        "        a += 1\n",
        "\n",
        "print(a)"
      ],
      "execution_count": 16,
      "outputs": [
        {
          "output_type": "stream",
          "name": "stdout",
          "text": [
            "4\n"
          ]
        }
      ]
    },
    {
      "cell_type": "markdown",
      "metadata": {
        "id": "aBHY5EI_LAuf"
      },
      "source": [
        "### E-3\n",
        "\n",
        "Given the list, write a program that follows the below rule: You can use `for` and `if-elif-else`.\n",
        "\n",
        "- print the number if it is multiple of 5\n",
        "- if the number is greater than 200, stop the loop \n",
        "- if the number is less than 100, skip the iteration and move to the next number\n",
        "\n",
        "\n",
        "Given the list `lst = [125, 12, 50, 160, 198, 250, 721, 110]`, the result will be:\n",
        "```\n",
        "125\n",
        "160\n",
        "```"
      ]
    },
    {
      "cell_type": "code",
      "metadata": {
        "id": "ANuYi28zLAM_",
        "colab": {
          "base_uri": "https://localhost:8080/"
        },
        "outputId": "0e5d52d4-c611-4b4f-e9ad-0f214d7a8981"
      },
      "source": [
        "lst = [125, 12, 50, 160, 198, 250, 721, 110]\n",
        "\n",
        "# your code here\n",
        "for ls in lst:\n",
        "    if ls > 200:\n",
        "        break\n",
        "    elif ls < 100:\n",
        "        continue\n",
        "    elif ls % 5 == 0:\n",
        "        print(ls)"
      ],
      "execution_count": null,
      "outputs": [
        {
          "output_type": "stream",
          "name": "stdout",
          "text": [
            "125\n",
            "160\n"
          ]
        }
      ]
    },
    {
      "cell_type": "markdown",
      "metadata": {
        "id": "SbHavMJeUPlJ"
      },
      "source": [
        "### E-4\n",
        "\n",
        "Print numbers from 10 to 1 - in the backward direction - using the 'while' loop."
      ]
    },
    {
      "cell_type": "code",
      "metadata": {
        "id": "euyRru8wNLa8",
        "colab": {
          "base_uri": "https://localhost:8080/"
        },
        "outputId": "dc135d76-0c51-44f6-990b-c88be6cad5a3"
      },
      "source": [
        "# your code here\n",
        "\n",
        "i = 10\n",
        "\n",
        "while i != 0:\n",
        "    print(i)\n",
        "    i -= 1"
      ],
      "execution_count": null,
      "outputs": [
        {
          "output_type": "stream",
          "name": "stdout",
          "text": [
            "10\n",
            "9\n",
            "8\n",
            "7\n",
            "6\n",
            "5\n",
            "4\n",
            "3\n",
            "2\n",
            "1\n"
          ]
        }
      ]
    },
    {
      "cell_type": "markdown",
      "source": [
        "### E-5\n",
        "\n",
        "We have generated two random integers between 1 and 50, and ask the user to compute the subtraction: Please check the entered answer is correct or not.\n",
        "\n",
        "Example of results will be:\n",
        "```\n",
        "What is 22 - 34?: \n",
        ">> -12\n",
        "Great!\n",
        "```\n",
        "```\n",
        "What is 44 - 34?: \n",
        ">> 5\n",
        "Wrong!\n",
        "```\n",
        "\n",
        "\n"
      ],
      "metadata": {
        "id": "pPC7-LXatJmS"
      }
    },
    {
      "cell_type": "code",
      "source": [
        "import random \n",
        "\n",
        "x = random.randint(1,50)\n",
        "y = random.randint(1,50)\n",
        "\n",
        "answer = int(input(f'What is {x} - {y}?:\\n>> '))\n",
        "\n",
        "# your code here: check whether the entered answer is correct or not\n",
        "\n",
        "if (answer == x -y):\n",
        "    print('Great!')\n",
        "else:\n",
        "    print('Wrong!')"
      ],
      "metadata": {
        "id": "ZImkMms3tmHM",
        "colab": {
          "base_uri": "https://localhost:8080/"
        },
        "outputId": "9f1a0e88-653c-400e-8269-18fff87d417d"
      },
      "execution_count": null,
      "outputs": [
        {
          "output_type": "stream",
          "name": "stdout",
          "text": [
            "What is 39 - 31?:\n",
            ">> 8\n",
            "Great!\n"
          ]
        }
      ]
    },
    {
      "cell_type": "markdown",
      "metadata": {
        "id": "ndOl6T_wTwjK"
      },
      "source": [
        "### E-6\n",
        "\n",
        "Write a program that generates and prints a random number as long as the number is not 0. (Use `while` loop)\n",
        "\n",
        "- *note*: you can generate a random integer in $[0, 10]$ by using `random.randint(0,10)`\n",
        "- but you first need to import `import random` in order to use `random.randint()` function\n",
        "\n",
        "\n",
        "One example of result will be:\n",
        "```\n",
        "Number is 10\n",
        "Number is 2\n",
        "Number is 3\n",
        "Stop\n",
        "```"
      ]
    },
    {
      "cell_type": "code",
      "source": [
        "import random \n",
        "num = random.randint(0,10)\n",
        "\n",
        "# your code here: generate a random number as long as the number is not 0\n",
        "while num!= 0:\n",
        "    print('Number is', num)\n",
        "    num = random.randint(0,10)\n",
        "\n",
        "print('Stop')"
      ],
      "metadata": {
        "id": "_SJ_us0gZCHO",
        "colab": {
          "base_uri": "https://localhost:8080/"
        },
        "outputId": "a40f9fe5-2a68-4034-f5dc-4afc389d38ea"
      },
      "execution_count": null,
      "outputs": [
        {
          "output_type": "stream",
          "name": "stdout",
          "text": [
            "Number is 7\n",
            "Number is 5\n",
            "Number is 8\n",
            "Number is 7\n",
            "Number is 8\n",
            "Number is 1\n",
            "Stop\n"
          ]
        }
      ]
    },
    {
      "cell_type": "markdown",
      "source": [
        "### E-7\n",
        "\n",
        "Take input integers from the user repeatedly and compute the total sum of the entered integers. The loop continues until the user enters `0`.\n",
        "\n",
        "- hint: we can use ` while True` and `break` for this \n",
        "\n",
        "Example of result:\n",
        "```\n",
        "Enter an integer: 3\n",
        "Enter an integer: 5\n",
        "Enter an integer: 2\n",
        "Enter an integer: 0\n",
        "Finish the loop: total sum is 10\n",
        "```"
      ],
      "metadata": {
        "id": "fqgLdB4suqSj"
      }
    },
    {
      "cell_type": "code",
      "source": [
        "sum = 0\n",
        "num = int(input('Enter an integer: '))\n",
        "\n",
        "# your code here: take input integers from user repeatedly and compute the total sum\n",
        "while num != 0:\n",
        "    sum += num\n",
        "    num = int(input('Enter an integer: '))\n",
        "\n",
        "print(f'Finish the loop: total sum is {sum}')\n",
        "\n",
        "'''\n",
        "while True:\n",
        "    num = int(input('Enter an integer: '))\n",
        "    if num == 0:\n",
        "        break\n",
        "    else:\n",
        "        sum += num\n",
        "\n",
        "print(f'Finish the loop: total sum is {sum}')\n",
        "'''\n",
        "\n",
        "# 반복횟수 한정되면 for문, 언제 반복이 끝날지 모르면 while"
      ],
      "metadata": {
        "id": "Ux0XYPgJuOea",
        "colab": {
          "base_uri": "https://localhost:8080/"
        },
        "outputId": "c1a86fb1-3942-452a-94d0-9364c42c7ee5"
      },
      "execution_count": null,
      "outputs": [
        {
          "output_type": "stream",
          "name": "stdout",
          "text": [
            "Enter an integer: 3\n",
            "Enter an integer: 5\n",
            "Enter an integer: 2\n",
            "Enter an integer: 1\n",
            "Enter an integer: 0\n",
            "Finish the loop: total sum is 11\n"
          ]
        }
      ]
    }
  ]
}