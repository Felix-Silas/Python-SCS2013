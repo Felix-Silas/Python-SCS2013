{
  "nbformat": 4,
  "nbformat_minor": 0,
  "metadata": {
    "colab": {
      "provenance": [],
      "collapsed_sections": []
    },
    "kernelspec": {
      "name": "python3",
      "display_name": "Python 3"
    },
    "language_info": {
      "name": "python"
    }
  },
  "cells": [
    {
      "cell_type": "markdown",
      "metadata": {
        "id": "EzZiRhCEg1JC"
      },
      "source": [
        "# SCS2013 Exercise 10 (2022 Fall)\n",
        "\n",
        "**This exercise notebook will go through the understanding of \"Object-Oriented Programming (OOP)\"**\n",
        "\n",
        "- Class and Object\n",
        "- How to create class\n",
        "- Class members: Instance/Class Variables and Instance/Class Methods\n",
        "\n",
        "\n",
        "\n",
        "\n",
        "\n"
      ]
    },
    {
      "cell_type": "markdown",
      "metadata": {
        "id": "006k-rvBspmB"
      },
      "source": [
        "## Class and Object\n",
        "\n",
        "```\n",
        "class <class_name>:\n",
        "  # class variables\n",
        "\n",
        "  # constructor\n",
        "  def __init__(self, <arguments>):      \n",
        "    # instance variables \n",
        "\n",
        "  # class methods\n",
        "  @classmethod\n",
        "  def <class_method_name>(cls, <arguments>):     \n",
        "    <statements>\n",
        "\n",
        "  # instance methods\n",
        "  def <instance_method_name>(self, <arguments>):     \n",
        "    <statements>\n",
        "\n",
        "```\n",
        "\n",
        "- **constructor** `__init__()` is a method to create and initialize an object of a class\n",
        "\n"
      ]
    },
    {
      "cell_type": "markdown",
      "metadata": {
        "id": "SHHM5M4VxxS5"
      },
      "source": [
        "Now, let's create a `Student` class that has `name` and `age` instance attributes, and a `school_name` class attribute.\n",
        "\n",
        "There are two ways to access the **instance variable**. \n",
        "- Within the class, in instance method: use the object reference `self`: `self.<instance_variable_name>` \n",
        "  - Within the class, **`self`** parameter is a ference to the current instance of the class \n",
        "- Outside the class, after creating the instance: use the object name: `<object_name>.<instance_variable_name>`\n",
        "\n",
        "**Class variable** is bound to class and declared inside of class, but outside of any instance method. The value is shared by all objects of a class.\n"
      ]
    },
    {
      "cell_type": "code",
      "source": [
        "class Student:\n",
        "    pass"
      ],
      "metadata": {
        "id": "c4SrBWWwy7p7"
      },
      "execution_count": null,
      "outputs": []
    },
    {
      "cell_type": "code",
      "metadata": {
        "id": "essVTNqVsjLk"
      },
      "source": [
        "class Student:\n",
        "  '''This is a docstring: \n",
        "  This is a Student class with name, age and school_name\n",
        "  '''\n",
        "  # class variables\n",
        "  school_name = 'ABC University'\n",
        "\n",
        "  # constructor\n",
        "  def __init__(self, name, age):\n",
        "    # instance variables: self.xxx\n",
        "    self.name = name\n",
        "    self.age = age"
      ],
      "execution_count": null,
      "outputs": []
    },
    {
      "cell_type": "code",
      "metadata": {
        "id": "_0kezNkZskBA"
      },
      "source": [
        "s1 = Student('Peter', 25)\n",
        "s2 = Student('Alice', 28)"
      ],
      "execution_count": null,
      "outputs": []
    },
    {
      "cell_type": "code",
      "metadata": {
        "id": "Q9vpZrW8sj7g",
        "colab": {
          "base_uri": "https://localhost:8080/"
        },
        "outputId": "94011c3a-442d-4ede-ede7-73163f4ec9fb"
      },
      "source": [
        "# check instance variables and class variables: object_name.xxx\n",
        "print(f'Student 1 - Name: {s1.name}, Age: {s1.age}, School: {Student.school_name}')\n",
        "print(f'Student 1 - Name: {s1.name}, Age: {s1.age}, School: {s1.school_name}')\n",
        "print(f'Student 2 - Name: {s2.name}, Age: {s2.age}, School: {Student.school_name}')"
      ],
      "execution_count": null,
      "outputs": [
        {
          "output_type": "stream",
          "name": "stdout",
          "text": [
            "Student 1 - Name: Peter, Age: 25, School: ABC University\n",
            "Student 1 - Name: Peter, Age: 25, School: ABC University\n",
            "Student 2 - Name: Alice, Age: 28, School: ABC University\n"
          ]
        }
      ]
    },
    {
      "cell_type": "code",
      "metadata": {
        "id": "7PWh4rSssj0M",
        "colab": {
          "base_uri": "https://localhost:8080/"
        },
        "outputId": "80f8b63d-51a7-46f9-8a54-6392015735af"
      },
      "source": [
        "# modify instance variables and class variables\n",
        "s1.name = 'John'\n",
        "s1.age = 30\n",
        "Student.school_name = 'XYZ University'\n",
        "\n",
        "# check instance variables and class variables \n",
        "print(f'Student 1 - Name: {s1.name}, Age: {s1.age}, School: {Student.school_name}')\n",
        "print(f'Student 2 - Name: {s2.name}, Age: {s2.age}, School: {Student.school_name}')"
      ],
      "execution_count": null,
      "outputs": [
        {
          "output_type": "stream",
          "name": "stdout",
          "text": [
            "Student 1 - Name: John, Age: 30, School: XYZ University\n",
            "Student 2 - Name: Alice, Age: 28, School: XYZ University\n"
          ]
        }
      ]
    },
    {
      "cell_type": "code",
      "metadata": {
        "id": "gt1icL2SyZfz",
        "colab": {
          "base_uri": "https://localhost:8080/"
        },
        "outputId": "fb30bcfb-6e75-4d9a-ff2c-4d944652ca20"
      },
      "source": [
        "# add and delete instance variable \n",
        "print(s1.__dict__)\n",
        "\n",
        "# add new instance variable \n",
        "s1.major = 'EE'\n",
        "print(s1.__dict__)\n",
        "\n",
        "del s1.name\n",
        "print(s1.__dict__)"
      ],
      "execution_count": null,
      "outputs": [
        {
          "output_type": "stream",
          "name": "stdout",
          "text": [
            "{'name': 'John', 'age': 30}\n",
            "{'name': 'John', 'age': 30, 'major': 'EE'}\n",
            "{'age': 30, 'major': 'EE'}\n"
          ]
        }
      ]
    },
    {
      "cell_type": "code",
      "source": [
        "s1 = Student('Peter', 25)\n",
        "s2 = Student('Alice', 28)\n",
        "\n",
        "print(f'Student 1 - Name: {s1.name}, Age: {s1.age}, School: {Student.school_name}, {s1.school_name}')\n",
        "print(f'Student 2 - Name: {s2.name}, Age: {s2.age}, School: {Student.school_name}, {s2.school_name}')"
      ],
      "metadata": {
        "id": "AmEMi5OO5tHs",
        "colab": {
          "base_uri": "https://localhost:8080/"
        },
        "outputId": "3855f62a-17cf-4eb7-f7fb-e3b57b809057"
      },
      "execution_count": null,
      "outputs": [
        {
          "output_type": "stream",
          "name": "stdout",
          "text": [
            "Student 1 - Name: Peter, Age: 25, School: XYZ University, XYZ University\n",
            "Student 2 - Name: Alice, Age: 28, School: XYZ University, XYZ University\n"
          ]
        }
      ]
    },
    {
      "cell_type": "code",
      "source": [
        "# change class variable by using object name\n",
        "s1.school_name = 'AAA School'\n",
        "print(f'Student 1 - Name: {s1.name}, Age: {s1.age}, School: {Student.school_name}, {s1.school_name}')\n",
        "print(f'Student 2 - Name: {s2.name}, Age: {s2.age}, School: {Student.school_name}, {s2.school_name}')"
      ],
      "metadata": {
        "id": "BZgCQRl7aJvs",
        "colab": {
          "base_uri": "https://localhost:8080/"
        },
        "outputId": "3040ba93-b490-4aad-99fb-fadcbe6ff5a6"
      },
      "execution_count": null,
      "outputs": [
        {
          "output_type": "stream",
          "name": "stdout",
          "text": [
            "Student 1 - Name: Peter, Age: 25, School: XYZ University, AAA School\n",
            "Student 2 - Name: Alice, Age: 28, School: XYZ University, XYZ University\n"
          ]
        }
      ]
    },
    {
      "cell_type": "markdown",
      "metadata": {
        "id": "fosPsOp_xNqz"
      },
      "source": [
        "Now, let's create a `Student` class that also has some instance methods and class methods. \n",
        "\n",
        "**instance methods**: \n",
        "- used to access or modify the object state  \n",
        "- must have a `self` as a first parameter to refer to the current object\n",
        "\n",
        "**class methods**\n",
        "- used to access or modify the class state\n",
        "- must have a `cls` as a first parmeter to refer to the class\n"
      ]
    },
    {
      "cell_type": "code",
      "source": [
        "class Student:\n",
        "  # constructor\n",
        "  def __init__(self, name, age):\n",
        "    # instance variables\n",
        "    self.name = name\n",
        "    self.age = age\n",
        "\n",
        "  # instance method that display instance variable\n",
        "  def display_info(self):\n",
        "    print(f'Name: {self.name}, Age: {self.age}')\n",
        "\n",
        "  # instance method that modify and update instance variable\n",
        "  def update(self, new_name, new_age):\n",
        "    self.name = new_name\n",
        "    self.age = new_age\n",
        "\n",
        "  # instance method adding new instance variable\n",
        "  def set_major(self, major):\n",
        "    self.major = major"
      ],
      "metadata": {
        "id": "FqLADzkr46jH"
      },
      "execution_count": null,
      "outputs": []
    },
    {
      "cell_type": "code",
      "source": [
        "s1 = Student('Peter', 25)\n",
        "s1.display_info()\n",
        "\n",
        "s1.update('Alice', 29)\n",
        "s1.display_info()\n",
        "\n",
        "s1.set_major('EE')\n",
        "print(f'Name: {s1.name}, Age: {s1.age}, Major: {s1.major}')"
      ],
      "metadata": {
        "id": "ieiBbJ-546gP",
        "colab": {
          "base_uri": "https://localhost:8080/"
        },
        "outputId": "3e2c7f89-075e-4017-d861-a77f8beb7780"
      },
      "execution_count": null,
      "outputs": [
        {
          "output_type": "stream",
          "name": "stdout",
          "text": [
            "Name: Peter, Age: 25\n",
            "Name: Alice, Age: 29\n",
            "Name: Alice, Age: 29, Major: EE\n"
          ]
        }
      ]
    },
    {
      "cell_type": "code",
      "metadata": {
        "id": "q-mYvu2Kw48X"
      },
      "source": [
        "class Student:\n",
        "  # class variables\n",
        "  school_name = 'ABC University'\n",
        "\n",
        "  # constructor\n",
        "  def __init__(self, name, age):\n",
        "    # instance variables\n",
        "    self.name = name\n",
        "    self.age = age\n",
        "\n",
        "  # instance method that display instance variable\n",
        "  def display_info(self):\n",
        "    print(f'Name: {self.name}, Age: {self.age}, School: {Student.school_name}')\n",
        "\n",
        "  # instance method that modify and update instance variable\n",
        "  def update_info(self, new_name, new_age):\n",
        "    self.name = new_name\n",
        "    self.age = new_age\n",
        "\n",
        "  # class method that modify class variable\n",
        "  @classmethod\n",
        "  def update_school(cls, new_school_name):\n",
        "    cls.school_name = new_school_name"
      ],
      "execution_count": null,
      "outputs": []
    },
    {
      "cell_type": "code",
      "metadata": {
        "id": "BVFv28NHw44U",
        "colab": {
          "base_uri": "https://localhost:8080/"
        },
        "outputId": "996b33a9-a5c3-4052-928a-48465188d7ec"
      },
      "source": [
        "s1 = Student('Peter', 25)\n",
        "s2 = Student('Alice', 28)\n",
        "\n",
        "s1.display_info()\n",
        "s2.display_info()"
      ],
      "execution_count": null,
      "outputs": [
        {
          "output_type": "stream",
          "name": "stdout",
          "text": [
            "Name: Peter, Age: 25, School: ABC University\n",
            "Name: Alice, Age: 28, School: ABC University\n"
          ]
        }
      ]
    },
    {
      "cell_type": "code",
      "metadata": {
        "id": "JPp3CuPyw4vG",
        "colab": {
          "base_uri": "https://localhost:8080/"
        },
        "outputId": "3fdf9be3-2dac-4590-9df8-47b3a7905636"
      },
      "source": [
        "s1.update_info('John', 30)\n",
        "Student.update_school('XYZ University')\n",
        "\n",
        "s1.display_info()\n",
        "s2.display_info()"
      ],
      "execution_count": null,
      "outputs": [
        {
          "output_type": "stream",
          "name": "stdout",
          "text": [
            "Name: John, Age: 30, School: XYZ University\n",
            "Name: Alice, Age: 28, School: XYZ University\n"
          ]
        }
      ]
    },
    {
      "cell_type": "markdown",
      "metadata": {
        "id": "DR8v4Eh240I_"
      },
      "source": [
        "## Exercise for Class and Object\n"
      ]
    },
    {
      "cell_type": "markdown",
      "metadata": {
        "id": "5YxCx9y846qY"
      },
      "source": [
        "### E-1\n",
        "\n",
        "Create a `Car` class \n",
        "- with `color` (string), `num_door` (integer) and `max_speed` (integer) instance attributes.\n",
        "- with `print_info` method that prints out all information of the Car, e.g., \n",
        "  ```\n",
        "  Car information - color: red, num_doors: 3, max_speed: 200\n",
        "  ```\n",
        "\n",
        "Then, create three car objects:    \n",
        "- `car_A`: red color, 3 doors, and 200 max speed\n",
        "- `car_B`: blue color, 4 doors, and 240 max speed\n",
        "- `car_C`: green color, 2 doors, and 210 max speed\n"
      ]
    },
    {
      "cell_type": "code",
      "metadata": {
        "id": "qVWZBmlJ4zho"
      },
      "source": [
        "# define Car class\n",
        "class Car:\n",
        "    \n",
        "    def __init__(self, color, num_doors, max_speed):\n",
        "        self.color = color\n",
        "        self.num_doors = num_doors\n",
        "        self.max_speed = max_speed\n",
        "\n",
        "    def print_info(self):\n",
        "        print(f'Car information - color: {self.color}, num_doors: {self.num_doors}, max_speed: {self.max_speed}')"
      ],
      "execution_count": null,
      "outputs": []
    },
    {
      "cell_type": "code",
      "metadata": {
        "id": "izVkSg-04zcB",
        "colab": {
          "base_uri": "https://localhost:8080/"
        },
        "outputId": "a11d58ea-eb3b-4325-b0b7-e50863647d30"
      },
      "source": [
        "# create three objects\n",
        "car_A = Car('red', 3, 200)\n",
        "car_B = Car('blue', 4, 240)\n",
        "car_C = Car('green', 2, 210)\n",
        "\n",
        "# check instance information: print out color, num doors and max speed information by accesing their values\n",
        "print(f'Car information - color: {car_A.color}, num_doors: {car_A.num_doors}, max_speed: {car_A.max_speed}')\n",
        "print(f'Car information - color: {car_B.color}, num_doors: {car_B.num_doors}, max_speed: {car_B.max_speed}')\n",
        "print(f'Car information - color: {car_C.color}, num_doors: {car_C.num_doors}, max_speed: {car_C.max_speed}')\n",
        "\n",
        "# check instance method: call print_info method of each object\n",
        "print('-------------------------------------------------------------')\n",
        "car_A.color = 'orange'\n",
        "car_A.print_info()\n",
        "car_B.print_info()\n",
        "car_C.print_info()"
      ],
      "execution_count": null,
      "outputs": [
        {
          "output_type": "stream",
          "name": "stdout",
          "text": [
            "Car information - color: red, num_doors: 3, max_speed: 200\n",
            "Car information - color: blue, num_doors: 4, max_speed: 240\n",
            "Car information - color: green, num_doors: 2, max_speed: 210\n",
            "-------------------------------------------------------------\n",
            "Car information - color: orange, num_doors: 3, max_speed: 200\n",
            "Car information - color: blue, num_doors: 4, max_speed: 240\n",
            "Car information - color: green, num_doors: 2, max_speed: 210\n"
          ]
        }
      ]
    },
    {
      "cell_type": "markdown",
      "metadata": {
        "id": "2FCuz9ARABFQ"
      },
      "source": [
        "### E-2\n",
        "\n",
        "Create a class `Calculator` that has following members: \n",
        "\n",
        "**instance variables**\n",
        "- two integer attributes: `first` and `second`\n",
        "\n",
        "**instance methods**\n",
        "- `add`, `sub`, `mul`, `div`: methods performing addition, subtraction, multiplication, and division of the two instance variables and return the value.\n",
        "\n"
      ]
    },
    {
      "cell_type": "code",
      "metadata": {
        "id": "FtYlXi8Z9EwJ"
      },
      "source": [
        "# create Calculator class\n",
        "class Calculator:\n",
        "\n",
        "    def __init__(self, first, second):\n",
        "        self.first = first\n",
        "        self.second = second\n",
        "\n",
        "    def add(self):\n",
        "        add= self.first + self.second\n",
        "        return add\n",
        "\n",
        "    def sub(self):\n",
        "        sub = self.first - self.second\n",
        "        return sub\n",
        "\n",
        "    def mul(self):\n",
        "        mul = self.first * self.second\n",
        "        return mul\n",
        "\n",
        "    def div(self):\n",
        "        div = self.first / self.second\n",
        "        return div\n",
        "    \n",
        "    def display_all(self):\n",
        "        print(f'첫번째 숫자: {self.first}')\n",
        "        print(f'두번째 숫자: {self.second}')\n",
        "        print(f'더하기: {self. add()}')\n",
        "        print(f'빼기: {self. sub()}')\n",
        "        print(f'곱하기: {self. mul()}')\n",
        "        print(f'나누기: {self. div():.2f}')"
      ],
      "execution_count": null,
      "outputs": []
    },
    {
      "cell_type": "code",
      "metadata": {
        "id": "9yj7GmNyCKNP",
        "colab": {
          "base_uri": "https://localhost:8080/"
        },
        "outputId": "740f9e0d-3c87-4361-d182-40ccd8a23473"
      },
      "source": [
        "# check your code:\n",
        "cal_1 = Calculator(2, 3)\n",
        "\n",
        "add_1 = cal_1.add()\n",
        "sub_1 = cal_1.sub()\n",
        "mul_1 = cal_1.mul()\n",
        "div_1 = cal_1.div()\n",
        "print(add_1, sub_1, mul_1, div_1)\n",
        "cal_1.display_all()"
      ],
      "execution_count": null,
      "outputs": [
        {
          "output_type": "stream",
          "name": "stdout",
          "text": [
            "5 -1 6 0.6666666666666666\n",
            "첫번째 숫자: 2\n",
            "두번째 숫자: 3\n",
            "더하기: 5\n",
            "빼기: -1\n",
            "곱하기: 6\n",
            "나누기: 0.67\n"
          ]
        }
      ]
    },
    {
      "cell_type": "markdown",
      "metadata": {
        "id": "0pAC3hZTixt_"
      },
      "source": [
        "### E-3\n",
        "\n",
        "Create a class `G_Calculator` that has arbitrary number of integer attributes and three instance methods \n",
        "\n",
        "**instance variables**\n",
        "- arbitrary number of integers: `nums`\n",
        "\n",
        "**instance methods**\n",
        "- `sums` and `products` performing summation and multiplication of all the elements in `nums` and return the value\n",
        "- `get_new_Numbers` that takes arbitrary number of integers using user input (: take multiple integers separated by space) and assign it to the instance variable `nums`\n",
        "  - note that the user input needs to be converted to a tuple (or a list) of integers \n",
        "\n",
        "Result:\n",
        "```\n",
        "cal = G_Calculator(1,2,3,4,5)\n",
        "print(cal.sums())\n",
        "print(cal.products())\n",
        ">>>\n",
        "15\n",
        "120\n",
        "```\n",
        "```\n",
        "cal.get_new_Numbers()\n",
        "print(cal.sums())\n",
        "print(cal.products())\n",
        ">>>\n",
        "Enter numbers separated by space: >>> 1 3 6 4\n",
        "14\n",
        "72\n",
        "```"
      ]
    },
    {
      "cell_type": "code",
      "metadata": {
        "id": "HsrrZdzXjGez"
      },
      "source": [
        "# create G_Calculator class\n",
        "class G_Calculator:\n",
        "\n",
        "    def __init__(self, *numbers):\n",
        "        self.nums = numbers # tuple 타입의 데이터\n",
        "\n",
        "        \n",
        "    def sums(self):\n",
        "        \n",
        "        result = 0\n",
        "        for i in self.nums:\n",
        "            result += i\n",
        "        return result\n",
        "        #sum(nums)\n",
        "        \n",
        "    def products(self):\n",
        "        result = 1\n",
        "        for i in self.nums:\n",
        "            result *= i\n",
        "        return result\n",
        "\n",
        "    def get_new_Numbers(self):\n",
        "        numbers = input('Enter numbers separated by space: >>> ')\n",
        "        self.nums = [int(i) for i in numbers.split()]"
      ],
      "execution_count": null,
      "outputs": []
    },
    {
      "cell_type": "code",
      "metadata": {
        "id": "ony5f_wijrGg",
        "colab": {
          "base_uri": "https://localhost:8080/"
        },
        "outputId": "30df4899-8b0e-47f9-91ee-987f4aeb8a6a"
      },
      "source": [
        "# check your code:\n",
        "cal = G_Calculator(1,2,3,4,5)\n",
        "print(cal.sums())\n",
        "print(cal.products())"
      ],
      "execution_count": null,
      "outputs": [
        {
          "output_type": "stream",
          "name": "stdout",
          "text": [
            "15\n",
            "120\n"
          ]
        }
      ]
    },
    {
      "cell_type": "code",
      "metadata": {
        "id": "d0uQKUt1kscs",
        "colab": {
          "base_uri": "https://localhost:8080/"
        },
        "outputId": "d519cf76-0011-4bd8-9df6-28c24c4f6e8b"
      },
      "source": [
        "# check your code:\n",
        "cal.get_new_Numbers()\n",
        "print(cal.sums())\n",
        "print(cal.products())"
      ],
      "execution_count": null,
      "outputs": [
        {
          "output_type": "stream",
          "name": "stdout",
          "text": [
            "Enter numbers separated by space: >>> 1 3 6 4\n",
            "14\n",
            "72\n"
          ]
        }
      ]
    },
    {
      "cell_type": "markdown",
      "metadata": {
        "id": "pF1JgfttKnw2"
      },
      "source": [
        "### E-4\n",
        "\n",
        "Create a class for the implementation of the `Queue` data structure. \n",
        "\n",
        "**instance variable**\n",
        "  - `queue`: a list\n",
        "  - `max_size`: max size of the queue\n",
        "\n",
        "**instance methods**\n",
        "- `size`: return the current size of the queue list \n",
        "- `isEmpty`: return the boolean that tells the queue is empty\n",
        "- `isFull`: return the boolean that tells the queue is full (no more space to store elements)\n",
        "- `enqueue`: adds an element to the end (leftmost) of the queue\n",
        "  - note that we can use `insert` method of the list to add an element to the leftmost position of the list \n",
        "  - if the queue has no more space, we just need to print some message \"Queue is Full\"\n",
        "- `dequeue`: removes an item from the front end (rightmost) of the queue\n",
        "  - note that we can use `pop` method of the list to remove the rightmost element of the list\n",
        "  - if the queue is empty, we just need to print a message \"Queue is Emtpy\"\n",
        "\n",
        "- `print_queue`: prints the queue status\n",
        "\n",
        "\n",
        "Test Result:\n",
        "```\n",
        "myQueue = Queue(6) \n",
        "myQueue.print_queue()\n",
        "\n",
        "myQueue.enqueue(4)\n",
        "myQueue.enqueue(5)\n",
        "myQueue.print_queue()\n",
        "\n",
        "myQueue.enqueue('q')\n",
        "myQueue.enqueue('u')\n",
        "myQueue.enqueue('e')\n",
        "\n",
        "myQueue.dequeue()\n",
        "myQueue.print_queue()\n",
        "\n",
        "myQueue.enqueue('u')\n",
        "myQueue.enqueue('e')\n",
        "myQueue.print_queue()\n",
        "\n",
        "myQueue.enqueue(1)\n",
        "myQueue.print_queue()\n",
        "\n",
        "myQueue.dequeue()\n",
        "myQueue.dequeue()\n",
        "myQueue.print_queue()\n",
        ">>>\n",
        "[]\n",
        "[5, 4]\n",
        "['e', 'u', 'q', 5]\n",
        "['e', 'u', 'e', 'u', 'q', 5]\n",
        "Queue is Full\n",
        "['e', 'u', 'e', 'u', 'q', 5]\n",
        "['e', 'u', 'e', 'u']\n",
        "```"
      ]
    },
    {
      "cell_type": "code",
      "metadata": {
        "id": "5lEBPPAhGj0p"
      },
      "source": [
        "# create Queue class\n",
        "class Queue:\n",
        "  # constructor\n",
        "  \n",
        "  def __init__(self, max_size):\n",
        "      self.max_size = max_size\n",
        "      self.queue = []\n",
        "\n",
        "  # instance method: size\n",
        "  def size(self):\n",
        "      return len(self.queue)\n",
        "\n",
        "  # instance method: isEmpty\n",
        "  def isEmpty(self):\n",
        "      return self.queue == []\n",
        "      \n",
        "\n",
        "\n",
        "  # instance method: isFull\n",
        "  def isFull(self):\n",
        "      return self.size() == self.max_size\n",
        "\n",
        "  # instance method: enqueue\n",
        "  def enqueue(self, element):\n",
        "      if self.isFull() == False:\n",
        "        self.queue.insert(0, element)\n",
        "      else:\n",
        "          print('Queue is Full')\n",
        "\n",
        "  # instance method: dequeue\n",
        "  def dequeue(self):\n",
        "      if self.isEmpty() == False:\n",
        "        #del self.queue[-1]\n",
        "        self.queue.pop()\n",
        "      else:\n",
        "          print('Queue is Empty')\n",
        "\n",
        "  # instance method: print_queue\n",
        "  def print_queue(self):\n",
        "    print(self.queue)"
      ],
      "execution_count": null,
      "outputs": []
    },
    {
      "cell_type": "code",
      "metadata": {
        "id": "WPj_FnZCQfRx",
        "colab": {
          "base_uri": "https://localhost:8080/"
        },
        "outputId": "008897b8-1b63-4a18-bff7-6cc45b43e654"
      },
      "source": [
        "# check your code\n",
        "myQueue = Queue(6) # create a queue object that has maximum size of 6 \n",
        "myQueue.print_queue()\n",
        "\n",
        "myQueue.enqueue(4)\n",
        "myQueue.enqueue(5)\n",
        "myQueue.print_queue()\n",
        "\n",
        "myQueue.enqueue('q')\n",
        "myQueue.enqueue('u')\n",
        "myQueue.enqueue('e')\n",
        "\n",
        "myQueue.dequeue()\n",
        "myQueue.print_queue()\n",
        "\n",
        "myQueue.enqueue('u')\n",
        "myQueue.enqueue('e')\n",
        "myQueue.print_queue()\n",
        "\n",
        "myQueue.enqueue(1)\n",
        "myQueue.print_queue()\n",
        "\n",
        "myQueue.dequeue()\n",
        "myQueue.dequeue()\n",
        "myQueue.print_queue()"
      ],
      "execution_count": null,
      "outputs": [
        {
          "output_type": "stream",
          "name": "stdout",
          "text": [
            "[]\n",
            "[5, 4]\n",
            "['e', 'u', 'q', 5]\n",
            "['e', 'u', 'e', 'u', 'q', 5]\n",
            "Queue is Full\n",
            "['e', 'u', 'e', 'u', 'q', 5]\n",
            "['e', 'u', 'e', 'u']\n"
          ]
        }
      ]
    }
  ]
}