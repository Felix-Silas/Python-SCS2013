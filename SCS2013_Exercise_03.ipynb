{
  "nbformat": 4,
  "nbformat_minor": 0,
  "metadata": {
    "colab": {
      "provenance": [],
      "collapsed_sections": [],
      "toc_visible": true
    },
    "kernelspec": {
      "name": "python3",
      "display_name": "Python 3"
    },
    "language_info": {
      "name": "python"
    }
  },
  "cells": [
    {
      "cell_type": "markdown",
      "metadata": {
        "id": "EzZiRhCEg1JC"
      },
      "source": [
        "# SCS2013 Exercise 03 (2022 Fall)\n",
        "\n",
        "**This exercise notebook will go through the \"Strings\" in Python:**\n",
        "\n",
        "* Create strings \n",
        "* String operators \n",
        "* String formatting\n",
        "* String indexing, slicing, striding\n",
        "* String methods \n",
        "\n"
      ]
    },
    {
      "cell_type": "markdown",
      "metadata": {
        "id": "SILcODfCinqu"
      },
      "source": [
        "## Create Strings \n",
        "\n",
        "* Python strings have powerful text-processing features. Strings are created by using **quotes** with texts in between. \n",
        "The quotes used can be either \n",
        "  - i) single **`' '`** 작은따옴표\n",
        "  - ii) double **`\" \"`** 큰따옴표\n",
        "  - iii) three single quotes **`'''  '''`** 작은따옴표 3개 연속\n",
        "  - iv) three double quotes **`\"\"\" \"\"\"`** 큰따옴표 3개 연속\n",
        "\n",
        "* Escape character (이스케이프 코드): backslash `\\` 뒤에 문자가 오는 조합\n",
        "  - `\\\\`: backslash\n",
        "  - `\\'`, `\\\"`: single quote, double quote\n",
        "  - `\\n`, `\\t`: new line, tab\n"
      ]
    },
    {
      "cell_type": "code",
      "metadata": {
        "id": "p5ma93O5P-RB",
        "colab": {
          "base_uri": "https://localhost:8080/"
        },
        "outputId": "976a35a0-733b-4ef0-c38f-3024b7b014c0"
      },
      "source": [
        "print('Create string 1: SCS2013 Exercise 03')\n",
        "print(\"Create string 2: SCS2013 Exercise 03\")\n",
        "print('''Create string 3: SCS2013 Exercies 03''')\n",
        "print(\"\"\"Create string 4: SCS2013 Exercise 03\"\"\")\n",
        "\n",
        "print(type('This is String'))"
      ],
      "execution_count": null,
      "outputs": [
        {
          "output_type": "stream",
          "name": "stdout",
          "text": [
            "Create string 1: SCS2013 Exercise 03\n",
            "Create string 2: SCS2013 Exercise 03\n",
            "Create string 3: SCS2013 Exercies 03\n",
            "Create string 4: SCS2013 Exercise 03\n",
            "<class 'str'>\n"
          ]
        }
      ]
    },
    {
      "cell_type": "markdown",
      "metadata": {
        "id": "aazAqWr9RBdZ"
      },
      "source": [
        "How to create a string \n",
        "A) `I'm good.` B) `\"Python is very easy.\" He says.` and C) `John's favorite food is Pizza.`\n",
        "\n",
        "How to create a string with multiple lines:\n",
        "\n",
        "`ABCDE`\n",
        "\n",
        "`FGH`\n",
        "\n",
        "`\"last\"`\n"
      ]
    },
    {
      "cell_type": "code",
      "metadata": {
        "id": "dSLDdt38Q8RZ"
      },
      "source": [
        "# A) I'm good.\n",
        "# print('I'm good.') 안 됨"
      ],
      "execution_count": null,
      "outputs": []
    },
    {
      "cell_type": "code",
      "metadata": {
        "id": "B9NxYrrkRcsi",
        "colab": {
          "base_uri": "https://localhost:8080/"
        },
        "outputId": "a8c0fe34-28fb-4227-bf5f-2744c8eec026"
      },
      "source": [
        "# A) I'm good.\n",
        "print(\"I'm good\")\n",
        "print('''I'm good''')\n",
        "print(\"\"\"I'm good\"\"\")\n",
        "print('I\\'m good')"
      ],
      "execution_count": null,
      "outputs": [
        {
          "output_type": "stream",
          "name": "stdout",
          "text": [
            "I'm good\n",
            "I'm good\n",
            "I'm good\n",
            "I'm good\n"
          ]
        }
      ]
    },
    {
      "cell_type": "code",
      "metadata": {
        "id": "YFC-Nka7Ru7i",
        "colab": {
          "base_uri": "https://localhost:8080/"
        },
        "outputId": "5f8fd5a4-b366-4c21-ed78-ac0ec418504c"
      },
      "source": [
        "# B) \"Python is very easy.\" He says.\n",
        "print('\"Python is very easy.\" He says.')\n",
        "print('''\"Python is very easy.\" He says.''')\n",
        "print(\"\\\"Python is very easy.\\\" He says.\")"
      ],
      "execution_count": null,
      "outputs": [
        {
          "output_type": "stream",
          "name": "stdout",
          "text": [
            "\"Python is very easy.\" He says.\n",
            "\"Python is very easy.\" He says.\n",
            "\"Python is very easy.\" He says.\n"
          ]
        }
      ]
    },
    {
      "cell_type": "code",
      "metadata": {
        "id": "qm-9PYC3Sb2B",
        "colab": {
          "base_uri": "https://localhost:8080/"
        },
        "outputId": "1606ecff-b145-4fd8-9f62-1ca86716efa0"
      },
      "source": [
        "# C) John's favorite food is Pizza.\n",
        "print(\"John's favorite food is Pizza.\")\n",
        "print(\"\"\"John's favorite food is Pizza.\"\"\")\n",
        "print('John\\'s favorite food is ')"
      ],
      "execution_count": null,
      "outputs": [
        {
          "output_type": "stream",
          "name": "stdout",
          "text": [
            "John's favorite food is Pizza.\n",
            "John's favorite food is Pizza.\n",
            "John's favorite food is \n"
          ]
        }
      ]
    },
    {
      "cell_type": "code",
      "source": [
        "# D) multiple lines\n",
        "print('''ABCDE\n",
        "FGH\n",
        "\"last\"'''\n",
        ")\n",
        "\n",
        "print('''ABCDE\\nFGH\\n\"last\"''')"
      ],
      "metadata": {
        "id": "E488u-2hkItZ",
        "colab": {
          "base_uri": "https://localhost:8080/"
        },
        "outputId": "4ed10f7d-2f36-40b9-ec7d-9af667fc378e"
      },
      "execution_count": null,
      "outputs": [
        {
          "output_type": "stream",
          "name": "stdout",
          "text": [
            "ABCDE\n",
            "FGH\n",
            "\"last\"\n",
            "ABCDE\n",
            "FGH\n",
            "\"last\"\n"
          ]
        }
      ]
    },
    {
      "cell_type": "code",
      "source": [
        "# String operators '+', '*'\n",
        "str1 = \"Hi\"\n",
        "str2 = \"!\"\n",
        "print(str1 + str2)\n",
        "\n",
        "int1 = 5\n",
        "print(str1 + str2*int1)"
      ],
      "metadata": {
        "id": "-5e4bFnpl035",
        "colab": {
          "base_uri": "https://localhost:8080/"
        },
        "outputId": "0e224733-37b2-4162-c50c-dd91e15813a2"
      },
      "execution_count": null,
      "outputs": [
        {
          "output_type": "stream",
          "name": "stdout",
          "text": [
            "Hi!\n",
            "Hi!!!!!\n"
          ]
        }
      ]
    },
    {
      "cell_type": "markdown",
      "metadata": {
        "id": "sn3HP0NeUz1N"
      },
      "source": [
        "## String Formatting: **% operator**, **.format()**, **f-string** methods\n",
        "\n",
        "Let's check out some exercises to uderstand `% operator`, `.format()`, `f-string` methods better.\n",
        "\n",
        "* 1) **% operator**: \bformat specifier를 사용하여 특정 부분을 원하는 형식으로 표현 \n",
        "  - `%s`: string, `%c`: character, `%d`: integer, `%f`: floating point, `%%`: % character\n",
        "\n",
        "* 2) **.format()**: `{}`와 `.format()`을 사용해 원하는 형식을 표현\n",
        "  - `{}`으로 원하는 부분을 명시: 순서를 매기거나 (index) 이름을 붙일 수 있음 \n",
        "\n",
        "* 3) **f-string**: `f' '`와 `{}`을 사용해 원하는 형식을 표현\n",
        "  \n",
        "* 정렬, 공백 채우기, 자리수 지정하기\n",
        "  - `:<10`, `:>10`, `:^10`: 왼쪽, 오른쪽, 가운데 정렬\n",
        "  - `:a<10`, `:a>10`, `:a^10`: 정렬 & 공백을 a로 채움\n",
        "  - `:A.Bf`: 전체 자릿수 A (소수점 . 을 포함), 소수점 아래 B자리\n",
        "\n"
      ]
    },
    {
      "cell_type": "code",
      "metadata": {
        "id": "n3SBKQncZ-nP",
        "colab": {
          "base_uri": "https://localhost:8080/"
        },
        "outputId": "4beb005f-5c0a-47ee-9092-856a0e14c7c6"
      },
      "source": [
        "# 1 \n",
        "name = \"Bob\"\n",
        "str_old = \"Hello! %s!!\" % name\n",
        "print(str_old)"
      ],
      "execution_count": null,
      "outputs": [
        {
          "output_type": "stream",
          "name": "stdout",
          "text": [
            "Hello! Bob!!\n"
          ]
        }
      ]
    },
    {
      "cell_type": "code",
      "metadata": {
        "id": "XtfxVNrOWIF6",
        "colab": {
          "base_uri": "https://localhost:8080/"
        },
        "outputId": "74679d24-2a4e-44fb-d57e-c71d99b8ba9c"
      },
      "source": [
        "# 2\n",
        "name = \"Bob\"\n",
        "str_format = \"Hello! {}!!\".format(name)\n",
        "print(str_format)"
      ],
      "execution_count": null,
      "outputs": [
        {
          "output_type": "stream",
          "name": "stdout",
          "text": [
            "Hello! Bob!!\n"
          ]
        }
      ]
    },
    {
      "cell_type": "code",
      "metadata": {
        "id": "IFsRdK_DaEJh",
        "colab": {
          "base_uri": "https://localhost:8080/"
        },
        "outputId": "d8b123cc-edd3-4be6-d56e-3933694b46a2"
      },
      "source": [
        "# 3\n",
        "name = \"Bob\"\n",
        "str_f = f\"Hello! {name}!!\"\n",
        "print(str_f)"
      ],
      "execution_count": null,
      "outputs": [
        {
          "output_type": "stream",
          "name": "stdout",
          "text": [
            "Hello! Bob!!\n"
          ]
        }
      ]
    },
    {
      "cell_type": "code",
      "metadata": {
        "id": "hXPHRQ1bWSNY",
        "colab": {
          "base_uri": "https://localhost:8080/"
        },
        "outputId": "62822d95-d068-4002-d258-f1a9a309c4ee"
      },
      "source": [
        "# print the number 5 only\n",
        "\n",
        "print('%d' % 5)\n",
        "print('{}'.format(5))\n",
        "print(f'{5}')"
      ],
      "execution_count": null,
      "outputs": [
        {
          "output_type": "stream",
          "name": "stdout",
          "text": [
            "5\n",
            "5\n",
            "5\n"
          ]
        }
      ]
    },
    {
      "cell_type": "markdown",
      "metadata": {
        "id": "XFAbMQtXVfBf"
      },
      "source": [
        "### Multiple values\n",
        "\n",
        "If we want to fill multiple values, we can use multiple curly brackets or multiple % operators.\n",
        "\n",
        "Print the numbers `1`, `10.0`, `100` each separated with a comma."
      ]
    },
    {
      "cell_type": "code",
      "metadata": {
        "id": "fdsrTMcMaeV8",
        "colab": {
          "base_uri": "https://localhost:8080/"
        },
        "outputId": "94ac63e5-30ab-4047-fee3-e2ead9ef0ae5"
      },
      "source": [
        "my_str = 'Print the numbers: %d, %f and %d' %(1, 10, 100)\n",
        "print(my_str)"
      ],
      "execution_count": null,
      "outputs": [
        {
          "output_type": "stream",
          "name": "stdout",
          "text": [
            "Print the numbers: 1, 10.000000 and 100\n"
          ]
        }
      ]
    },
    {
      "cell_type": "code",
      "metadata": {
        "id": "pAOglKW_Uzaz",
        "colab": {
          "base_uri": "https://localhost:8080/"
        },
        "outputId": "5968f034-7221-4f0f-91fc-f7f61300c9d4"
      },
      "source": [
        "my_str = 'Print the numbers: {0}, {1} and {2}'.format(1, 10, 100)\n",
        "print(my_str)\n",
        "\n",
        "my_str = 'Print the numbers: {0}, {1:f} and {2}'.format(1, 10, 100)\n",
        "print(my_str)"
      ],
      "execution_count": null,
      "outputs": [
        {
          "output_type": "stream",
          "name": "stdout",
          "text": [
            "Print the numbers: 1, 10 and 100\n",
            "Print the numbers: 1, 10.000000 and 100\n"
          ]
        }
      ]
    },
    {
      "cell_type": "code",
      "metadata": {
        "id": "ojKwfVkWXNJt",
        "colab": {
          "base_uri": "https://localhost:8080/"
        },
        "outputId": "75d3b9a4-35a8-4829-9cd3-1cc85aff3384"
      },
      "source": [
        "my_str = 'Print the numbers: {no1}, {no2} and {no3}'.format(no2=10.0, no1=1, no3=100)\n",
        "print(my_str)\n",
        "\n",
        "inta = 1\n",
        "intb = 10\n",
        "intc = 100\n",
        "\n",
        "my_str = 'Print the numbers: {no1:d}, {no2:f} and {no3}'.format(no2=intb, no1=inta, no3=intc)\n",
        "print(my_str)"
      ],
      "execution_count": null,
      "outputs": [
        {
          "output_type": "stream",
          "name": "stdout",
          "text": [
            "Print the numbers: 1, 10.0 and 100\n",
            "Print the numbers: 1, 10.000000 and 100\n"
          ]
        }
      ]
    },
    {
      "cell_type": "code",
      "metadata": {
        "id": "3QncyOAPakdp",
        "colab": {
          "base_uri": "https://localhost:8080/"
        },
        "outputId": "e8b8950d-eb94-4be6-db71-12b9caac212d"
      },
      "source": [
        "my_str = f'Print the numbers: {1}, {10.0} and {100}'\n",
        "print(my_str)"
      ],
      "execution_count": null,
      "outputs": [
        {
          "output_type": "stream",
          "name": "stdout",
          "text": [
            "Print the numbers: 1, 10.0 and 100\n"
          ]
        }
      ]
    },
    {
      "cell_type": "markdown",
      "metadata": {
        "id": "u21-k7vocgEI"
      },
      "source": [
        "### How to format numbers\n",
        "\n",
        "A common problem with printing numbers is specifying the number of decimal places. Try these examples:"
      ]
    },
    {
      "cell_type": "code",
      "metadata": {
        "id": "RRMwTEk8c2IS",
        "colab": {
          "base_uri": "https://localhost:8080/"
        },
        "outputId": "6fa52f6f-5407-466e-ba05-1e20204e58c8"
      },
      "source": [
        "value = 4054.3\n",
        "print(value)"
      ],
      "execution_count": null,
      "outputs": [
        {
          "output_type": "stream",
          "name": "stdout",
          "text": [
            "4054.3\n"
          ]
        }
      ]
    },
    {
      "cell_type": "code",
      "metadata": {
        "id": "sRpyE164dJ6u",
        "colab": {
          "base_uri": "https://localhost:8080/"
        },
        "outputId": "c3d45f7c-a365-496f-e3a7-06897f503234"
      },
      "source": [
        "# decimal places\n",
        "print('!%.4f!' % value)\n",
        "print('!%15.2f!' % value)\n",
        "print('!%-15.2f!' % value)"
      ],
      "execution_count": null,
      "outputs": [
        {
          "output_type": "stream",
          "name": "stdout",
          "text": [
            "!4054.3000!\n",
            "!        4054.30!\n",
            "!4054.30        !\n"
          ]
        }
      ]
    },
    {
      "cell_type": "code",
      "source": [
        "day = 'Today'\n",
        "print('{}\\'s temperature: {:d}°C'.format(day, 100))\n",
        "print('{0}\\'s temperature: {1:d}°C'.format(day, 100))\n",
        "print('{1}\\'s temperature: {0:d}°C'.format(100, day))\n",
        "print('{}\\'s temperature: {:.3f}°C'.format(day, 100))\n",
        "\n",
        "print('{}\\'s temperature: {:>10.3f}°C'.format(day, 100))\n",
        "print('{}\\'s temperature: {:<10.3f}°C'.format(day, 100))\n",
        "print('{}\\'s temperature: {:^10.3f}°C'.format(day, 100))"
      ],
      "metadata": {
        "id": "NRhAOFHsiH24",
        "colab": {
          "base_uri": "https://localhost:8080/"
        },
        "outputId": "c198b93f-09f5-49ae-8aa2-dc8f1b0a83fb"
      },
      "execution_count": null,
      "outputs": [
        {
          "output_type": "stream",
          "name": "stdout",
          "text": [
            "Today's temperature: 100°C\n",
            "Today's temperature: 100°C\n",
            "Today's temperature: 100°C\n",
            "Today's temperature: 100.000°C\n",
            "Today's temperature:    100.000°C\n",
            "Today's temperature: 100.000   °C\n",
            "Today's temperature:  100.000  °C\n"
          ]
        }
      ]
    },
    {
      "cell_type": "code",
      "metadata": {
        "id": "4G6p29UUc5tJ",
        "colab": {
          "base_uri": "https://localhost:8080/"
        },
        "outputId": "1574d3c7-8abc-4cd8-b3ce-81223027f084"
      },
      "source": [
        "print(f'1: {value}')\n",
        "print(f'2: {value:f}')\n",
        "print(f'3: {value:0.4f}')\n",
        "print(f'4: {value:>15.2f}')\n",
        "print(f'5: {value:<15.2f}')\n",
        "print(f'6: {value:*>15.2f}')"
      ],
      "execution_count": null,
      "outputs": [
        {
          "output_type": "stream",
          "name": "stdout",
          "text": [
            "1: 4054.3\n",
            "2: 4054.300000\n",
            "3: 4054.3000\n",
            "4:         4054.30\n",
            "5: 4054.30        \n",
            "6: ********4054.30\n"
          ]
        }
      ]
    },
    {
      "cell_type": "markdown",
      "metadata": {
        "id": "urFTsu8idpQ5"
      },
      "source": [
        "## String Indexing, Slicing and Striding\n",
        "\n",
        "* **Indexing**: starts from `0` - from left to right\n",
        "  - negative index starts from `-1` - from right to left\n",
        "* **Slicing**: `my_str[start index: end index]` - it includes the character at `start index`, but not the character at `end index`.\n",
        "* **Striding**: `my_str[start index: end index: striding number]` - it also includes the character at `start index` but not the character at `end index`."
      ]
    },
    {
      "cell_type": "code",
      "metadata": {
        "id": "EKWpwdeJeTLi",
        "colab": {
          "base_uri": "https://localhost:8080/"
        },
        "outputId": "70a080f5-37ba-46b0-bffe-c231b4ee574c"
      },
      "source": [
        "my_str = \"Hello World\"\n",
        "print(my_str)"
      ],
      "execution_count": null,
      "outputs": [
        {
          "output_type": "stream",
          "name": "stdout",
          "text": [
            "Hello World\n"
          ]
        }
      ]
    },
    {
      "cell_type": "code",
      "metadata": {
        "id": "U8ScXHRpeYaC",
        "colab": {
          "base_uri": "https://localhost:8080/"
        },
        "outputId": "230c6dc4-1522-4aa7-d6e5-7015e27d1a4e"
      },
      "source": [
        "# Hello World\n",
        "# 012345678910\n",
        "print(my_str[0])\n",
        "print(my_str[4])\n",
        "print(my_str[9])\n",
        "\n",
        "print(my_str[-1])\n",
        "print(my_str[-7])"
      ],
      "execution_count": null,
      "outputs": [
        {
          "output_type": "stream",
          "name": "stdout",
          "text": [
            "H\n",
            "o\n",
            "l\n",
            "d\n",
            "o\n"
          ]
        }
      ]
    },
    {
      "cell_type": "code",
      "metadata": {
        "id": "miy8a7Ghel_L",
        "colab": {
          "base_uri": "https://localhost:8080/"
        },
        "outputId": "310523ff-07e0-407d-a481-b462e1126ce4"
      },
      "source": [
        "print(my_str)\n",
        "\n",
        "print(my_str[0:3])\n",
        "print(my_str[:7])\n",
        "print(my_str[5:])\n",
        "print(my_str[4:-2])\n",
        "print(my_str[1:4] + my_str[-5:9])"
      ],
      "execution_count": null,
      "outputs": [
        {
          "output_type": "stream",
          "name": "stdout",
          "text": [
            "Hello World\n",
            "Hel\n",
            "Hello W\n",
            " World\n",
            "o Wor\n",
            "ellWor\n"
          ]
        }
      ]
    },
    {
      "cell_type": "code",
      "metadata": {
        "id": "cC4yhUQ6fdoa",
        "colab": {
          "base_uri": "https://localhost:8080/"
        },
        "outputId": "ef5e9520-49bc-40b1-9717-b9a0baaa8bba"
      },
      "source": [
        "print(my_str[0:7:2])\n",
        "print(my_str[::3])\n",
        "print(my_str[::-1])"
      ],
      "execution_count": null,
      "outputs": [
        {
          "output_type": "stream",
          "name": "stdout",
          "text": [
            "HloW\n",
            "HlWl\n",
            "dlroW olleH\n"
          ]
        }
      ]
    },
    {
      "cell_type": "markdown",
      "metadata": {
        "id": "IQLRL8XmhWX_"
      },
      "source": [
        "## String Methods\n",
        "\n",
        "There are many in-built string methods in Python. Let's try out some exercises!\n",
        "- example: `my_str.count('a')`\n",
        "\n",
        "**Note**: All string methods returns new values. **They do not change the original string.**"
      ]
    },
    {
      "cell_type": "code",
      "metadata": {
        "id": "y_IxzepfhyVI",
        "colab": {
          "base_uri": "https://localhost:8080/"
        },
        "outputId": "51484599-3961-4686-ba4d-d0ce93b37399"
      },
      "source": [
        "my_str = \"Hello World. Attention please.\"\n",
        "print(my_str)"
      ],
      "execution_count": null,
      "outputs": [
        {
          "output_type": "stream",
          "name": "stdout",
          "text": [
            "Hello World. Attention please.\n"
          ]
        }
      ]
    },
    {
      "cell_type": "code",
      "metadata": {
        "id": "kNJJFN41h1HU",
        "colab": {
          "base_uri": "https://localhost:8080/"
        },
        "outputId": "e5fc35db-127c-4a6f-e79e-1a5782a01bb7"
      },
      "source": [
        "# .count()\n",
        "print(my_str.count('l'))\n",
        "print(my_str.count('e'))\n",
        "print(my_str.count('ea'))\n",
        "print(my_str)"
      ],
      "execution_count": null,
      "outputs": [
        {
          "output_type": "stream",
          "name": "stdout",
          "text": [
            "4\n",
            "4\n",
            "1\n",
            "Hello World. Attention please.\n"
          ]
        }
      ]
    },
    {
      "cell_type": "code",
      "metadata": {
        "id": "FA0iTRHMh3L8",
        "colab": {
          "base_uri": "https://localhost:8080/"
        },
        "outputId": "3e419fc8-cb9b-40a0-f75d-4b9e5580ea6c"
      },
      "source": [
        "# .find(), .index()\n",
        "\n",
        "print(my_str.find('o'))\n",
        "print(my_str.find('lo'))\n",
        "print(my_str.find('y'))\n",
        "\n",
        "print(my_str.index('o'))\n",
        "print(my_str.index('lo'))\n",
        "#print(my_str.index('y'))"
      ],
      "execution_count": null,
      "outputs": [
        {
          "output_type": "stream",
          "name": "stdout",
          "text": [
            "4\n",
            "3\n",
            "-1\n",
            "4\n",
            "3\n"
          ]
        }
      ]
    },
    {
      "cell_type": "code",
      "source": [
        "# .join()\n",
        "\n",
        "new_str = '+'.join(my_str)\n",
        "print(my_str)\n",
        "print(new_str)"
      ],
      "metadata": {
        "id": "SfCFAUXQkFxR",
        "colab": {
          "base_uri": "https://localhost:8080/"
        },
        "outputId": "8423e72e-a3cc-464b-c196-0989f87dc33a"
      },
      "execution_count": null,
      "outputs": [
        {
          "output_type": "stream",
          "name": "stdout",
          "text": [
            "Hello World. Attention please.\n",
            "H+e+l+l+o+ +W+o+r+l+d+.+ +A+t+t+e+n+t+i+o+n+ +p+l+e+a+s+e+.\n"
          ]
        }
      ]
    },
    {
      "cell_type": "code",
      "metadata": {
        "id": "UmXJf5CPiHcL",
        "colab": {
          "base_uri": "https://localhost:8080/"
        },
        "outputId": "fbafcf87-ec18-4340-cd69-fb9abe69d0f9"
      },
      "source": [
        "# .replace()\n",
        "\n",
        "print(my_str.replace('World','Guys'))\n",
        "print(my_str.replace('Hello', 'Hi'))\n",
        "\n",
        "print(my_str)"
      ],
      "execution_count": null,
      "outputs": [
        {
          "output_type": "stream",
          "name": "stdout",
          "text": [
            "Hello Guys. Attention please.\n",
            "Hi World. Attention please.\n",
            "Hello World. Attention please.\n"
          ]
        }
      ]
    },
    {
      "cell_type": "code",
      "metadata": {
        "id": "NApowHTMiYbG",
        "colab": {
          "base_uri": "https://localhost:8080/"
        },
        "outputId": "6e68d3f6-ac16-4af5-8fb8-2205c3342152"
      },
      "source": [
        "# .split()\n",
        "\n",
        "print(my_str)\n",
        "print(my_str.split())\n",
        "print(my_str.split('l'))"
      ],
      "execution_count": null,
      "outputs": [
        {
          "output_type": "stream",
          "name": "stdout",
          "text": [
            "Hello World. Attention please.\n",
            "['Hello', 'World.', 'Attention', 'please.']\n",
            "['He', '', 'o Wor', 'd. Attention p', 'ease.']\n"
          ]
        }
      ]
    },
    {
      "cell_type": "code",
      "metadata": {
        "id": "9sYQY6w7igpx",
        "colab": {
          "base_uri": "https://localhost:8080/"
        },
        "outputId": "27074866-9e3f-45f4-dd37-9aab4b8cca8b"
      },
      "source": [
        "# .split()\n",
        "str2 = 'Ally, Bob, Charlie, David, John'\n",
        "str2.split(',')"
      ],
      "execution_count": null,
      "outputs": [
        {
          "output_type": "execute_result",
          "data": {
            "text/plain": [
              "['Ally', ' Bob', ' Charlie', ' David', ' John']"
            ]
          },
          "metadata": {},
          "execution_count": 30
        }
      ]
    },
    {
      "cell_type": "code",
      "metadata": {
        "id": "Jqpx9e-xisnM",
        "colab": {
          "base_uri": "https://localhost:8080/"
        },
        "outputId": "37821eba-8454-474c-be1a-5a5822f54eaa"
      },
      "source": [
        "# .strip(), .lstrip(), .rstrip()\n",
        "\n",
        "str3 = '   Hello   hi!   '\n",
        "print(str3)\n",
        "\n",
        "print(str3.strip()) # 양쪽 공백 사라짐\n",
        "print(str3.lstrip()) # 왼쪽 공백 사라짐\n",
        "print(str3.rstrip()) # 오른쪽 공백 사라짐"
      ],
      "execution_count": null,
      "outputs": [
        {
          "output_type": "stream",
          "name": "stdout",
          "text": [
            "   Hello   hi!   \n",
            "Hello   hi!\n",
            "Hello   hi!   \n",
            "   Hello   hi!\n"
          ]
        }
      ]
    },
    {
      "cell_type": "code",
      "source": [
        "# .upper(), .lower(), .capitalize()\n",
        "my_str = \"Hello World\"\n",
        "print(my_str)\n",
        "\n",
        "print(my_str.upper())\n",
        "print(my_str.lower())\n",
        "\n",
        "my_str = \"hi everyone\"\n",
        "print(my_str)\n",
        "print(my_str.capitalize())"
      ],
      "metadata": {
        "id": "EbjMr_m6MDwI",
        "colab": {
          "base_uri": "https://localhost:8080/"
        },
        "outputId": "c5a5d951-a346-41b6-b54c-3572148f6c08"
      },
      "execution_count": null,
      "outputs": [
        {
          "output_type": "stream",
          "name": "stdout",
          "text": [
            "Hello World\n",
            "HELLO WORLD\n",
            "hello world\n",
            "hi everyone\n",
            "Hi everyone\n"
          ]
        }
      ]
    },
    {
      "cell_type": "code",
      "source": [
        "# len()\n",
        "my_str = \"Hello World\"\n",
        "print(len(my_str))"
      ],
      "metadata": {
        "id": "Q24bAVmJNGNF",
        "colab": {
          "base_uri": "https://localhost:8080/"
        },
        "outputId": "e11c2d95-eeda-4a35-893c-45176c347aa0"
      },
      "execution_count": null,
      "outputs": [
        {
          "output_type": "stream",
          "name": "stdout",
          "text": [
            "11\n"
          ]
        }
      ]
    },
    {
      "cell_type": "markdown",
      "metadata": {
        "id": "2TPK2djhhQnU"
      },
      "source": [
        "## Exercise\n"
      ]
    },
    {
      "cell_type": "markdown",
      "metadata": {
        "id": "r7Wl2Xq8pUph"
      },
      "source": [
        "### E-1\n",
        "\n",
        "Assign the string below to the variables `my_str1`, `my_str2`, `my_str3` using three different ways:\n",
        "\n",
        "`\"It's always darkest before dawn.\"`\n"
      ]
    },
    {
      "cell_type": "code",
      "metadata": {
        "id": "zjwZhgjJilkN",
        "colab": {
          "base_uri": "https://localhost:8080/"
        },
        "outputId": "159e39a2-444a-4443-918e-3a03b2287390"
      },
      "source": [
        "# your code here:\n",
        "my_str1 = '''\"It's always darkest before dawn.\"'''\n",
        "print(my_str1)\n",
        "\n",
        "my_str2 = '\\\"It\\'s always darkest before dawn.\\\"'\n",
        "print(my_str2)\n",
        "\n",
        "my_str3 = \"\"\"\\\"It's always darkest before dawn.\\\"\"\"\"\n",
        "print(my_str3)"
      ],
      "execution_count": null,
      "outputs": [
        {
          "output_type": "stream",
          "name": "stdout",
          "text": [
            "\"It's always darkest before dawn.\"\n",
            "\"It's always darkest before dawn.\"\n",
            "\"It's always darkest before dawn.\"\n"
          ]
        }
      ]
    },
    {
      "cell_type": "markdown",
      "metadata": {
        "id": "wNPDV04-nTbg"
      },
      "source": [
        "### E-2\n",
        "\n",
        "Print the following sentence by using different formatting methods: \n",
        "\n",
        "`One year has 12 months, 52 weeks and 365 days.`"
      ]
    },
    {
      "cell_type": "code",
      "metadata": {
        "id": "AukDzAaobtbJ"
      },
      "source": [
        "month = 12\n",
        "week = 52\n",
        "day = 365"
      ],
      "execution_count": 2,
      "outputs": []
    },
    {
      "cell_type": "markdown",
      "metadata": {
        "id": "qC1h6695bP4t"
      },
      "source": [
        "**using % operators**"
      ]
    },
    {
      "cell_type": "code",
      "metadata": {
        "id": "rsgdoSnebNwJ",
        "colab": {
          "base_uri": "https://localhost:8080/"
        },
        "outputId": "b9592ecc-fe76-4884-cfec-fb5a7155a97f"
      },
      "source": [
        "# using % operators\n",
        "str1 = \"One year has %d months, %d weeks and %d days.\" %(month, week, day)\n",
        "\n",
        "print(str1)"
      ],
      "execution_count": 4,
      "outputs": [
        {
          "output_type": "stream",
          "name": "stdout",
          "text": [
            "One year has 12 months, 52 weeks and 365 days.\n"
          ]
        }
      ]
    },
    {
      "cell_type": "markdown",
      "metadata": {
        "id": "8s9BgN7bbdDE"
      },
      "source": [
        "**using `.format()` method**"
      ]
    },
    {
      "cell_type": "code",
      "source": [
        "# using .format() method with empty brackets {}\n",
        "print('One year has {} months, {} weeks and {} days.'.format(month, week, day))\n",
        "\n",
        "# using .format() method with name for each bracket\n",
        "print('One year has {m} months, {w} weeks and {d} days.'.format(m = month, w = week, d = day))\n",
        "\n",
        "# using .format() method with index for each bracket\n",
        "print('One year has {0} months, {1} weeks and {2} days.'.format(month, week, day))\n"
      ],
      "metadata": {
        "id": "NWlPj1CFleTh",
        "colab": {
          "base_uri": "https://localhost:8080/"
        },
        "outputId": "12cb4a9e-93b6-4cd9-d792-34eb0f8b69a1"
      },
      "execution_count": null,
      "outputs": [
        {
          "output_type": "stream",
          "name": "stdout",
          "text": [
            "One year has 12 months, 52 weeks and 365 days.\n",
            "One year has 12 months, 52 weeks and 365 days.\n",
            "One year has 12 months, 52 weeks and 365 days.\n"
          ]
        }
      ]
    },
    {
      "cell_type": "markdown",
      "metadata": {
        "id": "VTEnq0M7bj-b"
      },
      "source": [
        "**using f-string**"
      ]
    },
    {
      "cell_type": "code",
      "metadata": {
        "id": "AoIR_f8gbmC1",
        "colab": {
          "base_uri": "https://localhost:8080/"
        },
        "outputId": "f815c268-93af-48ed-b8f4-b3d0edffc15c"
      },
      "source": [
        "# using f-string\n",
        "print(f'One year has {month} months, {week} weeks and {day} days.')\n"
      ],
      "execution_count": null,
      "outputs": [
        {
          "output_type": "stream",
          "name": "stdout",
          "text": [
            "One year has 12 months, 52 weeks and 365 days.\n"
          ]
        }
      ]
    },
    {
      "cell_type": "markdown",
      "metadata": {
        "id": "AoMN67VpgFLK"
      },
      "source": [
        "### E-3\n",
        "Given a string `\"Python\"`, return a new string `\"Ptn\"` which is made of the first, third and last characters of the string. "
      ]
    },
    {
      "cell_type": "code",
      "metadata": {
        "id": "r21ox-G-frFC",
        "colab": {
          "base_uri": "https://localhost:8080/"
        },
        "outputId": "4d7f38ef-07a8-4287-f6c4-91ec475516fc"
      },
      "source": [
        "str1 = \"Python\"\n",
        "\n",
        "# your code here\n",
        "\n",
        "aaa= str1[0] + str1[2] + str1[-1]\n",
        "print(aaa)"
      ],
      "execution_count": null,
      "outputs": [
        {
          "output_type": "stream",
          "name": "stdout",
          "text": [
            "Ptn\n"
          ]
        }
      ]
    },
    {
      "cell_type": "markdown",
      "metadata": {
        "id": "UgUv7gOAjPbk"
      },
      "source": [
        "### E-4\n",
        "\n",
        "For a string `str2`, replace the `.` with `?` and assign it to `str2` again - that is, change the `.` in a string `str2` with `?`. "
      ]
    },
    {
      "cell_type": "code",
      "metadata": {
        "id": "swuEUY7sganO",
        "colab": {
          "base_uri": "https://localhost:8080/"
        },
        "outputId": "ca20768e-5a91-4a44-b02d-428016ea6c83"
      },
      "source": [
        "str2 = \"192.168.0.12\"\n",
        "\n",
        "# your code here\n",
        "str2 = str2.replace('.', '?')\n",
        "print(str2)"
      ],
      "execution_count": null,
      "outputs": [
        {
          "output_type": "stream",
          "name": "stdout",
          "text": [
            "192?168?0?12\n"
          ]
        }
      ]
    },
    {
      "cell_type": "markdown",
      "metadata": {
        "id": "1MRSWX-jlZ4g"
      },
      "source": [
        "### E-5\n",
        "Which character occur more often in the string? `t` or `i`? Print the following result using print function (and also using a string formatting!).\n",
        "\n",
        "`Count of t is \"11\", Count of i is \"6\".`\n",
        "\n",
        "`Frequency of t is 10.19%, Frequency of i is 5.56%.`\n",
        "\n",
        "\n",
        "- frequency is the fraction of the count and the total length of the sentence"
      ]
    },
    {
      "cell_type": "code",
      "metadata": {
        "id": "HdhgNPc2kF2f",
        "colab": {
          "base_uri": "https://localhost:8080/"
        },
        "outputId": "0816bb31-f509-425e-b405-c285e1d1020a"
      },
      "source": [
        "str3 = \"People often say that motivation doesn't last. Well, neither does bathing. That's why we recommend it daily.\"\n",
        "\n",
        "# your code here: count the number of \"t\" and \"i\"\n",
        "Cnt_t = str3.count('t')\n",
        "Cnt_i = str3.count('i')\n",
        "print(f'Count of t is \"{Cnt_t}\", Count of i is \"{Cnt_i}\"')\n",
        "\n",
        "# compute the frequency of \"t\" and \"i\"\n",
        "Fre_t = Cnt_t / len(str3) * 100\n",
        "Fre_i = Cnt_i / len(str3) * 100\n",
        "print(\"Freqeuncy of t is %5.2f%%, Frequency of i is %5.2f%%\" %(Fre_t, Fre_i))"
      ],
      "execution_count": null,
      "outputs": [
        {
          "output_type": "stream",
          "name": "stdout",
          "text": [
            "Count of t is \"11\", Count of i is \"6\"\n",
            "Freqeuncy of t is 10.19%, Frequency of i is  5.56%\n"
          ]
        }
      ]
    },
    {
      "cell_type": "markdown",
      "source": [
        "### E-6\n",
        "\n",
        "Using string slicing and formatting, print the followings:\n",
        "\n",
        "```\n",
        "!!220321!!\n",
        "1234567***\n",
        "```"
      ],
      "metadata": {
        "id": "hqZx0G2AmTtU"
      }
    },
    {
      "cell_type": "code",
      "source": [
        "my_str = '220321-1234567'\n",
        "\n",
        "# your code here\n",
        "# slice my_str into two parts\n",
        "ms1 = my_str.split('-')[0]\n",
        "ms2 = my_str.split('-')[1]\n",
        "\n",
        "# ms1 = my_str[0:6]\n",
        "# ms2 = my_str[7:]\n",
        "\n",
        "# print two strings with alignment\n",
        "print(f'''!!{ms1}!!\n",
        "{ms2}***''')\n",
        "\n",
        "print(f\"!!{ms1}!!\\n{ms2}***\")"
      ],
      "metadata": {
        "id": "RTBBvjdWmUuI",
        "colab": {
          "base_uri": "https://localhost:8080/"
        },
        "outputId": "5f4a6f92-72b2-438c-b6d6-31ec4a81b9e8"
      },
      "execution_count": 5,
      "outputs": [
        {
          "output_type": "stream",
          "name": "stdout",
          "text": [
            "!!220321!!\n",
            "1234567***\n",
            "!!220321!!\n",
            "1234567***\n"
          ]
        }
      ]
    }
  ]
}