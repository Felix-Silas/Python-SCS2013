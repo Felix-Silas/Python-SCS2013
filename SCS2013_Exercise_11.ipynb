{
  "nbformat": 4,
  "nbformat_minor": 0,
  "metadata": {
    "colab": {
      "provenance": [],
      "collapsed_sections": []
    },
    "kernelspec": {
      "name": "python3",
      "display_name": "Python 3"
    },
    "language_info": {
      "name": "python"
    }
  },
  "cells": [
    {
      "cell_type": "markdown",
      "metadata": {
        "id": "EzZiRhCEg1JC"
      },
      "source": [
        "# SCS2013 Exercise 11 (2022 Fall)\n",
        "\n",
        "**This exercise notebook will go through the understanding of \"Object-Oriented Programming (OOP) - Inheritance\" and some \"Modules\"**\n",
        "\n",
        "- Class Inheritance\n",
        "- Method Overriding\n",
        "- Import Modules\n",
        "\n"
      ]
    },
    {
      "cell_type": "markdown",
      "metadata": {
        "id": "237yAghIYrBM"
      },
      "source": [
        "## Inheritance\n",
        "\n",
        "The Object-Oriented Programming (OOP) is based on the concept of *objects*, which can contain data and code: data in the form of instance variables (or known as attributes or properties), and code in the form of methods. \n",
        "\n",
        "```\n",
        "class <ParentClass>:\n",
        "  <Body of parent class>\n",
        "\n",
        "class <ChildClass>(<ParentClass>):\n",
        "  <body of child class>\n",
        "```"
      ]
    },
    {
      "cell_type": "markdown",
      "metadata": {
        "id": "dBMfhBBwZPsF"
      },
      "source": [
        "Implement a parent class `Employee` that handles the common information for every employee type:\n",
        "\n",
        "- Instance variables\n",
        "  - `id`: identity number of an employee\n",
        "  - `name`: name of an employee\n",
        "\n",
        "- Instance methods\n",
        "  - `print_info()`: prints out Employee ID and NAME \n",
        "\n",
        "`Employee` is the parent class for all employee types. "
      ]
    },
    {
      "cell_type": "code",
      "source": [
        "class Employee:\n",
        "  # constructore\n",
        "  def __init__(self, id, name):\n",
        "    self.id = id\n",
        "    self.name = name\n",
        "  \n",
        "  def print_info(self):\n",
        "    print(f'Employee: ID {self.id}, NAME {self.name}')"
      ],
      "metadata": {
        "id": "oELkzOKn1jwg"
      },
      "execution_count": 12,
      "outputs": []
    },
    {
      "cell_type": "markdown",
      "source": [
        "Now, create two child classes `SalaryEmployee` and `HourlyEmployee`. Both classes inherit the attributes and methods from the `Employee` class. \n",
        "\n",
        "`SalaryEmployee` class:\n",
        "* Instance variables\n",
        "  - add constructor to add its own instance variables `salary`\n",
        "  - otherwise, it inherits `Employee`'s constructor\n",
        "\n",
        "* Instance methods\n",
        "  - `cal_payroll()`: return the employee's salary\n",
        "\n",
        "`HourlyEmployee` class:\n",
        "* Instance variables\n",
        "  - add constructor to add its own instance variables `work_hours` and `hour_rate`\n",
        "  - otherwise, it inherits `Employee`'s constructor\n",
        "\n",
        "* Instance methods\n",
        "  - `cal_payroll()`: return the employee's salary (`work_hours` $\\times$ `hour_rate`)\n",
        "\n",
        "**Method Overriding**\n",
        "\n",
        "What if we add a method in the child class with the *same* name as a function in the parent class?\n",
        "The method in the child class **overrides** that in the parent class\n",
        "\n",
        "- For example, `__init__()` was defined in both classes, `Employee` and `SalaryEmployee`\n",
        "- `__init__()` in `SalaryEmployee` gets preference over the `__init__()` in `Employee`"
      ],
      "metadata": {
        "id": "1_vavV2_eJfU"
      }
    },
    {
      "cell_type": "code",
      "source": [
        "class SalaryEmployee(Employee):\n",
        "  # constructor\n",
        "  def __init__(self, id, name, salary):\n",
        "    super().__init__(id, name)\n",
        "    self.salary = salary\n",
        "\n",
        "  def cal_payroll(self):\n",
        "    return self.salary"
      ],
      "metadata": {
        "id": "auNROn4y1jtH"
      },
      "execution_count": 13,
      "outputs": []
    },
    {
      "cell_type": "code",
      "source": [
        "class HourlyEmployee(Employee):\n",
        "  # constructor\n",
        "  def __init__(self, id, name, work_hours, hour_rate):\n",
        "    # Employee.__init__(self, id, name)\n",
        "    super().__init__(id, name)\n",
        "    self.work_hours = work_hours\n",
        "    self.hour_rate = hour_rate\n",
        "\n",
        "  def cal_payroll(self):\n",
        "    return self.hour_rate * self.work_hours"
      ],
      "metadata": {
        "id": "v9apY8dZ2SFS"
      },
      "execution_count": 14,
      "outputs": []
    },
    {
      "cell_type": "markdown",
      "source": [
        "Now, create another child class `IncentiveEmployee` that inherits from the `SalaryEmployee` class.\n",
        "\n",
        "`IncentiveEmployee` class:\n",
        "* Instance variables\n",
        "  - add constructor to add its own instance variables `incentive`\n",
        "  - otherwise, it inherits `SalaryEmployee`'s constructor\n",
        "\n",
        "* Instance methods\n",
        "  - `cal_payroll()`: return the employee's salary (salary as a `SalaryEmployee` with additional `incentive`)"
      ],
      "metadata": {
        "id": "59NyBnQt4D2a"
      }
    },
    {
      "cell_type": "code",
      "source": [
        "class IncentiveEmployee(SalaryEmployee):\n",
        "  # constructor\n",
        "  def __init__(self, id, name, salary, incentive):\n",
        "    super().__init__(id, name, salary)\n",
        "    self.incentive = incentive\n",
        "\n",
        "  def cal_payroll(self):\n",
        "    # base_salary = SalaryEmployee.cal_payroll(self)\n",
        "    base_salary = super().cal_payroll()\n",
        "    return base_salary + self.incentive"
      ],
      "metadata": {
        "id": "bl6970XR2SCf"
      },
      "execution_count": 15,
      "outputs": []
    },
    {
      "cell_type": "markdown",
      "source": [
        "Create a class `PayrollSystem` that handles payroll of all employees:\n",
        "\n",
        "- no constructor required at this time\n",
        "- Instance methods\n",
        "  - `cal_payroll()`: takes a list of employees as argument, and print out i) information of each employee (by using `print_info()`) and ii) payroll amount (by using `cal_payroll()`) "
      ],
      "metadata": {
        "id": "a6mW-2YujOQD"
      }
    },
    {
      "cell_type": "code",
      "source": [
        "class PayrollSystem:\n",
        "  def cal_payroll(self, employees): # employees: employee 객체들의 리스트\n",
        "    print('===============')\n",
        "    print('Payroll System')\n",
        "    print('===============')\n",
        "    for employee in employees:\n",
        "      employee.print_info()\n",
        "      print(f'Payroll amount: {employee.cal_payroll()}')\n",
        "      print('***************')"
      ],
      "metadata": {
        "id": "vx2P9muC39gQ"
      },
      "execution_count": 16,
      "outputs": []
    },
    {
      "cell_type": "markdown",
      "source": [
        "Now, make a number of employee objects and manage payroll system!"
      ],
      "metadata": {
        "id": "-HmzhF6R4Ems"
      }
    },
    {
      "cell_type": "code",
      "source": [
        "# 각 객체들\n",
        "salary_E1 = SalaryEmployee(1, 'James', 2000) \n",
        "salary_E2 = SalaryEmployee(1, 'Alice', 2500)\n",
        "hour_E1 = HourlyEmployee(2, 'Emma', 30, 25)\n",
        "incentive_E1 = IncentiveEmployee(3, 'Tyler', 1500, 300)\n",
        "\n",
        "payroll_system = PayrollSystem()\n",
        "payroll_system.cal_payroll([salary_E1, salary_E2, hour_E1, incentive_E1])\n"
      ],
      "metadata": {
        "id": "e1NCef5V39dx",
        "colab": {
          "base_uri": "https://localhost:8080/"
        },
        "outputId": "19d4be5e-2500-48a1-b692-522a678879d9"
      },
      "execution_count": 17,
      "outputs": [
        {
          "output_type": "stream",
          "name": "stdout",
          "text": [
            "===============\n",
            "Payroll System\n",
            "===============\n",
            "Employee: ID 1, NAME James\n",
            "Payroll amount: 2000\n",
            "***************\n",
            "Employee: ID 1, NAME Alice\n",
            "Payroll amount: 2500\n",
            "***************\n",
            "Employee: ID 2, NAME Emma\n",
            "Payroll amount: 750\n",
            "***************\n",
            "Employee: ID 3, NAME Tyler\n",
            "Payroll amount: 1800\n",
            "***************\n"
          ]
        }
      ]
    },
    {
      "cell_type": "markdown",
      "metadata": {
        "id": "WcOeeMmmWjBb"
      },
      "source": [
        "**Multiple Inheritance**\n",
        "\n",
        "Python supports *multiple inheritance* that is an ability to derive a class from multiple parent classes at the same time. \n",
        "\n",
        "```\n",
        "class <Parent1>:\n",
        "  <body of Parent1 class>\n",
        "\n",
        "class <Parent2>:\n",
        "  <body of Parent2 class>\n",
        "\n",
        "class <Child>(<Parent1>, <Parent2>):\n",
        "  <body of Child class>\n",
        "```"
      ]
    },
    {
      "cell_type": "code",
      "metadata": {
        "id": "EzSLPfHcXQTK"
      },
      "source": [
        "class Person:\n",
        "  def __init__(self, name=''):\n",
        "    self.name = name\n",
        "\n",
        "  def print_name(self):\n",
        "    print(f'Name: {self.name}')\n",
        "\n",
        "class Coder:\n",
        "  def __init__(self, num_skills=0):\n",
        "    self.num_skills = num_skills\n",
        "\n",
        "  def print_skills(self):\n",
        "    print(f'Number of skills: {self.num_skills}')\n",
        "\n",
        "class PythonStudent(Person, Coder):\n",
        "  def __init__(self, name, num_skills, version):\n",
        "    Person.__init__(self, name)\n",
        "    Coder.__init__(self, num_skills)\n",
        "    self.version = version\n",
        "\n",
        "  def print_all(self):\n",
        "    super().print_name()\n",
        "    super().print_skills()\n",
        "    print(f'Python version: {self.version}')"
      ],
      "execution_count": 18,
      "outputs": []
    },
    {
      "cell_type": "code",
      "metadata": {
        "id": "qSlcbrVNtSTh",
        "colab": {
          "base_uri": "https://localhost:8080/"
        },
        "outputId": "23e85822-8d87-41b5-e067-b73b36d74989"
      },
      "source": [
        "ps = PythonStudent('Alice', 2, 3.7)\n",
        "ps.print_all()"
      ],
      "execution_count": 19,
      "outputs": [
        {
          "output_type": "stream",
          "name": "stdout",
          "text": [
            "Name: Alice\n",
            "Number of skills: 2\n",
            "Python version: 3.7\n"
          ]
        }
      ]
    },
    {
      "cell_type": "code",
      "metadata": {
        "id": "emR373Gnna7V",
        "colab": {
          "base_uri": "https://localhost:8080/"
        },
        "outputId": "96a4b762-3cf7-410a-ccd1-8fdf1f581745"
      },
      "source": [
        "ps.__dict__"
      ],
      "execution_count": 20,
      "outputs": [
        {
          "output_type": "execute_result",
          "data": {
            "text/plain": [
              "{'name': 'Alice', 'num_skills': 2, 'version': 3.7}"
            ]
          },
          "metadata": {},
          "execution_count": 20
        }
      ]
    },
    {
      "cell_type": "markdown",
      "metadata": {
        "id": "y8oLWGiXDXTV"
      },
      "source": [
        "## Modules\n"
      ]
    },
    {
      "cell_type": "markdown",
      "metadata": {
        "id": "NuxUTRmHDaOK"
      },
      "source": [
        "**Modules**\n",
        "\n",
        "A Python module is a file containing Python code (statements, definitions, functions, ...) \n",
        "\n",
        "A module has a name specified by the filename without the `.py` extension: `<module_name>.py` has a module name `module_name`."
      ]
    },
    {
      "cell_type": "code",
      "metadata": {
        "id": "Bce2Ug-SDZoE"
      },
      "source": [
        "# mymodule.py \n",
        "\n",
        "def greeting(name):\n",
        "  print(f'Hello! {name}!!')\n",
        "\n",
        "def welcome(course):\n",
        "  print(f'Welcome to {course}!!')\n",
        "\n",
        "person1 = {\n",
        "    'name': 'John', \n",
        "    'age': 36, \n",
        "    'country': 'Korea'\n",
        "    }"
      ],
      "execution_count": 21,
      "outputs": []
    },
    {
      "cell_type": "markdown",
      "metadata": {
        "id": "VQMoVy68EDEW"
      },
      "source": [
        "Now we can use the module by using the `import` statement."
      ]
    },
    {
      "cell_type": "code",
      "metadata": {
        "id": "5z-A_iRNDZf1",
        "colab": {
          "base_uri": "https://localhost:8080/"
        },
        "outputId": "19a5f41e-71d4-4a1a-fbd6-180f4a74a3ec"
      },
      "source": [
        "import mymodule\n",
        "\n",
        "mymodule.greeting('John')\n",
        "mymodule.welcome('SCS2013')\n",
        "\n",
        "a = mymodule.person1['age']\n",
        "print(a)"
      ],
      "execution_count": 22,
      "outputs": [
        {
          "output_type": "stream",
          "name": "stdout",
          "text": [
            "Hello! John!!\n",
            "Welcome to SCS2013!!\n",
            "36\n"
          ]
        }
      ]
    },
    {
      "cell_type": "code",
      "metadata": {
        "id": "1CwkCSmFHyZ8"
      },
      "source": [
        "# pricing.py\n",
        "\n",
        "def get_net_price(price, tax_rate, discount=0):\n",
        "  return price * (1+tax_rate) * (1-discount)\n",
        "\n",
        "def get_tax(price, tax_rate=0):\n",
        "  return price * tax_rate\n",
        "\n",
        "person1 = {\n",
        "    'name': 'John', \n",
        "    'age': 36, \n",
        "    'country': 'Korea'\n",
        "    }"
      ],
      "execution_count": 23,
      "outputs": []
    },
    {
      "cell_type": "markdown",
      "metadata": {
        "id": "BI9SHT8ngRoK"
      },
      "source": [
        "**How to import?**\n",
        "\n",
        "```\n",
        "import <module_name>\n",
        "\n",
        "<module_name>.<function_name>\n",
        "\n",
        "import <module_name> as <new_name>\n",
        "\n",
        "from <module_name> import <function_name>\n",
        "\n",
        "from <module_name> import <function_name> as <new_name>\n",
        "\n",
        "from <module_name> import *\n",
        "```"
      ]
    },
    {
      "cell_type": "code",
      "metadata": {
        "id": "JnNOKbZZHyiV",
        "colab": {
          "base_uri": "https://localhost:8080/"
        },
        "outputId": "80b613b0-42a6-4499-80bd-495bb8d9de35"
      },
      "source": [
        "import pricing\n",
        "\n",
        "net_price = pricing.get_net_price(price=100, tax_rate=0.01)\n",
        "print(net_price)"
      ],
      "execution_count": 24,
      "outputs": [
        {
          "output_type": "stream",
          "name": "stdout",
          "text": [
            "101.0\n"
          ]
        }
      ]
    },
    {
      "cell_type": "code",
      "metadata": {
        "id": "W-U4vZXSHyd_",
        "colab": {
          "base_uri": "https://localhost:8080/"
        },
        "outputId": "5bf84901-3e42-453a-b788-0249e5866377"
      },
      "source": [
        "p1 = pricing.person1\n",
        "print(f\"Name: {p1['name']}, Age: {p1['age']}\")"
      ],
      "execution_count": 25,
      "outputs": [
        {
          "output_type": "stream",
          "name": "stdout",
          "text": [
            "Name: John, Age: 36\n"
          ]
        }
      ]
    },
    {
      "cell_type": "code",
      "metadata": {
        "id": "10byg-5UDZAv",
        "colab": {
          "base_uri": "https://localhost:8080/"
        },
        "outputId": "d682e124-15ac-462a-afee-f84198d2b3e5"
      },
      "source": [
        "import pricing as pr\n",
        "\n",
        "net_price = pr.get_net_price(price=100, tax_rate=0.01)\n",
        "print(net_price)"
      ],
      "execution_count": 26,
      "outputs": [
        {
          "output_type": "stream",
          "name": "stdout",
          "text": [
            "101.0\n"
          ]
        }
      ]
    },
    {
      "cell_type": "code",
      "metadata": {
        "id": "K9-H1FJ-K2zX",
        "colab": {
          "base_uri": "https://localhost:8080/"
        },
        "outputId": "f635fcb5-60ba-42bb-df28-9b5dd1bbc70e"
      },
      "source": [
        "from pricing import get_net_price # 특정 함수만 import\n",
        "\n",
        "net_price = get_net_price(price=100, tax_rate=0.01)\n",
        "print(net_price)"
      ],
      "execution_count": 27,
      "outputs": [
        {
          "output_type": "stream",
          "name": "stdout",
          "text": [
            "101.0\n"
          ]
        }
      ]
    },
    {
      "cell_type": "code",
      "metadata": {
        "id": "OLqZ94G3K2pb",
        "colab": {
          "base_uri": "https://localhost:8080/"
        },
        "outputId": "60dd8203-9ac2-45a2-d8cb-0715b7805c98"
      },
      "source": [
        "from pricing import get_net_price as net_pr \n",
        "\n",
        "net_price = net_pr(price=100, tax_rate=0.01)\n",
        "print(net_price)"
      ],
      "execution_count": 28,
      "outputs": [
        {
          "output_type": "stream",
          "name": "stdout",
          "text": [
            "101.0\n"
          ]
        }
      ]
    },
    {
      "cell_type": "code",
      "metadata": {
        "id": "iYCfvudmM3Rs",
        "colab": {
          "base_uri": "https://localhost:8080/"
        },
        "outputId": "e6fe5807-238f-4556-cb27-620bbba6f7d0"
      },
      "source": [
        "from pricing import *\n",
        "\n",
        "net_price = get_net_price(price=100, tax_rate=0.01)\n",
        "tax = get_tax(price=100, tax_rate=0.01)\n",
        "print(net_price)\n",
        "print(tax)\n",
        "print(person1)"
      ],
      "execution_count": 29,
      "outputs": [
        {
          "output_type": "stream",
          "name": "stdout",
          "text": [
            "101.0\n",
            "1.0\n",
            "{'name': 'John', 'age': 36, 'country': 'Korea'}\n"
          ]
        }
      ]
    },
    {
      "cell_type": "markdown",
      "metadata": {
        "id": "fhx73IsEBPIL"
      },
      "source": [
        "## Exercise for Inheritance\n"
      ]
    },
    {
      "cell_type": "markdown",
      "metadata": {
        "id": "rpbgQErmBR4u"
      },
      "source": [
        "### E-1\n",
        "\n",
        "Create a `Vehicle` class with \n",
        "\n",
        "* instance variables\n",
        "  - `name`, `max_speed` and `mileage`\n",
        "\n",
        "* instance methods\n",
        "  - `print_vehicle()`: prints out its `name`, `max_speed` and `mileage` information\n",
        "  - `charge()`: return a mileage charge, which is set to **mileage $\\times$ 10**. \n",
        "\n",
        "Expected result\n",
        "```\n",
        "v1 = Vehicle('Volvo', 150, 1000)\n",
        "v1.print_vehicle()\n",
        "print(f'{v1.name} charge is {v1.charge()}')\n",
        ">> \n",
        "Name: Volvo, Max-speed: 150 and Mileage: 1000\n",
        "Volvo charge is 10000\n",
        "```"
      ]
    },
    {
      "cell_type": "code",
      "metadata": {
        "id": "XnrtY4TIBTLl"
      },
      "source": [
        "# your code here:\n",
        "# Vehicle class\n",
        "class Vehicle:\n",
        "    def __init__(self, name, max_speed, mileage):\n",
        "        self.name = name\n",
        "        self.max_speed = max_speed\n",
        "        self.mileage = mileage\n",
        "\n",
        "    def print_vehicle(self):\n",
        "        print(f'Name: {self.name}, Max_speed: {self.max_speed} and Mileage: {self.mileage}')\n",
        "\n",
        "    def charge(self):\n",
        "        self.charge = self.mileage * 10\n",
        "        return self.charge\n",
        "\n",
        "    "
      ],
      "execution_count": 30,
      "outputs": []
    },
    {
      "cell_type": "code",
      "metadata": {
        "id": "RoJJ3PdJBTCu",
        "colab": {
          "base_uri": "https://localhost:8080/"
        },
        "outputId": "5d88f7f0-5738-4e3e-fc19-cbee7e2adeb7"
      },
      "source": [
        "# test your code:\n",
        "v1 = Vehicle('Volvo', 150, 1000)\n",
        "v1.print_vehicle()\n",
        "print(f'{v1.name} charge is {v1.charge()}')"
      ],
      "execution_count": 31,
      "outputs": [
        {
          "output_type": "stream",
          "name": "stdout",
          "text": [
            "Name: Volvo, Max_speed: 150 and Mileage: 1000\n",
            "Volvo charge is 10000\n"
          ]
        }
      ]
    },
    {
      "cell_type": "markdown",
      "metadata": {
        "id": "WbNsp1JvCSJY"
      },
      "source": [
        "### E-2\n",
        "\n",
        "Create a child class called `Bus` that will inherit all of the attributes and methods of the `Vehicle` class. It has additional variables and methods:\n",
        "\n",
        "- instance variables\n",
        "  - additional instance variable is `seat_capacity` (좌석수)\n",
        "  - otherwise, it inherits `Vehicle`'s constructor\n",
        "\n",
        "- instance methods\n",
        "  - `print_vehicle()`: it additionally prints out its `seat_capacity` information\n",
        "  - `charge()`: it needs an extra charge for maintenance that is **seat capacity $\\times$ 5**. Therefore, total charge for a bus is **final amount = mileage charge + maintenance charge**. You need to override the `charge()` method of a `Vehicle` class in `Bus` class.\n",
        "\n",
        "Expected result \n",
        "```\n",
        "b1 = Bus('SchoolBus', 120, 500, 50)\n",
        "b1.print_vehicle()\n",
        "print(f'{b1.name} charge is {b1.charge()}')\n",
        ">>\n",
        "Name: SchoolBus, Max-speed: 120 and Mileage: 500\n",
        "The seating capacity of SchoolBus is 50 passengers\n",
        "SchoolBus charge is 5250\n",
        "```"
      ]
    },
    {
      "cell_type": "code",
      "metadata": {
        "id": "NljHFSTUCR6P"
      },
      "source": [
        "# your code here: \n",
        "# Bus class\n",
        "class Bus(Vehicle):\n",
        "    def __init__(self, name, max_speed, mileage, seat_capacity):\n",
        "        super().__init__(name, max_speed, mileage)\n",
        "        self.seat_capacity = seat_capacity\n",
        "\n",
        "    def print_vehicle(self):\n",
        "        super().print_vehicle()\n",
        "        #print(f'Name: {self.name}, Max_speed: {self.max_speed} and Mileage: {self.mileage}')\n",
        "        print(f'The seating capacity of {self.name} is {self.seat_capacity} passengers')\n",
        "\n",
        "    def charge(self):\n",
        "        mileage_charge = super().charge()\n",
        "        total_charge = mileage_charge + self.seat_capacity * 5\n",
        "        return total_charge"
      ],
      "execution_count": 32,
      "outputs": []
    },
    {
      "cell_type": "code",
      "metadata": {
        "id": "CZJNEtFYCRv2",
        "colab": {
          "base_uri": "https://localhost:8080/"
        },
        "outputId": "4fcd4f24-b20d-410b-ebb9-dd97de606dab"
      },
      "source": [
        "# test your code:\n",
        "b1 = Bus('SchoolBus', 120, 500, 50)\n",
        "b1.print_vehicle()\n",
        "print(f'{b1.name} charge is {b1.charge()}')"
      ],
      "execution_count": 33,
      "outputs": [
        {
          "output_type": "stream",
          "name": "stdout",
          "text": [
            "Name: SchoolBus, Max_speed: 120 and Mileage: 500\n",
            "The seating capacity of SchoolBus is 50 passengers\n",
            "SchoolBus charge is 5250\n"
          ]
        }
      ]
    },
    {
      "cell_type": "code",
      "metadata": {
        "id": "z9xlwVmgLqaY",
        "colab": {
          "base_uri": "https://localhost:8080/"
        },
        "outputId": "de42c16e-5888-40b8-ce49-e2fec2d51a9f"
      },
      "source": [
        "print(type(v1))\n",
        "print(type(b1))\n",
        "\n",
        "print(f'v1 is instance of Vehicle? {isinstance(v1, Vehicle)}')\n",
        "print(f'b1 is instance of Vehicle? {isinstance(b1, Vehicle)}')\n",
        "print(f'v1 is instance of Bus? {isinstance(v1, Bus)}')\n",
        "print(f'b1 is instance of Bus? {isinstance(b1, Bus)}')"
      ],
      "execution_count": 34,
      "outputs": [
        {
          "output_type": "stream",
          "name": "stdout",
          "text": [
            "<class '__main__.Vehicle'>\n",
            "<class '__main__.Bus'>\n",
            "v1 is instance of Vehicle? True\n",
            "b1 is instance of Vehicle? True\n",
            "v1 is instance of Bus? False\n",
            "b1 is instance of Bus? True\n"
          ]
        }
      ]
    },
    {
      "cell_type": "markdown",
      "metadata": {
        "id": "QIZuE9pAYL8p"
      },
      "source": [
        "### E-3\n",
        "\n",
        "Create a class named `Triangle`\n",
        "- instance variables: two values `base`(밑변) and `height`(높이)\n",
        "- instance method: `tri_area()` that computes the area of a triangle: **triangle area = 0.5 $\\times$ base $\\times$ height**\n",
        "\n",
        "Create a class named `Rectangle` \n",
        "\n",
        "- instance variables: two values `length`(가로) and `width`(세로)\n",
        "- instance method: `area()` that computes the area of a rectangle: **rectangle area = length $\\times$ width**\n",
        "\n",
        "Expected result\n",
        "```\n",
        "T1 = Triangle(5, 20)\n",
        "print(f'Triangle: base {T1.base}, height {T1.height}: area {T1.tri_area()}')\n",
        "\n",
        "R1 = Rectangle(5, 20)\n",
        "print(f'Rectangle: length {R1.length}, width {R1.width}: area {R1.area()}')\n",
        ">>\n",
        "Triangle: base 5, height 20: area 50.0\n",
        "Rectangle: length 5, width 20: area 100\n",
        "```"
      ]
    },
    {
      "cell_type": "code",
      "metadata": {
        "id": "EO2Mm2eUdolC"
      },
      "source": [
        "# your code here: \n",
        "# Triangle class\n",
        "class Triangle:\n",
        "    def __init__(self, base, height):\n",
        "        self.base = base\n",
        "        self.height = height\n",
        "\n",
        "    def tri_area(self):\n",
        "        return 0.5 * self.base * self.height\n",
        "    "
      ],
      "execution_count": 35,
      "outputs": []
    },
    {
      "cell_type": "code",
      "source": [
        "# Rectangle class\n",
        "class Rectangle:\n",
        "    def __init__(self, length, width):\n",
        "        self.length = length\n",
        "        self.width = width\n",
        "\n",
        "    def area(self):\n",
        "        return self.length * self.width\n",
        "\n"
      ],
      "metadata": {
        "id": "QPuwT7_UFHhs"
      },
      "execution_count": 36,
      "outputs": []
    },
    {
      "cell_type": "code",
      "metadata": {
        "id": "ghiT36NSrUlm",
        "colab": {
          "base_uri": "https://localhost:8080/"
        },
        "outputId": "c8b195b9-c5f0-4e5a-ef5a-67058154a5eb"
      },
      "source": [
        "# test your code:\n",
        "T1 = Triangle(5, 20)\n",
        "print(f'Triangle: base {T1.base}, height {T1.height}: area {T1.tri_area()}')\n",
        "\n",
        "R1 = Rectangle(5, 20)\n",
        "print(f'Rectangle: length {R1.length}, width {R1.width}: area {R1.area()}')"
      ],
      "execution_count": 37,
      "outputs": [
        {
          "output_type": "stream",
          "name": "stdout",
          "text": [
            "Triangle: base 5, height 20: area 50.0\n",
            "Rectangle: length 5, width 20: area 100\n"
          ]
        }
      ]
    },
    {
      "cell_type": "markdown",
      "metadata": {
        "id": "56TOZ25BfRT6"
      },
      "source": [
        "### E-4\n",
        "\n",
        "Create a child class named `Square` \n",
        "- instance variables: it has only a single side length `side`\n",
        "- note that a square is a special type of a rectangle - one whose length and width are equal as `side`\n",
        "- `Square` will inherit all of the attributes of `Rectangle`\n",
        "\n",
        "Expected result\n",
        "```\n",
        "S1 = Square(5)\n",
        "print(f'Square: side {S1.side}: area {S1.area()}')\n",
        ">>\n",
        "Square: side 5: area 25\n",
        "```\n"
      ]
    },
    {
      "cell_type": "code",
      "metadata": {
        "id": "OPV3tmu-ak-B"
      },
      "source": [
        "# your code here:\n",
        "# Square class\n",
        "def Square(Rectangle):\n",
        "    def __init__(self, side):\n",
        "        self.side = side\n",
        "    \n",
        "        Rectangle.__init__(self, side, side)"
      ],
      "execution_count": 55,
      "outputs": []
    },
    {
      "cell_type": "code",
      "metadata": {
        "id": "c9NkSXdtTDav",
        "colab": {
          "base_uri": "https://localhost:8080/",
          "height": 211
        },
        "outputId": "cfb472f1-d2b5-4603-c4c1-b3c94bff99c0"
      },
      "source": [
        "# test your code:\n",
        "S1 = Square(5)\n",
        "#print(f'Square: side {S1.side}: area {S1.area()}')\n",
        "print(S1.area())"
      ],
      "execution_count": 56,
      "outputs": [
        {
          "output_type": "error",
          "ename": "AttributeError",
          "evalue": "ignored",
          "traceback": [
            "\u001b[0;31m---------------------------------------------------------------------------\u001b[0m",
            "\u001b[0;31mAttributeError\u001b[0m                            Traceback (most recent call last)",
            "\u001b[0;32m<ipython-input-56-fb287c0de3cd>\u001b[0m in \u001b[0;36m<module>\u001b[0;34m\u001b[0m\n\u001b[1;32m      2\u001b[0m \u001b[0mS1\u001b[0m \u001b[0;34m=\u001b[0m \u001b[0mSquare\u001b[0m\u001b[0;34m(\u001b[0m\u001b[0;36m5\u001b[0m\u001b[0;34m)\u001b[0m\u001b[0;34m\u001b[0m\u001b[0;34m\u001b[0m\u001b[0m\n\u001b[1;32m      3\u001b[0m \u001b[0;31m#print(f'Square: side {S1.side}: area {S1.area()}')\u001b[0m\u001b[0;34m\u001b[0m\u001b[0;34m\u001b[0m\u001b[0;34m\u001b[0m\u001b[0m\n\u001b[0;32m----> 4\u001b[0;31m \u001b[0mprint\u001b[0m\u001b[0;34m(\u001b[0m\u001b[0mS1\u001b[0m\u001b[0;34m.\u001b[0m\u001b[0marea\u001b[0m\u001b[0;34m(\u001b[0m\u001b[0;34m)\u001b[0m\u001b[0;34m)\u001b[0m\u001b[0;34m\u001b[0m\u001b[0;34m\u001b[0m\u001b[0m\n\u001b[0m",
            "\u001b[0;31mAttributeError\u001b[0m: 'NoneType' object has no attribute 'area'"
          ]
        }
      ]
    },
    {
      "cell_type": "markdown",
      "metadata": {
        "id": "wg-kSQIwFA0_"
      },
      "source": [
        "### E-5\n",
        "\n",
        "Create a child class named `Pyramid` \n",
        "- instance variables: a `base` and `slant_height` \n",
        "- a Pyramid is a combination of one square and four triangles \n",
        "- `Pyramid` inherits all of the attributes of `Square` and `Triangle`\n",
        "- Total surface area is **pyramid area = square area (base) + 4 $\\times$ triangle area**\n",
        "\n",
        "Expected result\n",
        "```\n",
        "P1 = Pyramid(5, 20)\n",
        "print(f'Pyramid: base {P1.base}, slant height {P1.slant_height}: area {P1.area()}')\n",
        ">>\n",
        "Pyramid: base 5, slant height 20: area 225.0\n",
        "```"
      ]
    },
    {
      "cell_type": "markdown",
      "metadata": {
        "id": "RGb1GLlsFA1A"
      },
      "source": [
        "![image.png](data:image/png;base64,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)"
      ]
    },
    {
      "cell_type": "code",
      "metadata": {
        "id": "R1avAD8rFA1A"
      },
      "source": [
        "# your code here: \n",
        "# Pyramid class\n",
        "\n",
        "class Pyramid(Square, Triangle):\n",
        "    def __init__(self, base, slant_height):\n",
        "        Square.__init__(self, base)\n",
        "        Triangle.__init__(self, slant_height)\n",
        "        self.base = base\n",
        "        self.slant_height = slant_height\n",
        "\n",
        "    def area(self):\n",
        "        # square_area = Square.area(self)\n",
        "        square_area = super().area()\n",
        "        # tri_area = Triangle.tri_area(self)\n",
        "        tri_area = super().tri_area()\n",
        "        return square_area + 4 * tri_area\n"
      ],
      "execution_count": null,
      "outputs": []
    },
    {
      "cell_type": "code",
      "metadata": {
        "id": "g298k6D-FA1A"
      },
      "source": [
        "# test your code:\n",
        "P1 = Pyramid(5, 20)\n",
        "print(f'Pyramid: base {P1.base}, slant height {P1.slant_height}: area {P1.area()}')"
      ],
      "execution_count": null,
      "outputs": []
    }
  ]
}