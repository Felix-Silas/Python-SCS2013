{
  "nbformat": 4,
  "nbformat_minor": 0,
  "metadata": {
    "colab": {
      "provenance": [],
      "collapsed_sections": []
    },
    "kernelspec": {
      "name": "python3",
      "display_name": "Python 3"
    },
    "language_info": {
      "name": "python"
    }
  },
  "cells": [
    {
      "cell_type": "markdown",
      "metadata": {
        "id": "EzZiRhCEg1JC"
      },
      "source": [
        "# SCS2013 Exercise 02 (2022 Fall)\n",
        "\n",
        "**This exercise notebook will go through the basic Data Types and Operators in Python:**\n",
        "\n",
        "* Variables (변수)\n",
        "* Numbers (Numeric)\n",
        "  * Integers (정수형)\n",
        "  * Floating Points (실수형)\n",
        "* Strings (문자열)\n",
        "* Booleans (불)\n",
        "* Operators (연산자)\n",
        "\n",
        "\n"
      ]
    },
    {
      "cell_type": "code",
      "source": [
        "from google.colab import drive\n",
        "drive.mount('/content/drive')"
      ],
      "metadata": {
        "colab": {
          "base_uri": "https://localhost:8080/"
        },
        "id": "VlKM0Cq4ZnC2",
        "outputId": "539abe09-4ce3-4864-db95-3272d2b902c3"
      },
      "execution_count": null,
      "outputs": [
        {
          "output_type": "stream",
          "name": "stdout",
          "text": [
            "Mounted at /content/drive\n"
          ]
        }
      ]
    },
    {
      "cell_type": "markdown",
      "metadata": {
        "id": "SILcODfCinqu"
      },
      "source": [
        "## ``print()`` and Comments (``#``)\n",
        "\n",
        "Before start, let's print 'Hello'. \n",
        "\n",
        "**``print()``** is used to display information to the user: It does not change values, variables, functions - just simply displays.\n",
        "\n",
        "* Usage ``print()``: if we want to print a text, it should be in quotes `` '' `` or `` \"\"``.\n",
        "\n",
        "* We can print multiple values by separating them with commans `,`.\n",
        "\n",
        "\n",
        "``#`` symbol is used to put **comments** in your code. The comments don't get executed. It can be used to explain your code and to make the code readable."
      ]
    },
    {
      "cell_type": "code",
      "source": [
        "print('Hello!')\n",
        "print('2022 Fall - SCS2013 Exercise 02')\n",
        "print('2022 Fall', 'Hello!', 'SCS2013', 'Exercise 02')\n",
        "\n",
        "my_num = 123\n",
        "print(my_num)"
      ],
      "metadata": {
        "id": "d62EWsGLUTFn"
      },
      "execution_count": null,
      "outputs": []
    },
    {
      "cell_type": "code",
      "source": [
        "# This is a comment \n",
        "print('Hello!')\n",
        "\n",
        "print('Hello!!') # This is a comment"
      ],
      "metadata": {
        "id": "oyaKFL6q-xp9",
        "colab": {
          "base_uri": "https://localhost:8080/"
        },
        "outputId": "5beb8776-5775-4395-8296-02b05f121ba1"
      },
      "execution_count": null,
      "outputs": [
        {
          "output_type": "stream",
          "name": "stdout",
          "text": [
            "Hello!\n",
            "Hello!!\n"
          ]
        }
      ]
    },
    {
      "cell_type": "code",
      "source": [
        "#print('Hello!')\n",
        "print('Hi!!')"
      ],
      "metadata": {
        "id": "FCdQjO85_i5t",
        "colab": {
          "base_uri": "https://localhost:8080/"
        },
        "outputId": "261ad2e7-b1db-4bf1-e3e3-bf8788fbf768"
      },
      "execution_count": null,
      "outputs": [
        {
          "output_type": "stream",
          "name": "stdout",
          "text": [
            "Hi!!\n"
          ]
        }
      ]
    },
    {
      "cell_type": "code",
      "source": [
        "# This is a comment\n",
        "# in a multiple lines\n",
        "# print('Hello!')\n",
        "# ctrl + / 로 주석 처리\n",
        " \n",
        "print('Hi!!!')\n",
        "\n",
        "\"\"\"\n",
        "This is a comment\n",
        "in a multiple lines\n",
        "print('Hello!')\n",
        "\"\"\"\n",
        "print('Good!')"
      ],
      "metadata": {
        "id": "dYWd6ZbK_kqM",
        "colab": {
          "base_uri": "https://localhost:8080/"
        },
        "outputId": "275c0b07-647e-44b6-a46e-b6ca3ad17bad"
      },
      "execution_count": null,
      "outputs": [
        {
          "output_type": "stream",
          "name": "stdout",
          "text": [
            "Hi!!!\n",
            "Good!\n"
          ]
        }
      ]
    },
    {
      "cell_type": "markdown",
      "metadata": {
        "id": "Zz0wt1-VhNl4"
      },
      "source": [
        "## Variables (변수)\n",
        "\n",
        "**Variable** is a space in the computer's memory where we can store data (number, text, ...). We use variable in Python to hold and manipulate values. \n",
        "\n",
        "Python does not require to declare a variable before use it. All we need is **assign** a variable a value. (**dynamically typed**)\n",
        "\n",
        "All we need is to provide a variable *name* and assign it some *value*: using **`=`** operator.\n",
        "  * e.g.: ``my_num = 123``\n",
        "  * A variable named ``my_num`` was created\n",
        "  * The value ``123`` was assigned to the variable ``my_num``"
      ]
    },
    {
      "cell_type": "code",
      "metadata": {
        "id": "SYITcvmbgfJ6"
      },
      "source": [
        "my_num = 123"
      ],
      "execution_count": null,
      "outputs": []
    },
    {
      "cell_type": "code",
      "metadata": {
        "id": "NtugJmkehfyi",
        "colab": {
          "base_uri": "https://localhost:8080/"
        },
        "outputId": "7feba377-ee39-4d49-8d73-d5f06c01c088"
      },
      "source": [
        "my_num"
      ],
      "execution_count": null,
      "outputs": [
        {
          "output_type": "execute_result",
          "data": {
            "text/plain": [
              "123"
            ]
          },
          "metadata": {},
          "execution_count": 7
        }
      ]
    },
    {
      "cell_type": "code",
      "metadata": {
        "id": "sSOiyYrAhgS2",
        "colab": {
          "base_uri": "https://localhost:8080/"
        },
        "outputId": "c159d23f-3f2b-4ebd-e88b-c903e2fe6c35"
      },
      "source": [
        "my_num + my_num"
      ],
      "execution_count": null,
      "outputs": [
        {
          "output_type": "execute_result",
          "data": {
            "text/plain": [
              "246"
            ]
          },
          "metadata": {},
          "execution_count": 8
        }
      ]
    },
    {
      "cell_type": "code",
      "metadata": {
        "id": "5z7avZQnhhba",
        "colab": {
          "base_uri": "https://localhost:8080/"
        },
        "outputId": "0b0f4600-6023-40a2-d2bc-4d6b13eea0f6"
      },
      "source": [
        "print(my_num)"
      ],
      "execution_count": null,
      "outputs": [
        {
          "output_type": "stream",
          "name": "stdout",
          "text": [
            "123\n"
          ]
        }
      ]
    },
    {
      "cell_type": "code",
      "metadata": {
        "id": "BPf9BlnbhiFp"
      },
      "source": [
        "my_num = 12.3"
      ],
      "execution_count": null,
      "outputs": []
    },
    {
      "cell_type": "code",
      "metadata": {
        "id": "RW8S6Ukphj9U",
        "colab": {
          "base_uri": "https://localhost:8080/"
        },
        "outputId": "c3cdb292-21a0-4d2f-b347-92895ff7b90a"
      },
      "source": [
        "my_num"
      ],
      "execution_count": null,
      "outputs": [
        {
          "output_type": "execute_result",
          "data": {
            "text/plain": [
              "12.3"
            ]
          },
          "metadata": {},
          "execution_count": 11
        }
      ]
    },
    {
      "cell_type": "code",
      "source": [
        "# assign multiple values using comma (,)\n",
        "my_num1, my_num2 = 3, 5.6\n",
        "print(my_num1, my_num2)"
      ],
      "metadata": {
        "id": "gmtUi9lm6GUS",
        "colab": {
          "base_uri": "https://localhost:8080/"
        },
        "outputId": "c007926b-f854-43f4-aa6b-d182af1bf601"
      },
      "execution_count": null,
      "outputs": [
        {
          "output_type": "stream",
          "name": "stdout",
          "text": [
            "3 5.6\n"
          ]
        }
      ]
    },
    {
      "cell_type": "markdown",
      "metadata": {
        "id": "U7cAm4nZx7vw"
      },
      "source": [
        "### Variable names \n",
        "\n",
        "Python allows you to name variables to your liking, as long as the names follow the rules:\n",
        "\n",
        "* variable names may contain letters, digits (0-9) or the underscore character `_`\n",
        "* variable names must begin with a letter from A-Z or the underscore `_`\n",
        "* variable names may not be a keyword in Python: e.g., `and`\n",
        "* Python's *keyword(예약어)* list includes:\n",
        "  \n",
        "    ``and, as, if, for, import, in, is, break, True, while, ... ``\n"
      ]
    },
    {
      "cell_type": "code",
      "metadata": {
        "id": "dVvWELrRhkZw",
        "colab": {
          "base_uri": "https://localhost:8080/"
        },
        "outputId": "640c29c0-7673-4dee-8052-19da76d9b49b"
      },
      "source": [
        "fish = 1\n",
        "fish"
      ],
      "execution_count": null,
      "outputs": [
        {
          "output_type": "execute_result",
          "data": {
            "text/plain": [
              "1"
            ]
          },
          "metadata": {},
          "execution_count": 13
        }
      ]
    },
    {
      "cell_type": "code",
      "metadata": {
        "id": "8jIp0esoDs8K",
        "colab": {
          "base_uri": "https://localhost:8080/"
        },
        "outputId": "6625d0ce-6ae6-406d-dad2-2560e5ed35cf"
      },
      "source": [
        "a = 2\n",
        "a"
      ],
      "execution_count": null,
      "outputs": [
        {
          "output_type": "execute_result",
          "data": {
            "text/plain": [
              "2"
            ]
          },
          "metadata": {},
          "execution_count": 14
        }
      ]
    },
    {
      "cell_type": "code",
      "metadata": {
        "id": "pG3cyYH0Dt1d",
        "colab": {
          "base_uri": "https://localhost:8080/"
        },
        "outputId": "d2831425-c588-477c-d72b-00118606bf2a"
      },
      "source": [
        "_uvar_ = 3\n",
        "_uvar_"
      ],
      "execution_count": null,
      "outputs": [
        {
          "output_type": "execute_result",
          "data": {
            "text/plain": [
              "3"
            ]
          },
          "metadata": {},
          "execution_count": 15
        }
      ]
    },
    {
      "cell_type": "code",
      "metadata": {
        "id": "JG-05-STDzbY",
        "colab": {
          "base_uri": "https://localhost:8080/"
        },
        "outputId": "5b407bcf-c7d2-4b1b-a3e9-26c8b20d3108"
      },
      "source": [
        "a21 = 4\n",
        "a21"
      ],
      "execution_count": null,
      "outputs": [
        {
          "output_type": "execute_result",
          "data": {
            "text/plain": [
              "4"
            ]
          },
          "metadata": {},
          "execution_count": 16
        }
      ]
    },
    {
      "cell_type": "code",
      "metadata": {
        "id": "zhjLrsdZD1NK",
        "colab": {
          "base_uri": "https://localhost:8080/"
        },
        "outputId": "be08ecb4-e2a4-4ecf-f5e4-ccef6732d144"
      },
      "source": [
        "long_var_name_is_okay = 5\n",
        "long_var_name_is_okay"
      ],
      "execution_count": null,
      "outputs": [
        {
          "output_type": "execute_result",
          "data": {
            "text/plain": [
              "5"
            ]
          },
          "metadata": {},
          "execution_count": 17
        }
      ]
    },
    {
      "cell_type": "code",
      "metadata": {
        "id": "olVPcpcAD_h2",
        "colab": {
          "base_uri": "https://localhost:8080/",
          "height": 35
        },
        "outputId": "733b4632-a81d-445e-fe8e-b97b539eb2a0"
      },
      "source": [
        "RemoteAddress = '1.2.3.4'\n",
        "RemoteAddress"
      ],
      "execution_count": null,
      "outputs": [
        {
          "output_type": "execute_result",
          "data": {
            "text/plain": [
              "'1.2.3.4'"
            ],
            "application/vnd.google.colaboratory.intrinsic+json": {
              "type": "string"
            }
          },
          "metadata": {},
          "execution_count": 18
        }
      ]
    },
    {
      "cell_type": "code",
      "metadata": {
        "id": "4QKICLJ8EENb"
      },
      "source": [
        "# `ticked = 1 변수 이름으로 사용 불가능\n",
        "# `ticked"
      ],
      "execution_count": null,
      "outputs": []
    },
    {
      "cell_type": "code",
      "metadata": {
        "id": "TD8cPDNXEMvG"
      },
      "source": [
        "# 21a = 'start with num'\n",
        "# 21a"
      ],
      "execution_count": null,
      "outputs": []
    },
    {
      "cell_type": "code",
      "metadata": {
        "id": "IoB_l451EWz2"
      },
      "source": [
        "# and = 21\n",
        "# and"
      ],
      "execution_count": null,
      "outputs": []
    },
    {
      "cell_type": "markdown",
      "metadata": {
        "id": "qYAH5OxnGuO4"
      },
      "source": [
        "## Data Types (자료형)\n",
        "\n",
        "Python supports numerical data types: \n",
        "* **integer (정수형)**: number without decimal point\n",
        "* **floating point (실수형)**: number with decimal point\n",
        "\n",
        "and also supports text data type:\n",
        "* **string (문자열)**: text\n",
        "\n",
        "and boolean data type:\n",
        "* **bool (불)**: conditional statements `True` (참) / `False` (거짓)\n",
        "\n",
        "Python tracks the **type** of the value assigned to a variable. \n",
        "\n",
        "* ``type()``: Check what the value type is\n",
        "\n",
        " "
      ]
    },
    {
      "cell_type": "code",
      "metadata": {
        "id": "c-lUDr3qF8tT",
        "colab": {
          "base_uri": "https://localhost:8080/"
        },
        "outputId": "9b704250-3063-4051-ad2e-e240e20ae3fc"
      },
      "source": [
        "x = 12\n",
        "print(type(x))"
      ],
      "execution_count": null,
      "outputs": [
        {
          "output_type": "stream",
          "name": "stdout",
          "text": [
            "<class 'int'>\n"
          ]
        }
      ]
    },
    {
      "cell_type": "code",
      "metadata": {
        "id": "i1obUDfpfgy2",
        "colab": {
          "base_uri": "https://localhost:8080/"
        },
        "outputId": "8389c8e0-fd70-48ae-9e17-0030a635249d"
      },
      "source": [
        "x = 12.0\n",
        "print(type(x))"
      ],
      "execution_count": null,
      "outputs": [
        {
          "output_type": "stream",
          "name": "stdout",
          "text": [
            "<class 'float'>\n"
          ]
        }
      ]
    },
    {
      "cell_type": "code",
      "metadata": {
        "id": "7zI5Ar6nfdaR",
        "colab": {
          "base_uri": "https://localhost:8080/"
        },
        "outputId": "d25ce690-26f6-4112-9361-3cb844cf5b76"
      },
      "source": [
        "x = 'Hello'\n",
        "print(type(x))"
      ],
      "execution_count": null,
      "outputs": [
        {
          "output_type": "stream",
          "name": "stdout",
          "text": [
            "<class 'str'>\n"
          ]
        }
      ]
    },
    {
      "cell_type": "code",
      "metadata": {
        "id": "UHuWpbYjfkB0",
        "colab": {
          "base_uri": "https://localhost:8080/"
        },
        "outputId": "f9fa5747-918b-4eae-e1ad-df6ccb7d75ba"
      },
      "source": [
        "x = False\n",
        "print(type(x))"
      ],
      "execution_count": null,
      "outputs": [
        {
          "output_type": "stream",
          "name": "stdout",
          "text": [
            "<class 'bool'>\n"
          ]
        }
      ]
    },
    {
      "cell_type": "markdown",
      "metadata": {
        "id": "yBr-7dwzhW1X"
      },
      "source": [
        "casting\n",
        "* The way of converting variables to different types is to use ``int()``, ``float()`` or ``str()``. "
      ]
    },
    {
      "cell_type": "code",
      "metadata": {
        "id": "CIDnYckGfmLm",
        "colab": {
          "base_uri": "https://localhost:8080/"
        },
        "outputId": "21b6e98b-c61c-4274-aae9-aa757621a03d"
      },
      "source": [
        "x = 12\n",
        "print(type(x))\n",
        "print(x)\n",
        "\n",
        "print(type(float(x)))\n",
        "print(float(x))\n",
        "\n",
        "print(type(str(x)))\n",
        "print(str(x))"
      ],
      "execution_count": null,
      "outputs": [
        {
          "output_type": "stream",
          "name": "stdout",
          "text": [
            "<class 'int'>\n",
            "12\n",
            "<class 'float'>\n",
            "12.0\n",
            "<class 'str'>\n",
            "12\n"
          ]
        }
      ]
    },
    {
      "cell_type": "code",
      "metadata": {
        "id": "htYTfEuohuqe",
        "colab": {
          "base_uri": "https://localhost:8080/"
        },
        "outputId": "1e4f24b1-698f-4f70-9fbc-8a706b81ccbd"
      },
      "source": [
        "x = 'hello'\n",
        "print(type(x))\n",
        "print(x)\n",
        "\n",
        "# string을 float로 형변환할 수 없다!\n",
        "# print(type(float(x)))\n",
        "# print(float(x))"
      ],
      "execution_count": null,
      "outputs": [
        {
          "output_type": "stream",
          "name": "stdout",
          "text": [
            "<class 'str'>\n",
            "hello\n"
          ]
        }
      ]
    },
    {
      "cell_type": "code",
      "metadata": {
        "id": "zy2Yi5OzhzKL",
        "colab": {
          "base_uri": "https://localhost:8080/"
        },
        "outputId": "fd9a3809-9b50-4307-b51e-d5037f452677"
      },
      "source": [
        "x = '12'\n",
        "print(type(x))\n",
        "print(x)\n",
        "\n",
        "print(type(float(x)))\n",
        "print(float(x))"
      ],
      "execution_count": null,
      "outputs": [
        {
          "output_type": "stream",
          "name": "stdout",
          "text": [
            "<class 'str'>\n",
            "12\n",
            "<class 'float'>\n",
            "12.0\n"
          ]
        }
      ]
    },
    {
      "cell_type": "code",
      "metadata": {
        "id": "J9-y-YZv0lY0",
        "colab": {
          "base_uri": "https://localhost:8080/"
        },
        "outputId": "c78a3fd0-9a23-4e78-a4fa-b34f707cba80"
      },
      "source": [
        "x = True\n",
        "print(type(x))\n",
        "print(x)\n",
        "\n",
        "print(type(int(x)))\n",
        "print(int(x))\n",
        "\n",
        "x = False\n",
        "print(type(x))\n",
        "print(x)\n",
        "\n",
        "print(type(int(x)))\n",
        "print(int(x))"
      ],
      "execution_count": null,
      "outputs": [
        {
          "output_type": "stream",
          "name": "stdout",
          "text": [
            "<class 'bool'>\n",
            "True\n",
            "<class 'int'>\n",
            "1\n",
            "<class 'bool'>\n",
            "False\n",
            "<class 'int'>\n",
            "0\n"
          ]
        }
      ]
    },
    {
      "cell_type": "code",
      "metadata": {
        "id": "vRYk7b60xx1o",
        "colab": {
          "base_uri": "https://localhost:8080/"
        },
        "outputId": "289022fa-2e36-46a3-da41-e92913a2cdf5"
      },
      "source": [
        "a = 123\n",
        "b = '20'\n",
        "print(a + int(b))\n",
        "print(a + float(b))"
      ],
      "execution_count": null,
      "outputs": [
        {
          "output_type": "stream",
          "name": "stdout",
          "text": [
            "143\n",
            "143.0\n"
          ]
        }
      ]
    },
    {
      "cell_type": "markdown",
      "metadata": {
        "id": "W1BFfX4Dq87i"
      },
      "source": [
        "## Python Operators \n",
        "\n",
        "Let's play with Python Operators!\n",
        "\n",
        "* **Assignment** operators: assigning values to variables \n",
        "\n",
        "* **Arithmetic** operators: mathematics operators \n",
        "\n",
        "* **Comparison** operators: constructing a conditional statement \n",
        "\n",
        "* **Logical** operators: combining conditional statements\n",
        "\n",
        "* **Identity** operators: checking if two values are the same object with the same memory location\n",
        "\n",
        "* **Membership** operators: checking if a group of values contains a sub-value \n",
        "\n",
        "....\n",
        "\n",
        "\n"
      ]
    },
    {
      "cell_type": "markdown",
      "metadata": {
        "id": "3nU6Z9wvsVYy"
      },
      "source": [
        "### Assignment Operators\n",
        "\n",
        "Let's start with *assignment* operators:\n",
        "\n",
        "* `=`: variable name goes on the left side & the value being assigned goes to the right side\n",
        "\n"
      ]
    },
    {
      "cell_type": "code",
      "metadata": {
        "id": "Rrc5vUN8yDoI",
        "colab": {
          "base_uri": "https://localhost:8080/",
          "height": 35
        },
        "outputId": "18c1ba66-3f1d-4485-fdf1-a7fe67054d41"
      },
      "source": [
        "planet = 'Earth'\n",
        "planet"
      ],
      "execution_count": null,
      "outputs": [
        {
          "output_type": "execute_result",
          "data": {
            "text/plain": [
              "'Earth'"
            ],
            "application/vnd.google.colaboratory.intrinsic+json": {
              "type": "string"
            }
          },
          "metadata": {},
          "execution_count": 31
        }
      ]
    },
    {
      "cell_type": "markdown",
      "metadata": {
        "id": "ipDtgwMhst3I"
      },
      "source": [
        "### Arithmetic Operators \n",
        "\n",
        "Used for most basic mathematical operations \n",
        "\n",
        "* `+` Addition: adds values \n",
        "* `-` Subtraction: subtracts values\n",
        "* `*` Multiplication: multiplies values\n",
        "* `/` Division (float): divides the first value by the second value and returns value with decimals\n",
        "* `//` Division (floor): divide two values and returns integers without decimals\n",
        "* `%` Modulus: gives the remainder of a division result\n",
        "* `**` Power: raises the first value to the power of second value "
      ]
    },
    {
      "cell_type": "code",
      "metadata": {
        "id": "IeHK7HImyOsm",
        "colab": {
          "base_uri": "https://localhost:8080/"
        },
        "outputId": "dfe794e9-58ac-44bf-c2ae-877365eef27a"
      },
      "source": [
        "a = 5\n",
        "b = 3\n",
        "\n",
        "c = a + b\n",
        "d = a - b\n",
        "e = a * b\n",
        "f = a / b\n",
        "g = a // b\n",
        "h = a % b\n",
        "i = a ** b\n",
        "\n",
        "print('a is', a, 'and b is', b)\n",
        "print('a + b is', c)\n",
        "print('a - b is', d)\n",
        "print('a * b is', e)\n",
        "print('a / b is', f)\n",
        "print('a // b is', g)\n",
        "print('a % b is', h)\n",
        "print('a ** b is', i)"
      ],
      "execution_count": null,
      "outputs": [
        {
          "output_type": "stream",
          "name": "stdout",
          "text": [
            "a is 5 and b is 3\n",
            "a + b is 8\n",
            "a - b is 2\n",
            "a * b is 15\n",
            "a / b is 1.6666666666666667\n",
            "a // b is 1\n",
            "a % b is 2\n",
            "a ** b is 125\n"
          ]
        }
      ]
    },
    {
      "cell_type": "markdown",
      "metadata": {
        "id": "ZhOs09XxuIvK"
      },
      "source": [
        "### Comparison Operators \n",
        "\n",
        "* `==` Equal: returns True if left side is equal to the right side\n",
        "* `!=` Not equal: returns True if left side is not equal to right side\n",
        "* `>` Greater than: returns True if left side is grater than the right side\n",
        "* `<` Less than: returns True if left side is less than the right side\n",
        "* `>=` Greater than or equal to: returns True if left side is grater than or equal to the right side\n",
        "* `<=` Less than: returns True if left side is less than or equal to the right side"
      ]
    },
    {
      "cell_type": "code",
      "metadata": {
        "id": "NhSnhf6OzNT4",
        "colab": {
          "base_uri": "https://localhost:8080/"
        },
        "outputId": "29c8d78c-6078-4c61-d66a-8bbda9cffabc"
      },
      "source": [
        "a = 5\n",
        "b = 3\n",
        "\n",
        "c = a == b\n",
        "d = a != b\n",
        "e = a > b\n",
        "f = a < b\n",
        "g = a >= b\n",
        "h = a <= b\n",
        "\n",
        "print('a is', a, 'and b is', b)\n",
        "print('a == b is', c)\n",
        "print('a != b is', d)\n",
        "print('a > b is', e)\n",
        "print('a < b is', f)\n",
        "print('a >= b is', g)\n",
        "print('a <= b is', h)"
      ],
      "execution_count": null,
      "outputs": [
        {
          "output_type": "stream",
          "name": "stdout",
          "text": [
            "a is 5 and b is 3\n",
            "a == b is False\n",
            "a != b is True\n",
            "a > b is True\n",
            "a < b is False\n",
            "a >= b is True\n",
            "a <= b is False\n"
          ]
        }
      ]
    },
    {
      "cell_type": "markdown",
      "metadata": {
        "id": "CJdpjPg9t5EV"
      },
      "source": [
        "### Logical Operators \n",
        "\n",
        "* `and` logical AND: returns True when both operatnds are True \n",
        "* `or` logical OR: returns True if at least one of the operands is True\n",
        "* `not` logical NOT: returns True if operand is False"
      ]
    },
    {
      "cell_type": "code",
      "metadata": {
        "id": "dQU6gTttz4_H",
        "colab": {
          "base_uri": "https://localhost:8080/"
        },
        "outputId": "d4e87390-0142-4615-a244-4b5b1ad0eb2a"
      },
      "source": [
        "x = 5\n",
        "print(x > 3 and x < 10)"
      ],
      "execution_count": null,
      "outputs": [
        {
          "output_type": "stream",
          "name": "stdout",
          "text": [
            "True\n"
          ]
        }
      ]
    },
    {
      "cell_type": "code",
      "metadata": {
        "id": "tGYX5ElRz9FG",
        "colab": {
          "base_uri": "https://localhost:8080/"
        },
        "outputId": "81f194e9-5fc6-4911-ce3f-19ec7eb55b5d"
      },
      "source": [
        "x = 15\n",
        "print(x > 3 and x < 10)"
      ],
      "execution_count": null,
      "outputs": [
        {
          "output_type": "stream",
          "name": "stdout",
          "text": [
            "False\n"
          ]
        }
      ]
    },
    {
      "cell_type": "code",
      "metadata": {
        "id": "UMg59S0B0IG2",
        "colab": {
          "base_uri": "https://localhost:8080/"
        },
        "outputId": "de1f0ae6-f116-4ebe-ff31-6b52033b4f0d"
      },
      "source": [
        "x = 5\n",
        "print(x > 3 or x < 4)"
      ],
      "execution_count": null,
      "outputs": [
        {
          "output_type": "stream",
          "name": "stdout",
          "text": [
            "True\n"
          ]
        }
      ]
    },
    {
      "cell_type": "code",
      "metadata": {
        "id": "ZGQZE8z00Mm4",
        "colab": {
          "base_uri": "https://localhost:8080/"
        },
        "outputId": "04686e4f-ff97-48cc-a563-1327f3e7e651"
      },
      "source": [
        "x = 5\n",
        "print(x < 2 or x > 6)"
      ],
      "execution_count": null,
      "outputs": [
        {
          "output_type": "stream",
          "name": "stdout",
          "text": [
            "False\n"
          ]
        }
      ]
    },
    {
      "cell_type": "markdown",
      "metadata": {
        "id": "v2Dh2avEwM7-"
      },
      "source": [
        "### Membership Operators / Identity Operators \n",
        "\n",
        "* `in`: return True if an object is in another object\n",
        "* `not in`: return True if an object is not in another object\n",
        "\n",
        "* `is`: tells if two objects are identical\n",
        "* `is not`: tells if two objects are not identical\n",
        "\n",
        "**Note** that `is` returns False if it is not the same object, even if they have the same content \n"
      ]
    },
    {
      "cell_type": "code",
      "metadata": {
        "id": "SQgs4iWp08ff",
        "colab": {
          "base_uri": "https://localhost:8080/"
        },
        "outputId": "066b1095-7155-45ec-fb9b-0ef67b203b89"
      },
      "source": [
        "x = ['apple', 'banana'] # list\n",
        "print('apple' in x)\n",
        "print('pear' in x)\n",
        "\n",
        "print('a' in 'apple')"
      ],
      "execution_count": null,
      "outputs": [
        {
          "output_type": "stream",
          "name": "stdout",
          "text": [
            "True\n",
            "False\n",
            "True\n"
          ]
        }
      ]
    },
    {
      "cell_type": "code",
      "metadata": {
        "id": "c53am3VZ0Y3D",
        "colab": {
          "base_uri": "https://localhost:8080/"
        },
        "outputId": "78197b6a-3928-457f-e2d5-828eed6543af"
      },
      "source": [
        "# ==는 값을 비교한다면, is는 메모리 주소마저 같아야 함\n",
        "a, b = 5, 5\n",
        "\n",
        "# id는 메모리 주소를 나타냄\n",
        "print(id(a), id(b))\n",
        "print(a is b)\n",
        "\n",
        "a, b = 56, 92\n",
        "print(a is b)\n",
        "\n",
        "x = 1000\n",
        "print(x, id(x))\n",
        "y = 1001\n",
        "print(y, id(y))\n",
        "y = y-1\n",
        "print(y, id(y))\n",
        "print(x is y)\n",
        "print(x == y)"
      ],
      "execution_count": null,
      "outputs": [
        {
          "output_type": "stream",
          "name": "stdout",
          "text": [
            "11256192 11256192\n",
            "True\n",
            "False\n",
            "1000 139740759671760\n",
            "1001 139740759671856\n",
            "1000 139740759671792\n",
            "False\n",
            "True\n"
          ]
        }
      ]
    },
    {
      "cell_type": "markdown",
      "metadata": {
        "id": "WzwrNVJvxSBw"
      },
      "source": [
        "### More Assignment Operators \n",
        "\n",
        "* `+=`: adding values and assigning it: `a+=b` instead of `a=a+b`\n",
        "* Similarly, we can use `-=`, `*=`, `/=`, `%=`, `//=`, `**=`, ... "
      ]
    },
    {
      "cell_type": "code",
      "metadata": {
        "id": "jBL13D4N0Gd0",
        "colab": {
          "base_uri": "https://localhost:8080/"
        },
        "outputId": "918b177e-a5e1-461a-cbdb-f95a758f3527"
      },
      "source": [
        "x = 5\n",
        "print('x is', x)\n",
        "\n",
        "x += 3\n",
        "print('x += 3 is', x)\n",
        "\n",
        "x -= 2\n",
        "print('x += 2 is', x)\n",
        "\n",
        "x *= 1.5\n",
        "print('x *= 1.5 is', x)\n",
        "\n",
        "x /= 1.25\n",
        "print('x /= 1.25 is', x)\n",
        "\n",
        "x //= 3\n",
        "print('x //= 3 is', x)\n",
        "\n",
        "x **= 4\n",
        "print('x **= 4 is', x)"
      ],
      "execution_count": null,
      "outputs": [
        {
          "output_type": "stream",
          "name": "stdout",
          "text": [
            "x is 5\n",
            "x += 3 is 8\n",
            "x += 2 is 6\n",
            "x *= 1.5 is 9.0\n",
            "x /= 1.25 is 7.2\n",
            "x //= 3 is 2.0\n",
            "x **= 4 is 16.0\n"
          ]
        }
      ]
    },
    {
      "cell_type": "markdown",
      "metadata": {
        "id": "cnFa10fniX__"
      },
      "source": [
        "## Exercises - Print, Variable and Data Types\n",
        "\n",
        "Let's check out some exercises that will help you understand **print, variables, data types and operators in Python** better. \n"
      ]
    },
    {
      "cell_type": "markdown",
      "metadata": {
        "id": "X0bS5JLeihxH"
      },
      "source": [
        "### E-1\n",
        "\n",
        "Try to print a sentence \"Hello SCS2013 Students! Good to see you!!\" directly - using `print()` function."
      ]
    },
    {
      "cell_type": "code",
      "metadata": {
        "id": "qId3QwQbh4GV",
        "colab": {
          "base_uri": "https://localhost:8080/"
        },
        "outputId": "d3791cc2-dca7-4455-f41c-a8295b7970be"
      },
      "source": [
        "# print a sentence directly \n",
        "print('Hello SCS2013 Students! Good to see you!!')"
      ],
      "execution_count": null,
      "outputs": [
        {
          "output_type": "stream",
          "name": "stdout",
          "text": [
            "Hello SCS2013 Students! Good to see you!!\n"
          ]
        }
      ]
    },
    {
      "cell_type": "markdown",
      "metadata": {
        "id": "Pxu8s55NljnD"
      },
      "source": [
        "### E-2\n",
        "\n",
        "Assign `23` to variable `num_of_boxes`, and see what sentence is printed."
      ]
    },
    {
      "cell_type": "code",
      "metadata": {
        "id": "FP_xuTPZk_Yz",
        "colab": {
          "base_uri": "https://localhost:8080/"
        },
        "outputId": "263d0eea-1c6b-4ae9-c36c-758c72c42d5f"
      },
      "source": [
        "# assign a number 23 to the variable num_of_boxes\n",
        "\n",
        "num_of_boxes = 23\n",
        "\n",
        "print('There are', num_of_boxes, 'boxes on the table.')"
      ],
      "execution_count": null,
      "outputs": [
        {
          "output_type": "stream",
          "name": "stdout",
          "text": [
            "There are 23 boxes on the table.\n"
          ]
        }
      ]
    },
    {
      "cell_type": "markdown",
      "metadata": {
        "id": "TOMSbZiioPnD"
      },
      "source": [
        "### E-3\n",
        "\n",
        "Now assign a new value `5.3` to the variable `num_of_boxes` and print the value."
      ]
    },
    {
      "cell_type": "code",
      "metadata": {
        "id": "o_Ny_nH3oLw-",
        "colab": {
          "base_uri": "https://localhost:8080/"
        },
        "outputId": "5bf040e7-7ea9-4e2a-ce9c-3b158f0452b4"
      },
      "source": [
        "# assign a new value 5.3 to the variable and print the value\n",
        "\n",
        "num_of_boxes = 5.3\n",
        "\n",
        "print('Now there are', num_of_boxes, 'boxes on the table?!')"
      ],
      "execution_count": null,
      "outputs": [
        {
          "output_type": "stream",
          "name": "stdout",
          "text": [
            "Now there are 5.3 boxes on the table?!\n"
          ]
        }
      ]
    },
    {
      "cell_type": "markdown",
      "metadata": {
        "id": "jh3XsIgLy-08"
      },
      "source": [
        "### E-4\n",
        "\n",
        "Now, let's try to see what happens after assigning a new value (even a different type) to the existing variable. "
      ]
    },
    {
      "cell_type": "code",
      "metadata": {
        "id": "a2I9bt5uy87A",
        "colab": {
          "base_uri": "https://localhost:8080/"
        },
        "outputId": "66529670-98a3-4bd2-8d51-f0a78a7e7557"
      },
      "source": [
        "my_var = 1\n",
        "\n",
        "# print the type of the variable `my_var` \n",
        "print('The original value is', my_var, 'and the type is', type(my_var))\n",
        "\n",
        "# assign any float number to the variable `my_var`\n",
        "my_var = 3.141592\n",
        "\n",
        "# print the new value and the type of the variable `my_var`\n",
        "print('The updated value is', my_var, 'and the type is', type(my_var))\n",
        "\n",
        "# assign any word to the variable `my_var` (need to use quote(따옴표))\n",
        "my_var = 'Python'\n",
        "\n",
        "print('The updated value is', my_var, 'and the type is', type(my_var))\n",
        "\n",
        "# assign True or False to the variable `my_var` and print it\n",
        "my_var = bool(my_var)\n",
        "\n",
        "print('The updated value is', my_var, 'and the type is', type(my_var))"
      ],
      "execution_count": null,
      "outputs": [
        {
          "output_type": "stream",
          "name": "stdout",
          "text": [
            "The original value is 1 and the type is <class 'int'>\n",
            "The updated value is 3.141592 and the type is <class 'float'>\n",
            "The updated value is Python and the type is <class 'str'>\n",
            "The updated value is True and the type is <class 'bool'>\n"
          ]
        }
      ]
    },
    {
      "cell_type": "markdown",
      "metadata": {
        "id": "vlvMQsEe24Da"
      },
      "source": [
        "### E-5\n",
        "\n",
        "Multiply 10 with 5 and assign it to a variable `a`, and print the result.\n",
        "\n",
        "Divide 10 by 3 and assign it to a variable `b`, and print the result."
      ]
    },
    {
      "cell_type": "code",
      "metadata": {
        "id": "RB7tXiXn1S_k",
        "colab": {
          "base_uri": "https://localhost:8080/"
        },
        "outputId": "15e18dec-6efe-4c6f-8afe-5ab42c458ea7"
      },
      "source": [
        "# multiply 10 with 5 and print it\n",
        "a = 10 * 5\n",
        "print(a)\n",
        "\n",
        "# divide 10 by 3 and print it \n",
        "b = 10 / 3\n",
        "print(b)"
      ],
      "execution_count": null,
      "outputs": [
        {
          "output_type": "stream",
          "name": "stdout",
          "text": [
            "50\n",
            "3.3333333333333335\n"
          ]
        }
      ]
    },
    {
      "cell_type": "markdown",
      "metadata": {
        "id": "EM8YiQnz38xU"
      },
      "source": [
        "### E-6\n",
        "\n",
        "Use the comparison operator to check if `5` is **not equal** to 21"
      ]
    },
    {
      "cell_type": "code",
      "metadata": {
        "id": "nRqWNzCj3qc5",
        "colab": {
          "base_uri": "https://localhost:8080/"
        },
        "outputId": "0607d74e-6037-4306-caf0-cd2eeb97e7f5"
      },
      "source": [
        "# check if 5 is not equal to 21\n",
        "check = 5 != 21\n",
        "\n",
        "print('5 and 21 is not equal:', check)"
      ],
      "execution_count": null,
      "outputs": [
        {
          "output_type": "stream",
          "name": "stdout",
          "text": [
            "5 and 21 is not equal: True\n"
          ]
        }
      ]
    },
    {
      "cell_type": "markdown",
      "metadata": {
        "id": "c2W5kbIf5Bmw"
      },
      "source": [
        "### E-7\n",
        "\n",
        "Check if `x` is a three-digit (세자리수) even (짝수) number.\n",
        "\n"
      ]
    },
    {
      "cell_type": "code",
      "metadata": {
        "id": "uLgPHhjI5Z1p",
        "colab": {
          "base_uri": "https://localhost:8080/"
        },
        "outputId": "950ea563-5f13-4e45-bb35-996d3c08d854"
      },
      "source": [
        "x = 592\n",
        "\n",
        "# check_1: check if x is a \bthree-digit number\n",
        "check_1 = (x // 100 is not 0) and (x // 1000 is 0)\n",
        "# check_1 = (x >= 100) and (x < 1000)\n",
        "\n",
        "# check_2: check if x is an even number\n",
        "check_2 = x % 2 == 0 \n",
        "\n",
        "# check: check if x is a three-digit even number\n",
        "check = check_1 and check_2\n",
        "\n",
        "print('x', x, 'is a three-digit number:', check_1)\n",
        "print('x', x, 'is an even number:', check_2)\n",
        "print('x', x, 'is a three-digit even number:', check)"
      ],
      "execution_count": null,
      "outputs": [
        {
          "output_type": "stream",
          "name": "stdout",
          "text": [
            "x 592 is a three-digit number: True\n",
            "x 592 is an even number: True\n",
            "x 592 is a three-digit even number: True\n"
          ]
        }
      ]
    }
  ]
}