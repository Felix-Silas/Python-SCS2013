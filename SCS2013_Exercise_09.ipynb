{
  "nbformat": 4,
  "nbformat_minor": 0,
  "metadata": {
    "colab": {
      "provenance": [],
      "collapsed_sections": []
    },
    "kernelspec": {
      "name": "python3",
      "display_name": "Python 3"
    },
    "language_info": {
      "name": "python"
    }
  },
  "cells": [
    {
      "cell_type": "markdown",
      "metadata": {
        "id": "EzZiRhCEg1JC"
      },
      "source": [
        "# SCS2013 Exercise 09 (2022 Fall)\n",
        "\n",
        "**This exercise notebook will go through the understanding of \"Built-in Functions\" and \"List comprehension\" and \"Copy\"**\n",
        "\n",
        "- understanding built-in functions\n",
        "- List comprehension \n",
        "- copy values in Python\n",
        "\n",
        "\n",
        "\n"
      ]
    },
    {
      "cell_type": "markdown",
      "metadata": {
        "id": "iVsqfRIO3Ldr"
      },
      "source": [
        "## Built-in Functions \n",
        "\n",
        "Python provides a lot of built-in functions. We now know a framework of function in Python! Let's check some popular built-in functions again.\n",
        "\n"
      ]
    },
    {
      "cell_type": "code",
      "metadata": {
        "id": "TRcZCtuB3Ncy",
        "colab": {
          "base_uri": "https://localhost:8080/"
        },
        "outputId": "b4515dc1-8974-414b-caa4-1fcce915b947"
      },
      "source": [
        "x = abs(-3.44)\n",
        "print('절댓값:', x)"
      ],
      "execution_count": 1,
      "outputs": [
        {
          "output_type": "stream",
          "name": "stdout",
          "text": [
            "절댓값: 3.44\n"
          ]
        }
      ]
    },
    {
      "cell_type": "code",
      "source": [
        "my_lst = [True, True, 1, 0]\n",
        "x = all(my_lst) # 모두가 True여야 \n",
        "print(x)\n",
        "y = any(my_lst) # 한 개만 True여도\n",
        "print(y)"
      ],
      "metadata": {
        "id": "B-xMiN3FKH_j",
        "colab": {
          "base_uri": "https://localhost:8080/"
        },
        "outputId": "057fa480-5862-43dc-dc8e-eadeb2285c38"
      },
      "execution_count": 2,
      "outputs": [
        {
          "output_type": "stream",
          "name": "stdout",
          "text": [
            "False\n",
            "True\n"
          ]
        }
      ]
    },
    {
      "cell_type": "code",
      "source": [
        "fruits = ('Apple', 'Banana','Kiwi')\n",
        "x = enumerate(fruits) # start default = 0\n",
        "print(x)\n",
        "print(list(x))\n",
        "\n",
        "y = enumerate(fruits, start=1)\n",
        "print(list(y))\n",
        "\n",
        "for i, val in enumerate(fruits, start = 1):\n",
        "    print(i, val)"
      ],
      "metadata": {
        "id": "fXF6cqVfKH81",
        "colab": {
          "base_uri": "https://localhost:8080/"
        },
        "outputId": "2c65d228-140f-46a3-8ebc-de3095e67edb"
      },
      "execution_count": 3,
      "outputs": [
        {
          "output_type": "stream",
          "name": "stdout",
          "text": [
            "<enumerate object at 0x7f36c83e6780>\n",
            "[(0, 'Apple'), (1, 'Banana'), (2, 'Kiwi')]\n",
            "[(1, 'Apple'), (2, 'Banana'), (3, 'Kiwi')]\n",
            "1 Apple\n",
            "2 Banana\n",
            "3 Kiwi\n"
          ]
        }
      ]
    },
    {
      "cell_type": "code",
      "source": [
        "x = input('Enter your name: ') # input type은 string\n",
        "print('Hi! '+x) "
      ],
      "metadata": {
        "id": "Wn73jyXlKH6d",
        "colab": {
          "base_uri": "https://localhost:8080/"
        },
        "outputId": "d248f073-ebfb-410b-aa50-e410e415dc1f"
      },
      "execution_count": 4,
      "outputs": [
        {
          "output_type": "stream",
          "name": "stdout",
          "text": [
            "Enter your name: james\n",
            "Hi! james\n"
          ]
        }
      ]
    },
    {
      "cell_type": "code",
      "source": [
        "x = input('Enter employee name, age, and salary separated by space: ')\n",
        "print(x)"
      ],
      "metadata": {
        "id": "ILInwJ4BLGMP",
        "colab": {
          "base_uri": "https://localhost:8080/"
        },
        "outputId": "d358584c-facd-4f69-a458-c6dd11d9681d"
      },
      "execution_count": 5,
      "outputs": [
        {
          "output_type": "stream",
          "name": "stdout",
          "text": [
            "Enter employee name, age, and salary separated by space: james 24 100000000\n",
            "james 24 100000000\n"
          ]
        }
      ]
    },
    {
      "cell_type": "code",
      "source": [
        "name, age, salary = input('Enter employee name, age, and salary separated by space: ').split()\n",
        "print(f'Employee information: Name {name}, Age {age}, Salary {salary}')\n",
        "print(f'Type of each input: Name {type(name)}, Age {type(age)}, Salary {type(salary)}')"
      ],
      "metadata": {
        "id": "g5_6wkzvLRis",
        "colab": {
          "base_uri": "https://localhost:8080/"
        },
        "outputId": "7cc3b075-d1de-4816-e053-0242f8d01aec"
      },
      "execution_count": 6,
      "outputs": [
        {
          "output_type": "stream",
          "name": "stdout",
          "text": [
            "Enter employee name, age, and salary separated by space: james 24 10000000000\n",
            "Employee information: Name james, Age 24, Salary 10000000000\n",
            "Type of each input: Name <class 'str'>, Age <class 'str'>, Salary <class 'str'>\n"
          ]
        }
      ]
    },
    {
      "cell_type": "code",
      "metadata": {
        "id": "ZEtizjR0A2XZ",
        "colab": {
          "base_uri": "https://localhost:8080/"
        },
        "outputId": "5d7ec996-914e-4637-d327-363596eccd26"
      },
      "source": [
        "input_str = input('Enter elements of a list separated by space: ')\n",
        "\n",
        "input_lst = input_str.split()\n",
        "print('input list: ', input_lst)\n",
        "print(type(input_lst))\n",
        "\n",
        "for i in range(len(input_lst)):\n",
        "  input_lst[i] = int(input_lst[i])\n",
        "\n",
        "print('input list: ', input_lst)\n",
        "print(type(input_lst))"
      ],
      "execution_count": 7,
      "outputs": [
        {
          "output_type": "stream",
          "name": "stdout",
          "text": [
            "Enter elements of a list separated by space: 4\n",
            "input list:  ['4']\n",
            "<class 'list'>\n",
            "input list:  [4]\n",
            "<class 'list'>\n"
          ]
        }
      ]
    },
    {
      "cell_type": "code",
      "metadata": {
        "id": "_U8dyBIaBj4D",
        "colab": {
          "base_uri": "https://localhost:8080/"
        },
        "outputId": "609040d5-f796-40f9-d3bb-e6e53f19676d"
      },
      "source": [
        "# ***\n",
        "n = int(input('Enter the size of the list: '))\n",
        "print('\\n')\n",
        "input_lst = list(int(num) for num in input('Enter the list elements separated by space: ').split()[:n])\n",
        "\n",
        "print('input list: ', input_lst)"
      ],
      "execution_count": 8,
      "outputs": [
        {
          "output_type": "stream",
          "name": "stdout",
          "text": [
            "Enter the size of the list: 5\n",
            "\n",
            "\n",
            "Enter the list elements separated by space: 1 2 3 4 5\n",
            "input list:  [1, 2, 3, 4, 5]\n"
          ]
        }
      ]
    },
    {
      "cell_type": "markdown",
      "metadata": {
        "id": "Rn5xid0_e0vR"
      },
      "source": [
        "Get multiple lines, where each line is taken by using `input()`"
      ]
    },
    {
      "cell_type": "code",
      "metadata": {
        "id": "A2vUItftCFtE",
        "colab": {
          "base_uri": "https://localhost:8080/"
        },
        "outputId": "55657d08-5286-4fa9-f8ce-b8a56e3d563a"
      },
      "source": [
        "# list to store multi-line input\n",
        "# press enter Q to exit\n",
        "\n",
        "data = []\n",
        "print(\"Tell me about yourself (enter Q to exit): \")\n",
        "while True:\n",
        "    line = input()\n",
        "\n",
        "    if line == 'Q':\n",
        "      break\n",
        "    else:\n",
        "      data.append(line)"
      ],
      "execution_count": 9,
      "outputs": [
        {
          "name": "stdout",
          "output_type": "stream",
          "text": [
            "Tell me about yourself (enter Q to exit): \n",
            "5\n",
            "4\n",
            "Q\n"
          ]
        }
      ]
    },
    {
      "cell_type": "code",
      "source": [
        "print(data)\n",
        "\n",
        "finalText = '\\n'.join(data)\n",
        "print(\"Final text input\")\n",
        "print(finalText)"
      ],
      "metadata": {
        "id": "VeeDKxIGMI7U",
        "colab": {
          "base_uri": "https://localhost:8080/"
        },
        "outputId": "b9fcc00f-fd10-405b-87aa-6c38aaa5564c"
      },
      "execution_count": 10,
      "outputs": [
        {
          "output_type": "stream",
          "name": "stdout",
          "text": [
            "['5', '4']\n",
            "Final text input\n",
            "5\n",
            "4\n"
          ]
        }
      ]
    },
    {
      "cell_type": "code",
      "metadata": {
        "id": "5pfgMB0_CeTi",
        "colab": {
          "base_uri": "https://localhost:8080/"
        },
        "outputId": "99991002-ce6e-41bd-f7ae-8fa363163a32"
      },
      "source": [
        "name = input('Enter name: ')\n",
        "age = input('Enter age: ')\n",
        "salary = input('Enter salary: ')\n",
        "company = input('Enter company name: ')"
      ],
      "execution_count": 11,
      "outputs": [
        {
          "name": "stdout",
          "output_type": "stream",
          "text": [
            "Enter name: james\n",
            "Enter age: 24\n",
            "Enter salary: 1000000000000\n",
            "Enter company name: samsung\n"
          ]
        }
      ]
    },
    {
      "cell_type": "code",
      "source": [
        "print(name, age, salary, company, sep='-')\n",
        "\n",
        "print(name, end=', ')\n",
        "print(age, end=', ')\n",
        "print(salary, end=', ') # 기본적으로 줄바꿈인데 end 파라미터로 줄바꿈 X\n",
        "print(company)"
      ],
      "metadata": {
        "id": "okFjCWPj_79d",
        "colab": {
          "base_uri": "https://localhost:8080/"
        },
        "outputId": "aa644920-f27c-4e90-f982-2ec57c418cfb"
      },
      "execution_count": 12,
      "outputs": [
        {
          "output_type": "stream",
          "name": "stdout",
          "text": [
            "james-24-1000000000000-samsung\n",
            "james, 24, 1000000000000, samsung\n"
          ]
        }
      ]
    },
    {
      "cell_type": "code",
      "source": [
        "#range()\n",
        "#x = range(11)\n",
        "#x = range(2,11)\n",
        "x = range(2,11,3)\n",
        "\n",
        "print(x)\n",
        "\n",
        "for i in x:\n",
        "  print(i)"
      ],
      "metadata": {
        "id": "wCqWUjT1NBdg",
        "colab": {
          "base_uri": "https://localhost:8080/"
        },
        "outputId": "50f24308-063f-4f87-bc62-89589d5d6cd6"
      },
      "execution_count": 13,
      "outputs": [
        {
          "output_type": "stream",
          "name": "stdout",
          "text": [
            "range(2, 11, 3)\n",
            "2\n",
            "5\n",
            "8\n"
          ]
        }
      ]
    },
    {
      "cell_type": "code",
      "source": [
        "x = round(3.1415, 2) # 소수 둘째자리\n",
        "y = round(3.1415)\n",
        "print(x)\n",
        "print(y)\n",
        "\n",
        "x = round(-3.1415, 2)\n",
        "y = round(-3.1415)\n",
        "print(x)\n",
        "print(y)"
      ],
      "metadata": {
        "id": "YH8MBiMPNBbM",
        "colab": {
          "base_uri": "https://localhost:8080/"
        },
        "outputId": "7d7e696b-a03d-48a5-bf7a-44fe77a3b57a"
      },
      "execution_count": 14,
      "outputs": [
        {
          "output_type": "stream",
          "name": "stdout",
          "text": [
            "3.14\n",
            "3\n",
            "-3.14\n",
            "-3\n"
          ]
        }
      ]
    },
    {
      "cell_type": "code",
      "source": [
        "my_tup = ('c','g','f','q','h','y','a','p','k')\n",
        "x = sorted(my_tup) # 기본 내림차순\n",
        "print(x)\n",
        "y = sorted(my_tup, reverse=True)\n",
        "z = sorted(my_tup, reverse=False)\n",
        "print(y)\n",
        "print(z)"
      ],
      "metadata": {
        "id": "bgSVnufqNBY3",
        "colab": {
          "base_uri": "https://localhost:8080/"
        },
        "outputId": "7856acf4-4176-4ac4-d372-a37eaaf0a50d"
      },
      "execution_count": 15,
      "outputs": [
        {
          "output_type": "stream",
          "name": "stdout",
          "text": [
            "['a', 'c', 'f', 'g', 'h', 'k', 'p', 'q', 'y']\n",
            "['y', 'q', 'p', 'k', 'h', 'g', 'f', 'c', 'a']\n",
            "['a', 'c', 'f', 'g', 'h', 'k', 'p', 'q', 'y']\n"
          ]
        }
      ]
    },
    {
      "cell_type": "code",
      "source": [
        "a = zip([10,20,30], ('Apple','Banana','Kiwi'))\n",
        "print(a)"
      ],
      "metadata": {
        "id": "Vs_T91xFNBPB",
        "colab": {
          "base_uri": "https://localhost:8080/"
        },
        "outputId": "75bfe678-24b0-4c3e-e8eb-f67bb19b0991"
      },
      "execution_count": 16,
      "outputs": [
        {
          "output_type": "stream",
          "name": "stdout",
          "text": [
            "<zip object at 0x7f36c83dedc0>\n"
          ]
        }
      ]
    },
    {
      "cell_type": "code",
      "source": [
        "for item in zip([10,20,30], ('Apple','Banana','Kiwi')): # 넣어준 2개의 각각 요소를 묶어주는 것, enumerate는 index 순서느낌\n",
        "  print(item)"
      ],
      "metadata": {
        "id": "vzZMuIoSOP_Z",
        "colab": {
          "base_uri": "https://localhost:8080/"
        },
        "outputId": "caf1d18c-9622-43c0-9fd9-fe3237bea036"
      },
      "execution_count": 17,
      "outputs": [
        {
          "output_type": "stream",
          "name": "stdout",
          "text": [
            "(10, 'Apple')\n",
            "(20, 'Banana')\n",
            "(30, 'Kiwi')\n"
          ]
        }
      ]
    },
    {
      "cell_type": "code",
      "source": [
        "my_tup = ['c','g','f','q','h','y','a','p','k']\n",
        "\n",
        "for item in zip(range(5), sorted(my_tup)):\n",
        "  print(item)"
      ],
      "metadata": {
        "id": "WbgZJ552OeJl",
        "colab": {
          "base_uri": "https://localhost:8080/"
        },
        "outputId": "7f4fd7c1-8ed1-4b8f-9916-9cee94f3adc3"
      },
      "execution_count": 18,
      "outputs": [
        {
          "output_type": "stream",
          "name": "stdout",
          "text": [
            "(0, 'a')\n",
            "(1, 'c')\n",
            "(2, 'f')\n",
            "(3, 'g')\n",
            "(4, 'h')\n"
          ]
        }
      ]
    },
    {
      "cell_type": "markdown",
      "metadata": {
        "id": "CHl1RrfmTP_R"
      },
      "source": [
        "## List comprehensions\n",
        "\n",
        "```\n",
        "[ expression for item in iterable ]\n",
        "```\n",
        "```\n",
        "[ output parameter | the iterable | condition ]\n",
        "```\n"
      ]
    },
    {
      "cell_type": "markdown",
      "metadata": {
        "id": "W6cD1Fil1SLi"
      },
      "source": [
        "1. Iterating through a string 'human'"
      ]
    },
    {
      "cell_type": "code",
      "metadata": {
        "id": "TrDBWKqk14Nh",
        "colab": {
          "base_uri": "https://localhost:8080/"
        },
        "outputId": "eb31ed31-ead2-470e-b153-fa31786405f2"
      },
      "source": [
        "l_list = []\n",
        "\n",
        "for letter in 'human':\n",
        "  l_list.append(letter)\n",
        "\n",
        "print(l_list)"
      ],
      "execution_count": 19,
      "outputs": [
        {
          "output_type": "stream",
          "name": "stdout",
          "text": [
            "['h', 'u', 'm', 'a', 'n']\n"
          ]
        }
      ]
    },
    {
      "cell_type": "code",
      "metadata": {
        "id": "7WAv0f4D19Xi",
        "colab": {
          "base_uri": "https://localhost:8080/"
        },
        "outputId": "10242e89-dd4f-4539-9759-45261363297b"
      },
      "source": [
        "l_list = [ letter for letter in 'human' ]\n",
        "print(l_list)"
      ],
      "execution_count": 20,
      "outputs": [
        {
          "output_type": "stream",
          "name": "stdout",
          "text": [
            "['h', 'u', 'm', 'a', 'n']\n"
          ]
        }
      ]
    },
    {
      "cell_type": "code",
      "metadata": {
        "id": "ppeRsuqG2akw",
        "colab": {
          "base_uri": "https://localhost:8080/"
        },
        "outputId": "923dd03b-cc16-4a4a-9567-40da2a55dee4"
      },
      "source": [
        "l_list = [ letter+'?' for letter in 'human']\n",
        "print(l_list)"
      ],
      "execution_count": 21,
      "outputs": [
        {
          "output_type": "stream",
          "name": "stdout",
          "text": [
            "['h?', 'u?', 'm?', 'a?', 'n?']\n"
          ]
        }
      ]
    },
    {
      "cell_type": "code",
      "source": [
        "lst_1 = [x for x in range(0,10)]\n",
        "print(lst_1)"
      ],
      "metadata": {
        "id": "EASS9R0wnpEJ",
        "colab": {
          "base_uri": "https://localhost:8080/"
        },
        "outputId": "e3dd3257-42bd-4b1c-a40f-60ac492fff41"
      },
      "execution_count": 22,
      "outputs": [
        {
          "output_type": "stream",
          "name": "stdout",
          "text": [
            "[0, 1, 2, 3, 4, 5, 6, 7, 8, 9]\n"
          ]
        }
      ]
    },
    {
      "cell_type": "markdown",
      "metadata": {
        "id": "2w4KfWD-43Ah"
      },
      "source": [
        "2. Conditionals in list comprehension\n"
      ]
    },
    {
      "cell_type": "code",
      "source": [
        "t_lst = []\n",
        "\n",
        "for x in range(10):\n",
        "    if x % 2 == 0:\n",
        "        t_lst.append(x)\n",
        "print(t_lst)"
      ],
      "metadata": {
        "colab": {
          "base_uri": "https://localhost:8080/"
        },
        "id": "6ZAfAxM-5JZQ",
        "outputId": "9e3841f5-dd48-4512-c25e-49a4c2ada728"
      },
      "execution_count": 23,
      "outputs": [
        {
          "output_type": "stream",
          "name": "stdout",
          "text": [
            "[0, 2, 4, 6, 8]\n"
          ]
        }
      ]
    },
    {
      "cell_type": "code",
      "metadata": {
        "id": "3OwVLRyV49PI",
        "colab": {
          "base_uri": "https://localhost:8080/"
        },
        "outputId": "4cb0d5ec-1049-4d5d-ba56-fe486b469359"
      },
      "source": [
        "n_list = [ x for x in range(10) if x % 2 == 0 ]\n",
        "print(n_list)"
      ],
      "execution_count": 24,
      "outputs": [
        {
          "output_type": "stream",
          "name": "stdout",
          "text": [
            "[0, 2, 4, 6, 8]\n"
          ]
        }
      ]
    },
    {
      "cell_type": "code",
      "source": [
        "lst_2 = [x for x in range(0,10) if x > 5]\n",
        "print(lst_2)"
      ],
      "metadata": {
        "id": "sk_LZMSYntIy",
        "colab": {
          "base_uri": "https://localhost:8080/"
        },
        "outputId": "8d57a125-6cfa-4d55-d00e-cf27e7017aaf"
      },
      "execution_count": 25,
      "outputs": [
        {
          "output_type": "stream",
          "name": "stdout",
          "text": [
            "[6, 7, 8, 9]\n"
          ]
        }
      ]
    },
    {
      "cell_type": "code",
      "source": [
        "lst_3 = [x for x in 'Python Programming' if x in ['a','e','i','o','u']]\n",
        "print(lst_3)"
      ],
      "metadata": {
        "id": "ffecG3YhnyBs",
        "colab": {
          "base_uri": "https://localhost:8080/"
        },
        "outputId": "83ef0528-fc30-4666-bb6f-3cb9871d3834"
      },
      "execution_count": 26,
      "outputs": [
        {
          "output_type": "stream",
          "name": "stdout",
          "text": [
            "['o', 'o', 'a', 'i']\n"
          ]
        }
      ]
    },
    {
      "cell_type": "code",
      "source": [
        "lst = []\n",
        "for i in range(1,30):\n",
        "  if int(i**0.5) == i**0.5:\n",
        "    lst.append(i)\n",
        "\n",
        "print(lst)"
      ],
      "metadata": {
        "id": "k1-wLpI0n-8k",
        "colab": {
          "base_uri": "https://localhost:8080/"
        },
        "outputId": "417ad889-21a8-47db-832d-279c366bc90c"
      },
      "execution_count": 27,
      "outputs": [
        {
          "output_type": "stream",
          "name": "stdout",
          "text": [
            "[1, 4, 9, 16, 25]\n"
          ]
        }
      ]
    },
    {
      "cell_type": "code",
      "source": [
        "lst = [i for i in range(1,30) if int(i**0.5) == i**0.5]\n",
        "print(lst)"
      ],
      "metadata": {
        "id": "T3kSWe7MoDE1",
        "colab": {
          "base_uri": "https://localhost:8080/"
        },
        "outputId": "e04f90f4-003a-48cb-ca1f-8851aa42ac7c"
      },
      "execution_count": 28,
      "outputs": [
        {
          "output_type": "stream",
          "name": "stdout",
          "text": [
            "[1, 4, 9, 16, 25]\n"
          ]
        }
      ]
    },
    {
      "cell_type": "markdown",
      "metadata": {
        "id": "J5Us-1XE5hC8"
      },
      "source": [
        "3. Nested IF, If-Else with list comprehension"
      ]
    },
    {
      "cell_type": "code",
      "metadata": {
        "id": "RgS6ZX9s5j-q",
        "colab": {
          "base_uri": "https://localhost:8080/"
        },
        "outputId": "11d6a81f-dc2d-47c2-c5c6-43c9a94c30dc"
      },
      "source": [
        "n_list = [x for x in range(21) if x % 2 == 0 if x % 3 == 0 ]\n",
        "print(n_list)"
      ],
      "execution_count": 29,
      "outputs": [
        {
          "output_type": "stream",
          "name": "stdout",
          "text": [
            "[0, 6, 12, 18]\n"
          ]
        }
      ]
    },
    {
      "cell_type": "code",
      "metadata": {
        "id": "5B9XEkpb5EE9",
        "colab": {
          "base_uri": "https://localhost:8080/"
        },
        "outputId": "aed6c17a-d12b-4126-8caf-d848451ac817"
      },
      "source": [
        "n_list = [(x,'Even') if x % 2 == 0 else (x,'Odd') for x in range(5)]\n",
        "print(n_list)"
      ],
      "execution_count": 30,
      "outputs": [
        {
          "output_type": "stream",
          "name": "stdout",
          "text": [
            "[(0, 'Even'), (1, 'Odd'), (2, 'Even'), (3, 'Odd'), (4, 'Even')]\n"
          ]
        }
      ]
    },
    {
      "cell_type": "markdown",
      "metadata": {
        "id": "H91tMoX57MkX"
      },
      "source": [
        "4. Nested loops in list comprehension"
      ]
    },
    {
      "cell_type": "code",
      "metadata": {
        "id": "DGvtgaGJ7QEK",
        "colab": {
          "base_uri": "https://localhost:8080/"
        },
        "outputId": "af9bba73-9530-4a4f-f745-ae93a019843f"
      },
      "source": [
        "n_list = [[i*j for j in range(1,11)] for i in [2,3,5]]\n",
        "print(n_list)"
      ],
      "execution_count": 31,
      "outputs": [
        {
          "output_type": "stream",
          "name": "stdout",
          "text": [
            "[[2, 4, 6, 8, 10, 12, 14, 16, 18, 20], [3, 6, 9, 12, 15, 18, 21, 24, 27, 30], [5, 10, 15, 20, 25, 30, 35, 40, 45, 50]]\n"
          ]
        }
      ]
    },
    {
      "cell_type": "markdown",
      "source": [
        "5. Comprehension for dictionary"
      ],
      "metadata": {
        "id": "tesSXgfsngzg"
      }
    },
    {
      "cell_type": "code",
      "source": [
        "def dict_for(keys, values):\n",
        "  my_dct = {}\n",
        "  for i in range(len(keys)):\n",
        "    my_dct[keys[i]] = values[i]\n",
        "  return my_dct\n",
        "\n",
        "Movie = ['Sholay', 'Wanted', 'War']\n",
        "Actor = ['Amitabh', 'Salman', 'Hritik']\n",
        "print(dict_for(Movie, Actor))"
      ],
      "metadata": {
        "id": "NPwmR5R6oKbs",
        "colab": {
          "base_uri": "https://localhost:8080/"
        },
        "outputId": "54404e46-8fa0-4008-ccf2-5c7fc814140d"
      },
      "execution_count": 32,
      "outputs": [
        {
          "output_type": "stream",
          "name": "stdout",
          "text": [
            "{'Sholay': 'Amitabh', 'Wanted': 'Salman', 'War': 'Hritik'}\n"
          ]
        }
      ]
    },
    {
      "cell_type": "code",
      "source": [
        "def dict_compr(keys, values):\n",
        "  return {keys[i]: values[i] for i in range(len(keys))}\n",
        "\n",
        "Movie = ['Sholay', 'Wanted', 'War']\n",
        "Actor = ['Amitabh', 'Salman', 'Hritik']\n",
        "print(dict_compr(Movie, Actor))"
      ],
      "metadata": {
        "id": "QATbz4jjoNG4",
        "colab": {
          "base_uri": "https://localhost:8080/"
        },
        "outputId": "c29df268-a9c2-4341-8fc1-691d6f4b4a6e"
      },
      "execution_count": 33,
      "outputs": [
        {
          "output_type": "stream",
          "name": "stdout",
          "text": [
            "{'Sholay': 'Amitabh', 'Wanted': 'Salman', 'War': 'Hritik'}\n"
          ]
        }
      ]
    },
    {
      "cell_type": "markdown",
      "source": [
        "## Copy in Python\n",
        "\n",
        "How to copy values in Python? \n",
        "\n",
        "1. Use **assignment operator \"=\"**\n",
        "- values are not copied: both the variable is just referring to the same object \n"
      ],
      "metadata": {
        "id": "RWx7BD0-TeT-"
      }
    },
    {
      "cell_type": "code",
      "source": [
        "# copy using an assignment operator\n",
        "\n",
        "lst_a = [2,5,4,3,6,1]\n",
        "print(lst_a)\n",
        "\n",
        "lst_b = lst_a\n",
        "print(lst_b)\n",
        "\n",
        "lst_a[0] = 10\n",
        "print(lst_a)\n",
        "print(lst_b)"
      ],
      "metadata": {
        "id": "VK1r3-Q1TgIx",
        "colab": {
          "base_uri": "https://localhost:8080/"
        },
        "outputId": "419ca96e-4ab6-4d53-a41d-e775ddd781ef"
      },
      "execution_count": 34,
      "outputs": [
        {
          "output_type": "stream",
          "name": "stdout",
          "text": [
            "[2, 5, 4, 3, 6, 1]\n",
            "[2, 5, 4, 3, 6, 1]\n",
            "[10, 5, 4, 3, 6, 1]\n",
            "[10, 5, 4, 3, 6, 1]\n"
          ]
        }
      ]
    },
    {
      "cell_type": "markdown",
      "source": [
        "2. Use **constructor** or **slicing**\n",
        "- the list is copied  "
      ],
      "metadata": {
        "id": "biCQ4pTuBC6k"
      }
    },
    {
      "cell_type": "code",
      "source": [
        "# copy using constructor, or slicing\n",
        "\n",
        "lst_a = [2,5,4,3,6,1]\n",
        "print(lst_a)\n",
        "\n",
        "lst_b = list(lst_a)\n",
        "print(lst_b)\n",
        "\n",
        "lst_a[0] = 10\n",
        "print(lst_a)\n",
        "print(lst_b)"
      ],
      "metadata": {
        "id": "HCqnJUPshum6",
        "colab": {
          "base_uri": "https://localhost:8080/"
        },
        "outputId": "49e5cd9d-081b-4f1d-a3f8-57d732907d18"
      },
      "execution_count": 35,
      "outputs": [
        {
          "output_type": "stream",
          "name": "stdout",
          "text": [
            "[2, 5, 4, 3, 6, 1]\n",
            "[2, 5, 4, 3, 6, 1]\n",
            "[10, 5, 4, 3, 6, 1]\n",
            "[2, 5, 4, 3, 6, 1]\n"
          ]
        }
      ]
    },
    {
      "cell_type": "markdown",
      "source": [
        "3. Use shallow copy **copy()**\n",
        "- the list is copied\n",
        "- but it cannot copy a nested List"
      ],
      "metadata": {
        "id": "R9YGIIhABNTm"
      }
    },
    {
      "cell_type": "code",
      "source": [
        "# copy using shallow copy: copy()\n",
        "\n",
        "from copy import copy\n",
        "\n",
        "lst_a = [2,5,4,3,6,1]\n",
        "print(lst_a)\n",
        "\n",
        "lst_b = copy(lst_a)\n",
        "print(lst_b)\n",
        "\n",
        "lst_a[0] = 10\n",
        "print(lst_a)\n",
        "print(lst_b)"
      ],
      "metadata": {
        "id": "mLsVCa5zi_is",
        "colab": {
          "base_uri": "https://localhost:8080/"
        },
        "outputId": "6beab3c0-050b-4a3e-f002-77e1900c4a09"
      },
      "execution_count": 36,
      "outputs": [
        {
          "output_type": "stream",
          "name": "stdout",
          "text": [
            "[2, 5, 4, 3, 6, 1]\n",
            "[2, 5, 4, 3, 6, 1]\n",
            "[10, 5, 4, 3, 6, 1]\n",
            "[2, 5, 4, 3, 6, 1]\n"
          ]
        }
      ]
    },
    {
      "cell_type": "code",
      "source": [
        "# shallow copy for nested list\n",
        "\n",
        "from copy import copy\n",
        "\n",
        "lst_a = [1,[2,3],[4,5]]\n",
        "print(lst_a)\n",
        "\n",
        "lst_b = copy(lst_a) # list 안에 있는 list까지는 deep하게 copy하지 못함\n",
        "print(lst_b)\n",
        "\n",
        "lst_a[0] = 10\n",
        "lst_a[1][0] = 100\n",
        "print(lst_a)\n",
        "print(lst_b)"
      ],
      "metadata": {
        "id": "O9md0Z-bjmGv",
        "colab": {
          "base_uri": "https://localhost:8080/"
        },
        "outputId": "62fb65a1-1e25-49b5-f185-d7e8dbb7c670"
      },
      "execution_count": 37,
      "outputs": [
        {
          "output_type": "stream",
          "name": "stdout",
          "text": [
            "[1, [2, 3], [4, 5]]\n",
            "[1, [2, 3], [4, 5]]\n",
            "[10, [100, 3], [4, 5]]\n",
            "[1, [100, 3], [4, 5]]\n"
          ]
        }
      ]
    },
    {
      "cell_type": "markdown",
      "source": [
        "4. Use deep copy **deepcopy()**\n",
        "- create a new object and recursively keeps adding copies of the nested elements"
      ],
      "metadata": {
        "id": "X3_JS_TaBjGE"
      }
    },
    {
      "cell_type": "code",
      "source": [
        "# deep copy for nested list: deepcopy()\n",
        "\n",
        "from copy import deepcopy\n",
        "\n",
        "lst_a = [1,[2,3],[4,5]]\n",
        "print(lst_a)\n",
        "\n",
        "lst_b = deepcopy(lst_a) # 하위 리스트까지 복사\n",
        "print(lst_b)\n",
        "\n",
        "lst_a[0] = 10\n",
        "lst_a[1][0] = 100\n",
        "print(lst_a)\n",
        "print(lst_b)"
      ],
      "metadata": {
        "id": "dRodjJ9Lj8JI",
        "colab": {
          "base_uri": "https://localhost:8080/"
        },
        "outputId": "b1ef3816-bd4c-4043-c091-1dc3121cbbfa"
      },
      "execution_count": 38,
      "outputs": [
        {
          "output_type": "stream",
          "name": "stdout",
          "text": [
            "[1, [2, 3], [4, 5]]\n",
            "[1, [2, 3], [4, 5]]\n",
            "[10, [100, 3], [4, 5]]\n",
            "[1, [2, 3], [4, 5]]\n"
          ]
        }
      ]
    },
    {
      "cell_type": "markdown",
      "metadata": {
        "id": "pbc9EDEbgjgT"
      },
      "source": [
        "## Exercises"
      ]
    },
    {
      "cell_type": "markdown",
      "metadata": {
        "id": "cM9kighDgpCX"
      },
      "source": [
        "### E-1\n",
        "\n",
        "Using `print()` function, display the given words, e.g., `'word1'`, `'word2'`, `'word3'`, in the format `'word1**word2**word3`.\n"
      ]
    },
    {
      "cell_type": "code",
      "metadata": {
        "id": "EofkHcZghGRf",
        "colab": {
          "base_uri": "https://localhost:8080/"
        },
        "outputId": "96625147-39aa-40f8-d5b9-c791b2104554"
      },
      "source": [
        "# display four words 'My', 'Name', 'is', 'Kim' in the mentioned format\n",
        "# your code here\n",
        "\n",
        "lst1 = ['word1', 'word2', 'word3']\n",
        "\n",
        "for i in lst1:\n",
        "    print(i, end = \"**\")"
      ],
      "execution_count": 39,
      "outputs": [
        {
          "output_type": "stream",
          "name": "stdout",
          "text": [
            "word1**word2**word3**"
          ]
        }
      ]
    },
    {
      "cell_type": "markdown",
      "metadata": {
        "id": "Peh9f-K7B-G6"
      },
      "source": [
        "### E-2\n",
        "\n",
        "Write a function `report_GPA` \n",
        "- takes a number of classes as a function argument\n",
        "- in function: the user can enter each of his classes and scores, after which the program prints out a class list, grade list, and average GPA\n",
        "\n",
        "Resuls:\n",
        "```\n",
        "report_GPA(3)\n",
        ">>>\n",
        "Class 1\n",
        "What was the name of this class? >>> SCS2013\n",
        "What was your score? >>> 95\n",
        "Class 2\n",
        "What was the name of this class? >>> AIX7026\n",
        "What was your score? >>> 76.3\n",
        "Class 3\n",
        "What was the name of this class? >>> AIC2001\n",
        "What was your score? >>> 88.8\n",
        "Class list: ['SCS2013', 'AIX7026', 'AIC2001']\n",
        "Score list: [95.0, 76.3, 88.8]\n",
        "Overall GPA: 86.7\n",
        "```"
      ]
    },
    {
      "cell_type": "code",
      "metadata": {
        "id": "_bNXKAm8Moej"
      },
      "source": [
        "# your code here:\n",
        "def report_GPA(num_classes):\n",
        "  # class and score list\n",
        "  class_list = []\n",
        "  score_list = []\n",
        "\n",
        "  # Using a for loop, take user inputs of name of each class and corresponding score,\n",
        "  # and add it to class_list and score_list\n",
        "  for i in range(num_classes):\n",
        "      print(f'Class {i+1}')\n",
        "      c = input('What was the name of this class? >>> ')\n",
        "      score = float(input('What was your score? >>> '))\n",
        "      class_list.append(c)\n",
        "      score_list.append(score)\n",
        "\n",
        "  overall_gpa = sum(score_list) / len(score_list)\n",
        "\n",
        "\n",
        "  print('Class list:', class_list)\n",
        "  print('Grade list:', score_list)\n",
        "\n",
        "  # compute the overall gpa as an average of scores\n",
        "\n",
        "\n",
        "  print(f'Overall GPA: {overall_gpa}')\n"
      ],
      "execution_count": 40,
      "outputs": []
    },
    {
      "cell_type": "code",
      "metadata": {
        "id": "kknAfoMNC1xJ",
        "colab": {
          "base_uri": "https://localhost:8080/"
        },
        "outputId": "997010f8-76a2-4e38-f565-d22f4538a6ac"
      },
      "source": [
        "report_GPA(3)"
      ],
      "execution_count": 41,
      "outputs": [
        {
          "output_type": "stream",
          "name": "stdout",
          "text": [
            "Class 1\n",
            "What was the name of this class? >>> SCS2013\n",
            "What was your score? >>> 95\n",
            "Class 2\n",
            "What was the name of this class? >>> AIX7026\n",
            "What was your score? >>> 76.3\n",
            "Class 3\n",
            "What was the name of this class? >>> AIC2001\n",
            "What was your score? >>> 88.8\n",
            "Class list: ['SCS2013', 'AIX7026', 'AIC2001']\n",
            "Grade list: [95.0, 76.3, 88.8]\n",
            "Overall GPA: 86.7\n"
          ]
        }
      ]
    },
    {
      "cell_type": "markdown",
      "metadata": {
        "id": "EC7-oK7L8rDe"
      },
      "source": [
        "### E-3\n",
        "\n",
        "Write a list comprehension that prints out the possible results of two coin flips: one result would be `\"ht\"`. \n",
        "\n",
        "Result:\n",
        "```\n",
        "['hh', 'ht', 'th', 'tt']\n",
        "```"
      ]
    },
    {
      "cell_type": "code",
      "metadata": {
        "id": "FIfNbJeL8pvl",
        "colab": {
          "base_uri": "https://localhost:8080/"
        },
        "outputId": "16f5af28-607a-411a-fa00-88212772f5d6"
      },
      "source": [
        "coin = ['h','t']\n",
        "\n",
        "# your code here:\n",
        "lst = []\n",
        "for i in range(2):\n",
        "    for j in range(2):\n",
        "        lst.append(coin[i]+coin[j])\n",
        "print(lst)"
      ],
      "execution_count": 47,
      "outputs": [
        {
          "output_type": "stream",
          "name": "stdout",
          "text": [
            "['hh', 'ht', 'th', 'tt']\n"
          ]
        }
      ]
    },
    {
      "cell_type": "markdown",
      "metadata": {
        "id": "fPKLvsyJD8M6"
      },
      "source": [
        "### E-4\n",
        "\n",
        "Write a function called `pick_vowels` that takes in a string and uses a list comprehension to return all the vowels, i.e., `'a','e','i','o','u'`, in the string."
      ]
    },
    {
      "cell_type": "code",
      "metadata": {
        "id": "QuJbXtNn6V5E"
      },
      "source": [
        "vowels = ['a','e','i','o','u']\n",
        "\n",
        "# your code here:\n",
        "def pick_vowels(str):\n",
        "    lst = []\n",
        "    for i in str:\n",
        "        if i in vowels:\n",
        "            lst.append(i)\n",
        "    return lst"
      ],
      "execution_count": 50,
      "outputs": []
    },
    {
      "cell_type": "code",
      "metadata": {
        "id": "7fDYCtZiEdxe",
        "colab": {
          "base_uri": "https://localhost:8080/"
        },
        "outputId": "ea8cb495-ef7e-40f0-a655-b4da7ebc1ff8"
      },
      "source": [
        "# test\n",
        "print(pick_vowels('hello world! python programming'))"
      ],
      "execution_count": 51,
      "outputs": [
        {
          "output_type": "stream",
          "name": "stdout",
          "text": [
            "['e', 'o', 'o', 'o', 'o', 'a', 'i']\n"
          ]
        }
      ]
    },
    {
      "cell_type": "markdown",
      "metadata": {
        "id": "A6Z5jOHCEuA7"
      },
      "source": [
        "### E-5\n",
        "\n",
        "Use a list comprehension to make equivalent results of following nested for loops:\n",
        "\n",
        "```\n",
        "n_list = []\n",
        "\n",
        "for a in [10, 20, 30]:\n",
        "  for b in [1, 2, 3]:\n",
        "    n_list.append(a+b)\n",
        "```"
      ]
    },
    {
      "cell_type": "code",
      "source": [
        "# using nested for loops\n",
        "n_list = []\n",
        "\n",
        "for a in [10, 20, 30]:\n",
        "  for b in [1, 2, 3]:\n",
        "    n_list.append(a+b)\n",
        "\n",
        "print(n_list)"
      ],
      "metadata": {
        "id": "MhNCc_xaQw4L",
        "colab": {
          "base_uri": "https://localhost:8080/"
        },
        "outputId": "56deca33-f3de-4ce4-f6f3-d6f6c145f13a"
      },
      "execution_count": 52,
      "outputs": [
        {
          "output_type": "stream",
          "name": "stdout",
          "text": [
            "[11, 12, 13, 21, 22, 23, 31, 32, 33]\n"
          ]
        }
      ]
    },
    {
      "cell_type": "code",
      "metadata": {
        "id": "r3R84CZ5557u",
        "colab": {
          "base_uri": "https://localhost:8080/"
        },
        "outputId": "20ef2fbd-86cb-4b24-ea6a-c549a151697e"
      },
      "source": [
        "# your code here:\n",
        "\n",
        "n_list = [a+b for a in [10,20,30] for b in [1,2,3]]\n",
        "print(n_list)"
      ],
      "execution_count": 54,
      "outputs": [
        {
          "output_type": "stream",
          "name": "stdout",
          "text": [
            "[11, 12, 13, 21, 22, 23, 31, 32, 33]\n"
          ]
        }
      ]
    }
  ]
}