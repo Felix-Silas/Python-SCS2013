{
  "nbformat": 4,
  "nbformat_minor": 0,
  "metadata": {
    "colab": {
      "provenance": [],
      "collapsed_sections": [],
      "toc_visible": true
    },
    "kernelspec": {
      "name": "python3",
      "display_name": "Python 3"
    },
    "language_info": {
      "name": "python"
    }
  },
  "cells": [
    {
      "cell_type": "markdown",
      "metadata": {
        "id": "EzZiRhCEg1JC"
      },
      "source": [
        "# SCS2013 Exercise 06 (2022-Fall)\n",
        "\n",
        "**This exercise notebook will go through the \"Error Exceptions\" and \"Functions\" in Python:**\n",
        "\n",
        "* Errors and Exceptions\n",
        "* Python function\n",
        "* Variable Scope\n",
        "\n",
        "\n"
      ]
    },
    {
      "cell_type": "markdown",
      "metadata": {
        "id": "7twmntRHGyM-"
      },
      "source": [
        "## Python Errors and Exceptions\n",
        "\n",
        "Python has built-in exceptions which can output an error: if an error occurs while running the program, it calls an exception. \n",
        "\n",
        "To handle exceptions, the `try`-`except` block is used.\n",
        "\n",
        "- `try`: the code with the exceptions to catch. If an exception is raised, it jumps straight into the except block\n",
        "- `except`: this code is only executed if an exception occured in the `try` block. \n",
        "- `else`: code in `else` block is only executed if no exceptions were raised in the `try` block\n",
        "- `finally`: the code in the `finally` block is always executed, regardless of if an exception was raised or not"
      ]
    },
    {
      "cell_type": "code",
      "metadata": {
        "id": "56ebA6aTNby3"
      },
      "source": [
        "# syntax errors\n",
        "if a < 3\n",
        "\n",
        "# colon이 없으므로 문법 오류"
      ],
      "execution_count": null,
      "outputs": []
    },
    {
      "cell_type": "code",
      "source": [
        "# logical errors \n",
        "sum_squares = 0\n",
        "for i in range(10):\n",
        "  i_sq = i**2\n",
        "sum_squares += i_sq\n",
        "\n",
        "print(sum_squares)\n",
        "\n",
        "# 들여쓰기가 제대로 안 된 경우\n",
        "# 9의 제곱인 81만 값으로 나옴 "
      ],
      "metadata": {
        "id": "lpuT5LG_VfAe"
      },
      "execution_count": null,
      "outputs": []
    },
    {
      "cell_type": "code",
      "source": [
        "# logical errors \n",
        "nums = 0\n",
        "for num in range(10):\n",
        "  num += num\n",
        "\n",
        "print(nums)\n",
        "\n",
        "# num이 아닌 nums에 더해줘야 함 (잘못된 변수 사용)"
      ],
      "metadata": {
        "id": "uyJtKauMVrgk"
      },
      "execution_count": null,
      "outputs": []
    },
    {
      "cell_type": "code",
      "metadata": {
        "id": "y0yLMMTe-YJJ"
      },
      "source": [
        "# runtime errors\n",
        "print(Q)\n",
        "\n",
        "# 애초에 정의하지 않았던 변수 사용"
      ],
      "execution_count": null,
      "outputs": []
    },
    {
      "cell_type": "code",
      "source": [
        "# runtime errors \n",
        "1/0\n",
        "\n",
        "# ZeroDivisionError"
      ],
      "metadata": {
        "id": "KHTyBIKEVy78"
      },
      "execution_count": null,
      "outputs": []
    },
    {
      "cell_type": "code",
      "metadata": {
        "id": "_UWbTIH8JzmV",
        "colab": {
          "base_uri": "https://localhost:8080/"
        },
        "outputId": "93959b82-790a-4a59-f693-fb7f99dd4151"
      },
      "source": [
        "# try-except for ZeroDivisionError\n",
        "a = 5\n",
        "b = 0\n",
        "\n",
        "try: \n",
        "  result = a/b\n",
        "  print(result)\n",
        "except ZeroDivisionError:\n",
        "  print('You cannot divide by zero')"
      ],
      "execution_count": null,
      "outputs": [
        {
          "output_type": "stream",
          "name": "stdout",
          "text": [
            "You cannot divide by zero\n"
          ]
        }
      ]
    },
    {
      "cell_type": "code",
      "metadata": {
        "id": "A6apdZm7O47s"
      },
      "source": [
        "import sys\n",
        "randomList = ['a', 0, 2, 4]\n",
        "\n",
        "for i in randomList:\n",
        "  try:\n",
        "    print(f'The item is {i}')\n",
        "    r = 1/int(i)\n",
        "    break\n",
        "  except:\n",
        "    print(f'Errors: {sys.exc_info()[0]} occured!!')\n",
        "    print(f'Skip and Move to next item\\n')\n",
        "\n",
        "print(f'The reciprocal of {i} is {r}')"
      ],
      "execution_count": null,
      "outputs": []
    },
    {
      "cell_type": "markdown",
      "metadata": {
        "id": "Zc_TAg-mKxlV"
      },
      "source": [
        "We can write different logic for each type of exception that happens, by using multiple `except` blocks"
      ]
    },
    {
      "cell_type": "code",
      "metadata": {
        "id": "ht_vp2TlK2Bm"
      },
      "source": [
        "#a = 'Hello'\n",
        "a = 10\n",
        "b = 0\n",
        "\n",
        "try:\n",
        "  result = a/b\n",
        "  print(result)\n",
        "except TypeError:\n",
        "  print('Type Error')\n",
        "except ZeroDivisionError:\n",
        "  print('Zero Division Error')\n",
        "except:\n",
        "  print('Other errors')"
      ],
      "execution_count": null,
      "outputs": []
    },
    {
      "cell_type": "markdown",
      "metadata": {
        "id": "obn-PYVML6AF"
      },
      "source": [
        "We can use `else` block, and `finally` block as follows:"
      ]
    },
    {
      "cell_type": "code",
      "metadata": {
        "id": "EwZj-j0jSUGZ"
      },
      "source": [
        "try:\n",
        "  num = int(input('Enter a number: '))\n",
        "  r = 1/num\n",
        "except:\n",
        "  print('Something is wrong')\n",
        "else:\n",
        "  print('Everything is good')\n",
        "  print(r)\n",
        "\n",
        "# else는 except가 발생하지 않을 경우, 문제가 없을 경우에 실행되는 문구를 넣어주면 된다. "
      ],
      "execution_count": null,
      "outputs": []
    },
    {
      "cell_type": "code",
      "metadata": {
        "id": "Mq6-q96WST-A",
        "colab": {
          "base_uri": "https://localhost:8080/"
        },
        "outputId": "964fed46-2ddc-416b-f80e-637479471221"
      },
      "source": [
        "try:\n",
        "  num = int(input('Enter a number: '))\n",
        "  r = 1/num\n",
        "except:\n",
        "  print('Something is wrong')\n",
        "else:\n",
        "  print('Everything is good')\n",
        "  print(r)\n",
        "finally:\n",
        "  print('The \"try except\" is finished')"
      ],
      "execution_count": null,
      "outputs": [
        {
          "output_type": "stream",
          "name": "stdout",
          "text": [
            "Enter a number: abc\n",
            "Something is wrong\n",
            "The \"try except\" is finished\n"
          ]
        }
      ]
    },
    {
      "cell_type": "code",
      "metadata": {
        "id": "p-pdgiQmMHye"
      },
      "source": [
        "try:\n",
        "  x = int(input('Enter number: '))\n",
        "  y = x+10\n",
        "except:\n",
        "  print('Invalid input format for adding 10')\n",
        "else:\n",
        "  print(f'User input {x} + {10} = {y}')\n",
        "finally:\n",
        "  print('Finish all codes')"
      ],
      "execution_count": null,
      "outputs": []
    },
    {
      "cell_type": "code",
      "source": [
        "# raise your own exception\n",
        "x = -1\n",
        "\n",
        "if x < 0:\n",
        "  raise Exception(\"Sorry: no numbers below zero\")"
      ],
      "metadata": {
        "id": "FZKfYhx1pkni"
      },
      "execution_count": null,
      "outputs": []
    },
    {
      "cell_type": "markdown",
      "metadata": {
        "id": "SbRLtjQZWvhu"
      },
      "source": [
        "## Python Function\n",
        "\n",
        "Python function is a code block that perform a particular task. \n",
        "\n",
        "**Syntax:**\n",
        "```\n",
        "def <function_name>(parameters):\n",
        "  <statements>\n",
        "  return output\n",
        "```\n",
        "\n",
        "Let's first create a function called `print_info` that takes two parameters, `name` and `age` and print their values. "
      ]
    },
    {
      "cell_type": "code",
      "metadata": {
        "id": "cIqAwh06SGe7"
      },
      "source": [
        "# 1: print_info that takes name and age, and print their values  \n",
        "def print_info(name, age):\n",
        "  print(f'name: {name}, age: {age}')"
      ],
      "execution_count": null,
      "outputs": []
    },
    {
      "cell_type": "code",
      "metadata": {
        "id": "X0if8hVOSmlB",
        "colab": {
          "base_uri": "https://localhost:8080/"
        },
        "outputId": "9c005ec7-05e4-4bf5-bdc9-b41d661b587a"
      },
      "source": [
        "# call function \n",
        "print_info('Alice', 23)\n",
        "print_info('Peter', 30)\n",
        "print_info('James', 25)"
      ],
      "execution_count": null,
      "outputs": [
        {
          "output_type": "stream",
          "name": "stdout",
          "text": [
            "name: Alice, age: 23\n",
            "name: Peter, age: 30\n",
            "name: James, age: 25\n"
          ]
        }
      ]
    },
    {
      "cell_type": "code",
      "metadata": {
        "id": "FlGOq66jYWgi",
        "colab": {
          "base_uri": "https://localhost:8080/"
        },
        "outputId": "7b1ae5b3-1184-4185-c503-ffcff632a1a0"
      },
      "source": [
        "a = print_info('Alice', 23)\n",
        "print(a)"
      ],
      "execution_count": null,
      "outputs": [
        {
          "output_type": "stream",
          "name": "stdout",
          "text": [
            "name: Alice, age: 23\n",
            "None\n"
          ]
        }
      ]
    },
    {
      "cell_type": "code",
      "source": [
        "print_info('Alice')\n",
        "\n",
        "# age 변수가 입력되지 않았음"
      ],
      "metadata": {
        "id": "vWOLMjWHnlOi"
      },
      "execution_count": null,
      "outputs": []
    },
    {
      "cell_type": "markdown",
      "metadata": {
        "id": "ZxL0aCgGX1Bx"
      },
      "source": [
        "Let's create a function called `linear` that takes one parameter $x$ and return the linear output $y = 2x+3$."
      ]
    },
    {
      "cell_type": "code",
      "metadata": {
        "id": "VSVB8TlXSmht"
      },
      "source": [
        "# 2: linear function that outputs y = 2x+3\n",
        "def linear(x):\n",
        "  return 2*x+3"
      ],
      "execution_count": null,
      "outputs": []
    },
    {
      "cell_type": "code",
      "metadata": {
        "id": "x-HGP_J-SmYY",
        "colab": {
          "base_uri": "https://localhost:8080/"
        },
        "outputId": "00b19d04-1cc1-41d3-ea95-8e63620b0af4"
      },
      "source": [
        "# call function\n",
        "for x in range(-5,6):\n",
        "  print(f'x is {x}, y = linear(x) = 2x+3 is {linear(x)}')"
      ],
      "execution_count": null,
      "outputs": [
        {
          "output_type": "stream",
          "name": "stdout",
          "text": [
            "x is -5, y = linear(x) = 2x+3 is -7\n",
            "x is -4, y = linear(x) = 2x+3 is -5\n",
            "x is -3, y = linear(x) = 2x+3 is -3\n",
            "x is -2, y = linear(x) = 2x+3 is -1\n",
            "x is -1, y = linear(x) = 2x+3 is 1\n",
            "x is 0, y = linear(x) = 2x+3 is 3\n",
            "x is 1, y = linear(x) = 2x+3 is 5\n",
            "x is 2, y = linear(x) = 2x+3 is 7\n",
            "x is 3, y = linear(x) = 2x+3 is 9\n",
            "x is 4, y = linear(x) = 2x+3 is 11\n",
            "x is 5, y = linear(x) = 2x+3 is 13\n"
          ]
        }
      ]
    },
    {
      "cell_type": "markdown",
      "metadata": {
        "id": "2kZmPynBYU7n"
      },
      "source": [
        "When we want to get the answer back - we need to **return** the value."
      ]
    },
    {
      "cell_type": "code",
      "metadata": {
        "id": "mBFG6rbGT0jy"
      },
      "source": [
        "# without return value\n",
        "def add_1(x,y):\n",
        "  x+y\n",
        "\n",
        "# with printing value\n",
        "def add_2(x,y):\n",
        "  print(x+y)\n",
        "\n",
        "# with return value\n",
        "def add_3(x,y):\n",
        "  return x+y"
      ],
      "execution_count": null,
      "outputs": []
    },
    {
      "cell_type": "code",
      "metadata": {
        "id": "KDsGYCllTwhx",
        "colab": {
          "base_uri": "https://localhost:8080/"
        },
        "outputId": "bc022687-45d5-4c05-b1aa-19fd2057285d"
      },
      "source": [
        "# call function\n",
        "\n",
        "answer_1 = add_1(3,5)\n",
        "print('=====')\n",
        "print(f'without return: answer_1: {answer_1}')\n",
        "\n",
        "answer_2 = add_2(3,5)\n",
        "print('=====')\n",
        "print(f'with print: answer_2: {answer_2}')\n",
        "\n",
        "answer_3 = add_3(3,5)\n",
        "print('=====')\n",
        "print(f'with return: answer_3: {answer_3}')"
      ],
      "execution_count": null,
      "outputs": [
        {
          "output_type": "stream",
          "name": "stdout",
          "text": [
            "=====\n",
            "without return: answer_1: None\n",
            "8\n",
            "=====\n",
            "with print: answer_2: None\n",
            "=====\n",
            "with return: answer_3: 8\n"
          ]
        }
      ]
    },
    {
      "cell_type": "markdown",
      "metadata": {
        "id": "V-AjlaImZSLB"
      },
      "source": [
        "Functions can take multiple input parameters and output return values (including none). "
      ]
    },
    {
      "cell_type": "code",
      "metadata": {
        "id": "gtV07LvATyQG",
        "colab": {
          "base_uri": "https://localhost:8080/"
        },
        "outputId": "524433e1-043a-4238-acc9-3c7aece24ccd"
      },
      "source": [
        "# a function without any input parameter and return value\n",
        "\n",
        "def msg():\n",
        "  print('Welcome to SCS2013!')\n",
        "\n",
        "msg()"
      ],
      "execution_count": null,
      "outputs": [
        {
          "output_type": "stream",
          "name": "stdout",
          "text": [
            "Welcome to SCS2013!\n"
          ]
        }
      ]
    },
    {
      "cell_type": "code",
      "metadata": {
        "id": "4Q4nLtVgT35g",
        "colab": {
          "base_uri": "https://localhost:8080/"
        },
        "outputId": "129176b0-52f8-4e88-c888-f7ae7dacfe93"
      },
      "source": [
        "# check the output value\n",
        "a = msg()\n",
        "print(a)"
      ],
      "execution_count": null,
      "outputs": [
        {
          "output_type": "stream",
          "name": "stdout",
          "text": [
            "Welcome to SCS2013!\n",
            "None\n"
          ]
        }
      ]
    },
    {
      "cell_type": "code",
      "metadata": {
        "id": "P23wL4p4T-oA",
        "colab": {
          "base_uri": "https://localhost:8080/"
        },
        "outputId": "fb41ef7e-0464-420c-90e0-97a7552bc294"
      },
      "source": [
        "# a function with input parameters but without return value\n",
        "\n",
        "def print_info(name, age):\n",
        "  print('name:', name, ', age:', age)\n",
        "\n",
        "print_info('Alice', 23)"
      ],
      "execution_count": null,
      "outputs": [
        {
          "output_type": "stream",
          "name": "stdout",
          "text": [
            "name: Alice , age: 23\n"
          ]
        }
      ]
    },
    {
      "cell_type": "code",
      "metadata": {
        "id": "-75VXITnacOn",
        "colab": {
          "base_uri": "https://localhost:8080/"
        },
        "outputId": "753042e1-08e3-4b20-80a9-b303f4722edd"
      },
      "source": [
        "a = print_info('Alice', 23)\n",
        "print(a)"
      ],
      "execution_count": null,
      "outputs": [
        {
          "output_type": "stream",
          "name": "stdout",
          "text": [
            "name: Alice , age: 23\n",
            "None\n"
          ]
        }
      ]
    },
    {
      "cell_type": "code",
      "metadata": {
        "id": "98SPFDf-acJ8",
        "colab": {
          "base_uri": "https://localhost:8080/"
        },
        "outputId": "7c391573-0a9e-45df-b88f-c0f93bcefbd7"
      },
      "source": [
        "# a function with input parameters and a return value\n",
        "\n",
        "def add(x,y):\n",
        "  return x+y\n",
        "\n",
        "add(3,5)"
      ],
      "execution_count": null,
      "outputs": [
        {
          "output_type": "execute_result",
          "data": {
            "text/plain": [
              "8"
            ]
          },
          "metadata": {},
          "execution_count": 17
        }
      ]
    },
    {
      "cell_type": "code",
      "metadata": {
        "id": "2n686AZaaz3P",
        "colab": {
          "base_uri": "https://localhost:8080/"
        },
        "outputId": "1965084a-f12f-45a0-e2fe-e013e530e96e"
      },
      "source": [
        "a = add(3,5)\n",
        "print(a)"
      ],
      "execution_count": null,
      "outputs": [
        {
          "output_type": "stream",
          "name": "stdout",
          "text": [
            "8\n"
          ]
        }
      ]
    },
    {
      "cell_type": "code",
      "metadata": {
        "id": "jMToYJE8T_v2"
      },
      "source": [
        "# a function with input parameters and multiple return values\n",
        "\n",
        "def add_sub(x,y):\n",
        "  add = x+y\n",
        "  sub = x-y\n",
        "  return add, sub"
      ],
      "execution_count": null,
      "outputs": []
    },
    {
      "cell_type": "code",
      "source": [
        "result = add_sub(10,2)\n",
        "print(result)\n",
        "print(result[0]) # tuple 형태"
      ],
      "metadata": {
        "id": "VlEbB61Qw60J",
        "colab": {
          "base_uri": "https://localhost:8080/"
        },
        "outputId": "f4cc4b8e-bc96-40e3-d6ee-12dae8db7830"
      },
      "execution_count": null,
      "outputs": [
        {
          "output_type": "stream",
          "name": "stdout",
          "text": [
            "(12, 8)\n",
            "12\n"
          ]
        }
      ]
    },
    {
      "cell_type": "code",
      "metadata": {
        "id": "29M10ofQbDJN",
        "colab": {
          "base_uri": "https://localhost:8080/"
        },
        "outputId": "9f3d7939-527a-4e89-f73c-757476a46c09"
      },
      "source": [
        "a,b = add_sub(10,2)\n",
        "\n",
        "print('Add:', a)\n",
        "print('Sub:', b)"
      ],
      "execution_count": null,
      "outputs": [
        {
          "output_type": "stream",
          "name": "stdout",
          "text": [
            "Add: 12\n",
            "Sub: 8\n"
          ]
        }
      ]
    },
    {
      "cell_type": "markdown",
      "source": [
        "Let's create a function that returns a reversed version of an input object\n",
        "  - input can be list, string, ... "
      ],
      "metadata": {
        "id": "dBq4uWQ4o6FD"
      }
    },
    {
      "cell_type": "code",
      "source": [
        "my_str = \"python\"\n",
        "my_str[::-1]"
      ],
      "metadata": {
        "id": "MFT8PeLWxYgh",
        "colab": {
          "base_uri": "https://localhost:8080/",
          "height": 35
        },
        "outputId": "ccb39b77-dbf2-479c-ee3a-bb48088d8744"
      },
      "execution_count": null,
      "outputs": [
        {
          "output_type": "execute_result",
          "data": {
            "text/plain": [
              "'nohtyp'"
            ],
            "application/vnd.google.colaboratory.intrinsic+json": {
              "type": "string"
            }
          },
          "metadata": {},
          "execution_count": 23
        }
      ]
    },
    {
      "cell_type": "code",
      "source": [
        "# make a function that reverses the input\n",
        "def rev(my_text):\n",
        "  return my_text[::-1]"
      ],
      "metadata": {
        "id": "RGypLe91xePp"
      },
      "execution_count": null,
      "outputs": []
    },
    {
      "cell_type": "code",
      "source": [
        "result1= rev('python')\n",
        "result2 = rev([1,2,3])\n",
        "\n",
        "lst = [1, 2, 3, 'a']\n",
        "lst = lst.reverse()\n",
        "print(lst)\n",
        "\n",
        "\n",
        "print(result1)\n",
        "print(result2)"
      ],
      "metadata": {
        "id": "QnyeZ4HoxiWs",
        "colab": {
          "base_uri": "https://localhost:8080/"
        },
        "outputId": "da8c6393-a8e4-4bb8-bed2-f474355bd0c7"
      },
      "execution_count": null,
      "outputs": [
        {
          "output_type": "stream",
          "name": "stdout",
          "text": [
            "nohtyp\n",
            "[3, 2, 1]\n",
            "None\n"
          ]
        }
      ]
    },
    {
      "cell_type": "markdown",
      "metadata": {
        "id": "gDes3X5IcVHl"
      },
      "source": [
        "## Variable Scope\n",
        "\n",
        "When we define a function with variables, then those variables' scope is limited to that function. The **scope** is the effective range of the variable, which is the scope within which the variable can be used. \n",
        "\n",
        "- We cannot access the local variables from outside of the function. \n",
        "- We can access the global variables from everywhere.\n"
      ]
    },
    {
      "cell_type": "code",
      "metadata": {
        "id": "RThgxjI6nYtz",
        "colab": {
          "base_uri": "https://localhost:8080/"
        },
        "outputId": "6006041b-bbf8-4e5d-d388-40da747e0a1c"
      },
      "source": [
        "def f1():\n",
        "  my_Str = 'Test variable scope'\n",
        "  print('Inside f1(): my_Str:', my_Str)\n",
        "\n",
        "f1()\n",
        "\n",
        "# this will crash because my_str is a local variable\n",
        "\n",
        "# My_str은 local variable\n",
        "# print('Outside f1(): my_Str:', my_Str)"
      ],
      "execution_count": null,
      "outputs": [
        {
          "output_type": "stream",
          "name": "stdout",
          "text": [
            "Inside f1(): my_Str: Test variable scope\n",
            "Outside f1(): my_Str: 10\n"
          ]
        }
      ]
    },
    {
      "cell_type": "markdown",
      "metadata": {
        "id": "shcvwL82nqY1"
      },
      "source": [
        "The parameters of the function are also local variables and can only be used inside the function."
      ]
    },
    {
      "cell_type": "code",
      "metadata": {
        "id": "L397cEcmnjbE",
        "colab": {
          "base_uri": "https://localhost:8080/"
        },
        "outputId": "9da4f01c-32a7-4545-fe21-d4c3e9e81b96"
      },
      "source": [
        "def f1(x,y):\n",
        "  print('First value:', x)\n",
        "  print('Second value:', y)\n",
        "\n",
        "f1('variable', 'scope')\n",
        "# print('Outside: first value:', x)\n",
        "# print('Outside: second value:', y)"
      ],
      "execution_count": null,
      "outputs": [
        {
          "output_type": "stream",
          "name": "stdout",
          "text": [
            "First value: variable\n",
            "Second value: scope\n"
          ]
        }
      ]
    },
    {
      "cell_type": "markdown",
      "metadata": {
        "id": "PK6goLT7n74r"
      },
      "source": [
        "In addition to defining variables inside functions - **local variables**-, Python also allows variables to be defined outside of all functions - **global variables**.\n",
        "\n",
        "Unlike local variables, the default scope of global variables is the entire program - can be accessible everywhere!\n"
      ]
    },
    {
      "cell_type": "code",
      "metadata": {
        "id": "ZEx8vjiSrhYN",
        "colab": {
          "base_uri": "https://localhost:8080/"
        },
        "outputId": "56fddbeb-4a12-4698-8678-c69436628d7e"
      },
      "source": [
        "# global variable is visible everywhere \n",
        "# local variable is only visible inside a function\n",
        "\n",
        "a = 100\n",
        "\n",
        "def f1():\n",
        "  b = 10\n",
        "  print('1:', a)\n",
        "  print('2:', b)\n",
        "\n",
        "f1()\n",
        "print('3:', a)\n",
        "print('4:', b)"
      ],
      "execution_count": null,
      "outputs": [
        {
          "output_type": "stream",
          "name": "stdout",
          "text": [
            "1: 100\n",
            "2: 10\n",
            "3: 100\n",
            "4: 8\n"
          ]
        }
      ]
    },
    {
      "cell_type": "markdown",
      "metadata": {
        "id": "H_pLXViFpY-B"
      },
      "source": [
        "Global variable is **protected** by default: setting/changing a global variable from within a function is not simple. "
      ]
    },
    {
      "cell_type": "code",
      "metadata": {
        "id": "1rdypnUeruBr",
        "colab": {
          "base_uri": "https://localhost:8080/"
        },
        "outputId": "61b4c304-83e9-4f5f-9984-f3f71148c78f"
      },
      "source": [
        "a = 100\n",
        "print('1: Outside a function:', a)\n",
        "\n",
        "def f1():\n",
        "  a = 10\n",
        "  print('2: Inside a function:', a)\n",
        "\n",
        "f1()\n",
        "print('3: Outside a function:', a)"
      ],
      "execution_count": null,
      "outputs": [
        {
          "output_type": "stream",
          "name": "stdout",
          "text": [
            "1: Outside a function: 100\n",
            "2: Inside a function: 10\n",
            "3: Outside a function: 100\n"
          ]
        }
      ]
    },
    {
      "cell_type": "markdown",
      "metadata": {
        "id": "m5aGcVAUponj"
      },
      "source": [
        "To set the global variable inside a function: use **`global`** keyword. "
      ]
    },
    {
      "cell_type": "code",
      "metadata": {
        "id": "l6E5GO1gtDcx",
        "colab": {
          "base_uri": "https://localhost:8080/"
        },
        "outputId": "0484e07f-8ae3-4add-f2d5-3ad6cb17b330"
      },
      "source": [
        "a = 100\n",
        "print('1: Outside a function:', a)\n",
        "\n",
        "def f1():\n",
        "  # use global keyword to declare a global variable inside a function\n",
        "  global a\n",
        "  a = 10\n",
        "  print('2: Inside a function:', a)\n",
        "\n",
        "f1()\n",
        "print('3: Outside a function:', a)"
      ],
      "execution_count": null,
      "outputs": [
        {
          "output_type": "stream",
          "name": "stdout",
          "text": [
            "1: Outside a function: 100\n",
            "2: Inside a function: 10\n",
            "3: Outside a function: 10\n"
          ]
        }
      ]
    },
    {
      "cell_type": "markdown",
      "metadata": {
        "id": "7NDieqeUp05f"
      },
      "source": [
        "Various scopes: **LEGB rule**\n",
        "\n",
        "- **Local (function) scope**: whenever we define a variable within a function, its scope lies only within the function, and it exists for as long as the function is executing.\n",
        "\n",
        "- **Enclosing (nonlocal) scope**: when we have a nested function: the enclosing scope is the scope of the outer (enclosing) function \n",
        "\n",
        "- **Global scope**: whenever a variable is defined outside any function, it is a global variable and its scope is anywhere within the program.\n",
        "\n",
        "- **Built-in scope**: this is the widest scope that exists - all the special reserved keywords fall under this scope. We can call the keywords anywhere within our program without having to define them before use. \n",
        "\n",
        "```\n",
        "# global scope\n",
        "x = 0\n",
        "\n",
        "def outer():\n",
        "  # enclosed scope\n",
        "  x = 1\n",
        "  \n",
        "  def inner():\n",
        "    # local scope\n",
        "    x = 2\n",
        "```\n"
      ]
    },
    {
      "cell_type": "code",
      "metadata": {
        "id": "OwdnFsRjxdXK",
        "colab": {
          "base_uri": "https://localhost:8080/"
        },
        "outputId": "9e78ece4-fe19-433b-a794-0cf448d49211"
      },
      "source": [
        "x = 100\n",
        "x1 = 200\n",
        "print('1: value outside:', x, x1)\n",
        "\n",
        "def f1():\n",
        "  x = 70\n",
        "  x1 = 20\n",
        "\n",
        "  def f2():\n",
        "    global x\n",
        "    x = 7\n",
        "    x1 = 2\n",
        "    print('2: value inside f2:', x, x1)\n",
        "\n",
        "  f2()\n",
        "  print('3: value inside f1:', x, x1)\n",
        "\n",
        "f1()\n",
        "print('4: value outside:', x, x1)"
      ],
      "execution_count": null,
      "outputs": [
        {
          "output_type": "stream",
          "name": "stdout",
          "text": [
            "1: value outside: 100 200\n",
            "2: value inside f2: 7 2\n",
            "3: value inside f1: 70 20\n",
            "4: value outside: 7 200\n"
          ]
        }
      ]
    },
    {
      "cell_type": "markdown",
      "metadata": {
        "id": "mR2ubh4ZrMPC"
      },
      "source": [
        "The **`nonlocal`** keyword is useful in nested functions. It causes the variable to refer to the previously bound variable in the closest enclosing scope. "
      ]
    },
    {
      "cell_type": "code",
      "metadata": {
        "id": "fwEpIrWnxqdI",
        "colab": {
          "base_uri": "https://localhost:8080/"
        },
        "outputId": "56007b35-edba-4af0-aefa-cc4923ced7f1"
      },
      "source": [
        "x = 100\n",
        "x1 = 200\n",
        "print('1: value outside:', x, x1)\n",
        "\n",
        "def f1():\n",
        "  x = 70\n",
        "  x1 = 20\n",
        "\n",
        "  def f2():\n",
        "    nonlocal x # def f1까지\n",
        "    x = 7\n",
        "    global x1 # 전체 global\n",
        "    x1 = 2\n",
        "    print('2: value inside f2:', x, x1)\n",
        "\n",
        "  f2()\n",
        "  print('3: value inside f1:', x, x1)\n",
        "\n",
        "f1()\n",
        "print('4: value outside:', x, x1)"
      ],
      "execution_count": null,
      "outputs": [
        {
          "output_type": "stream",
          "name": "stdout",
          "text": [
            "1: value outside: 100 200\n",
            "2: value inside f2: 7 2\n",
            "3: value inside f1: 7 20\n",
            "4: value outside: 100 2\n"
          ]
        }
      ]
    },
    {
      "cell_type": "markdown",
      "metadata": {
        "id": "W3xDPi9PbOub"
      },
      "source": [
        "## Exercise for \"Functions\"\n"
      ]
    },
    {
      "cell_type": "markdown",
      "metadata": {
        "id": "jfV21DVzFBYO"
      },
      "source": [
        "### E-1 \n",
        "\n",
        "Create a function called `circle_area` that calculates the area of a circle as\n",
        "$a(r) = \\pi r^2$. It takes the radius as input and return the area of a circle.\n",
        "\n",
        "**note**: you can assign $\\pi$ value as $3.1415$"
      ]
    },
    {
      "cell_type": "code",
      "metadata": {
        "id": "5vjEUjRqEyx7"
      },
      "source": [
        "# your code here\n",
        "\n",
        "def circle_area(r):\n",
        "    pi = 3.1415\n",
        "    area = pi * r**2\n",
        "    return area"
      ],
      "execution_count": null,
      "outputs": []
    },
    {
      "cell_type": "code",
      "metadata": {
        "id": "6p6TcJn7FP4H",
        "colab": {
          "base_uri": "https://localhost:8080/"
        },
        "outputId": "c4357675-ad30-42f8-d21d-33e68924d606"
      },
      "source": [
        "print(circle_area(2))"
      ],
      "execution_count": null,
      "outputs": [
        {
          "output_type": "stream",
          "name": "stdout",
          "text": [
            "12.566\n"
          ]
        }
      ]
    },
    {
      "cell_type": "markdown",
      "metadata": {
        "id": "8Z_uKcUkHwQp"
      },
      "source": [
        "### E-2\n",
        "\n",
        "Write a function of name `frame_stars` that takes as input a string and return a new string that frames it with ``**********`` (10 stars). For example, \n",
        "\n",
        "```\n",
        "print(frame_stars('Welcome!'))\n",
        "\n",
        "**********\n",
        "Welcome!\n",
        "**********\n",
        "\n",
        "```\n"
      ]
    },
    {
      "cell_type": "code",
      "metadata": {
        "id": "kdPFyCJDHoTG"
      },
      "source": [
        "# your code here\n",
        "\n",
        "def frame_stars(str):\n",
        "    new_str = '*' * 10 + '\\n' + str + '\\n' + '*' * 10\n",
        "    return new_str"
      ],
      "execution_count": null,
      "outputs": []
    },
    {
      "cell_type": "code",
      "metadata": {
        "id": "gg2ocLeOInGv",
        "colab": {
          "base_uri": "https://localhost:8080/"
        },
        "outputId": "c8df35bc-a519-42f6-89d2-a1521b4dc7dd"
      },
      "source": [
        "print(frame_stars('Welcome!'))"
      ],
      "execution_count": null,
      "outputs": [
        {
          "output_type": "stream",
          "name": "stdout",
          "text": [
            "**********\n",
            "Welcome!\n",
            "**********\n"
          ]
        }
      ]
    },
    {
      "cell_type": "markdown",
      "metadata": {
        "id": "gduEZIL-ceIx"
      },
      "source": [
        "### E-3\n",
        "\n",
        "Create a function called `multiplication_table` \n",
        "\n",
        "- takes an integer as input \n",
        "- print a multiplication result (구구단)\n",
        "- and return a list that includes the multiplication results.\n",
        "\n",
        "For example,\n",
        "\n",
        "```\n",
        "a = multiplication_table(3)\n",
        ">>>\n",
        "3 x 1 = 3\n",
        "3 x 2 = 6\n",
        "3 x 3 = 9\n",
        "3 x 4 = 12\n",
        "3 x 5 = 15\n",
        "3 x 6 = 18\n",
        "3 x 7 = 21\n",
        "3 x 8 = 24\n",
        "3 x 9 = 27\n",
        "\n",
        "\n",
        "print(a)\n",
        ">>>\n",
        "[3, 6, 9, 12, 15, 18, 21, 24, 27]\n",
        "```\n"
      ]
    },
    {
      "cell_type": "code",
      "metadata": {
        "id": "HsMZZq9qcVi4"
      },
      "source": [
        "# your code here\n",
        "\n",
        "def multiplication_table(num):\n",
        "    list = []\n",
        "    for i in range(1,10):\n",
        "        g = num * i\n",
        "        print(num, 'x', i, '=', g) \n",
        "        list.append(g)\n",
        "    return list"
      ],
      "execution_count": null,
      "outputs": []
    },
    {
      "cell_type": "code",
      "metadata": {
        "id": "T7TQE_mHdtpL",
        "colab": {
          "base_uri": "https://localhost:8080/"
        },
        "outputId": "7f4bc12d-c771-47ac-f403-2af7f72ebddc"
      },
      "source": [
        "a = multiplication_table(3)\n",
        "print(a)"
      ],
      "execution_count": null,
      "outputs": [
        {
          "output_type": "stream",
          "name": "stdout",
          "text": [
            "3 x 1 = 3\n",
            "3 x 2 = 6\n",
            "3 x 3 = 9\n",
            "3 x 4 = 12\n",
            "3 x 5 = 15\n",
            "3 x 6 = 18\n",
            "3 x 7 = 21\n",
            "3 x 8 = 24\n",
            "3 x 9 = 27\n",
            "[3, 6, 9, 12, 15, 18, 21, 24, 27]\n"
          ]
        }
      ]
    },
    {
      "cell_type": "markdown",
      "metadata": {
        "id": "L3fP22j1tq67"
      },
      "source": [
        "### E-4\n",
        "\n",
        "We have a dictionary that includes student's ID and height-weight values. Write a program that prints all information as follows (the order is not important). \n",
        "\n",
        "**hint**: You can create a function that takes student ID and height, weight values as inputs and print the information. \n",
        "\n",
        "- create a function that takes input of `int` type student ID, `list` type height-weight values\n",
        "\n",
        "- and apply the function for every item in the dictionary\n",
        "\n",
        "For example, given dictionary\n",
        "```\n",
        "dct = {201:[160, 47], 193:[172, 65], 23:[182, 97], 53:[166, 58], 127:[177, 75], 252:[193, 84]}\n",
        "```\n",
        "\n",
        "The results is (the order is not important)\n",
        "```\n",
        "Student ID 201, Height 160, Weight 47\n",
        "Student ID 193, Height 172, Weight 65\n",
        "Student ID 23, Height 182, Weight 97\n",
        "Student ID 53, Height 166, Weight 58\n",
        "Student ID 127, Height 177, Weight 75\n",
        "Student ID 252, Height 193, Weight 84\n",
        "```"
      ]
    },
    {
      "cell_type": "code",
      "metadata": {
        "id": "GkeGGPpfvNg-",
        "colab": {
          "base_uri": "https://localhost:8080/"
        },
        "outputId": "ae75a733-5d93-4592-ea4d-4dc21754c3a7"
      },
      "source": [
        "dct = {201:[160, 47], 193:[172, 65], 23:[182, 97], 53:[166, 58], 127:[177, 75], 252:[193, 84]}\n",
        "\n",
        "\n",
        "# create a function\n",
        "def student_info(dct):\n",
        "    for k in dct.keys():\n",
        "        print(f'Student ID {k}, Height {dct[k][0]}, Weight {dct[k][1]}')\n",
        "\n",
        "\n",
        "# apply the function for all items in the dictionary\n",
        "student_info(dct)\n",
        "\n"
      ],
      "execution_count": null,
      "outputs": [
        {
          "output_type": "stream",
          "name": "stdout",
          "text": [
            "Student ID 201, Height 160, Weight 47\n",
            "Student ID 193, Height 172, Weight 65\n",
            "Student ID 23, Height 182, Weight 97\n",
            "Student ID 53, Height 166, Weight 58\n",
            "Student ID 127, Height 177, Weight 75\n",
            "Student ID 252, Height 193, Weight 84\n"
          ]
        }
      ]
    },
    {
      "cell_type": "markdown",
      "source": [
        "### E-5\n",
        "Write a function called `get_sum` that \n",
        "* takes input of three numbers: `start`, `end`, `num` \n",
        "* computes and returns the sum of all numbers in the interval [`start`, `end`] that are multiple of `num`.\n",
        "  * 시작값(`start`)과 끝값(`end`) 사이에 존재하는 `num`의 배수들의 합을 계산하여 반환하는 함수를 구현합니다.\n"
      ],
      "metadata": {
        "id": "h2t3AowPGGp0"
      }
    },
    {
      "cell_type": "code",
      "source": [
        "# your code here\n",
        "\n",
        "\n",
        "def get_sum(start, end, num):\n",
        "    list = []\n",
        "    for i in range(start, end + 1):\n",
        "        if i % num == 0:\n",
        "            list.append(i)\n",
        "    \n",
        "    return list\n"
      ],
      "metadata": {
        "id": "FPTmhbROHRUq"
      },
      "execution_count": null,
      "outputs": []
    },
    {
      "cell_type": "code",
      "source": [
        "print(get_sum(3, 20, 5))\n",
        "#print(get_sum(3, 20))"
      ],
      "metadata": {
        "id": "BX4QpEajHmOA",
        "colab": {
          "base_uri": "https://localhost:8080/"
        },
        "outputId": "742d1073-f54c-4927-f7b6-333278c8dbf7"
      },
      "execution_count": null,
      "outputs": [
        {
          "output_type": "stream",
          "name": "stdout",
          "text": [
            "[5, 10, 15, 20]\n"
          ]
        }
      ]
    },
    {
      "cell_type": "markdown",
      "source": [
        "### E-6\n",
        "\n",
        "Write a function `sort_lst` that \n",
        "* takes a hyphen-separated sequence of words and \n",
        "* makes the words in a hyphen-separated sequence after sorting them alphabetically, and returns it\n",
        "\n",
        "Expected results:\n",
        "```\n",
        "print(sort_lst('peter-john-emma-alice-daniel'))\n",
        ">>>\n",
        "alice-daniel-emma-john-peter\n",
        "```"
      ],
      "metadata": {
        "id": "tgvMqDe9tcJN"
      }
    },
    {
      "cell_type": "code",
      "source": [
        "# your code here\n",
        "def sort_lst(str):\n",
        "    lst = str.split('-')\n",
        "    lst.sort()\n",
        "    new_str = '-'.join(lst)\n",
        "    return new_str\n"
      ],
      "metadata": {
        "id": "ZbC0nql2qaBZ"
      },
      "execution_count": null,
      "outputs": []
    },
    {
      "cell_type": "code",
      "source": [
        "print(sort_lst('peter-john-emma-alice-daniel'))"
      ],
      "metadata": {
        "id": "VZyORLRfuzNV",
        "colab": {
          "base_uri": "https://localhost:8080/"
        },
        "outputId": "69d5aee4-162d-42f1-c97c-c7df36c11fc9"
      },
      "execution_count": null,
      "outputs": [
        {
          "output_type": "stream",
          "name": "stdout",
          "text": [
            "alice-daniel-emma-john-peter\n"
          ]
        }
      ]
    }
  ]
}