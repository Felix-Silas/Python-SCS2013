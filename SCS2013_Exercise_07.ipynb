{
  "nbformat": 4,
  "nbformat_minor": 0,
  "metadata": {
    "colab": {
      "provenance": [],
      "collapsed_sections": []
    },
    "kernelspec": {
      "name": "python3",
      "display_name": "Python 3"
    },
    "language_info": {
      "name": "python"
    }
  },
  "cells": [
    {
      "cell_type": "markdown",
      "metadata": {
        "id": "EzZiRhCEg1JC"
      },
      "source": [
        "# SCS2013 Exercise 07 (2022-Fall)\n",
        "\n",
        "**This exercise notebook will go through the \"Functions\" in Python:**\n",
        "\n",
        "* Python function arguments\n",
        "* Resursion \n",
        "* Python Lambda\n",
        "\n",
        "\n",
        "\n"
      ]
    },
    {
      "cell_type": "markdown",
      "metadata": {
        "id": "t54cHgzWAsHK"
      },
      "source": [
        "## Python Function Arguments\n",
        "\n",
        "In Python functions, information can be passed into functions as parameters \n",
        "\n",
        "- **parameter** is the variable listed inside the () in the function definition\n",
        "- **argument** is the value that is sent to the function when it is called \n",
        "\n",
        "We can add as many parameters as we want by separating them with a comma \",\""
      ]
    },
    {
      "cell_type": "markdown",
      "metadata": {
        "id": "RuncRudhjfk3"
      },
      "source": [
        "### Positional Arguments\n",
        "By default, functions have a fixed number of arguments, and a function must be called with the correct number and position of arguments - called **\"positional arguments\"** "
      ]
    },
    {
      "cell_type": "code",
      "metadata": {
        "id": "wIVGBRoONfgY"
      },
      "source": [
        "# my_func with two arguments \n",
        "def my_func(name1, name2):\n",
        "  print(f'Name 1 is {name1}, Name 2 is {name2}')\n",
        "\n",
        "# when call a function, we need to pass two arguments in the order \n",
        "my_func('Alice', 'Kim')\n",
        "my_func('Kim', 'Alice')"
      ],
      "execution_count": null,
      "outputs": []
    },
    {
      "cell_type": "code",
      "metadata": {
        "id": "zhOisQYdkNNs"
      },
      "source": [
        "# what if try to call the function with different number of arguments?\n",
        "my_func('Alice')"
      ],
      "execution_count": null,
      "outputs": []
    },
    {
      "cell_type": "code",
      "source": [
        "# no argument?\n",
        "my_func()"
      ],
      "metadata": {
        "id": "LZed2iEpNvGn"
      },
      "execution_count": null,
      "outputs": []
    },
    {
      "cell_type": "markdown",
      "metadata": {
        "id": "_UNdfFRhxaSW"
      },
      "source": [
        "### Arbitrary Positional Arguments\n",
        "\n",
        "Sometimes, we do not know in advance the number of arguments that will be passed into a function. Python allows us to handle this scenario: calling a function with an arbitrary number of arguments - **arbitrary (positional) arguments: `*args`**\n",
        "\n",
        "In the function definition, we use an ($*$) before the parameter name to denote this kind of argument as a **\"tuple\"**. "
      ]
    },
    {
      "cell_type": "code",
      "metadata": {
        "id": "DZKUaw6jkTjm"
      },
      "source": [
        "def hello_all(*names):\n",
        "  print(names) \n",
        "  print(type(names))\n",
        "\n",
        "  # print all the names in the 'names' tuple\n",
        "  for name in names:\n",
        "    print(f'Hello! {name}')\n",
        "\n",
        "  # print all the names in the 'names' tuple using index\n",
        "  for i in range(len(names)):\n",
        "    print(f'Name {i}: {names[i]}')"
      ],
      "execution_count": null,
      "outputs": []
    },
    {
      "cell_type": "code",
      "metadata": {
        "id": "h60rpFuryaIL"
      },
      "source": [
        "hello_all('Alice','John','Peter','Emma')"
      ],
      "execution_count": null,
      "outputs": []
    },
    {
      "cell_type": "code",
      "metadata": {
        "id": "nLLLdpMgyrS4"
      },
      "source": [
        "hello_all('Peter','Alice','David')"
      ],
      "execution_count": null,
      "outputs": []
    },
    {
      "cell_type": "markdown",
      "metadata": {
        "id": "PcjNK6jNzF93"
      },
      "source": [
        "### Keyword Arguments \n",
        "\n",
        "When we call a function with some values, these values get assigned to the arguments according to their position. Python allows functions to be called using **keyword arguments: `kwargs`** - the order of the arguments can be changed. "
      ]
    },
    {
      "cell_type": "code",
      "metadata": {
        "id": "D8XirtA21ApT"
      },
      "source": [
        "# msg function with three arguments\n",
        "\n",
        "def msg(name, msg1, msg2):\n",
        "  print(f'Hello {name}, {msg1} and {msg2}')"
      ],
      "execution_count": null,
      "outputs": []
    },
    {
      "cell_type": "code",
      "metadata": {
        "id": "KoT5pseVyyXc"
      },
      "source": [
        "# three positional arguments \n",
        "msg('Alice','Good morning', 'How are you?')\n",
        "\n",
        "# three keyword arguments\n",
        "msg(name='Alice', msg1='Good morning', msg2 = 'How are you?')\n",
        "\n",
        "# three keyword arguments with different order\n",
        "msg(msg2 = 'How are you?', name='Alice', msg1 = 'Good morning')\n",
        "\n",
        "# one positional argument and two keyword arguments\n",
        "msg('Alice', msg2 = 'How are you?', msg1='Good morning')"
      ],
      "execution_count": null,
      "outputs": []
    },
    {
      "cell_type": "markdown",
      "metadata": {
        "id": "Q7SQKvzp142h"
      },
      "source": [
        "We can mix positional arguments with keyword arguments during a function call - but positional arguments first and then keyword arguments. "
      ]
    },
    {
      "cell_type": "code",
      "metadata": {
        "id": "wVMjbel71Vc3"
      },
      "source": [
        "# one keyword argument first and then two positional arguments\n",
        "msg(msg1='Good morning', 'Alice', 'How are you?')"
      ],
      "execution_count": null,
      "outputs": []
    },
    {
      "cell_type": "markdown",
      "metadata": {
        "id": "crWbSfty2kve"
      },
      "source": [
        "### Arbitrary Keyword Arguments\n",
        "\n",
        "If we do not know how many keyword arguments will be passed into a function - **arbitrary keyword arguments**. In the function definition, we use an ($**$) before the parameter name to denote this kind of argument as a **\"dictionary\"**.\n"
      ]
    },
    {
      "cell_type": "code",
      "metadata": {
        "id": "m0MxTFzW2fNc"
      },
      "source": [
        "def hello_all(**names):\n",
        "  print(names)\n",
        "  print(type(names))\n",
        "\n",
        "  # print all the names in the 'names' dictionary\n",
        "  for i in (sorted(names.keys())):\n",
        "    print(f'Key: {i}, Value: {names[i]}')"
      ],
      "execution_count": null,
      "outputs": []
    },
    {
      "cell_type": "code",
      "metadata": {
        "id": "pPRoYAPo4h7B"
      },
      "source": [
        "hello_all(name1='Alice', name2='John', name3='Peter', name4='Emma')"
      ],
      "execution_count": null,
      "outputs": []
    },
    {
      "cell_type": "code",
      "metadata": {
        "id": "9MH0zGrd4vbh"
      },
      "source": [
        "hello_all(name2='Peter',name4='Alice',name1='David')"
      ],
      "execution_count": null,
      "outputs": []
    },
    {
      "cell_type": "markdown",
      "metadata": {
        "id": "Pjc1VR386SqM"
      },
      "source": [
        "**Default Arguments**\n",
        "\n",
        "Function arguments can have default values in Python. We can assign a default value to an argument in function definition using assignment operator \"=\". Default arguments take the default value during the function call if we don't pass them. "
      ]
    },
    {
      "cell_type": "code",
      "metadata": {
        "id": "lZ6nWty243oC"
      },
      "source": [
        "# msg function with two arguments, set a default msg value 'Good morning'\n",
        "\n",
        "def msg(name, msg='Good morning'):\n",
        "  print(f'Hello {name}, {msg}')"
      ],
      "execution_count": null,
      "outputs": []
    },
    {
      "cell_type": "code",
      "metadata": {
        "id": "Cwe6aFmc6vbN"
      },
      "source": [
        "# call with two arguments \n",
        "msg('Peter', 'Good to see you')\n",
        "\n",
        "# call with keyword arguments \n",
        "msg(msg='Good to see you', name='Peter')\n",
        "\n",
        "# call with only non-default argument\n",
        "msg('Peter')"
      ],
      "execution_count": null,
      "outputs": []
    },
    {
      "cell_type": "markdown",
      "metadata": {
        "id": "l9rjmfh7_ve6"
      },
      "source": [
        "Any number of argument in a function can have a default value. But once we have a default argument, all the arguments to its right must also have default values - non-default arguments first and then default arguments. "
      ]
    },
    {
      "cell_type": "code",
      "metadata": {
        "id": "pYUT1Fsk_m_Z"
      },
      "source": [
        "# when defining function, non-default argument first and then default arguments \n",
        "def msg(name='Kim', msg):\n",
        "  print(f'Hello {name}, {msg}')"
      ],
      "execution_count": null,
      "outputs": []
    },
    {
      "cell_type": "markdown",
      "metadata": {
        "id": "3DgM538rA0f1"
      },
      "source": [
        "## Recursion (재귀함수)\n",
        "\n",
        "A recursive function is a function that calls itself, again and again \n"
      ]
    },
    {
      "cell_type": "code",
      "metadata": {
        "id": "EVcFD6GiyFLP"
      },
      "source": [
        "# factorial n! = 1x2x...x(n-1)xn\n",
        "\n",
        "def factorial(n):\n",
        "  if n == 1:\n",
        "    return 1\n",
        "  else:\n",
        "    print(f'In factorial({n}): call function factorial({n-1})')\n",
        "    return n * factorial(n-1)"
      ],
      "execution_count": null,
      "outputs": []
    },
    {
      "cell_type": "code",
      "metadata": {
        "id": "HFCvxI-yyPXA"
      },
      "source": [
        "num = 5\n",
        "print(f'The factorial of {num} is {factorial(num)}')"
      ],
      "execution_count": null,
      "outputs": []
    },
    {
      "cell_type": "code",
      "source": [
        "def recur1(n):\n",
        "  if n > 0:\n",
        "    print(n)\n",
        "    recur1(n-1)\n",
        "\n",
        "recur1(5)"
      ],
      "metadata": {
        "id": "um-el4POWxzQ"
      },
      "execution_count": null,
      "outputs": []
    },
    {
      "cell_type": "code",
      "source": [
        "def recur2(n):\n",
        "  if n > 0:\n",
        "    recur2(n-1)\n",
        "    print(n)\n",
        "\n",
        "recur2(5)"
      ],
      "metadata": {
        "id": "IUj0UETDW3hk"
      },
      "execution_count": null,
      "outputs": []
    },
    {
      "cell_type": "code",
      "source": [
        "# recursion example: counting backward \n",
        "def backward(num):\n",
        "  if num <= 0:\n",
        "    print('Less than zero')\n",
        "    return\n",
        "  else:\n",
        "    my_str=''\n",
        "    for i in range(num):\n",
        "      my_str += '*'\n",
        "    \n",
        "    print(f'{num}: {my_str}')\n",
        "    backward(num - 2)\n",
        "\n",
        "backward(9)"
      ],
      "metadata": {
        "id": "RSnfX_PnYhZx"
      },
      "execution_count": null,
      "outputs": []
    },
    {
      "cell_type": "code",
      "source": [
        "# recursion example: sum of number from 1 to n\n",
        "def sum_nums(n):\n",
        "  if n == 1:\n",
        "    print(f'{n}')\n",
        "    return 1\n",
        "  else:\n",
        "    print(f'{n}', end=' ')\n",
        "    return n + sum_nums(n-1)\n",
        "\n",
        "print(sum_nums(5))"
      ],
      "metadata": {
        "id": "nE0bqshgZFeo"
      },
      "execution_count": null,
      "outputs": []
    },
    {
      "cell_type": "markdown",
      "metadata": {
        "id": "IAxPiriyA3oM"
      },
      "source": [
        "## Python Lambda\n",
        "\n",
        "**Lambda**, called the anonymous function, is used to declare a **function without any name**. The lambda internally returns the expression value.\n",
        "\n",
        "Syntax\n",
        "```\n",
        "lambda <variable name>:<statement>\n",
        "```\n",
        "\n"
      ]
    },
    {
      "cell_type": "code",
      "metadata": {
        "id": "Ou0KsnUa0xMG"
      },
      "source": [
        "# normal function\n",
        "def a(x,y):\n",
        "  return x**y\n",
        "\n",
        "print(a(3,4))"
      ],
      "execution_count": null,
      "outputs": []
    },
    {
      "cell_type": "code",
      "metadata": {
        "id": "XVI8minb00X8"
      },
      "source": [
        "# lambda function\n",
        "print(lambda x,y: x**y)\n",
        "\n",
        "a = lambda x,y: x**y\n",
        "print(a(3,4))"
      ],
      "execution_count": null,
      "outputs": []
    },
    {
      "cell_type": "code",
      "metadata": {
        "id": "gO9U84jp5_ei"
      },
      "source": [
        "def multiple_func(n):\n",
        "  return lambda x:x*n\n",
        "\n",
        "my_double = multiple_func(2)\n",
        "my_triple = multiple_func(3)"
      ],
      "execution_count": null,
      "outputs": []
    },
    {
      "cell_type": "code",
      "source": [
        "print(type(my_double))\n",
        "print(my_double)"
      ],
      "metadata": {
        "id": "k37EGei5WRJ6"
      },
      "execution_count": null,
      "outputs": []
    },
    {
      "cell_type": "code",
      "metadata": {
        "id": "LR2-EKeH6W6E"
      },
      "source": [
        "num = 5\n",
        "\n",
        "double_num = my_double(num)\n",
        "triple_num = my_triple(num)\n",
        "\n",
        "print(double_num)\n",
        "print(triple_num)"
      ],
      "execution_count": null,
      "outputs": []
    },
    {
      "cell_type": "markdown",
      "metadata": {
        "id": "61RkwCPj3NmD"
      },
      "source": [
        "### filter()\n",
        "**filter()** function is used to return the filtered value. \n",
        "``filter(function, iterable)`` - the `function` performs condition checking for each item in `iterable` and return the items for which has 'True' evaluation."
      ]
    },
    {
      "cell_type": "code",
      "metadata": {
        "id": "wpPxD27d1K4i"
      },
      "source": [
        "# a function that selects all even numbers in the list\n",
        "\n",
        "def select_evens(nums):\n",
        "  lst = []\n",
        "  for x in nums:\n",
        "    if x%2 == 0:\n",
        "      lst.append(x)\n",
        "  \n",
        "  return lst\n",
        "\n",
        "lst_a = [10, 4, 7, 3, 22, 5, 13]\n",
        "even_lst = select_evens(lst_a)\n",
        "print(even_lst)"
      ],
      "execution_count": null,
      "outputs": []
    },
    {
      "cell_type": "code",
      "metadata": {
        "id": "A0zH1HOl1KuF"
      },
      "source": [
        "# a function that selects all even numbers in the list \n",
        "# by using filter() and lambda\n",
        "\n",
        "lst_a = [10, 4, 7, 3, 22, 5, 13]\n",
        "even_lst = list(filter(lambda x:x%2 == 0, lst_a))\n",
        "print(even_lst)"
      ],
      "execution_count": null,
      "outputs": []
    },
    {
      "cell_type": "markdown",
      "metadata": {
        "id": "HWGUrAvh4GvK"
      },
      "source": [
        "### map()\n",
        "**map()** function is used to apply some `function` for every element present in the given `iterable`: `map(function, iterable)`."
      ]
    },
    {
      "cell_type": "code",
      "metadata": {
        "id": "g3Ut3iaU2Mg4"
      },
      "source": [
        "# a function that provides a cube of the given list:\n",
        "\n",
        "lst_a = [10, 4, 7, 3, 22, 5, 13]\n",
        "cube_lst = list(map(lambda x:x**3, lst_a))\n",
        "print(cube_lst)"
      ],
      "execution_count": null,
      "outputs": []
    },
    {
      "cell_type": "code",
      "source": [
        "student = [('James', '17/05/2001', '175cm'), ('Alice', '25/11/1998', '163cm'), ('Peter', '25/08/1999', '182cm')]\n",
        "print(student)\n",
        "\n",
        "# student names, birth, height \n",
        "student_names = list(map(lambda x: x[0], student))\n",
        "student_birth = list(map(lambda x: x[1], student))\n",
        "student_height = list(map(lambda x: int(x[2][:-2]), student))\n",
        "\n",
        "print('Student names: ')\n",
        "print(student_names)\n",
        "print('Student birth: ')\n",
        "print(student_birth)\n",
        "print('Student height: ')\n",
        "print(student_height)"
      ],
      "metadata": {
        "id": "sek6DoY8xo_V"
      },
      "execution_count": null,
      "outputs": []
    },
    {
      "cell_type": "markdown",
      "metadata": {
        "id": "QwzwMaiQ600f"
      },
      "source": [
        "## Exercises \n",
        "\n"
      ]
    },
    {
      "cell_type": "markdown",
      "source": [
        "### E-1\n",
        "\n",
        "Write a function called `product_all` that accepts arbitrary number of numbers as arguments and computes the product(곱) of those numbers.\n",
        "\n",
        "Result:\n",
        "```\n",
        "a = product_all(1,3,5)\n",
        "print(f'Returned value is {a}')\n",
        ">>>\n",
        "Returned value is 15\n",
        "```"
      ],
      "metadata": {
        "id": "TTTBJ5e8tmvp"
      }
    },
    {
      "cell_type": "code",
      "source": [
        "def product_all(*nums):\n",
        "    total_product = 1\n",
        "    for i in nums:\n",
        "        total_product *= i\n",
        "\n",
        "    return total_product"
      ],
      "metadata": {
        "id": "3hHVhp7Wtu4x"
      },
      "execution_count": 1,
      "outputs": []
    },
    {
      "cell_type": "code",
      "source": [
        "a = product_all(1,3,5)\n",
        "print(f'Returned value is {a}')\n",
        "\n",
        "b = product_all(2,6,3,9,-3)\n",
        "print(f'Returned value is {b}')"
      ],
      "metadata": {
        "id": "SM6gIVTbtyGQ",
        "colab": {
          "base_uri": "https://localhost:8080/"
        },
        "outputId": "13e90c2d-4468-4a0f-a169-7bb923b96135"
      },
      "execution_count": 2,
      "outputs": [
        {
          "output_type": "stream",
          "name": "stdout",
          "text": [
            "Returned value is 15\n",
            "Returned value is -972\n"
          ]
        }
      ]
    },
    {
      "cell_type": "markdown",
      "source": [
        "### E-2\n",
        "\n",
        "Write a function called `power` that takes two parameters $x,y$ and return the powered value $x^y$. We can call this function as follows:\n",
        "\n",
        "- **note**: What happens if only one value is passed?\n",
        "\n",
        "Result:\n",
        "```\n",
        "print(power(3,5))\n",
        "print(power(2,4))\n",
        "print(power(3))\n",
        "print(power(4))\n",
        ">>>\n",
        "243\n",
        "16\n",
        "9\n",
        "16\n",
        "```"
      ],
      "metadata": {
        "id": "7uvC1RMkuCrB"
      }
    },
    {
      "cell_type": "code",
      "source": [
        "def power(x, y = 2):\n",
        "    return x**y"
      ],
      "metadata": {
        "id": "4jQPJtUGtzJd"
      },
      "execution_count": 3,
      "outputs": []
    },
    {
      "cell_type": "code",
      "source": [
        "# test the result:\n",
        "print(power(3,5))\n",
        "print(power(2,4))\n",
        "print(power(3))\n",
        "print(power(4))"
      ],
      "metadata": {
        "id": "Do_FV0bjuZpI",
        "colab": {
          "base_uri": "https://localhost:8080/"
        },
        "outputId": "e8804fe9-b04a-40c1-a8d8-5cf9b0c84911"
      },
      "execution_count": 4,
      "outputs": [
        {
          "output_type": "stream",
          "name": "stdout",
          "text": [
            "243\n",
            "16\n",
            "9\n",
            "16\n"
          ]
        }
      ]
    },
    {
      "cell_type": "markdown",
      "source": [
        "### E-3\n",
        "\n",
        "Write a recursive function `recur_list_sum` that calculates the sum of all list elements.\n",
        "\n",
        "**hint**: you need to check whether the type of each element is \"list\" or not to decide to call the function again or not!\n",
        "\n",
        "Expected results:\n",
        "```\n",
        "print(recur_list_sum( [1,2,[3,4],[5,6,7]] ))\n",
        ">>\n",
        "28\n",
        "```"
      ],
      "metadata": {
        "id": "RV6aji7noDXn"
      }
    },
    {
      "cell_type": "code",
      "source": [
        "def recur_list_sum(lst):\n",
        "    total_sum = 0\n",
        "    for i in lst:\n",
        "        if type(i) == type([]):\n",
        "            total_sum += recur_list_sum(i)\n",
        "        else:\n",
        "            total_sum += i\n",
        "\n",
        "    return total_sum\n"
      ],
      "metadata": {
        "id": "dN5v8XLooEsL"
      },
      "execution_count": 5,
      "outputs": []
    },
    {
      "cell_type": "code",
      "source": [
        "print(recur_list_sum( [1,2,[3,4],[5,6,7]] ))"
      ],
      "metadata": {
        "id": "zJjX6lLbpCAH",
        "colab": {
          "base_uri": "https://localhost:8080/"
        },
        "outputId": "fcb3f05b-c2ed-4e9e-b727-68361937b55e"
      },
      "execution_count": 6,
      "outputs": [
        {
          "output_type": "stream",
          "name": "stdout",
          "text": [
            "28\n"
          ]
        }
      ]
    },
    {
      "cell_type": "markdown",
      "source": [
        "### E-4\n",
        "\n",
        "Write a recursive function `fibonacci` that solves the Fibonaci sequence: `fibonacci(7)` returns 7th Fibonacci number.\n",
        "\n",
        "**note** 피보나치 수열: 첫째 및 둘째 항이 1, 그 뒤의 모든 항은 바로 앞 두 항의 합인 수열: `1,1,2,3,5,8,13,21, ... `\n",
        "\n",
        "Expected results:\n",
        "```\n",
        "print(fibonacci(4))\n",
        "print(fibonacci(8))\n",
        ">>>\n",
        "3\n",
        "21\n",
        "```"
      ],
      "metadata": {
        "id": "5yUeuECcpnfO"
      }
    },
    {
      "cell_type": "code",
      "source": [
        "def fibonacci(num):\n",
        "    if num == 1 or num == 2:\n",
        "        return 1\n",
        "    else:\n",
        "        return fibonacci(num-1) + fibonacci(num-2)"
      ],
      "metadata": {
        "id": "WyAZxxUcpOrl"
      },
      "execution_count": 8,
      "outputs": []
    },
    {
      "cell_type": "code",
      "source": [
        "print(fibonacci(4))\n",
        "print(fibonacci(8))"
      ],
      "metadata": {
        "id": "lyj7Gry_qWkj",
        "colab": {
          "base_uri": "https://localhost:8080/"
        },
        "outputId": "f48d6483-80a1-4b62-a756-306730d121c0"
      },
      "execution_count": 9,
      "outputs": [
        {
          "output_type": "stream",
          "name": "stdout",
          "text": [
            "3\n",
            "21\n"
          ]
        }
      ]
    },
    {
      "cell_type": "markdown",
      "metadata": {
        "id": "knBpzPf164IJ"
      },
      "source": [
        "### E-5\n",
        "\n",
        "Define a function `quadratic` that computes $ax^2+bx+c$ as a result when taking input values $x,a,b,c$.\n",
        "\n",
        "Also, convert it into a lambda function form and assign it to a variable called `quad`.\n",
        "\n",
        "Expected results:\n",
        "```\n",
        "print(quadratic(10,2,1,2))\n",
        "print(quad(10,2,1,2))\n",
        ">>\n",
        "212\n",
        "212\n",
        "```"
      ]
    },
    {
      "cell_type": "code",
      "metadata": {
        "id": "j3ZN_gwK8C2Q"
      },
      "source": [
        "# your code here: normal function 'quadratic'\n",
        "def quadratic(x, a, b, c):\n",
        "    return a*x*x + b * x + c"
      ],
      "execution_count": 10,
      "outputs": []
    },
    {
      "cell_type": "code",
      "metadata": {
        "id": "7NLWcnKM8isa"
      },
      "source": [
        "# your code here: lambda function 'quad'\n",
        "quad = lambda x, a, b, c: a*x*x+b*x+c"
      ],
      "execution_count": 11,
      "outputs": []
    },
    {
      "cell_type": "code",
      "metadata": {
        "id": "f-Wa_Yg-2MVj",
        "colab": {
          "base_uri": "https://localhost:8080/"
        },
        "outputId": "9fd581f0-81aa-48cf-c071-0e74b075909b"
      },
      "source": [
        "# test the result\n",
        "print(quadratic(10,2,1,2))\n",
        "print(quad(10,2,1,2))"
      ],
      "execution_count": 12,
      "outputs": [
        {
          "output_type": "stream",
          "name": "stdout",
          "text": [
            "212\n",
            "212\n"
          ]
        }
      ]
    },
    {
      "cell_type": "markdown",
      "metadata": {
        "id": "QEgkqV9s_zSR"
      },
      "source": [
        "### E-6\n",
        "\n",
        "Write a function that takes two lists `lst_1` and `lst_2`, and remove all elements from a `lst_1` present in `lst_2`, using lambda.\n",
        "\n",
        "```\n",
        "lst_1 = [1,2,3,4,5,6,7,8,9,10]\n",
        "lst_2 = [2,4,6,8]\n",
        "\n",
        "print('List 1: ', lst_1)\n",
        "print('List 2: ', lst_2)\n",
        "print('Remove all elements from lst_1 present in lst_2: ', remove_by_filter(lst_1, lst_2))\n",
        ">>\n",
        "List 1:  [1, 2, 3, 4, 5, 6, 7, 8, 9, 10]\n",
        "List 2:  [2, 4, 6, 8]\n",
        "Remove all elements from lst_1 present in lst_2:  [1, 3, 5, 7, 9, 10]\n",
        "```"
      ]
    },
    {
      "cell_type": "code",
      "metadata": {
        "id": "9hsjb3snAH74"
      },
      "source": [
        "# your code here (use lambda)\n",
        "\n",
        "def remove_by_filter(lst_1, lst_2):\n",
        "    new_lst = list(filter(lambda x: x not in lst_2, lst_1))\n",
        "    return new_lst\n",
        "  \n",
        "  "
      ],
      "execution_count": 13,
      "outputs": []
    },
    {
      "cell_type": "code",
      "metadata": {
        "id": "lIaORPvcALwN",
        "colab": {
          "base_uri": "https://localhost:8080/"
        },
        "outputId": "51288672-ce54-4c17-df5e-2630046710e1"
      },
      "source": [
        "lst_1 = [1,2,3,4,5,6,7,8,9,10]\n",
        "lst_2 = [2,4,6,8]\n",
        "\n",
        "print('List 1: ', lst_1)\n",
        "print('List 2: ', lst_2)\n",
        "print('Remove all elements from lst_1 present in lst_2: ', remove_by_filter(lst_1, lst_2))"
      ],
      "execution_count": 14,
      "outputs": [
        {
          "output_type": "stream",
          "name": "stdout",
          "text": [
            "List 1:  [1, 2, 3, 4, 5, 6, 7, 8, 9, 10]\n",
            "List 2:  [2, 4, 6, 8]\n",
            "Remove all elements from lst_1 present in lst_2:  [1, 3, 5, 7, 9, 10]\n"
          ]
        }
      ]
    }
  ]
}