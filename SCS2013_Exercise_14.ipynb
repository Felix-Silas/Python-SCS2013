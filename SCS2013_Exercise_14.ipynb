{
  "nbformat": 4,
  "nbformat_minor": 0,
  "metadata": {
    "colab": {
      "provenance": [],
      "toc_visible": true
    },
    "kernelspec": {
      "name": "python3",
      "display_name": "Python 3"
    },
    "language_info": {
      "name": "python"
    }
  },
  "cells": [
    {
      "cell_type": "markdown",
      "metadata": {
        "id": "EzZiRhCEg1JC"
      },
      "source": [
        "# SCS2013 Exercise 14 (2022 Fall)\n",
        "\n",
        "**This exercise notebook will go through the understanding of \"NumPy\" and \"Pandas\" libraries in Python**\n",
        "\n",
        "- A library is an umbrella term referring to a reusable chunk of code\n",
        "  - contain a collection of related modules and packages \n",
        "  - interchangeably used with *Python Package* \n",
        "  - There are various open-source standard Python packages/libraries: `NumPy`, `Pandas`, `pytest`, `Matplotlib`, `PyTorch`, `Beautiful Soup`, and so more! \n",
        "\n",
        "\n",
        "\n"
      ]
    },
    {
      "cell_type": "markdown",
      "metadata": {
        "id": "nnGXfPXlnAqF"
      },
      "source": [
        "## NumPy \n",
        "\n",
        "[NumPy](https://numpy.org/) is a Python package providing fast, flexible, and expressive data structures designed to make working with arrays"
      ]
    },
    {
      "cell_type": "code",
      "metadata": {
        "id": "sVcTtRnd2q6U"
      },
      "source": [
        "import numpy as np"
      ],
      "execution_count": null,
      "outputs": []
    },
    {
      "cell_type": "code",
      "metadata": {
        "id": "5P8A49renSs0",
        "colab": {
          "base_uri": "https://localhost:8080/"
        },
        "outputId": "5b0b4422-b095-4b05-cf48-4c9feade8769"
      },
      "source": [
        "my_arr = np.array([3.14, 4, 2, 3.5])\n",
        "print(my_arr)\n",
        "\n",
        "my_arr = np.array([1, 2, 3], dtype='float32')\n",
        "print(my_arr)"
      ],
      "execution_count": null,
      "outputs": [
        {
          "output_type": "stream",
          "name": "stdout",
          "text": [
            "[3.14 4.   2.   3.5 ]\n",
            "[1. 2. 3.]\n"
          ]
        }
      ]
    },
    {
      "cell_type": "code",
      "metadata": {
        "id": "HwKe42UonSoW",
        "colab": {
          "base_uri": "https://localhost:8080/"
        },
        "outputId": "3eefa8f7-9c01-42f2-d82b-5acbd2f07a24"
      },
      "source": [
        "# multi-dimensional array\n",
        "\n",
        "my_arr = np.array([range(i, i+3) for i in [2,4,6]])\n",
        "print(my_arr)\n",
        "\n",
        "\n",
        "my_lst = [range(i, i+3) for i in [2,4,6]]\n",
        "print(my_lst)\n",
        "\n",
        "my_arr = np.array(my_lst)\n",
        "print(my_arr)"
      ],
      "execution_count": null,
      "outputs": [
        {
          "output_type": "stream",
          "name": "stdout",
          "text": [
            "[[2 3 4]\n",
            " [4 5 6]\n",
            " [6 7 8]]\n",
            "[range(2, 5), range(4, 7), range(6, 9)]\n",
            "[[2 3 4]\n",
            " [4 5 6]\n",
            " [6 7 8]]\n"
          ]
        }
      ]
    },
    {
      "cell_type": "markdown",
      "metadata": {
        "id": "hkkSx-AiECbs"
      },
      "source": [
        "We can create arrays by using following functions:     \n",
        "- `np.zeros(shape)`: return an array of given shape filled with zeros\n",
        "- `np.ones(shape)`: return an array of given shape filled with ones\n",
        "- `np.full(shape, fill_value)`: return an array of given shape filled with `fill_value`\n",
        "- `np.arange(start, end, step)`: return evenly spaced values within a given interval \n",
        "- `np.linspace(start, end, num)`: return `num` evenly spaced samples over the interval\n",
        "- `np.random.rand(shape)`: return an array of given shape with random values from a uniform distribution between 0 and 1\n",
        "- `np.random.randn(shape)`: return an array of given shape with random values from the standard normal distribution\n",
        "- `np.random.randint(start, end, shape)`: return an array of given shape with random integers from the interval\n",
        "\n",
        "We can change the size of array by using `.reshape()` function: the size of the initial array must match the size of the reshaped array\n",
        "\n",
        "We can check attributes of the `nd.array`: `arr.shape`, `arr.ndim`, `arr.itemsize`"
      ]
    },
    {
      "cell_type": "code",
      "metadata": {
        "id": "PFYsnAIBtCei",
        "colab": {
          "base_uri": "https://localhost:8080/"
        },
        "outputId": "815404a1-de9f-47bf-c134-08308dcf02da"
      },
      "source": [
        "# create an array with integers \n",
        "my_arr = np.arange(1,10)\n",
        "print(my_arr)\n",
        "\n",
        "my_arr_2 = np.arange(1,10).reshape(3,3)\n",
        "print(my_arr_2)\n",
        "\n",
        "my_arr_3 = np.arange(1,21).reshape(2,2,5)  # 원하는 dimension으로 바꾼다\n",
        "print(my_arr_3)"
      ],
      "execution_count": null,
      "outputs": [
        {
          "output_type": "stream",
          "name": "stdout",
          "text": [
            "[1 2 3 4 5 6 7 8 9]\n",
            "[[1 2 3]\n",
            " [4 5 6]\n",
            " [7 8 9]]\n",
            "[[[ 1  2  3  4  5]\n",
            "  [ 6  7  8  9 10]]\n",
            "\n",
            " [[11 12 13 14 15]\n",
            "  [16 17 18 19 20]]]\n"
          ]
        }
      ]
    },
    {
      "cell_type": "code",
      "metadata": {
        "id": "K-hSomXsLONF",
        "colab": {
          "base_uri": "https://localhost:8080/"
        },
        "outputId": "d6ed2554-f522-4d0a-a7c5-1853a2761dca"
      },
      "source": [
        "print(f'1: Array shape: {my_arr.shape}')\n",
        "print(f'2: Array dimensions: {my_arr.ndim}')\n",
        "print(f'3: Length of each element of array in bytes: {my_arr.itemsize}')\n",
        "print(my_arr.size)\n",
        "\n",
        "\n",
        "print(f'1: Array shape: {my_arr_2.shape}')\n",
        "print(f'2: Array dimensions: {my_arr_2.ndim}')\n",
        "print(f'3: Length of each element of array in bytes: {my_arr_2.itemsize}')"
      ],
      "execution_count": null,
      "outputs": [
        {
          "output_type": "stream",
          "name": "stdout",
          "text": [
            "1: Array shape: (9,)\n",
            "2: Array dimensions: 1\n",
            "3: Length of each element of array in bytes: 8\n",
            "9\n",
            "1: Array shape: (3, 3)\n",
            "2: Array dimensions: 2\n",
            "3: Length of each element of array in bytes: 8\n"
          ]
        }
      ]
    },
    {
      "cell_type": "code",
      "metadata": {
        "id": "ssT4jA_lnSjb",
        "colab": {
          "base_uri": "https://localhost:8080/"
        },
        "outputId": "8c5f1fd7-dfb4-46a9-c793-10ebf6f4522e"
      },
      "source": [
        "my_arr = np.random.randint(20, size=6)\n",
        "print(my_arr)\n",
        "\n",
        "\n",
        "print(my_arr[0])\n",
        "print(my_arr[2])\n",
        "print(my_arr[-2])"
      ],
      "execution_count": null,
      "outputs": [
        {
          "output_type": "stream",
          "name": "stdout",
          "text": [
            "[14  6 14 16  8  3]\n",
            "14\n",
            "14\n",
            "8\n"
          ]
        }
      ]
    },
    {
      "cell_type": "code",
      "metadata": {
        "id": "iXE_cMurT5VV",
        "colab": {
          "base_uri": "https://localhost:8080/"
        },
        "outputId": "80366697-ac7b-4173-d2c4-b8c0b459be5d"
      },
      "source": [
        "# replace items that satisfy a condition with another value\n",
        "my_arr[my_arr % 2 == 1] = -1\n",
        "print(my_arr)\n",
        "\n",
        "my_arr % 2 == 1 # True값에 해당하는 애들만 선택하는 / 즉 홀수에 해당하는 걸 =1로 바꿔줌"
      ],
      "execution_count": null,
      "outputs": [
        {
          "output_type": "stream",
          "name": "stdout",
          "text": [
            "[14  6 14 16  8 -1]\n"
          ]
        },
        {
          "output_type": "execute_result",
          "data": {
            "text/plain": [
              "array([False, False, False, False, False,  True])"
            ]
          },
          "metadata": {},
          "execution_count": 38
        }
      ]
    },
    {
      "cell_type": "code",
      "metadata": {
        "id": "wSp1xHDJtCkQ",
        "colab": {
          "base_uri": "https://localhost:8080/"
        },
        "outputId": "52ca380f-8d31-4733-f4e8-6d8ca2305f32"
      },
      "source": [
        "# generate 2x4 array of integers between 0 and 4, inclusive:\n",
        "my_arr = np.random.randint(5, size=(2,4))\n",
        "print(my_arr)\n",
        "\n",
        "print(my_arr[0,0])\n",
        "print(my_arr[1,-1])"
      ],
      "execution_count": null,
      "outputs": [
        {
          "output_type": "stream",
          "name": "stdout",
          "text": [
            "[[2 2 0 3]\n",
            " [1 0 0 4]]\n",
            "2\n",
            "4\n"
          ]
        }
      ]
    },
    {
      "cell_type": "code",
      "metadata": {
        "id": "ynCD49G5Ncbp",
        "colab": {
          "base_uri": "https://localhost:8080/"
        },
        "outputId": "08b2079d-35ea-4709-a350-5d41c0abe95d"
      },
      "source": [
        "my_arr = np.random.randint(5, size=(5,4))\n",
        "print(my_arr)\n",
        "\n",
        "# pick 1st to 3rd columns of the array\n",
        "new_arr = my_arr[:, 0:2]\n",
        "print(new_arr)\n",
        "\n",
        "# pick every odd columns of the array\n",
        "new_arr = my_arr[:, ::2]\n",
        "print(new_arr)\n",
        "\n",
        "# reverse the rows of the array\n",
        "new_arr = my_arr[::-1, :]\n",
        "print(new_arr)"
      ],
      "execution_count": null,
      "outputs": [
        {
          "output_type": "stream",
          "name": "stdout",
          "text": [
            "[[4 0 3 2]\n",
            " [1 3 0 0]\n",
            " [4 0 3 0]\n",
            " [1 4 1 2]\n",
            " [0 0 2 2]]\n",
            "[[4 0]\n",
            " [1 3]\n",
            " [4 0]\n",
            " [1 4]\n",
            " [0 0]]\n",
            "[[4 3]\n",
            " [1 0]\n",
            " [4 3]\n",
            " [1 1]\n",
            " [0 2]]\n",
            "[[0 0 2 2]\n",
            " [1 4 1 2]\n",
            " [4 0 3 0]\n",
            " [1 3 0 0]\n",
            " [4 0 3 2]]\n"
          ]
        }
      ]
    },
    {
      "cell_type": "markdown",
      "metadata": {
        "id": "dzOUPxBTRoll"
      },
      "source": [
        "Computations on NumPy arrays can be very fast\n",
        "- `np.sum`, `np.prod`, `np.mean`, `np.std`, `np.min`, `np.max`, `np.argmax`, `np.argmin`, `np.median`, ... "
      ]
    },
    {
      "cell_type": "code",
      "metadata": {
        "id": "L5YcSUCnRmlH",
        "colab": {
          "base_uri": "https://localhost:8080/"
        },
        "outputId": "33b90a79-d118-4324-94f9-57b6153da3e2"
      },
      "source": [
        "# computations on my_arr\n",
        "print(my_arr)\n",
        "\n",
        "# compute sum, product, and mean of all numbers from axis 0 (1st dimension)  20개 모든 숫자들의 연산\n",
        "print(my_arr.sum())\n",
        "print(my_arr.prod()) # 곱하기\n",
        "print(my_arr.mean())\n",
        "print('\\n')\n",
        "\n",
        "# compute sum, product, and mean of all numbers from axis 0 (1st dimension) 위에서 아래로\n",
        "print(my_arr.sum(axis=0))\n",
        "print(my_arr.prod(axis=0))\n",
        "print(my_arr.mean(axis=0))\n",
        "print('\\n')\n",
        "\n",
        "# compute sum, product, and mean of all numbers from axis 1 좌에서 우로\n",
        "print(my_arr.sum(axis=1))\n",
        "print(my_arr.prod(axis=1))\n",
        "print(my_arr.mean(axis=1))"
      ],
      "execution_count": null,
      "outputs": [
        {
          "output_type": "stream",
          "name": "stdout",
          "text": [
            "[[4 0 3 2]\n",
            " [1 3 0 0]\n",
            " [4 0 3 0]\n",
            " [1 4 1 2]\n",
            " [0 0 2 2]]\n",
            "32\n",
            "0\n",
            "1.6\n",
            "\n",
            "\n",
            "[10  7  9  6]\n",
            "[0 0 0 0]\n",
            "[2.  1.4 1.8 1.2]\n",
            "\n",
            "\n",
            "[9 4 7 8 4]\n",
            "[0 0 0 8 0]\n",
            "[2.25 1.   1.75 2.   1.  ]\n"
          ]
        }
      ]
    },
    {
      "cell_type": "code",
      "metadata": {
        "id": "RvtUCFOHVq_2",
        "colab": {
          "base_uri": "https://localhost:8080/"
        },
        "outputId": "b6c40f44-eee5-425f-8558-9c47b8315716"
      },
      "source": [
        "# compute max, min values and max, min item positions \n",
        "my_arr = np.random.randint(20, size=(4,3))\n",
        "print(my_arr)\n",
        "\n",
        "num_max = my_arr.max()\n",
        "num_min = my_arr.min()\n",
        "idx_max = my_arr.argmax() # 최대 위치\n",
        "idx_min = my_arr.argmin() # 최소 위치\n",
        "\n",
        "print(num_max, num_min)\n",
        "print(idx_max, idx_min)"
      ],
      "execution_count": null,
      "outputs": [
        {
          "output_type": "stream",
          "name": "stdout",
          "text": [
            "[[17 18  0]\n",
            " [ 6  3 16]\n",
            " [ 0  1  8]\n",
            " [12  4  2]]\n",
            "18 0\n",
            "1 2\n"
          ]
        }
      ]
    },
    {
      "cell_type": "markdown",
      "metadata": {
        "id": "9JFTxcQ1UeI3"
      },
      "source": [
        "## Pandas\n",
        "\n",
        "[Pandas](https://pandas.pydata.org/) is an open-source Python library for analyzing large and complex, \"labeled\" data."
      ]
    },
    {
      "cell_type": "code",
      "metadata": {
        "id": "t3igtJlt2q3u"
      },
      "source": [
        "import pandas as pd"
      ],
      "execution_count": null,
      "outputs": []
    },
    {
      "cell_type": "code",
      "source": [
        "my_ser = pd.Series([1,2,4,3], ['Kim','Lee','Park','Choi']) # 1-d 형태\n",
        "print(my_ser)\n",
        "\n",
        "print('===')\n",
        "print(my_ser.values)\n",
        "print(my_ser.index)"
      ],
      "metadata": {
        "id": "pulmE3zfruDI",
        "colab": {
          "base_uri": "https://localhost:8080/"
        },
        "outputId": "630215d7-2441-4f5a-972a-d4f7a6b2dffa"
      },
      "execution_count": null,
      "outputs": [
        {
          "output_type": "stream",
          "name": "stdout",
          "text": [
            "Kim     1\n",
            "Lee     2\n",
            "Park    4\n",
            "Choi    3\n",
            "dtype: int64\n",
            "===\n",
            "[1 2 4 3]\n",
            "Index(['Kim', 'Lee', 'Park', 'Choi'], dtype='object')\n"
          ]
        }
      ]
    },
    {
      "cell_type": "code",
      "source": [
        "print(my_ser['Kim'])\n",
        "print(my_ser['Kim':'Park'])"
      ],
      "metadata": {
        "id": "9O4u_QkpsdtK",
        "colab": {
          "base_uri": "https://localhost:8080/"
        },
        "outputId": "a3bda2d0-1cd0-43fe-a8fe-dbd4304479ef"
      },
      "execution_count": null,
      "outputs": [
        {
          "output_type": "stream",
          "name": "stdout",
          "text": [
            "1\n",
            "Kim     1\n",
            "Lee     2\n",
            "Park    4\n",
            "dtype: int64\n"
          ]
        }
      ]
    },
    {
      "cell_type": "code",
      "metadata": {
        "id": "8ocCFRSv9I8N",
        "colab": {
          "base_uri": "https://localhost:8080/"
        },
        "outputId": "89767c55-0b16-432b-a625-577e2bac4245"
      },
      "source": [
        "my_dict = {'b': 10, 'a': 30, 'c': 20}\n",
        "print(my_dict)\n",
        "\n",
        "data = pd.Series(my_dict)\n",
        "print(data)"
      ],
      "execution_count": null,
      "outputs": [
        {
          "output_type": "stream",
          "name": "stdout",
          "text": [
            "{'b': 10, 'a': 30, 'c': 20}\n",
            "b    10\n",
            "a    30\n",
            "c    20\n",
            "dtype: int64\n"
          ]
        }
      ]
    },
    {
      "cell_type": "code",
      "source": [
        "# series[label]\n",
        "print(data['a'])\n",
        "\n",
        "data['e'] = 15\n",
        "print(data)"
      ],
      "metadata": {
        "id": "iI8THrfCs6Rc",
        "colab": {
          "base_uri": "https://localhost:8080/"
        },
        "outputId": "880bfb86-24ba-4512-8ec8-79771c253ae0"
      },
      "execution_count": null,
      "outputs": [
        {
          "output_type": "stream",
          "name": "stdout",
          "text": [
            "30\n",
            "b    10\n",
            "a    30\n",
            "c    20\n",
            "e    15\n",
            "dtype: int64\n"
          ]
        }
      ]
    },
    {
      "cell_type": "code",
      "source": [
        "ser1 = pd.Series([1,2,3,4], ['Kim','Lee','Park','Choi'])\n",
        "ser2 = pd.Series([5.2,3.5,7.2,12.5], ['Kim','Lee','Yoo','Choi'])\n",
        "\n",
        "print(ser1)\n",
        "print('===')\n",
        "print(ser2)\n",
        "print('===')\n",
        "print(ser1+ser2)"
      ],
      "metadata": {
        "id": "itJtbsfos6OU",
        "colab": {
          "base_uri": "https://localhost:8080/"
        },
        "outputId": "5ecc354d-82eb-46e9-c22e-0d4b5c0f6820"
      },
      "execution_count": null,
      "outputs": [
        {
          "output_type": "stream",
          "name": "stdout",
          "text": [
            "Kim     1\n",
            "Lee     2\n",
            "Park    3\n",
            "Choi    4\n",
            "dtype: int64\n",
            "===\n",
            "Kim      5.2\n",
            "Lee      3.5\n",
            "Yoo      7.2\n",
            "Choi    12.5\n",
            "dtype: float64\n",
            "===\n",
            "Choi    16.5\n",
            "Kim      6.2\n",
            "Lee      5.5\n",
            "Park     NaN\n",
            "Yoo      NaN\n",
            "dtype: float64\n"
          ]
        }
      ]
    },
    {
      "cell_type": "markdown",
      "metadata": {
        "id": "8HXkPLQoWqdW"
      },
      "source": [
        "**DataFrame** is a tabular (with rows and columns) representation of data\n",
        "\n",
        "- `pd.DataFrame(data, index, columns)`\n",
        "- If we have data in `dict` data structure, we can convert it into DataFrame\n",
        "\n",
        "- `DataFrame.index`: gives a range of the row index\n",
        "- `DataFrame.columns`: gives a list of column labels\n",
        "- `DataFrame.values`: gives all the rows in DataFrame\n",
        "- `DataFrame.size`: gives a total number of values in DataFrame\n",
        "- `DataFrame.shape`: gives a number of rows and columns in DataFrame"
      ]
    },
    {
      "cell_type": "code",
      "metadata": {
        "id": "su96HfUT9Iw_",
        "colab": {
          "base_uri": "https://localhost:8080/",
          "height": 143
        },
        "outputId": "bcc547bd-85af-4dcb-e9e7-1b66765bbd85"
      },
      "source": [
        "arr = np.array([[1,100], [5,50], [10,10]])\n",
        "label = ['a','b','c']\n",
        "my_df = pd.DataFrame(data=arr, index=label, columns=['Type 1', 'Type 2'])\n",
        "\n",
        "my_df"
      ],
      "execution_count": null,
      "outputs": [
        {
          "output_type": "execute_result",
          "data": {
            "text/plain": [
              "   Type 1  Type 2\n",
              "a       1     100\n",
              "b       5      50\n",
              "c      10      10"
            ],
            "text/html": [
              "\n",
              "  <div id=\"df-56573fc5-78b8-47a5-99b0-c276e5e86dfd\">\n",
              "    <div class=\"colab-df-container\">\n",
              "      <div>\n",
              "<style scoped>\n",
              "    .dataframe tbody tr th:only-of-type {\n",
              "        vertical-align: middle;\n",
              "    }\n",
              "\n",
              "    .dataframe tbody tr th {\n",
              "        vertical-align: top;\n",
              "    }\n",
              "\n",
              "    .dataframe thead th {\n",
              "        text-align: right;\n",
              "    }\n",
              "</style>\n",
              "<table border=\"1\" class=\"dataframe\">\n",
              "  <thead>\n",
              "    <tr style=\"text-align: right;\">\n",
              "      <th></th>\n",
              "      <th>Type 1</th>\n",
              "      <th>Type 2</th>\n",
              "    </tr>\n",
              "  </thead>\n",
              "  <tbody>\n",
              "    <tr>\n",
              "      <th>a</th>\n",
              "      <td>1</td>\n",
              "      <td>100</td>\n",
              "    </tr>\n",
              "    <tr>\n",
              "      <th>b</th>\n",
              "      <td>5</td>\n",
              "      <td>50</td>\n",
              "    </tr>\n",
              "    <tr>\n",
              "      <th>c</th>\n",
              "      <td>10</td>\n",
              "      <td>10</td>\n",
              "    </tr>\n",
              "  </tbody>\n",
              "</table>\n",
              "</div>\n",
              "      <button class=\"colab-df-convert\" onclick=\"convertToInteractive('df-56573fc5-78b8-47a5-99b0-c276e5e86dfd')\"\n",
              "              title=\"Convert this dataframe to an interactive table.\"\n",
              "              style=\"display:none;\">\n",
              "        \n",
              "  <svg xmlns=\"http://www.w3.org/2000/svg\" height=\"24px\"viewBox=\"0 0 24 24\"\n",
              "       width=\"24px\">\n",
              "    <path d=\"M0 0h24v24H0V0z\" fill=\"none\"/>\n",
              "    <path d=\"M18.56 5.44l.94 2.06.94-2.06 2.06-.94-2.06-.94-.94-2.06-.94 2.06-2.06.94zm-11 1L8.5 8.5l.94-2.06 2.06-.94-2.06-.94L8.5 2.5l-.94 2.06-2.06.94zm10 10l.94 2.06.94-2.06 2.06-.94-2.06-.94-.94-2.06-.94 2.06-2.06.94z\"/><path d=\"M17.41 7.96l-1.37-1.37c-.4-.4-.92-.59-1.43-.59-.52 0-1.04.2-1.43.59L10.3 9.45l-7.72 7.72c-.78.78-.78 2.05 0 2.83L4 21.41c.39.39.9.59 1.41.59.51 0 1.02-.2 1.41-.59l7.78-7.78 2.81-2.81c.8-.78.8-2.07 0-2.86zM5.41 20L4 18.59l7.72-7.72 1.47 1.35L5.41 20z\"/>\n",
              "  </svg>\n",
              "      </button>\n",
              "      \n",
              "  <style>\n",
              "    .colab-df-container {\n",
              "      display:flex;\n",
              "      flex-wrap:wrap;\n",
              "      gap: 12px;\n",
              "    }\n",
              "\n",
              "    .colab-df-convert {\n",
              "      background-color: #E8F0FE;\n",
              "      border: none;\n",
              "      border-radius: 50%;\n",
              "      cursor: pointer;\n",
              "      display: none;\n",
              "      fill: #1967D2;\n",
              "      height: 32px;\n",
              "      padding: 0 0 0 0;\n",
              "      width: 32px;\n",
              "    }\n",
              "\n",
              "    .colab-df-convert:hover {\n",
              "      background-color: #E2EBFA;\n",
              "      box-shadow: 0px 1px 2px rgba(60, 64, 67, 0.3), 0px 1px 3px 1px rgba(60, 64, 67, 0.15);\n",
              "      fill: #174EA6;\n",
              "    }\n",
              "\n",
              "    [theme=dark] .colab-df-convert {\n",
              "      background-color: #3B4455;\n",
              "      fill: #D2E3FC;\n",
              "    }\n",
              "\n",
              "    [theme=dark] .colab-df-convert:hover {\n",
              "      background-color: #434B5C;\n",
              "      box-shadow: 0px 1px 3px 1px rgba(0, 0, 0, 0.15);\n",
              "      filter: drop-shadow(0px 1px 2px rgba(0, 0, 0, 0.3));\n",
              "      fill: #FFFFFF;\n",
              "    }\n",
              "  </style>\n",
              "\n",
              "      <script>\n",
              "        const buttonEl =\n",
              "          document.querySelector('#df-56573fc5-78b8-47a5-99b0-c276e5e86dfd button.colab-df-convert');\n",
              "        buttonEl.style.display =\n",
              "          google.colab.kernel.accessAllowed ? 'block' : 'none';\n",
              "\n",
              "        async function convertToInteractive(key) {\n",
              "          const element = document.querySelector('#df-56573fc5-78b8-47a5-99b0-c276e5e86dfd');\n",
              "          const dataTable =\n",
              "            await google.colab.kernel.invokeFunction('convertToInteractive',\n",
              "                                                     [key], {});\n",
              "          if (!dataTable) return;\n",
              "\n",
              "          const docLinkHtml = 'Like what you see? Visit the ' +\n",
              "            '<a target=\"_blank\" href=https://colab.research.google.com/notebooks/data_table.ipynb>data table notebook</a>'\n",
              "            + ' to learn more about interactive tables.';\n",
              "          element.innerHTML = '';\n",
              "          dataTable['output_type'] = 'display_data';\n",
              "          await google.colab.output.renderOutput(dataTable, element);\n",
              "          const docLink = document.createElement('div');\n",
              "          docLink.innerHTML = docLinkHtml;\n",
              "          element.appendChild(docLink);\n",
              "        }\n",
              "      </script>\n",
              "    </div>\n",
              "  </div>\n",
              "  "
            ]
          },
          "metadata": {},
          "execution_count": 18
        }
      ]
    },
    {
      "cell_type": "code",
      "metadata": {
        "id": "ft7JATyE9I1H",
        "colab": {
          "base_uri": "https://localhost:8080/",
          "height": 217
        },
        "outputId": "2237282e-8b6c-4845-b180-2c7169b4a0bd"
      },
      "source": [
        "data = {'Type 1': [1,5,10], 'Type 2': [100, 50, 10]}\n",
        "my_df = pd.DataFrame(data, index=['a','b','c'])\n",
        "\n",
        "print(my_df)\n",
        "my_df"
      ],
      "execution_count": null,
      "outputs": [
        {
          "output_type": "stream",
          "name": "stdout",
          "text": [
            "   Type 1  Type 2\n",
            "a       1     100\n",
            "b       5      50\n",
            "c      10      10\n"
          ]
        },
        {
          "output_type": "execute_result",
          "data": {
            "text/plain": [
              "   Type 1  Type 2\n",
              "a       1     100\n",
              "b       5      50\n",
              "c      10      10"
            ],
            "text/html": [
              "\n",
              "  <div id=\"df-0482948d-fd72-422e-8261-9d4030e033b0\">\n",
              "    <div class=\"colab-df-container\">\n",
              "      <div>\n",
              "<style scoped>\n",
              "    .dataframe tbody tr th:only-of-type {\n",
              "        vertical-align: middle;\n",
              "    }\n",
              "\n",
              "    .dataframe tbody tr th {\n",
              "        vertical-align: top;\n",
              "    }\n",
              "\n",
              "    .dataframe thead th {\n",
              "        text-align: right;\n",
              "    }\n",
              "</style>\n",
              "<table border=\"1\" class=\"dataframe\">\n",
              "  <thead>\n",
              "    <tr style=\"text-align: right;\">\n",
              "      <th></th>\n",
              "      <th>Type 1</th>\n",
              "      <th>Type 2</th>\n",
              "    </tr>\n",
              "  </thead>\n",
              "  <tbody>\n",
              "    <tr>\n",
              "      <th>a</th>\n",
              "      <td>1</td>\n",
              "      <td>100</td>\n",
              "    </tr>\n",
              "    <tr>\n",
              "      <th>b</th>\n",
              "      <td>5</td>\n",
              "      <td>50</td>\n",
              "    </tr>\n",
              "    <tr>\n",
              "      <th>c</th>\n",
              "      <td>10</td>\n",
              "      <td>10</td>\n",
              "    </tr>\n",
              "  </tbody>\n",
              "</table>\n",
              "</div>\n",
              "      <button class=\"colab-df-convert\" onclick=\"convertToInteractive('df-0482948d-fd72-422e-8261-9d4030e033b0')\"\n",
              "              title=\"Convert this dataframe to an interactive table.\"\n",
              "              style=\"display:none;\">\n",
              "        \n",
              "  <svg xmlns=\"http://www.w3.org/2000/svg\" height=\"24px\"viewBox=\"0 0 24 24\"\n",
              "       width=\"24px\">\n",
              "    <path d=\"M0 0h24v24H0V0z\" fill=\"none\"/>\n",
              "    <path d=\"M18.56 5.44l.94 2.06.94-2.06 2.06-.94-2.06-.94-.94-2.06-.94 2.06-2.06.94zm-11 1L8.5 8.5l.94-2.06 2.06-.94-2.06-.94L8.5 2.5l-.94 2.06-2.06.94zm10 10l.94 2.06.94-2.06 2.06-.94-2.06-.94-.94-2.06-.94 2.06-2.06.94z\"/><path d=\"M17.41 7.96l-1.37-1.37c-.4-.4-.92-.59-1.43-.59-.52 0-1.04.2-1.43.59L10.3 9.45l-7.72 7.72c-.78.78-.78 2.05 0 2.83L4 21.41c.39.39.9.59 1.41.59.51 0 1.02-.2 1.41-.59l7.78-7.78 2.81-2.81c.8-.78.8-2.07 0-2.86zM5.41 20L4 18.59l7.72-7.72 1.47 1.35L5.41 20z\"/>\n",
              "  </svg>\n",
              "      </button>\n",
              "      \n",
              "  <style>\n",
              "    .colab-df-container {\n",
              "      display:flex;\n",
              "      flex-wrap:wrap;\n",
              "      gap: 12px;\n",
              "    }\n",
              "\n",
              "    .colab-df-convert {\n",
              "      background-color: #E8F0FE;\n",
              "      border: none;\n",
              "      border-radius: 50%;\n",
              "      cursor: pointer;\n",
              "      display: none;\n",
              "      fill: #1967D2;\n",
              "      height: 32px;\n",
              "      padding: 0 0 0 0;\n",
              "      width: 32px;\n",
              "    }\n",
              "\n",
              "    .colab-df-convert:hover {\n",
              "      background-color: #E2EBFA;\n",
              "      box-shadow: 0px 1px 2px rgba(60, 64, 67, 0.3), 0px 1px 3px 1px rgba(60, 64, 67, 0.15);\n",
              "      fill: #174EA6;\n",
              "    }\n",
              "\n",
              "    [theme=dark] .colab-df-convert {\n",
              "      background-color: #3B4455;\n",
              "      fill: #D2E3FC;\n",
              "    }\n",
              "\n",
              "    [theme=dark] .colab-df-convert:hover {\n",
              "      background-color: #434B5C;\n",
              "      box-shadow: 0px 1px 3px 1px rgba(0, 0, 0, 0.15);\n",
              "      filter: drop-shadow(0px 1px 2px rgba(0, 0, 0, 0.3));\n",
              "      fill: #FFFFFF;\n",
              "    }\n",
              "  </style>\n",
              "\n",
              "      <script>\n",
              "        const buttonEl =\n",
              "          document.querySelector('#df-0482948d-fd72-422e-8261-9d4030e033b0 button.colab-df-convert');\n",
              "        buttonEl.style.display =\n",
              "          google.colab.kernel.accessAllowed ? 'block' : 'none';\n",
              "\n",
              "        async function convertToInteractive(key) {\n",
              "          const element = document.querySelector('#df-0482948d-fd72-422e-8261-9d4030e033b0');\n",
              "          const dataTable =\n",
              "            await google.colab.kernel.invokeFunction('convertToInteractive',\n",
              "                                                     [key], {});\n",
              "          if (!dataTable) return;\n",
              "\n",
              "          const docLinkHtml = 'Like what you see? Visit the ' +\n",
              "            '<a target=\"_blank\" href=https://colab.research.google.com/notebooks/data_table.ipynb>data table notebook</a>'\n",
              "            + ' to learn more about interactive tables.';\n",
              "          element.innerHTML = '';\n",
              "          dataTable['output_type'] = 'display_data';\n",
              "          await google.colab.output.renderOutput(dataTable, element);\n",
              "          const docLink = document.createElement('div');\n",
              "          docLink.innerHTML = docLinkHtml;\n",
              "          element.appendChild(docLink);\n",
              "        }\n",
              "      </script>\n",
              "    </div>\n",
              "  </div>\n",
              "  "
            ]
          },
          "metadata": {},
          "execution_count": 19
        }
      ]
    },
    {
      "cell_type": "code",
      "metadata": {
        "id": "P45A_9LAXR36",
        "colab": {
          "base_uri": "https://localhost:8080/"
        },
        "outputId": "328d5c26-23ba-414b-d5e0-a80e3f12ef12"
      },
      "source": [
        "# check the DataFrame attributes\n",
        "\n",
        "print(my_df.index)\n",
        "print(my_df.columns)\n",
        "print(my_df.values)\n",
        "print(my_df.size)\n",
        "print(my_df.shape)"
      ],
      "execution_count": null,
      "outputs": [
        {
          "output_type": "stream",
          "name": "stdout",
          "text": [
            "Index(['a', 'b', 'c'], dtype='object')\n",
            "Index(['Type 1', 'Type 2'], dtype='object')\n",
            "[[  1 100]\n",
            " [  5  50]\n",
            " [ 10  10]]\n",
            "6\n",
            "(3, 2)\n"
          ]
        }
      ]
    },
    {
      "cell_type": "markdown",
      "source": [
        "While dealing with data in DataFrame, we can select a set of rows or columns\n",
        "\n",
        "- `DataFrame[label]`: select a group of data based on the column labels \n",
        "- `DataFrame.loc[label]`: select a group of data based on the row labels \n",
        "- `DataFrame.iloc[index]`: select a group of data based on the row index position\n",
        "\n",
        "Select columns or rows:\n",
        "![image.png](data:image/png;base64,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)"
      ],
      "metadata": {
        "id": "lHq97P4Nk8Bs"
      }
    },
    {
      "cell_type": "code",
      "source": [
        "print(my_df)\n",
        "\n",
        "# select column\n",
        "print(my_df['Type 2'])\n",
        "\n",
        "# select row by label\n",
        "print('===')\n",
        "print(my_df.loc['b'])\n",
        "\n",
        "# select row by integer\n",
        "print('===')\n",
        "print(my_df.iloc[1])\n",
        "\n",
        "# select colum by label, integer\n",
        "print('\\n')\n",
        "print(my_df.loc[:, 'Type 2'])\n",
        "\n",
        "print('\\n')\n",
        "print(my_df.iloc[:, 1])"
      ],
      "metadata": {
        "id": "BAMq6V9AtpIF",
        "colab": {
          "base_uri": "https://localhost:8080/"
        },
        "outputId": "aa9d1847-57b0-4e46-9819-6fc3a7e29ca8"
      },
      "execution_count": null,
      "outputs": [
        {
          "output_type": "stream",
          "name": "stdout",
          "text": [
            "   Type 1  Type 2\n",
            "a       1     100\n",
            "b       5      50\n",
            "c      10      10\n",
            "a    100\n",
            "b     50\n",
            "c     10\n",
            "Name: Type 2, dtype: int64\n",
            "===\n",
            "Type 1     5\n",
            "Type 2    50\n",
            "Name: b, dtype: int64\n",
            "===\n",
            "Type 1     5\n",
            "Type 2    50\n",
            "Name: b, dtype: int64\n",
            "\n",
            "\n",
            "a    100\n",
            "b     50\n",
            "c     10\n",
            "Name: Type 2, dtype: int64\n",
            "\n",
            "\n",
            "a    100\n",
            "b     50\n",
            "c     10\n",
            "Name: Type 2, dtype: int64\n"
          ]
        }
      ]
    },
    {
      "cell_type": "code",
      "source": [
        "my_df['Type 3'] = my_df['Type 1'] * my_df['Type 2']\n",
        "my_df"
      ],
      "metadata": {
        "id": "xCn0z4R_t4HV",
        "colab": {
          "base_uri": "https://localhost:8080/",
          "height": 143
        },
        "outputId": "6beb2a13-0dad-45de-9437-4fa6b264c714"
      },
      "execution_count": null,
      "outputs": [
        {
          "output_type": "execute_result",
          "data": {
            "text/plain": [
              "   Type 1  Type 2  Type 3\n",
              "a       1     100     100\n",
              "b       5      50     250\n",
              "c      10      10     100"
            ],
            "text/html": [
              "\n",
              "  <div id=\"df-bb226fb2-d8c1-4104-a69a-c5ad412f14bd\">\n",
              "    <div class=\"colab-df-container\">\n",
              "      <div>\n",
              "<style scoped>\n",
              "    .dataframe tbody tr th:only-of-type {\n",
              "        vertical-align: middle;\n",
              "    }\n",
              "\n",
              "    .dataframe tbody tr th {\n",
              "        vertical-align: top;\n",
              "    }\n",
              "\n",
              "    .dataframe thead th {\n",
              "        text-align: right;\n",
              "    }\n",
              "</style>\n",
              "<table border=\"1\" class=\"dataframe\">\n",
              "  <thead>\n",
              "    <tr style=\"text-align: right;\">\n",
              "      <th></th>\n",
              "      <th>Type 1</th>\n",
              "      <th>Type 2</th>\n",
              "      <th>Type 3</th>\n",
              "    </tr>\n",
              "  </thead>\n",
              "  <tbody>\n",
              "    <tr>\n",
              "      <th>a</th>\n",
              "      <td>1</td>\n",
              "      <td>100</td>\n",
              "      <td>100</td>\n",
              "    </tr>\n",
              "    <tr>\n",
              "      <th>b</th>\n",
              "      <td>5</td>\n",
              "      <td>50</td>\n",
              "      <td>250</td>\n",
              "    </tr>\n",
              "    <tr>\n",
              "      <th>c</th>\n",
              "      <td>10</td>\n",
              "      <td>10</td>\n",
              "      <td>100</td>\n",
              "    </tr>\n",
              "  </tbody>\n",
              "</table>\n",
              "</div>\n",
              "      <button class=\"colab-df-convert\" onclick=\"convertToInteractive('df-bb226fb2-d8c1-4104-a69a-c5ad412f14bd')\"\n",
              "              title=\"Convert this dataframe to an interactive table.\"\n",
              "              style=\"display:none;\">\n",
              "        \n",
              "  <svg xmlns=\"http://www.w3.org/2000/svg\" height=\"24px\"viewBox=\"0 0 24 24\"\n",
              "       width=\"24px\">\n",
              "    <path d=\"M0 0h24v24H0V0z\" fill=\"none\"/>\n",
              "    <path d=\"M18.56 5.44l.94 2.06.94-2.06 2.06-.94-2.06-.94-.94-2.06-.94 2.06-2.06.94zm-11 1L8.5 8.5l.94-2.06 2.06-.94-2.06-.94L8.5 2.5l-.94 2.06-2.06.94zm10 10l.94 2.06.94-2.06 2.06-.94-2.06-.94-.94-2.06-.94 2.06-2.06.94z\"/><path d=\"M17.41 7.96l-1.37-1.37c-.4-.4-.92-.59-1.43-.59-.52 0-1.04.2-1.43.59L10.3 9.45l-7.72 7.72c-.78.78-.78 2.05 0 2.83L4 21.41c.39.39.9.59 1.41.59.51 0 1.02-.2 1.41-.59l7.78-7.78 2.81-2.81c.8-.78.8-2.07 0-2.86zM5.41 20L4 18.59l7.72-7.72 1.47 1.35L5.41 20z\"/>\n",
              "  </svg>\n",
              "      </button>\n",
              "      \n",
              "  <style>\n",
              "    .colab-df-container {\n",
              "      display:flex;\n",
              "      flex-wrap:wrap;\n",
              "      gap: 12px;\n",
              "    }\n",
              "\n",
              "    .colab-df-convert {\n",
              "      background-color: #E8F0FE;\n",
              "      border: none;\n",
              "      border-radius: 50%;\n",
              "      cursor: pointer;\n",
              "      display: none;\n",
              "      fill: #1967D2;\n",
              "      height: 32px;\n",
              "      padding: 0 0 0 0;\n",
              "      width: 32px;\n",
              "    }\n",
              "\n",
              "    .colab-df-convert:hover {\n",
              "      background-color: #E2EBFA;\n",
              "      box-shadow: 0px 1px 2px rgba(60, 64, 67, 0.3), 0px 1px 3px 1px rgba(60, 64, 67, 0.15);\n",
              "      fill: #174EA6;\n",
              "    }\n",
              "\n",
              "    [theme=dark] .colab-df-convert {\n",
              "      background-color: #3B4455;\n",
              "      fill: #D2E3FC;\n",
              "    }\n",
              "\n",
              "    [theme=dark] .colab-df-convert:hover {\n",
              "      background-color: #434B5C;\n",
              "      box-shadow: 0px 1px 3px 1px rgba(0, 0, 0, 0.15);\n",
              "      filter: drop-shadow(0px 1px 2px rgba(0, 0, 0, 0.3));\n",
              "      fill: #FFFFFF;\n",
              "    }\n",
              "  </style>\n",
              "\n",
              "      <script>\n",
              "        const buttonEl =\n",
              "          document.querySelector('#df-bb226fb2-d8c1-4104-a69a-c5ad412f14bd button.colab-df-convert');\n",
              "        buttonEl.style.display =\n",
              "          google.colab.kernel.accessAllowed ? 'block' : 'none';\n",
              "\n",
              "        async function convertToInteractive(key) {\n",
              "          const element = document.querySelector('#df-bb226fb2-d8c1-4104-a69a-c5ad412f14bd');\n",
              "          const dataTable =\n",
              "            await google.colab.kernel.invokeFunction('convertToInteractive',\n",
              "                                                     [key], {});\n",
              "          if (!dataTable) return;\n",
              "\n",
              "          const docLinkHtml = 'Like what you see? Visit the ' +\n",
              "            '<a target=\"_blank\" href=https://colab.research.google.com/notebooks/data_table.ipynb>data table notebook</a>'\n",
              "            + ' to learn more about interactive tables.';\n",
              "          element.innerHTML = '';\n",
              "          dataTable['output_type'] = 'display_data';\n",
              "          await google.colab.output.renderOutput(dataTable, element);\n",
              "          const docLink = document.createElement('div');\n",
              "          docLink.innerHTML = docLinkHtml;\n",
              "          element.appendChild(docLink);\n",
              "        }\n",
              "      </script>\n",
              "    </div>\n",
              "  </div>\n",
              "  "
            ]
          },
          "metadata": {},
          "execution_count": 22
        }
      ]
    },
    {
      "cell_type": "code",
      "source": [
        "my_df['Type 4'] = 'Hey'\n",
        "my_df"
      ],
      "metadata": {
        "id": "LhoqrQbQuD3l",
        "colab": {
          "base_uri": "https://localhost:8080/",
          "height": 143
        },
        "outputId": "94898f98-13e0-4076-84fd-10c04b8bac7b"
      },
      "execution_count": null,
      "outputs": [
        {
          "output_type": "execute_result",
          "data": {
            "text/plain": [
              "   Type 1  Type 2  Type 3 Type 4\n",
              "a       1     100     100    Hey\n",
              "b       5      50     250    Hey\n",
              "c      10      10     100    Hey"
            ],
            "text/html": [
              "\n",
              "  <div id=\"df-e4942dad-ecdf-4276-8175-60609533e2be\">\n",
              "    <div class=\"colab-df-container\">\n",
              "      <div>\n",
              "<style scoped>\n",
              "    .dataframe tbody tr th:only-of-type {\n",
              "        vertical-align: middle;\n",
              "    }\n",
              "\n",
              "    .dataframe tbody tr th {\n",
              "        vertical-align: top;\n",
              "    }\n",
              "\n",
              "    .dataframe thead th {\n",
              "        text-align: right;\n",
              "    }\n",
              "</style>\n",
              "<table border=\"1\" class=\"dataframe\">\n",
              "  <thead>\n",
              "    <tr style=\"text-align: right;\">\n",
              "      <th></th>\n",
              "      <th>Type 1</th>\n",
              "      <th>Type 2</th>\n",
              "      <th>Type 3</th>\n",
              "      <th>Type 4</th>\n",
              "    </tr>\n",
              "  </thead>\n",
              "  <tbody>\n",
              "    <tr>\n",
              "      <th>a</th>\n",
              "      <td>1</td>\n",
              "      <td>100</td>\n",
              "      <td>100</td>\n",
              "      <td>Hey</td>\n",
              "    </tr>\n",
              "    <tr>\n",
              "      <th>b</th>\n",
              "      <td>5</td>\n",
              "      <td>50</td>\n",
              "      <td>250</td>\n",
              "      <td>Hey</td>\n",
              "    </tr>\n",
              "    <tr>\n",
              "      <th>c</th>\n",
              "      <td>10</td>\n",
              "      <td>10</td>\n",
              "      <td>100</td>\n",
              "      <td>Hey</td>\n",
              "    </tr>\n",
              "  </tbody>\n",
              "</table>\n",
              "</div>\n",
              "      <button class=\"colab-df-convert\" onclick=\"convertToInteractive('df-e4942dad-ecdf-4276-8175-60609533e2be')\"\n",
              "              title=\"Convert this dataframe to an interactive table.\"\n",
              "              style=\"display:none;\">\n",
              "        \n",
              "  <svg xmlns=\"http://www.w3.org/2000/svg\" height=\"24px\"viewBox=\"0 0 24 24\"\n",
              "       width=\"24px\">\n",
              "    <path d=\"M0 0h24v24H0V0z\" fill=\"none\"/>\n",
              "    <path d=\"M18.56 5.44l.94 2.06.94-2.06 2.06-.94-2.06-.94-.94-2.06-.94 2.06-2.06.94zm-11 1L8.5 8.5l.94-2.06 2.06-.94-2.06-.94L8.5 2.5l-.94 2.06-2.06.94zm10 10l.94 2.06.94-2.06 2.06-.94-2.06-.94-.94-2.06-.94 2.06-2.06.94z\"/><path d=\"M17.41 7.96l-1.37-1.37c-.4-.4-.92-.59-1.43-.59-.52 0-1.04.2-1.43.59L10.3 9.45l-7.72 7.72c-.78.78-.78 2.05 0 2.83L4 21.41c.39.39.9.59 1.41.59.51 0 1.02-.2 1.41-.59l7.78-7.78 2.81-2.81c.8-.78.8-2.07 0-2.86zM5.41 20L4 18.59l7.72-7.72 1.47 1.35L5.41 20z\"/>\n",
              "  </svg>\n",
              "      </button>\n",
              "      \n",
              "  <style>\n",
              "    .colab-df-container {\n",
              "      display:flex;\n",
              "      flex-wrap:wrap;\n",
              "      gap: 12px;\n",
              "    }\n",
              "\n",
              "    .colab-df-convert {\n",
              "      background-color: #E8F0FE;\n",
              "      border: none;\n",
              "      border-radius: 50%;\n",
              "      cursor: pointer;\n",
              "      display: none;\n",
              "      fill: #1967D2;\n",
              "      height: 32px;\n",
              "      padding: 0 0 0 0;\n",
              "      width: 32px;\n",
              "    }\n",
              "\n",
              "    .colab-df-convert:hover {\n",
              "      background-color: #E2EBFA;\n",
              "      box-shadow: 0px 1px 2px rgba(60, 64, 67, 0.3), 0px 1px 3px 1px rgba(60, 64, 67, 0.15);\n",
              "      fill: #174EA6;\n",
              "    }\n",
              "\n",
              "    [theme=dark] .colab-df-convert {\n",
              "      background-color: #3B4455;\n",
              "      fill: #D2E3FC;\n",
              "    }\n",
              "\n",
              "    [theme=dark] .colab-df-convert:hover {\n",
              "      background-color: #434B5C;\n",
              "      box-shadow: 0px 1px 3px 1px rgba(0, 0, 0, 0.15);\n",
              "      filter: drop-shadow(0px 1px 2px rgba(0, 0, 0, 0.3));\n",
              "      fill: #FFFFFF;\n",
              "    }\n",
              "  </style>\n",
              "\n",
              "      <script>\n",
              "        const buttonEl =\n",
              "          document.querySelector('#df-e4942dad-ecdf-4276-8175-60609533e2be button.colab-df-convert');\n",
              "        buttonEl.style.display =\n",
              "          google.colab.kernel.accessAllowed ? 'block' : 'none';\n",
              "\n",
              "        async function convertToInteractive(key) {\n",
              "          const element = document.querySelector('#df-e4942dad-ecdf-4276-8175-60609533e2be');\n",
              "          const dataTable =\n",
              "            await google.colab.kernel.invokeFunction('convertToInteractive',\n",
              "                                                     [key], {});\n",
              "          if (!dataTable) return;\n",
              "\n",
              "          const docLinkHtml = 'Like what you see? Visit the ' +\n",
              "            '<a target=\"_blank\" href=https://colab.research.google.com/notebooks/data_table.ipynb>data table notebook</a>'\n",
              "            + ' to learn more about interactive tables.';\n",
              "          element.innerHTML = '';\n",
              "          dataTable['output_type'] = 'display_data';\n",
              "          await google.colab.output.renderOutput(dataTable, element);\n",
              "          const docLink = document.createElement('div');\n",
              "          docLink.innerHTML = docLinkHtml;\n",
              "          element.appendChild(docLink);\n",
              "        }\n",
              "      </script>\n",
              "    </div>\n",
              "  </div>\n",
              "  "
            ]
          },
          "metadata": {},
          "execution_count": 23
        }
      ]
    },
    {
      "cell_type": "code",
      "metadata": {
        "id": "HDvBaA8TETkd",
        "colab": {
          "base_uri": "https://localhost:8080/"
        },
        "outputId": "9707beab-f334-4b0e-c272-8f64624b1a5c"
      },
      "source": [
        "# get the row/column with boolean vector\n",
        "\n",
        "print(my_df)\n",
        "print(my_df[my_df['Type 2']>=100])"
      ],
      "execution_count": null,
      "outputs": [
        {
          "output_type": "stream",
          "name": "stdout",
          "text": [
            "   Type 1  Type 2  Type 3 Type 4\n",
            "a       1     100     100    Hey\n",
            "b       5      50     250    Hey\n",
            "c      10      10     100    Hey\n",
            "   Type 1  Type 2  Type 3 Type 4\n",
            "a       1     100     100    Hey\n"
          ]
        }
      ]
    },
    {
      "cell_type": "markdown",
      "metadata": {
        "id": "cfpBCmuxgEHs"
      },
      "source": [
        "## Exercises"
      ]
    },
    {
      "cell_type": "markdown",
      "metadata": {
        "id": "NKKk-iITgGDz"
      },
      "source": [
        "### E-1:\n",
        "\n",
        "Create a $5 \\times 3$ array of integers from a range between $10$ to $99$, such that the difference between each element is $6$. \n",
        "- the resulting array is\n",
        "```\n",
        "[[10 16 22]\n",
        " [28 34 40]\n",
        " [46 52 58]\n",
        " [64 70 76]\n",
        " [82 88 94]]\n",
        "```"
      ]
    },
    {
      "cell_type": "code",
      "metadata": {
        "id": "Tv4urDkNDy89",
        "colab": {
          "base_uri": "https://localhost:8080/"
        },
        "outputId": "35e97609-0ec1-452c-a399-c1623bb6f0bc"
      },
      "source": [
        "import numpy as np\n",
        "\n",
        "# your code here:\n",
        "my_arr = np.arange(10, 100, 6).reshape(5, 3)\n",
        "print(my_arr)"
      ],
      "execution_count": null,
      "outputs": [
        {
          "output_type": "stream",
          "name": "stdout",
          "text": [
            "[[10 16 22]\n",
            " [28 34 40]\n",
            " [46 52 58]\n",
            " [64 70 76]\n",
            " [82 88 94]]\n"
          ]
        }
      ]
    },
    {
      "cell_type": "markdown",
      "metadata": {
        "id": "VWUcVHODgeoW"
      },
      "source": [
        "### E-2:     \n",
        "\n",
        "Return an array of even rows and odd columns from the given ndarray `my_arr`\n",
        "\n",
        "Result:\n",
        "```\n",
        "[[21 27 33]\n",
        " [57 63 69]]\n",
        "```"
      ]
    },
    {
      "cell_type": "code",
      "metadata": {
        "id": "uSC9nXCdL8IA",
        "colab": {
          "base_uri": "https://localhost:8080/"
        },
        "outputId": "2732d3ff-438e-45d2-87e6-435a03e4a488"
      },
      "source": [
        "my_arr = np.arange(3, 91, 3).reshape(5,6)\n",
        "print('Input array:')\n",
        "print(my_arr)\n",
        "print(my_arr.shape)\n",
        "\n",
        "print('\\n')\n",
        "print('Output array: pick even rows and odd columns:')\n",
        "\n",
        "# your code here:\n",
        "print(my_arr[1::2, ::2])\n"
      ],
      "execution_count": null,
      "outputs": [
        {
          "output_type": "stream",
          "name": "stdout",
          "text": [
            "Input array:\n",
            "[[ 3  6  9 12 15 18]\n",
            " [21 24 27 30 33 36]\n",
            " [39 42 45 48 51 54]\n",
            " [57 60 63 66 69 72]\n",
            " [75 78 81 84 87 90]]\n",
            "(5, 6)\n",
            "\n",
            "\n",
            "Output array: pick even rows and odd columns:\n",
            "[[21 27 33]\n",
            " [57 63 69]]\n"
          ]
        }
      ]
    },
    {
      "cell_type": "markdown",
      "metadata": {
        "id": "T3ionKY-g44c"
      },
      "source": [
        "### E-3:     \n",
        "Create a $3 \\times 4$ array of random integers in range [10, 99] and compute the mean and standard deviation of the array along axis 0 and axis 1\n"
      ]
    },
    {
      "cell_type": "code",
      "metadata": {
        "id": "0TIIj2NJMT8_",
        "colab": {
          "base_uri": "https://localhost:8080/"
        },
        "outputId": "a2ba7e28-6d21-4532-8217-04a93070c6b5"
      },
      "source": [
        "# your code here: create an array\n",
        "my_arr = np.random.randint(10,100, size=(3,4))\n",
        "print(my_arr)\n",
        "\n",
        "# your code here: compute mean and std along axis 0 (along rows)\n",
        "# computations on my_arr\n",
        "print('mean (axis 0) =', my_arr.mean(axis = 0))\n",
        "print('std (axis 0) =', my_arr.std(axis = 0))\n",
        "\n",
        "# compute sum, product, and mean of all numbers from axis 0 (1st dimension) 위에서 아래로\n",
        "print('sum (axis 0) =', my_arr.sum(axis = 0))\n",
        "print('product (axis 0) =', my_arr.prod(axis = 0))\n",
        "print('mean (axis 0) =', my_arr.mean(axis = 0))\n",
        "\n",
        "# your code here: compute mean and std along axis 1 (along columns)\n",
        "print('mean (axis 1) =', my_arr.mean(axis = 1))\n",
        "print('std (axis 1) =', my_arr.std(axis = 1))"
      ],
      "execution_count": null,
      "outputs": [
        {
          "output_type": "stream",
          "name": "stdout",
          "text": [
            "[[36 93 19 25]\n",
            " [96 71 99 30]\n",
            " [13 95 84 95]]\n",
            "mean (axis 0) = [48.33333333 86.33333333 67.33333333 50.        ]\n",
            "std (axis 0) = [34.98888712 10.87300429 34.72111109 31.88521078]\n",
            "sum (axis 0) = [145 259 202 150]\n",
            "product (axis 0) = [ 44928 627285 158004  71250]\n",
            "mean (axis 0) = [48.33333333 86.33333333 67.33333333 50.        ]\n",
            "mean (axis 1) = [43.25 74.   71.75]\n",
            "std (axis 1) = [29.36302948 27.63150376 34.2153109 ]\n"
          ]
        }
      ]
    },
    {
      "cell_type": "markdown",
      "metadata": {
        "id": "-zA5ekFgh8b2"
      },
      "source": [
        "### E-4:    \n",
        "Make array `new_arr` that normalizes the array `my_arr` so that the values range exactly between 0 and 1\n",
        "\n",
        "- normalization can be done by `(array - minimum value) / (maximum value - minimum value)`"
      ]
    },
    {
      "cell_type": "code",
      "metadata": {
        "id": "rkiOzfGfU9PZ",
        "colab": {
          "base_uri": "https://localhost:8080/"
        },
        "outputId": "4b73fa29-7532-4cb1-f4c5-6261e970c98d"
      },
      "source": [
        "print('Input array')\n",
        "print(my_arr)\n",
        "\n",
        "# your code here: get the maximum and minimum values\n",
        "arr_max = my_arr.max()\n",
        "arr_min = my_arr.min()\n",
        "new_arr = np.zeros((3,4))\n",
        "\n",
        "# your code here: normalize the array\n",
        "\n",
        "for i in range(3):\n",
        "    for j in range(4):\n",
        "        new_arr[i][j] = (my_arr[i][j] - arr_min) / (arr_max - arr_min)\n",
        "\n",
        "# 동일 작업        \n",
        "new_arr2 = (my_arr - arr_min) / (arr_max - arr_min)\n",
        "\n",
        "print(new_arr)\n",
        "print(new_arr2)"
      ],
      "execution_count": null,
      "outputs": [
        {
          "output_type": "stream",
          "name": "stdout",
          "text": [
            "Input array\n",
            "[[36 93 19 25]\n",
            " [96 71 99 30]\n",
            " [13 95 84 95]]\n",
            "[[0.26744186 0.93023256 0.06976744 0.13953488]\n",
            " [0.96511628 0.6744186  1.         0.19767442]\n",
            " [0.         0.95348837 0.8255814  0.95348837]]\n",
            "[[0.26744186 0.93023256 0.06976744 0.13953488]\n",
            " [0.96511628 0.6744186  1.         0.19767442]\n",
            " [0.         0.95348837 0.8255814  0.95348837]]\n"
          ]
        }
      ]
    },
    {
      "cell_type": "markdown",
      "metadata": {
        "id": "p07IhyTuiifJ"
      },
      "source": [
        "### E-5:     \n",
        "Create a dataframe `my_df` from the ndarray `my_arr` given in E-3\n",
        "\n",
        "- make row labels being 'a','b','c'\n",
        "- make column labels being 'T1','T2','T3','T4'"
      ]
    },
    {
      "cell_type": "code",
      "metadata": {
        "id": "Wx7D4d5c9Is3",
        "colab": {
          "base_uri": "https://localhost:8080/"
        },
        "outputId": "dabe8e64-554a-4d06-bf61-979de1e7fbba"
      },
      "source": [
        "import pandas as pd\n",
        "print('Input array:')\n",
        "print(my_arr)\n",
        "\n",
        "# your code here: make row and column labels\n",
        "my_df = pd.DataFrame(my_arr, index = ['a', 'b', 'c'], columns = ['Type 1', 'Type 2', 'Type 3', 'Type 4'])\n",
        "\n",
        "labels = ['a', 'b', 'c']\n",
        "columns = ['Type 1', 'Type 2', 'Type 3', 'Type 4']\n",
        "my_df2 = pd.DataFrame(my_arr, index = labels, columns = columns)\n",
        "# your code here: create a dataframe \n",
        "\n",
        "\n",
        "print('\\nDataFrame:')\n",
        "print(my_df)\n",
        "print(my_df2)"
      ],
      "execution_count": null,
      "outputs": [
        {
          "output_type": "stream",
          "name": "stdout",
          "text": [
            "Input array:\n",
            "[[36 93 19 25]\n",
            " [96 71 99 30]\n",
            " [13 95 84 95]]\n",
            "\n",
            "DataFrame:\n",
            "   Type 1  Type 2  Type 3  Type 4\n",
            "a      36      93      19      25\n",
            "b      96      71      99      30\n",
            "c      13      95      84      95\n",
            "   Type 1  Type 2  Type 3  Type 4\n",
            "a      36      93      19      25\n",
            "b      96      71      99      30\n",
            "c      13      95      84      95\n"
          ]
        }
      ]
    }
  ]
}