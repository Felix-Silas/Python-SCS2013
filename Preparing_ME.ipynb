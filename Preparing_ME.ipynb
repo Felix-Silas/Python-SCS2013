{
  "nbformat": 4,
  "nbformat_minor": 0,
  "metadata": {
    "colab": {
      "provenance": [],
      "toc_visible": true
    },
    "kernelspec": {
      "name": "python3",
      "display_name": "Python 3"
    },
    "language_info": {
      "name": "python"
    }
  },
  "cells": [
    {
      "cell_type": "code",
      "execution_count": 1,
      "metadata": {
        "colab": {
          "base_uri": "https://localhost:8080/"
        },
        "id": "deiVhnEE9s2Q",
        "outputId": "4ed3bbe1-9f43-4188-b4ce-69f89bf59d44"
      },
      "outputs": [
        {
          "output_type": "stream",
          "name": "stdout",
          "text": [
            "True\n",
            "False\n",
            "True\n"
          ]
        }
      ],
      "source": [
        "x = ['apple', 'banana'] # list\n",
        "print('apple' in x)  # True\n",
        "print('pear' in x)  # False\n",
        "print('a' in 'apple')  # True"
      ]
    },
    {
      "cell_type": "code",
      "source": [
        "x = 592\n",
        "\n",
        "# check_1: check if x is a \bthree-digit number\n",
        "check_1 = (x // 100 != 0) and (x // 1000 == 0)\n",
        "# check_1 = (x >= 100) and (x < 1000)\n",
        "\n",
        "# check_2: check if x is an even number\n",
        "check_2 = (x % 2 == 0)\n",
        "\n",
        "# check: check if x is a three-digit even number\n",
        "check = check_1 and check_2\n",
        "\n",
        "print('x', x, 'is a three-digit number:', check_1)\n",
        "print('x', x, 'is an even number:', check_2)\n",
        "print('x', x, 'is a three-digit even number:', check)"
      ],
      "metadata": {
        "colab": {
          "base_uri": "https://localhost:8080/"
        },
        "id": "l4AVt56M9t2q",
        "outputId": "703c6b10-0286-4d02-e24a-e964dddc23cf"
      },
      "execution_count": 7,
      "outputs": [
        {
          "output_type": "stream",
          "name": "stdout",
          "text": [
            "x 592 is a three-digit number: True\n",
            "x 592 is an even number: True\n",
            "x 592 is a three-digit even number: True\n"
          ]
        }
      ]
    },
    {
      "cell_type": "code",
      "source": [
        "'''\n",
        "\\\\ backslash\n",
        "\\n new line\n",
        "\\t tab\n",
        "\\' single quote\n",
        "'''"
      ],
      "metadata": {
        "id": "LyhNDX8i9t49"
      },
      "execution_count": null,
      "outputs": []
    },
    {
      "cell_type": "code",
      "source": [
        "inta = 1\n",
        "intb = 10\n",
        "intc = 100\n",
        "\n",
        "my_str = 'Print the numbers: {no1:d}, {no2:f} and {no3}'.format(no2=intb, no1=inta, no3=intc)\n",
        "print(my_str)"
      ],
      "metadata": {
        "colab": {
          "base_uri": "https://localhost:8080/"
        },
        "id": "42XhMdaW9t7R",
        "outputId": "d50bb55b-a46b-42e3-c422-fdbdeae0a4f6"
      },
      "execution_count": 8,
      "outputs": [
        {
          "output_type": "stream",
          "name": "stdout",
          "text": [
            "Print the numbers: 1, 10.000000 and 100\n"
          ]
        }
      ]
    },
    {
      "cell_type": "code",
      "source": [
        "day = 'Today'\n",
        "print('{}\\'s temperature: {:d}°C'.format(day, 100))\n",
        "print('{0}\\'s temperature: {1:d}°C'.format(day, 100))\n",
        "print('{1}\\'s temperature: {0:d}°C'.format(100, day))\n",
        "print('{}\\'s temperature: {:.3f}°C'.format(day, 100))\n",
        "\n",
        "print('{}\\'s temperature: {:>10.3f}°C'.format(day, 100)) # 오른쪽 정렬\n",
        "print('{}\\'s temperature: {:<10.3f}°C'.format(day, 100)) # 왼쪽 정렬\n",
        "print('{}\\'s temperature: {:^10.3f}°C'.format(day, 100)) # 가운데 정렬"
      ],
      "metadata": {
        "colab": {
          "base_uri": "https://localhost:8080/"
        },
        "id": "R228RTa7BKM_",
        "outputId": "3466eb84-352a-4e27-bb6b-2badd23fddf9"
      },
      "execution_count": 10,
      "outputs": [
        {
          "output_type": "stream",
          "name": "stdout",
          "text": [
            "Today's temperature: 100°C\n",
            "Today's temperature: 100°C\n",
            "Today's temperature: 100°C\n",
            "Today's temperature: 100.000°C\n",
            "Today's temperature:    100.000°C\n",
            "Today's temperature: 100.000   °C\n",
            "Today's temperature:  100.000  °C\n"
          ]
        }
      ]
    },
    {
      "cell_type": "code",
      "source": [
        "my_str = '010-2468-1357'\n",
        "\n",
        "# 1\n",
        "str_a = my_str[:3]\n",
        "str_b = my_str[4:8]\n",
        "str_c = my_str[9:]\n",
        "\n",
        "# 2\n",
        "print('{:@<7}'.format(str_a))\n",
        "print(f'{str_a:@<7}')\n",
        "\n",
        "# 3\n",
        "print('{:!^7}'.format(str_b))\n",
        "print(f'{str_b:!^7}')\n",
        "\n",
        "# 4\n",
        "print('{:&>7}'.format(str_c))\n",
        "print(f'{str_c:&>7}')"
      ],
      "metadata": {
        "colab": {
          "base_uri": "https://localhost:8080/"
        },
        "id": "zS6W-bYsSpqh",
        "outputId": "932a9e24-5589-49c8-d678-eda47ca2321e"
      },
      "execution_count": 40,
      "outputs": [
        {
          "output_type": "stream",
          "name": "stdout",
          "text": [
            "010@@@@\n",
            "010@@@@\n",
            "!2468!!\n",
            "!2468!!\n",
            "&&&1357\n",
            "&&&1357\n"
          ]
        }
      ]
    },
    {
      "cell_type": "code",
      "source": [
        "value = 4054.13\n",
        "\n",
        "print('!%.4f!' % value)\n",
        "print('!%15.2f!' % value)\n",
        "print('!%-15.2f!' % value)"
      ],
      "metadata": {
        "colab": {
          "base_uri": "https://localhost:8080/"
        },
        "id": "m990HQhI9t-z",
        "outputId": "bffe5e0c-0134-4a9d-af99-a882d303be36"
      },
      "execution_count": 9,
      "outputs": [
        {
          "output_type": "stream",
          "name": "stdout",
          "text": [
            "!4054.1300!\n",
            "!        4054.13!\n",
            "!4054.13        !\n"
          ]
        }
      ]
    },
    {
      "cell_type": "code",
      "source": [
        "print(f'1: {value}')\n",
        "print(f'2: {value:f}')\n",
        "print(f'3: {value:0.4f}')\n",
        "print(f'4: {value:>15.2f}')\n",
        "print(f'5: {value:<15.2f}')\n",
        "print(f'6: {value:*>15.2f}')"
      ],
      "metadata": {
        "colab": {
          "base_uri": "https://localhost:8080/"
        },
        "id": "0WHMfGGQBPLl",
        "outputId": "0c064aeb-0417-454d-9faa-b45d4ef365d5"
      },
      "execution_count": 11,
      "outputs": [
        {
          "output_type": "stream",
          "name": "stdout",
          "text": [
            "1: 4054.13\n",
            "2: 4054.130000\n",
            "3: 4054.1300\n",
            "4:         4054.13\n",
            "5: 4054.13        \n",
            "6: ********4054.13\n"
          ]
        }
      ]
    },
    {
      "cell_type": "code",
      "source": [
        "# Indexing, Slicing and Striding\n",
        "\n",
        "my_str = \"Hello World\"\n",
        "\n",
        "print(my_str[0])\n",
        "print(my_str[4])\n",
        "print(my_str[9])\n",
        "\n",
        "print(my_str[5:])\n",
        "print(my_str[4:-2])\n",
        "print(my_str[1:4] + my_str[-5:9])\n",
        "\n",
        "print(my_str[0:7:2])\n",
        "print(my_str[::3]) # 3칸씩 띄어서 출력\n",
        "print(my_str[3::-1]) # 3번 인덱스부터 역순\n",
        "\n",
        "# 역순 출력 방법 1\n",
        "print(my_str[::-1]) # -1, 즉 마지막부터 역순\n",
        "\n",
        "# 역순 출력 방법 2. list\n",
        "str = list(my_str)\n",
        "str.reverse()\n",
        "print(''.join(str))\n",
        "\n",
        "# 역순 출력 방법 3. string에 바로\n",
        "print(''.join(reversed(my_str)))"
      ],
      "metadata": {
        "colab": {
          "base_uri": "https://localhost:8080/"
        },
        "id": "-eLf9U1aBmmD",
        "outputId": "38e6201b-0f51-4590-e28a-d2d7a2d3ccc1"
      },
      "execution_count": 21,
      "outputs": [
        {
          "output_type": "stream",
          "name": "stdout",
          "text": [
            "H\n",
            "o\n",
            "l\n",
            " World\n",
            "o Wor\n",
            "ellWor\n",
            "HloW\n",
            "HlWl\n",
            "lleH\n",
            "dlroW olleH\n",
            "dlroW olleH\n",
            "dlroW olleH\n"
          ]
        }
      ]
    },
    {
      "cell_type": "code",
      "source": [
        "my_str = \"Hello World. Attention please.\"\n",
        "print(my_str)\n",
        "\n",
        "# count\n",
        "print(my_str.count('e'))\n",
        "print(my_str.count('ea'))\n",
        "\n",
        "# find\n",
        "print(my_str.find('lo'))\n",
        "print(my_str.find('y'))\n",
        "\n",
        "# index\n",
        "print(my_str.index('o'))\n",
        "print(my_str.index('lo'))\n",
        "\n",
        "# join\n",
        "new_str = '+'.join(my_str)\n",
        "print(new_str)\n",
        "\n",
        "# replace\n",
        "print(my_str.replace('World','Guys'))\n",
        "print(my_str.replace('Hello', 'Hi'))\n",
        "\n",
        "# split\n",
        "print(my_str.split())\n",
        "print(my_str.split('l'))\n",
        "\n",
        "# strip, lstrip, rstrip\n",
        "str3 = '   Hello   hi!   '\n",
        "print(str3)\n",
        "print(str3.strip()) # 양쪽 공백 사라짐\n",
        "print(str3.lstrip()) # 왼쪽 공백 사라짐\n",
        "print(str3.rstrip()) # 오른쪽 공백 사라짐\n",
        "\n",
        "# upper, lower, capitalize\n",
        "my_str = \"hi everyone\"\n",
        "print(my_str.upper())\n",
        "print(my_str.lower())\n",
        "print(my_str)\n",
        "print(my_str.capitalize())\n",
        "\n",
        "# len()\n",
        "my_str = \"Hello World\"\n",
        "print(len(my_str))"
      ],
      "metadata": {
        "colab": {
          "base_uri": "https://localhost:8080/"
        },
        "id": "DP-T4_ROF3SH",
        "outputId": "d4b9f710-a1cd-4e11-e2f0-7d3fe5da5ae3"
      },
      "execution_count": 23,
      "outputs": [
        {
          "output_type": "stream",
          "name": "stdout",
          "text": [
            "Hello World. Attention please.\n",
            "4\n",
            "1\n",
            "3\n",
            "-1\n",
            "4\n",
            "3\n",
            "H+e+l+l+o+ +W+o+r+l+d+.+ +A+t+t+e+n+t+i+o+n+ +p+l+e+a+s+e+.\n",
            "Hello Guys. Attention please.\n",
            "Hi World. Attention please.\n",
            "['Hello', 'World.', 'Attention', 'please.']\n",
            "['He', '', 'o Wor', 'd. Attention p', 'ease.']\n",
            "   Hello   hi!   \n",
            "Hello   hi!\n",
            "Hello   hi!   \n",
            "   Hello   hi!\n",
            "HI EVERYONE\n",
            "hi everyone\n",
            "hi everyone\n",
            "Hi everyone\n",
            "11\n"
          ]
        }
      ]
    },
    {
      "cell_type": "code",
      "source": [
        "lst = ['Hello World', 3, 2.5, ['Python', 'Programming'], 'SCS2013']\n",
        "\n",
        "print(len(lst))\n",
        "\n",
        "print(lst[0])\n",
        "print(lst[2])\n",
        "print(lst[1:4])\n",
        "print(lst[-2][0])\n",
        "print(lst[-2][1])\n",
        "\n",
        "# change index 2 value\n",
        "lst[2] = 1.4\n",
        "print(lst)"
      ],
      "metadata": {
        "colab": {
          "base_uri": "https://localhost:8080/"
        },
        "id": "J-sMvvZeBztk",
        "outputId": "5c36e8ed-adbe-4a0f-b889-649577db6dfc"
      },
      "execution_count": 26,
      "outputs": [
        {
          "output_type": "stream",
          "name": "stdout",
          "text": [
            "5\n",
            "Hello World\n",
            "2.5\n",
            "[3, 2.5, ['Python', 'Programming']]\n",
            "Python\n",
            "Programming\n",
            "['Hello World', 3, 1.4, ['Python', 'Programming'], 'SCS2013']\n"
          ]
        }
      ]
    },
    {
      "cell_type": "code",
      "source": [
        "# list 값을 곧바로 바꿈\n",
        "\n",
        "# .append()\n",
        "print('--------------------------append--------------------------')\n",
        "lst_1 = ['Hello', 'World', 31, 2.7, True, 'True', '31']\n",
        "print(lst_1)\n",
        "lst_1.append(\"Append\")\n",
        "print(lst_1)\n",
        "\n",
        "# .insert()\n",
        "print('--------------------------insert--------------------------')\n",
        "lst_1 = ['Hello', 'World', 31, 2.7, True, 'True', '31']\n",
        "print(lst_1)\n",
        "lst_1.insert(3, \"Insert\")\n",
        "print(lst_1)\n",
        "\n",
        "# .index()\n",
        "print('--------------------------index--------------------------')\n",
        "lst_1 = ['Hello', 'World', 31, 2.7, True, 'True', '31']\n",
        "print(lst_1)\n",
        "print(lst_1.index(31))\n",
        "\n",
        "# .clear()\n",
        "print('--------------------------clear--------------------------')\n",
        "lst_1 = ['Hello', 'World', 31, 2.7, True, 'True', '31']\n",
        "print(lst_1)\n",
        "lst_1.clear()\n",
        "print(lst_1)\n",
        "\n",
        "# .remove()\n",
        "print('--------------------------remove--------------------------')\n",
        "lst_1 = ['Hello', 'World', 31, 2.7, True, 'True', '31']\n",
        "print(lst_1)\n",
        "lst_1.remove('World')\n",
        "print(lst_1)\n",
        "\n",
        "# del \n",
        "print('--------------------------del--------------------------')\n",
        "lst_1 = ['Hello', 'World', 31, 2.7, True, 'True', '31']\n",
        "print(lst_1)\n",
        "del lst_1[1]\n",
        "print(lst_1)\n",
        "\n",
        "# .sort()\n",
        "print('--------------------------sort--------------------------')\n",
        "lst_1 = [1, 2, 34, 6]\n",
        "print(lst_1)\n",
        "lst_1.sort() # 내림차순\n",
        "lst_1.sort(reverse = True) # 오름차순\n",
        "print(lst_1)\n",
        "\n",
        "# .reverse()\n",
        "print('--------------------------reverse--------------------------')\n",
        "lst_1 = ['Hello', 'World', 31, 2.7, True, 'True', '31']\n",
        "print(lst_1)\n",
        "lst_1.reverse()\n",
        "print(lst_1)\n",
        "\n",
        "# .count()\n",
        "print('--------------------------count--------------------------')\n",
        "lst_1 = ['Hello', 'World', 31, 2.7, True, 'True', '31']\n",
        "print(lst_1)\n",
        "print(lst_1.count('31'))\n",
        "\n",
        "# sum, min, max\n",
        "print('--------------------------sum, min, max--------------------------')\n",
        "lst_1 = [3, 75, 6, 23, 3, 13]\n",
        "print(lst_1)\n",
        "print(sum(lst_1))\n",
        "print(min(lst_1))\n",
        "print(max(lst_1))"
      ],
      "metadata": {
        "colab": {
          "base_uri": "https://localhost:8080/"
        },
        "id": "ty4FMp8vJ0h8",
        "outputId": "97797b02-fdf4-4492-bf78-607e7286814c"
      },
      "execution_count": 39,
      "outputs": [
        {
          "output_type": "stream",
          "name": "stdout",
          "text": [
            "--------------------------append--------------------------\n",
            "['Hello', 'World', 31, 2.7, True, 'True', '31']\n",
            "['Hello', 'World', 31, 2.7, True, 'True', '31', 'Append']\n",
            "--------------------------insert--------------------------\n",
            "['Hello', 'World', 31, 2.7, True, 'True', '31']\n",
            "['Hello', 'World', 31, 'Insert', 2.7, True, 'True', '31']\n",
            "--------------------------index--------------------------\n",
            "['Hello', 'World', 31, 2.7, True, 'True', '31']\n",
            "2\n",
            "--------------------------clear--------------------------\n",
            "['Hello', 'World', 31, 2.7, True, 'True', '31']\n",
            "[]\n",
            "--------------------------remove--------------------------\n",
            "['Hello', 'World', 31, 2.7, True, 'True', '31']\n",
            "['Hello', 31, 2.7, True, 'True', '31']\n",
            "--------------------------del--------------------------\n",
            "['Hello', 'World', 31, 2.7, True, 'True', '31']\n",
            "['Hello', 31, 2.7, True, 'True', '31']\n",
            "--------------------------sort--------------------------\n",
            "[1, 2, 34, 6]\n",
            "[1, 2, 6, 34]\n",
            "--------------------------reverse--------------------------\n",
            "['Hello', 'World', 31, 2.7, True, 'True', '31']\n",
            "['31', 'True', True, 2.7, 31, 'World', 'Hello']\n",
            "--------------------------count--------------------------\n",
            "['Hello', 'World', 31, 2.7, True, 'True', '31']\n",
            "1\n",
            "--------------------------sum, min, max--------------------------\n",
            "[3, 75, 6, 23, 3, 13]\n",
            "123\n",
            "3\n",
            "75\n"
          ]
        }
      ]
    },
    {
      "cell_type": "code",
      "source": [
        "# tuple\n",
        "tup = ('Hello World', 3, 2.5, ['Python', 'Programming'], ('SCS', 2013)) \n",
        "\n",
        "print(len(tup))\n",
        "print(tup[0])\n",
        "print(tup[3:])\n",
        "print(tup[-2])\n",
        "print(tup[-1])\n",
        "print(tup[-2][0])\n",
        "print(tup[-1][0])\n",
        "\n",
        "'''\n",
        "tuple은 assign, del 사용 불가능\n",
        "tup[2] = 1.4\n",
        "del tup[1]\n",
        "'''\n",
        "\n",
        "# .index()\n",
        "tup_1 = ('Hello', 'World', 31, 2.7, True, 'True', '31')\n",
        "tup_1.index(31)\n",
        "\n",
        "\n",
        "# .count()\n",
        "tup_1 = ('Hello', 'World', 31, 2.7, True, 'True', '31')\n",
        "tup_1.count('True')\n",
        "\n",
        "# sum(), min(), max()\n",
        "tup_1 = (3, 75, 6, 23, 3, 13)\n",
        "print(sum(tup_1))\n",
        "print(min(tup_1))\n",
        "print(max(tup_1))"
      ],
      "metadata": {
        "colab": {
          "base_uri": "https://localhost:8080/"
        },
        "id": "6cT5HQx3K4mD",
        "outputId": "9358dccf-80ee-46ac-9c2c-4f2217ca6f51"
      },
      "execution_count": 31,
      "outputs": [
        {
          "output_type": "stream",
          "name": "stdout",
          "text": [
            "5\n",
            "Hello World\n",
            "(['Python', 'Programming'], ('SCS', 2013))\n",
            "['Python', 'Programming']\n",
            "('SCS', 2013)\n",
            "Python\n",
            "SCS\n",
            "123\n",
            "3\n",
            "75\n"
          ]
        }
      ]
    },
    {
      "cell_type": "code",
      "source": [
        "# dictionary\n",
        "dct = {'name':'Kim', 'birth':['March',9], 'age':27, 'nickname': 'Kim'}\n",
        "print(dct)\n",
        "\n",
        "# access values using their keys or .get()\n",
        "print(dct['name'])\n",
        "print(dct.get('name'))\n",
        "print(dct['birth'][0])\n",
        "print(dct['birth'][1])\n",
        "\n",
        "# Add a pair ('year', 1995) 그냥 year 추가\n",
        "dct['year'] = 1995\n",
        "print(dct)\n",
        "\n",
        "# Delete a pair ('age', 27)\n",
        "del dct['age']\n",
        "print(dct)\n",
        "\n",
        "# .keys()\n",
        "print(dct.keys())\n",
        "print(type(dct.keys()))\n",
        "dct_key_list = list(dct.keys())\n",
        "print(dct_key_list)\n",
        "\n",
        "# .values()\n",
        "print(dct.values())\n",
        "print(type(dct.values()))\n",
        "\n",
        "# .items()\n",
        "print(dct.items())\n",
        "print(type(dct.items()))\n",
        "\n",
        "# in, not in\n",
        "print('name' in dct.keys())\n",
        "print('name' in dct)\n",
        "print('Name' in dct.keys())\n",
        "\n",
        "# .copy()\n",
        "dct = {'name':'Kim', 'birth':['March',9], 'age':27}\n",
        "c_dct = dct.copy()\n",
        "print(c_dct)\n",
        "\n",
        "# .clear()\n",
        "dct = {'name':'Kim', 'birth':['March',9], 'age':27}\n",
        "dct.clear()\n",
        "print(dct)\n",
        "print(c_dct)\n",
        "\n",
        "# update()\n",
        "dct = {'name':'Kim', 'birth':['March',9], 'age':27}\n",
        "dct_2 = {'year': 1995, 'Course': 'SCS2013'}\n",
        "dct.update(dct_2)\n",
        "print(dct)"
      ],
      "metadata": {
        "colab": {
          "base_uri": "https://localhost:8080/"
        },
        "id": "-ZOlgP0yLA90",
        "outputId": "f8a54a61-1c77-4023-d3b4-c778cd36b31e"
      },
      "execution_count": 32,
      "outputs": [
        {
          "output_type": "stream",
          "name": "stdout",
          "text": [
            "{'name': 'Kim', 'birth': ['March', 9], 'age': 27, 'nickname': 'Kim'}\n",
            "Kim\n",
            "Kim\n",
            "March\n",
            "9\n",
            "{'name': 'Kim', 'birth': ['March', 9], 'age': 27, 'nickname': 'Kim', 'year': 1995}\n",
            "{'name': 'Kim', 'birth': ['March', 9], 'nickname': 'Kim', 'year': 1995}\n",
            "dict_keys(['name', 'birth', 'nickname', 'year'])\n",
            "<class 'dict_keys'>\n",
            "['name', 'birth', 'nickname', 'year']\n",
            "dict_values(['Kim', ['March', 9], 'Kim', 1995])\n",
            "<class 'dict_values'>\n",
            "dict_items([('name', 'Kim'), ('birth', ['March', 9]), ('nickname', 'Kim'), ('year', 1995)])\n",
            "<class 'dict_items'>\n",
            "True\n",
            "True\n",
            "False\n",
            "{'name': 'Kim', 'birth': ['March', 9], 'age': 27}\n",
            "{}\n",
            "{'name': 'Kim', 'birth': ['March', 9], 'age': 27}\n",
            "{'name': 'Kim', 'birth': ['March', 9], 'age': 27, 'year': 1995, 'Course': 'SCS2013'}\n"
          ]
        }
      ]
    },
    {
      "cell_type": "code",
      "source": [
        "# create a set\n",
        "set_1 = {'A', 2, 'B', 'C', 2, 3, 'C'} # duplicate\n",
        "print(set_1)\n",
        "\n",
        "# create an empty set: set()\n",
        "set_2 = {}\n",
        "print(set_2)\n",
        "print(type(set_2))\n",
        "\n",
        "set_2 = set()\n",
        "print(set_2)\n",
        "print(type(set_2))\n",
        "\n",
        "# accesing items in a set\n",
        "set_1 = {'A', 2, 'B', 'C', 2, 3, 'C'} # duplicate\n",
        "print(3 in set_1)\n",
        "print('a' in set_1)\n",
        "print('A' in set_1)\n",
        "\n",
        "# Add/Remove items\n",
        "set_1 = {'A', 2, 'B', 'C', 2, 3, 'C'}\n",
        "print(set_1)\n",
        "\n",
        "set_1.add(6)\n",
        "print(set_1)\n",
        "\n",
        "set_1.update(['a','bb','ccc'])\n",
        "print(set_1)\n",
        "\n",
        "set_1.remove('bb')\n",
        "print(set_1)\n",
        "\n",
        "# set methods\n",
        "set_a = {1,2,3,5,7,8}\n",
        "set_b = {1,2,4,6,7}\n",
        "set_c = {1,2,3,5}\n",
        "\n",
        "print(set_a.union(set_b)) #합집합\n",
        "print(set_a.intersection(set_b)) #교집합\n",
        "print(set_a - set_b) #차집합\n",
        "print(set_a.issuperset(set_c)) #포함관계\n",
        "print(set_a >= set_c) # 포함관계"
      ],
      "metadata": {
        "id": "Qt73y9sbM1ae"
      },
      "execution_count": null,
      "outputs": []
    }
  ]
}