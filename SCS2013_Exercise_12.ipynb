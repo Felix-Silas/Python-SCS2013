{
  "nbformat": 4,
  "nbformat_minor": 0,
  "metadata": {
    "colab": {
      "provenance": []
    },
    "kernelspec": {
      "name": "python3",
      "display_name": "Python 3"
    },
    "language_info": {
      "name": "python"
    }
  },
  "cells": [
    {
      "cell_type": "markdown",
      "metadata": {
        "id": "EzZiRhCEg1JC"
      },
      "source": [
        "# SCS2013 Exercise 12 (2022 Fall)\n",
        "\n",
        "**This exercise notebook will go through the understanding of \"File Input/Output\" and some \"Modules\"**\n",
        "\n",
        "- File input and output\n",
        "- Some popular built-in modules\n",
        "\n",
        "\n",
        "\n"
      ]
    },
    {
      "cell_type": "markdown",
      "metadata": {
        "id": "G37v3XWRT4qy"
      },
      "source": [
        "Let's first create a file and save it to a temporary location in Colab\n",
        "\n",
        "```\n",
        "Welcome to SCS2013 Python Programming\n",
        "This is a data.txt\n",
        "Line 3\n",
        "Line 4\n",
        "Line 5\n",
        "파이썬 프로그래밍\n",
        "Last line\n",
        "```\n",
        "\n",
        "- First click the folder icon at the left panel \n",
        "\n",
        "- Right click -> create a new file and name it `data.txt`\n",
        "\n",
        "- Double clicking the file, you can see the text editor on the right side.\n",
        "\n",
        "- Please copy and paste the above text to the file and save it. "
      ]
    },
    {
      "cell_type": "markdown",
      "metadata": {
        "id": "0fx5eqi1SV4c"
      },
      "source": [
        "## File Input & Output\n",
        "\n",
        "**Files** are named locations on disk to store related information - used to permanently store data in a hard disk. A file operation in Python takes place in the following order:\n",
        "\n",
        "- **open** a file\n",
        "- **read** or **write** \n",
        "- **close** the file\n",
        "\n",
        "Before to start, we need to know a *file path* that defines the location of a file or folder in the conmputer system. \n",
        "- You can use \"absolute path\" or \"relative path\" \n",
        "- absolute path begins with the root folder\n",
        "- relative path is the location relative to the current working directory\n",
        "\n",
        "**os** module: provides a portable way of using operating system dependent functionality"
      ]
    },
    {
      "cell_type": "code",
      "source": [
        "# os 모듈\n",
        "import os"
      ],
      "metadata": {
        "id": "0mrlecym0HfB"
      },
      "execution_count": null,
      "outputs": []
    },
    {
      "cell_type": "code",
      "source": [
        "# 현재 있는 디렉토리\n",
        "os.getcwd()"
      ],
      "metadata": {
        "id": "U3nWzdDw0Khj",
        "colab": {
          "base_uri": "https://localhost:8080/",
          "height": 35
        },
        "outputId": "7cb622c9-430b-41af-945b-17c86e12598d"
      },
      "execution_count": null,
      "outputs": [
        {
          "output_type": "execute_result",
          "data": {
            "text/plain": [
              "'/content'"
            ],
            "application/vnd.google.colaboratory.intrinsic+json": {
              "type": "string"
            }
          },
          "metadata": {},
          "execution_count": 6
        }
      ]
    },
    {
      "cell_type": "code",
      "source": [
        "# 안에 있는 디렉토리 표시\n",
        "os.listdir('/content/sample_data') # 절대 경로\n",
        "os.listdir('./sample_data') # 상대 경로\n",
        "\n",
        "# ./ 현재 위치\n",
        "# ../ 상위 폴더로 올라감"
      ],
      "metadata": {
        "id": "k9OXd3Uf0bBU",
        "colab": {
          "base_uri": "https://localhost:8080/"
        },
        "outputId": "0f0372bf-dfd2-4972-9838-208852bdfd28"
      },
      "execution_count": null,
      "outputs": [
        {
          "output_type": "execute_result",
          "data": {
            "text/plain": [
              "['anscombe.json',\n",
              " 'README.md',\n",
              " 'california_housing_train.csv',\n",
              " 'california_housing_test.csv',\n",
              " 'mnist_test.csv',\n",
              " 'mnist_train_small.csv']"
            ]
          },
          "metadata": {},
          "execution_count": 10
        }
      ]
    },
    {
      "cell_type": "markdown",
      "metadata": {
        "id": "9EfHUgwsVrQa"
      },
      "source": [
        "### Opening Files in Python\n",
        "\n",
        "Python has a built-in `open()` function to open a file. \n",
        "\n",
        "```\n",
        "open(file, mode)\n",
        "```\n",
        "- we can specify the `mode` while opening a file: whether we want to read, write, or append, ... \n",
        "- when working with files in text mode, it is recommended to specify the encoding type"
      ]
    },
    {
      "cell_type": "code",
      "metadata": {
        "id": "b3vNNZUQSVmv"
      },
      "source": [
        "f = open('data.txt')\n",
        "f = open('./data.txt', mode='r', encoding='utf-8')\n",
        "f = open('/content/data.txt', mode='r', encoding='utf-8')"
      ],
      "execution_count": null,
      "outputs": []
    },
    {
      "cell_type": "code",
      "source": [
        "f"
      ],
      "metadata": {
        "colab": {
          "base_uri": "https://localhost:8080/"
        },
        "id": "2SUw6f0f7Fk0",
        "outputId": "65ce83f7-f207-476b-e05e-de832e5d42c1"
      },
      "execution_count": null,
      "outputs": [
        {
          "output_type": "execute_result",
          "data": {
            "text/plain": [
              "<_io.TextIOWrapper name='/content/data.txt' mode='r' encoding='utf-8'>"
            ]
          },
          "metadata": {},
          "execution_count": 13
        }
      ]
    },
    {
      "cell_type": "markdown",
      "metadata": {
        "id": "sbPhonCSW-ov"
      },
      "source": [
        "### Closing Files in Python\n",
        "\n",
        "1. Python has a built-in `close()` method to close a file. When we are done with some operations on the file, we need to properly close the file - it will free up the resources that were assigned with the file. \n",
        "\n",
        "```\n",
        "f.close()\n",
        "```\n",
        "- it flush and close the file IO object\n",
        "\n",
        "\n",
        "2. If an exception occurs when we are performing some operation with the file, the code exits without closing the file. Another way (more safe) to close a file is to use a `try...except...finally` block. \n",
        "\n",
        "```\n",
        "try:     \n",
        "  # open a file\n",
        "  # some operations \n",
        "except:\n",
        "  # error handling\n",
        "finally:      \n",
        "  # close the file \n",
        "```\n",
        "\n",
        "3. The best way to close a file is by using the `with` statement. It ensures that the file is closed when the block inside the `with` statement is exited. The method `close()` is called internally.\n",
        "\n",
        "```\n",
        "with open() as f:     \n",
        "  # some operations\n",
        "```"
      ]
    },
    {
      "cell_type": "code",
      "metadata": {
        "id": "kxDG182oXK9_"
      },
      "source": [
        "# open a file\n",
        "f = open('data.txt', mode='r', encoding='utf-8')\n",
        "#f = open('data2.txt', mode='r', encoding='utf-8')\n",
        "\n",
        "# and close the file\n",
        "f.close()"
      ],
      "execution_count": null,
      "outputs": []
    },
    {
      "cell_type": "code",
      "metadata": {
        "id": "bWSV-AeUXP-a"
      },
      "source": [
        "# open and close a file with try...finally\n",
        "try:\n",
        "  f = open('data.txt', mode='r', encoding='utf-8')\n",
        "except:\n",
        "  print('Error: File operation')\n",
        "finally:\n",
        "  f.close()"
      ],
      "execution_count": null,
      "outputs": []
    },
    {
      "cell_type": "code",
      "source": [
        "# open and close a file with try...finally\n",
        "try:\n",
        "  f = open('data2.txt', mode='r', encoding='utf-8')\n",
        "except:\n",
        "  print('Error: File operation')\n",
        "finally:\n",
        "  f.close()"
      ],
      "metadata": {
        "colab": {
          "base_uri": "https://localhost:8080/"
        },
        "id": "AH-6spLK71n0",
        "outputId": "3a1f6c20-6df7-454a-be87-43baaaf41bc6"
      },
      "execution_count": null,
      "outputs": [
        {
          "output_type": "stream",
          "name": "stdout",
          "text": [
            "Error: File operation\n"
          ]
        }
      ]
    },
    {
      "cell_type": "code",
      "metadata": {
        "id": "iQPGvOo3Zkn3"
      },
      "source": [
        "# open by using with \n",
        "with open('data.txt', mode='r', encoding='utf-8') as f:\n",
        "  # some operations\n",
        "  pass\n",
        "\n",
        "# 자동으로 f.close()가 수행되는 느낌"
      ],
      "execution_count": null,
      "outputs": []
    },
    {
      "cell_type": "markdown",
      "metadata": {
        "id": "JE_r7kqbaPR-"
      },
      "source": [
        "### Writing to Files & Reading Files in Python\n",
        "\n",
        "We can create a Empty text file by using `open()` with the access mode: w, x, a, t, b\n",
        "- `w`: create a new file for writing. If a file already exists, it overwrites into the file \n",
        "- `x`: open a file for exclusive creation. If the file already exists, this operation fails\n",
        "- `a`: open a file in the append mode and add new content at the end of the file. \n"
      ]
    },
    {
      "cell_type": "code",
      "metadata": {
        "id": "4YcUJSCWbZXv"
      },
      "source": [
        "# create an empty text file with name \"test.txt\" in current directory\n",
        "f = open('test.txt', 'w')\n",
        "f.close()\n",
        "\n",
        "# write는 파일 없으면 새롭게 파일을 만들어서 열어준다. 커서가 가장 앞 부분으로 위치하게 해서 덮어쓰기가 된다."
      ],
      "execution_count": null,
      "outputs": []
    },
    {
      "cell_type": "code",
      "metadata": {
        "id": "WuNu1NhIcA11"
      },
      "source": [
        "f = open('test.txt', 'x')\n",
        "f.close()\n",
        "# x 모드로 열면 존재하지 않아야만 실행되기 때문에 없애고 나서 실행해야 한다. "
      ],
      "execution_count": null,
      "outputs": []
    },
    {
      "cell_type": "code",
      "metadata": {
        "id": "pzeuGQA8cJDa"
      },
      "source": [
        "f = open('data.txt', 'a')\n",
        "f.close()\n",
        "# data.txt를 열어서 커서가 가장 끝에 있게 열어준다. 이어쓰기가 된다."
      ],
      "execution_count": null,
      "outputs": []
    },
    {
      "cell_type": "markdown",
      "metadata": {
        "id": "Dxj5ICOpdJmR"
      },
      "source": [
        "Now let's write a string into a new file. We can open a file for modifying or overwriting its contents by using any one of the modes: \n",
        "- `w`: for writing - overwriting if the file exists, and creating a new file if the file does not exist\n",
        "- `w+`: reading and writing \n",
        "- `a`: for writing - adding a new content if the file exists, and creating a new file otherwisej\n",
        "- `a+`: reading and writing \n",
        "\n",
        "Once a file is opened, we can write text into the file using the `write()` method\n",
        "```\n",
        "f.write('new text')\n",
        "```\n",
        "We can also use `writelines()` method to write a list of strings into a file "
      ]
    },
    {
      "cell_type": "code",
      "metadata": {
        "id": "fG5GSg-ocS60"
      },
      "source": [
        "with open('test.txt', mode='x') as f:\n",
        "  f.write('New text in X mode')\n",
        "\n",
        "# 파일 자체가 없을 때..."
      ],
      "execution_count": null,
      "outputs": []
    },
    {
      "cell_type": "code",
      "metadata": {
        "id": "Rd-hXWe3fPQQ"
      },
      "source": [
        "with open('test.txt', mode='w') as f:\n",
        "  f.write('Add a new text in W mode\\n') \n",
        "\n",
        "# 덮어쓰기"
      ],
      "execution_count": null,
      "outputs": []
    },
    {
      "cell_type": "code",
      "metadata": {
        "id": "WVlrQQmpfkM4"
      },
      "source": [
        "with open('test.txt', mode='a') as f:\n",
        "  f.write('Add a new text in A mode\\n')\n",
        "\n",
        "# 이어쓰기"
      ],
      "execution_count": null,
      "outputs": []
    },
    {
      "cell_type": "code",
      "metadata": {
        "id": "GIZiPULakFl1"
      },
      "source": [
        "p_data = ['Name: Kim\\n', 'Age: 25\\n', 'City: Seoul']\n",
        "\n",
        "with open('test.txt', mode='w') as f:\n",
        "  f.writelines(p_data)  \n",
        "\n",
        "# 덮어쓰기"
      ],
      "execution_count": null,
      "outputs": []
    },
    {
      "cell_type": "code",
      "metadata": {
        "id": "Wv8Jh5jSaA-e"
      },
      "source": [
        "p_data = ['University: ABC\\n', 'Skill: Python']\n",
        "\n",
        "with open('test.txt', mode='a') as f:\n",
        "  f.write('\\n')\n",
        "  f.writelines(p_data)\n",
        "\n",
        "# 이어쓰기"
      ],
      "execution_count": null,
      "outputs": []
    },
    {
      "cell_type": "markdown",
      "metadata": {
        "id": "OIn1iTAslPZL"
      },
      "source": [
        "To read the contents of a file, we have to open a file in reading mode:       \n",
        "- `r`: for reading the contents of a text file \n",
        "- `r+`: for both reading and writing \n",
        "- `w+`: for reading and writing\n",
        "- `a+`: for both reading and appending \n",
        "\n",
        "Once a file is opened, we can read all the content of the file using the `read()` method \n",
        "\n",
        "```\n",
        "f.read(size)\n",
        "```\n",
        "- it reads at most `size` characters from the file until we hit the end of the file. \n",
        "\n",
        "We can also use `readline(size)` to read file line by line or `readlines()` to read a list of lines from the file\n",
        "\n",
        "\n",
        "**move cursor position**\n",
        "\n",
        "The `seek()` method is used to move the file's handle position to the specified location. The cursor defines where the data has to be read or written in the file - the position is represented as index\n",
        "\n",
        "The `tell()` method returns the current position of the file pointer from the beginning of the file \n"
      ]
    },
    {
      "cell_type": "code",
      "metadata": {
        "id": "p2XI5Njf14PB",
        "colab": {
          "base_uri": "https://localhost:8080/"
        },
        "outputId": "2a403d08-4295-45e7-a496-d4e64755c45e"
      },
      "source": [
        "with open ('test.txt', mode='r') as f:\n",
        "  print(f.read(7)) # 7글자\n",
        "  print(f.read()) # 위치한 커서부터 파일이 끝나는 데까지 읽음"
      ],
      "execution_count": null,
      "outputs": [
        {
          "output_type": "stream",
          "name": "stdout",
          "text": [
            "Name: K\n",
            "im\n",
            "Age: 25\n",
            "City: Seoul\n",
            "University: ABC\n",
            "Skill: Python\n"
          ]
        }
      ]
    },
    {
      "cell_type": "code",
      "metadata": {
        "id": "Ijuezc_N195T",
        "colab": {
          "base_uri": "https://localhost:8080/"
        },
        "outputId": "59c10e4e-69f2-4046-f26a-568ef89e4533"
      },
      "source": [
        "with open ('test.txt', mode='r') as f:\n",
        "  print(f.read(7))\n",
        "  print(f.tell()) # 어느 위치에 있는지\n",
        "  f.seek(20) # 원하는 위치로 커서 이동\n",
        "  print(f.read())"
      ],
      "execution_count": null,
      "outputs": [
        {
          "output_type": "stream",
          "name": "stdout",
          "text": [
            "Name: K\n",
            "7\n",
            "ty: Seoul\n",
            "University: ABC\n",
            "Skill: Python\n"
          ]
        }
      ]
    },
    {
      "cell_type": "markdown",
      "source": [
        "Line by line reading"
      ],
      "metadata": {
        "id": "JolNRnnv_FbV"
      }
    },
    {
      "cell_type": "code",
      "source": [
        "with open('test.txt', mode='r') as f:\n",
        "    for line in f:\n",
        "        print(line)"
      ],
      "metadata": {
        "colab": {
          "base_uri": "https://localhost:8080/"
        },
        "id": "Guu5DWAL_ST8",
        "outputId": "7da85a18-e7c4-465c-c925-f57bc6ca2e22"
      },
      "execution_count": null,
      "outputs": [
        {
          "output_type": "stream",
          "name": "stdout",
          "text": [
            "Name: Kim\n",
            "\n",
            "Age: 25\n",
            "\n",
            "City: Seoul\n",
            "\n",
            "University: ABC\n",
            "\n",
            "Skill: Python\n"
          ]
        }
      ]
    },
    {
      "cell_type": "code",
      "metadata": {
        "id": "MvjK-cMaD8A_",
        "colab": {
          "base_uri": "https://localhost:8080/"
        },
        "outputId": "f4f46443-3f9e-4fd0-c6eb-f5d084ab2892"
      },
      "source": [
        "with open('test.txt', mode='r') as f:\n",
        "  for line in f:\n",
        "    print(line, end='')"
      ],
      "execution_count": null,
      "outputs": [
        {
          "output_type": "stream",
          "name": "stdout",
          "text": [
            "Name: Kim\n",
            "Age: 25\n",
            "City: Seoul\n",
            "University: ABC\n",
            "Skill: Python"
          ]
        }
      ]
    },
    {
      "cell_type": "code",
      "metadata": {
        "id": "yHaSBrVYD780",
        "colab": {
          "base_uri": "https://localhost:8080/"
        },
        "outputId": "407ea651-5548-442c-9acd-4b157d32339b"
      },
      "source": [
        "with open('test.txt', mode='r') as f:\n",
        "  # read first 3 lines\n",
        "  for i in range(3):\n",
        "    print(f.readline(), end='')"
      ],
      "execution_count": null,
      "outputs": [
        {
          "output_type": "stream",
          "name": "stdout",
          "text": [
            "Name: Kim\n",
            "Age: 25\n",
            "City: Seoul\n"
          ]
        }
      ]
    },
    {
      "cell_type": "code",
      "metadata": {
        "id": "LhqLQx8w2o2f",
        "colab": {
          "base_uri": "https://localhost:8080/"
        },
        "outputId": "7d3bece3-30f7-4f1c-8ce1-f3b73188e19a"
      },
      "source": [
        "with open('test.txt', mode='r') as f:\n",
        "  # read lines till it reached the EOF\n",
        "  line = f.readline() \n",
        "  while line != '':\n",
        "    print(line, end='')\n",
        "    line = f.readline()"
      ],
      "execution_count": null,
      "outputs": [
        {
          "output_type": "stream",
          "name": "stdout",
          "text": [
            "Name: Kim\n",
            "Age: 25\n",
            "City: Seoul\n",
            "University: ABC\n",
            "Skill: Python"
          ]
        }
      ]
    },
    {
      "cell_type": "code",
      "metadata": {
        "id": "FWXjnTvaD74E",
        "colab": {
          "base_uri": "https://localhost:8080/"
        },
        "outputId": "9cf70e26-1857-45c9-9595-6e5e97375a66"
      },
      "source": [
        "with open('test.txt', mode='r') as f:\n",
        "  lines = f.readlines() #각각의 줄을 list로\n",
        "  print(lines)\n",
        "  print(lines[0])"
      ],
      "execution_count": null,
      "outputs": [
        {
          "output_type": "stream",
          "name": "stdout",
          "text": [
            "['Name: Kim\\n', 'Age: 25\\n', 'City: Seoul\\n', 'University: ABC\\n', 'Skill: Python']\n",
            "Name: Kim\n",
            "\n"
          ]
        }
      ]
    },
    {
      "cell_type": "code",
      "metadata": {
        "id": "Nt5BnutC2zPA",
        "colab": {
          "base_uri": "https://localhost:8080/"
        },
        "outputId": "f2c93a88-0bb8-4f37-aaf6-427a1407b09c"
      },
      "source": [
        "# read first N lines from a file\n",
        "n= 2\n",
        "with open('test.txt', mode='r') as f:\n",
        "  lines = f.readlines()[:n]\n",
        "  print(lines)"
      ],
      "execution_count": null,
      "outputs": [
        {
          "output_type": "stream",
          "name": "stdout",
          "text": [
            "['Name: Kim\\n', 'Age: 25\\n']\n"
          ]
        }
      ]
    },
    {
      "cell_type": "markdown",
      "metadata": {
        "id": "Xz5rjgYw4Y_j"
      },
      "source": [
        "Now check how to iterate over each line in the file: "
      ]
    },
    {
      "cell_type": "code",
      "metadata": {
        "id": "MFrQkOlq3USv",
        "colab": {
          "base_uri": "https://localhost:8080/"
        },
        "outputId": "29a3d5ba-85fd-4e4b-e0e7-81483de84067"
      },
      "source": [
        "with open('test.txt', mode='r') as f:\n",
        "  line = f.readline()\n",
        "  \n",
        "  while line != '':\n",
        "    print(line, end='')\n",
        "    line = f.readline()"
      ],
      "execution_count": null,
      "outputs": [
        {
          "output_type": "stream",
          "name": "stdout",
          "text": [
            "Name: Kim\n",
            "Age: 25\n",
            "City: Seoul\n",
            "University: ABC\n",
            "Skill: Python"
          ]
        }
      ]
    },
    {
      "cell_type": "code",
      "metadata": {
        "id": "uJp-WFZ84ho5",
        "colab": {
          "base_uri": "https://localhost:8080/"
        },
        "outputId": "834b0b00-87c3-4299-998e-7485d173e3b3"
      },
      "source": [
        "with open('test.txt', mode='r') as f:\n",
        "  for line in f:\n",
        "    print(line, end='')"
      ],
      "execution_count": null,
      "outputs": [
        {
          "output_type": "stream",
          "name": "stdout",
          "text": [
            "Name: Kim\n",
            "Age: 25\n",
            "City: Seoul\n",
            "University: ABC\n",
            "Skill: Python"
          ]
        }
      ]
    },
    {
      "cell_type": "code",
      "metadata": {
        "id": "NTqyUxg74mCK",
        "colab": {
          "base_uri": "https://localhost:8080/"
        },
        "outputId": "4c17194e-642f-4941-bce2-4c93ba3ed56e"
      },
      "source": [
        "with open('test.txt', mode='r') as f:\n",
        "  for line in f.readlines():\n",
        "    print(line, end='')"
      ],
      "execution_count": null,
      "outputs": [
        {
          "output_type": "stream",
          "name": "stdout",
          "text": [
            "Name: Kim\n",
            "Age: 25\n",
            "City: Seoul\n",
            "University: ABC\n",
            "Skill: Python"
          ]
        }
      ]
    },
    {
      "cell_type": "markdown",
      "metadata": {
        "id": "iqFUDafF5IlJ"
      },
      "source": [
        "One more thing: use for loop with `enumerate()` method to get a line and its index number \n",
        "\n",
        "**enumerate()** function adds a counter to an iterable and returns it in enumerate object: "
      ]
    },
    {
      "cell_type": "code",
      "metadata": {
        "id": "pr-uks194o3l",
        "colab": {
          "base_uri": "https://localhost:8080/"
        },
        "outputId": "6df5c353-0be2-454b-abbe-eff23ce9001b"
      },
      "source": [
        "with open('test.txt', mode='r') as f:\n",
        "  for line in f:\n",
        "    print(line, end='')"
      ],
      "execution_count": null,
      "outputs": [
        {
          "output_type": "stream",
          "name": "stdout",
          "text": [
            "Name: Kim\n",
            "Age: 25\n",
            "City: Seoul\n",
            "University: ABC\n",
            "Skill: Python"
          ]
        }
      ]
    },
    {
      "cell_type": "code",
      "metadata": {
        "id": "15Eeo6WQ5f6k",
        "colab": {
          "base_uri": "https://localhost:8080/"
        },
        "outputId": "b1c65945-d8dd-459a-9944-3a18595d84e3"
      },
      "source": [
        "with open('test.txt', mode='r') as f:\n",
        "  #print(list(enumerate(f)))\n",
        "\n",
        "  for i, line in enumerate(f):\n",
        "    print(i, line, end='') # index도 포함한다."
      ],
      "execution_count": null,
      "outputs": [
        {
          "output_type": "stream",
          "name": "stdout",
          "text": [
            "0 Name: Kim\n",
            "1 Age: 25\n",
            "2 City: Seoul\n",
            "3 University: ABC\n",
            "4 Skill: Python"
          ]
        }
      ]
    },
    {
      "cell_type": "code",
      "source": [
        "with open('test.txt', mode='r') as f:\n",
        "  #print(list(enumerate(f)))\n",
        "\n",
        "  for i, line in enumerate(f):\n",
        "      if i % 2 == 0:\n",
        "        print(i, line, end='') # index도 포함한다."
      ],
      "metadata": {
        "colab": {
          "base_uri": "https://localhost:8080/"
        },
        "id": "HHqcPc-iBISu",
        "outputId": "9877f8e2-8478-4a67-d9de-cc49c2950da6"
      },
      "execution_count": null,
      "outputs": [
        {
          "output_type": "stream",
          "name": "stdout",
          "text": [
            "0 Name: Kim\n",
            "2 City: Seoul\n",
            "4 Skill: Python"
          ]
        }
      ]
    },
    {
      "cell_type": "markdown",
      "source": [
        "### More with Files\n",
        "\n",
        "How about writing a function that handles \"files\"? \n",
        "\n",
        "Write a function to read the content from a text file (given as argument) line by line and display the same on screen."
      ],
      "metadata": {
        "id": "r_R7jRG43Gd8"
      }
    },
    {
      "cell_type": "code",
      "source": [
        "def read_file(file_name):\n",
        "  with open(file_name, mode='r') as f:\n",
        "    for line in f:\n",
        "      print(line, end='')"
      ],
      "metadata": {
        "id": "UYdfZvNQ3YjK"
      },
      "execution_count": null,
      "outputs": []
    },
    {
      "cell_type": "code",
      "source": [
        "read_file('data.txt')"
      ],
      "metadata": {
        "id": "kcrzQ9ZF34OY",
        "colab": {
          "base_uri": "https://localhost:8080/"
        },
        "outputId": "021a4485-6cfd-498e-f346-fc266ce6ff21"
      },
      "execution_count": null,
      "outputs": [
        {
          "output_type": "stream",
          "name": "stdout",
          "text": [
            "Welcome to SCS2013 Python Programming\n",
            "This is a data.txt\n",
            "Line 3\n",
            "Line 4\n",
            "Line 5\n",
            "파이썬 프로그래밍\n",
            "Last line"
          ]
        }
      ]
    },
    {
      "cell_type": "markdown",
      "metadata": {
        "id": "Hcv6WW6d-3Pm"
      },
      "source": [
        "Write a function named `write_file(fname, str_list)`\n",
        "- that takes file name `fname` and a list of strings `str_list`\n",
        "- and writes a list of strings `str_list` to a file `fname`: each string is written as **one line**\n",
        "- overwrite the content into the file if the file already exists\n"
      ]
    },
    {
      "cell_type": "code",
      "metadata": {
        "id": "R4K_U26P_YlT"
      },
      "source": [
        "def write_file(fname, str_list):\n",
        "  with open(fname, mode='w') as f:\n",
        "    for my_str in str_list:\n",
        "      f.write(my_str+'\\n')"
      ],
      "execution_count": null,
      "outputs": []
    },
    {
      "cell_type": "code",
      "metadata": {
        "id": "1xU1r5-z_4UV",
        "colab": {
          "base_uri": "https://localhost:8080/"
        },
        "outputId": "b080dd64-c033-4632-e1fa-46dcbcc3a2cf"
      },
      "source": [
        "str_list = ['Welcome to SCS2013!', 'What is Python?', 'Python is a widely used high-level, interpreted, dynamic programming language']\n",
        "write_file('test_w.txt', str_list)\n",
        "\n",
        "with open('test_w.txt', mode='r') as f:\n",
        "  print(f.read())"
      ],
      "execution_count": null,
      "outputs": [
        {
          "output_type": "stream",
          "name": "stdout",
          "text": [
            "Welcome to SCS2013!\n",
            "What is Python?\n",
            "Python is a widely used high-level, interpreted, dynamic programming language\n",
            "\n"
          ]
        }
      ]
    },
    {
      "cell_type": "markdown",
      "metadata": {
        "id": "URc_zrsO-Mmy"
      },
      "source": [
        "Write a function named `count_words_file(fname)`\n",
        "- that takes file name `fname`\n",
        "- and counts the number of words of the file `fname` and returns it (do not care duplicates)\n"
      ]
    },
    {
      "cell_type": "code",
      "metadata": {
        "id": "f4A_OrUX9xNL"
      },
      "source": [
        "def count_words_file(fname):\n",
        "  with open(fname, mode='r') as f:\n",
        "    return len(f.read().split()) # 다 읽는 걸 공백으로 쪼갠다."
      ],
      "execution_count": null,
      "outputs": []
    },
    {
      "cell_type": "code",
      "metadata": {
        "id": "GSiIk6IH-aF9",
        "colab": {
          "base_uri": "https://localhost:8080/"
        },
        "outputId": "a6bf6ff6-1a6b-4159-cc87-ccc173a32523"
      },
      "source": [
        "fname = 'test.txt'\n",
        "num_words = count_words_file('test.txt')\n",
        "print(f'The number of words in \"{fname}\" is {num_words}')\n",
        "\n",
        "print('=====')\n",
        "\n",
        "fname = 'test_w.txt'\n",
        "num_words = count_words_file('test_w.txt')\n",
        "print(f'The number of words in \"{fname}\" is {num_words}')"
      ],
      "execution_count": null,
      "outputs": [
        {
          "output_type": "stream",
          "name": "stdout",
          "text": [
            "The number of words in \"test.txt\" is 10\n",
            "=====\n",
            "The number of words in \"test_w.txt\" is 16\n"
          ]
        }
      ]
    },
    {
      "cell_type": "markdown",
      "source": [
        "## Modules: Math, Datetime, Time\n",
        "\n",
        "**[math](https://docs.python.org/ko/3/library/math.html)** module \n",
        "\n",
        "The math module provides access to the mathematical functions\n",
        "\n",
        "- `math.pi`, `math.pow()`, `math.max()`, `math.min()`, `math.ceil()`, `math.floor()`, `math.sqrt()`, `math.sin()`, `math.cos()`, `math.tan()`, ... "
      ],
      "metadata": {
        "id": "O056W24vETPQ"
      }
    },
    {
      "cell_type": "code",
      "source": [
        "import math\n",
        "\n",
        "# pi\n",
        "print(math.pi)\n",
        "\n",
        "# square root of number\n",
        "print(math.sqrt(16))\n",
        "\n",
        "# the smallest integer greater than or equal to the number\n",
        "print(math.ceil(7.2)) # 가까우면서 큰 정수, 올림\n",
        "print(math.floor(7.2)) # 가까우면서 작은 정수, 내림\n",
        "\n",
        "# sin\n",
        "print(math.sin(0.5*math.pi))"
      ],
      "metadata": {
        "id": "6Bi2PCjEEx5B",
        "colab": {
          "base_uri": "https://localhost:8080/"
        },
        "outputId": "856f4ab1-c9b7-4734-c600-4d84fdd0e2bc"
      },
      "execution_count": null,
      "outputs": [
        {
          "output_type": "stream",
          "name": "stdout",
          "text": [
            "3.141592653589793\n",
            "4.0\n",
            "8\n",
            "7\n",
            "1.0\n"
          ]
        }
      ]
    },
    {
      "cell_type": "code",
      "source": [
        "# compute the Pythagorean theorem: triangle side length \n",
        "\n",
        "side_a = 3.0\n",
        "side_b = 4.0\n",
        "\n",
        "side_c = math.sqrt(math.pow(side_a,2)+ math.pow(side_b,2)) # pow 거듭제곱\n",
        "print(f'The length of side a: {side_a}')\n",
        "print(f'The length of side b: {side_b}')\n",
        "print(f'The length of side c: {side_c}')"
      ],
      "metadata": {
        "id": "iANpjeJpEz7C",
        "colab": {
          "base_uri": "https://localhost:8080/"
        },
        "outputId": "86d3c738-5047-4015-9735-9ea1a31724d6"
      },
      "execution_count": null,
      "outputs": [
        {
          "output_type": "stream",
          "name": "stdout",
          "text": [
            "The length of side a: 3.0\n",
            "The length of side b: 4.0\n",
            "The length of side c: 5.0\n"
          ]
        }
      ]
    },
    {
      "cell_type": "markdown",
      "source": [
        "**[datetime](https://docs.python.org/3/library/datetime.html#module-datetime)** module and **[time](https://docs.python.org/ko/3/library/time.html)** module\n",
        "\n",
        "The datetime module provides functions to handle the date and time\n",
        "\n",
        "- it has a date, time, datetime, timezone classes\n",
        "- there is a [datetime](https://docs.python.org/3/library/datetime.html#datetime.datetime) object: that contains all the information of a date and time\n",
        "\n",
        "- datetime class has various class methods including: `datetime.today()`, `datetime.now()`, ..., and instance methods: `datetime.date()`, `datetime.time()`, `datetime.weekday()`, ...\n",
        "\n",
        "\n",
        "The time module provides various functions to perform time-related activities:     \n",
        "\n",
        "- `time.time()`: return the time in seconds since the epoch as a floating point number \n",
        "\n",
        "- `time.localtime(sec)`: convert to local time \n",
        "\n",
        "- `time.asctime(t)`: returns a readable 24-character string such as 'Tue Dec 11 18:07:14 2008'\n",
        "\n"
      ],
      "metadata": {
        "id": "QjR117y0E2QC"
      }
    },
    {
      "cell_type": "code",
      "source": [
        "import datetime  \n",
        "\n",
        "# get current date and time\n",
        "x = datetime.datetime.now()\n",
        "print(x)\n",
        "print(x.year, x.month, x.day, x.hour, x.minute, x.second)"
      ],
      "metadata": {
        "id": "A_Xeaw67Ahbc",
        "colab": {
          "base_uri": "https://localhost:8080/"
        },
        "outputId": "843a9f5c-5458-4311-ac91-265e4f296c66"
      },
      "execution_count": null,
      "outputs": [
        {
          "output_type": "stream",
          "name": "stdout",
          "text": [
            "2022-11-22 01:55:04.250779\n",
            "2022 11 22 1 55 4\n"
          ]
        }
      ]
    },
    {
      "cell_type": "code",
      "source": [
        "from datetime import datetime\n",
        "\n",
        "# get today's information\n",
        "today = datetime.today()\n",
        "print(f'Today: {today}')\n",
        "print(type(today))\n",
        "\n",
        "\n",
        "# extract year, month, day\n",
        "print(f'Year: {today.year}')\n",
        "print(f'Month: {today.month}')\n",
        "print(f'Day: {today.day}')\n",
        "print(f'Weekday: {today.weekday()}')\n",
        "\n",
        "# extract year, month, day\n",
        "print(f'Hour: {today.hour}')\n",
        "print(f'Minute: {today.minute}')\n",
        "print(f'Second: {today.second}')"
      ],
      "metadata": {
        "id": "xMCIKdk5FFnD",
        "colab": {
          "base_uri": "https://localhost:8080/"
        },
        "outputId": "429dde48-383a-4357-c6b7-1409d3617a39"
      },
      "execution_count": null,
      "outputs": [
        {
          "output_type": "stream",
          "name": "stdout",
          "text": [
            "Today: 2022-11-22 01:55:04.706398\n",
            "<class 'datetime.datetime'>\n",
            "Year: 2022\n",
            "Month: 11\n",
            "Day: 22\n",
            "Weekday: 1\n",
            "Hour: 1\n",
            "Minute: 55\n",
            "Second: 4\n"
          ]
        }
      ]
    },
    {
      "cell_type": "code",
      "source": [
        "file_str = str(today.year) + '_' + str(today.month) + '_' + str(today.day) + '.txt'\n",
        "print(file_str)\n",
        "\n",
        "with open(file_str, mode = 'x') as f:\n",
        "    f.write('Hello! today is 2022-11-22')"
      ],
      "metadata": {
        "colab": {
          "base_uri": "https://localhost:8080/"
        },
        "id": "agdQCa5-Ddbg",
        "outputId": "89e3f610-d182-4cda-eead-4323516d8b8d"
      },
      "execution_count": null,
      "outputs": [
        {
          "output_type": "stream",
          "name": "stdout",
          "text": [
            "2022_11_22.txt\n"
          ]
        }
      ]
    },
    {
      "cell_type": "code",
      "source": [
        "import time\n",
        "\n",
        "# time in second\n",
        "x = time.time()\n",
        "print(f'Time: {x}')\n",
        "\n",
        "# time in local date formate\n",
        "lx = time.asctime(time.localtime(x))\n",
        "print(lx)"
      ],
      "metadata": {
        "id": "FeVmoDq7CItu",
        "colab": {
          "base_uri": "https://localhost:8080/"
        },
        "outputId": "fffa8448-f8b2-4372-a330-a468d95626b4"
      },
      "execution_count": null,
      "outputs": [
        {
          "output_type": "stream",
          "name": "stdout",
          "text": [
            "Time: 1669082105.097916\n",
            "Tue Nov 22 01:55:05 2022\n"
          ]
        }
      ]
    },
    {
      "cell_type": "code",
      "source": [
        "timeAll = time.localtime(x)\n",
        "\n",
        "print(f'Year: {timeAll.tm_year}')\n",
        "print(f'Month: {timeAll.tm_mon}')\n",
        "print(f'Day: {timeAll.tm_mday}')\n",
        "\n",
        "print(f'Hour: {timeAll.tm_hour}')\n",
        "print(f'Minute: {timeAll.tm_min}')\n",
        "print(f'Second: {timeAll.tm_sec}')"
      ],
      "metadata": {
        "id": "uj64bbp1CabF",
        "colab": {
          "base_uri": "https://localhost:8080/"
        },
        "outputId": "937e527d-cfef-4e28-9da3-e6a48c2c6f3d"
      },
      "execution_count": null,
      "outputs": [
        {
          "output_type": "stream",
          "name": "stdout",
          "text": [
            "Year: 2022\n",
            "Month: 11\n",
            "Day: 22\n",
            "Hour: 1\n",
            "Minute: 55\n",
            "Second: 5\n"
          ]
        }
      ]
    },
    {
      "cell_type": "code",
      "source": [
        "fname = 'test.txt'\n",
        "t0 = time.time()\n",
        "num_words = count_words_file('test.txt')\n",
        "t1 = time.time()\n",
        "print(f'The number of words in \"{fname}\" is {num_words}, processed time is: {t1-t0:.3f}')"
      ],
      "metadata": {
        "id": "coXYIlgF_PF3",
        "colab": {
          "base_uri": "https://localhost:8080/"
        },
        "outputId": "e5de1fc3-56d2-46d8-e02c-c06fcdebe284"
      },
      "execution_count": null,
      "outputs": [
        {
          "output_type": "stream",
          "name": "stdout",
          "text": [
            "The number of words in \"test.txt\" is 10, processed time is: 0.001\n"
          ]
        }
      ]
    },
    {
      "cell_type": "code",
      "source": [
        "import random as rd\n",
        "\n",
        "print(rd.random())\n",
        "\n",
        "for i in range(3):\n",
        "  print(rd.randint(1,10))\n"
      ],
      "metadata": {
        "id": "sBow1QOn_dQt",
        "colab": {
          "base_uri": "https://localhost:8080/"
        },
        "outputId": "109867eb-d9c9-4e99-928e-fcd15a89e8c7"
      },
      "execution_count": null,
      "outputs": [
        {
          "output_type": "stream",
          "name": "stdout",
          "text": [
            "0.3717933555623072\n",
            "4\n",
            "7\n",
            "9\n"
          ]
        }
      ]
    },
    {
      "cell_type": "code",
      "source": [
        "for i in range(5):\n",
        "  print(rd.randrange(0, 100, 5))"
      ],
      "metadata": {
        "id": "08Jdz8S2_hWa",
        "colab": {
          "base_uri": "https://localhost:8080/"
        },
        "outputId": "0e0f884d-3395-449b-c16b-69cbb310ca82"
      },
      "execution_count": null,
      "outputs": [
        {
          "output_type": "stream",
          "name": "stdout",
          "text": [
            "15\n",
            "90\n",
            "35\n",
            "0\n",
            "30\n"
          ]
        }
      ]
    },
    {
      "cell_type": "code",
      "source": [
        "rd.seed(5)\n",
        "print(rd.random())\n",
        "\n",
        "rd.seed(5)\n",
        "print(rd.random())"
      ],
      "metadata": {
        "id": "Q86CcyYB_lY6",
        "colab": {
          "base_uri": "https://localhost:8080/"
        },
        "outputId": "0d69c0e2-2947-412b-e2c4-2647fd25d49f"
      },
      "execution_count": null,
      "outputs": [
        {
          "output_type": "stream",
          "name": "stdout",
          "text": [
            "0.6229016948897019\n",
            "0.6229016948897019\n"
          ]
        }
      ]
    },
    {
      "cell_type": "code",
      "source": [
        "my_lst = ['apple', 'banana', 'kiwi', 'melon']\n",
        "rd.shuffle(my_lst)\n",
        "print(my_lst)\n",
        "\n",
        "for i in range(5):\n",
        "  print(rd.choice(my_lst))"
      ],
      "metadata": {
        "id": "KkxDzZwi_rO5",
        "colab": {
          "base_uri": "https://localhost:8080/"
        },
        "outputId": "eaff4ab5-83bf-4836-f684-5ae10279c512"
      },
      "execution_count": null,
      "outputs": [
        {
          "output_type": "stream",
          "name": "stdout",
          "text": [
            "['banana', 'apple', 'melon', 'kiwi']\n",
            "kiwi\n",
            "apple\n",
            "banana\n",
            "apple\n",
            "banana\n"
          ]
        }
      ]
    },
    {
      "cell_type": "markdown",
      "metadata": {
        "id": "zgf_S0zS7tT1"
      },
      "source": [
        "## Exercise for Files"
      ]
    },
    {
      "cell_type": "markdown",
      "metadata": {
        "id": "0jIcYlzE7wpN"
      },
      "source": [
        "### E-1\n",
        "\n",
        "Write a function named `copy_last_file(fname1, fname2, n)` \n",
        "- that takes original file name `fname1`, new file name `fname2` and an integer `n`\n",
        "- and reads the last `n` lines of the file `fname1` and write them into a new file `fname2`\n"
      ]
    },
    {
      "cell_type": "code",
      "metadata": {
        "id": "xgiPqSRq5mKA"
      },
      "source": [
        "# your code here:\n",
        "\n",
        "def copy_last_file(fname1, fname2, n):\n",
        "\n",
        "    with open(fname1, mode = 'r') as f1, open(fname2, mode = 'w') as f2:\n",
        "        lines = f1.readlines()[-n:]\n",
        "        f2.writelines(lines)"
      ],
      "execution_count": null,
      "outputs": []
    },
    {
      "cell_type": "code",
      "metadata": {
        "id": "XieRly4D8yDd"
      },
      "source": [
        "# test your code:\n",
        "copy_last_file('test.txt', 'new_test.txt', 2)"
      ],
      "execution_count": null,
      "outputs": []
    },
    {
      "cell_type": "markdown",
      "source": [
        "### E-2\n",
        "\n",
        "Write a function `remove_newlines(fname)` \n",
        "- returns a list of contents where all the \"newline\" characters are removed"
      ],
      "metadata": {
        "id": "LsON4gYR5dQm"
      }
    },
    {
      "cell_type": "code",
      "source": [
        "# your code here:\n",
        "\n",
        "def remove_newlines(fname):\n",
        "    new_lines = []\n",
        "\n",
        "    with open(fname, mode = 'r') as f:\n",
        "        lines = f.readlines()\n",
        "        for line in lines:\n",
        "            new_lines.append(line.rstrip('\\n'))\n",
        "\n",
        "    return new_lines\n",
        "    \n",
        "\n",
        "def remove_newlines2(fname):\n",
        "    lines = []\n",
        "\n",
        "    with open(fname, mode = 'r') as f:\n",
        "        lines = f.readlines()\n",
        "        lines = [line.rstrip('\\n') for line in lines]\n",
        "        \n",
        "    return lines\n",
        " \n",
        "\n",
        "\n"
      ],
      "metadata": {
        "id": "B2qVzRcA5dEp"
      },
      "execution_count": null,
      "outputs": []
    },
    {
      "cell_type": "code",
      "source": [
        "# test your code: \n",
        "print(remove_newlines('data.txt'))\n",
        "print(remove_newlines2('data.txt'))"
      ],
      "metadata": {
        "id": "iMHGVPak6Ubc",
        "colab": {
          "base_uri": "https://localhost:8080/"
        },
        "outputId": "ffd4657e-21a2-447d-fbd1-8ca8d680fc3f"
      },
      "execution_count": null,
      "outputs": [
        {
          "output_type": "stream",
          "name": "stdout",
          "text": [
            "['Welcome to SCS2013 Python Programming', 'This is a data.txt', 'Line 3', 'Line 4', 'Line 5', '파이썬 프로그래밍', 'Last line']\n",
            "['Welcome to SCS2013 Python Programming', 'This is a data.txt', 'Line 3', 'Line 4', 'Line 5', '파이썬 프로그래밍', 'Last line']\n"
          ]
        }
      ]
    },
    {
      "cell_type": "markdown",
      "metadata": {
        "id": "769dF95cCZhr"
      },
      "source": [
        "### E-3\n",
        "\n",
        "Write a function named `read_odd_file(fname)` \n",
        "- that takes file name `fname`\n",
        "- and reads odd-numbered lines in the file `fname` and returns a list of them (1st, 3rd, 5th, 7th, ... lines)\n",
        "- *note*: you can use `enumerate()`, and the index starts from 0. Or you can use slicing "
      ]
    },
    {
      "cell_type": "code",
      "metadata": {
        "id": "5jcc-zJO-dIW"
      },
      "source": [
        "# your code here:\n",
        "def read_odd_file(name):\n",
        "    with open(name, mode='r') as f:\n",
        "        lines = []\n",
        "        for i, line in enumerate(f):\n",
        "            if i % 2 == 0:\n",
        "                lines.append(line)\n",
        "    return lines\n",
        "    \n",
        "def read_odd_file2(name):\n",
        "    with open(name, mode='r') as f:\n",
        "        lines = f.readlines()  \n",
        "    \n",
        "    return lines[: :2]\n"
      ],
      "execution_count": null,
      "outputs": []
    },
    {
      "cell_type": "code",
      "metadata": {
        "id": "TncRoZ3GDoqA",
        "colab": {
          "base_uri": "https://localhost:8080/"
        },
        "outputId": "22102cc3-7882-4ee1-ac07-aa8bcf95fdb0"
      },
      "source": [
        "# test your code:\n",
        "lines = read_odd_file('test.txt')\n",
        "print(lines)\n",
        "lines = read_odd_file2('test.txt')\n",
        "print(lines)"
      ],
      "execution_count": null,
      "outputs": [
        {
          "output_type": "stream",
          "name": "stdout",
          "text": [
            "['Name: Kim\\n', 'City: Seoul\\n', 'Skill: Python']\n",
            "['Name: Kim\\n', 'City: Seoul\\n', 'Skill: Python']\n"
          ]
        }
      ]
    },
    {
      "cell_type": "markdown",
      "source": [
        "### E-4\n",
        "\n",
        "Write a function `longest_word(fname)` \n",
        "- that takes file name `fname`\n",
        "- and finds the longest words in the file and returns a list of the longest words"
      ],
      "metadata": {
        "id": "hI_vWRUv8MDc"
      }
    },
    {
      "cell_type": "code",
      "source": [
        "# your code here:\n",
        "def longest_word(fname):\n",
        "    with open(fname, mode = 'r') as f:\n",
        "        words = f.read().split() # 모든 단어들의 리스트\n",
        "\n",
        "        max_len = 0\n",
        "        for word in words:\n",
        "            if len(word) > max_len:\n",
        "                max_len = len(word)\n",
        "        \n",
        "        max_words = [word for word in words if len(word) == max_len]\n",
        "        return max_words\n",
        "\n"
      ],
      "metadata": {
        "id": "NbWK-ENl8TMa"
      },
      "execution_count": null,
      "outputs": []
    },
    {
      "cell_type": "code",
      "source": [
        "# test your code: \n",
        "print(longest_word('test_w.txt'))\n",
        "print(longest_word('test.txt'))"
      ],
      "metadata": {
        "id": "dHTpIR5k-yWL",
        "colab": {
          "base_uri": "https://localhost:8080/"
        },
        "outputId": "55ef8ede-7e08-4c47-bd85-c622288bb552"
      },
      "execution_count": null,
      "outputs": [
        {
          "output_type": "stream",
          "name": "stdout",
          "text": [
            "['interpreted,']\n",
            "['University:']\n"
          ]
        }
      ]
    }
  ]
}